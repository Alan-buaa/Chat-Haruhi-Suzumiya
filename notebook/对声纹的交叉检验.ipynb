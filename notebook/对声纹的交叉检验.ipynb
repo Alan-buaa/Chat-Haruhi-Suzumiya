{
  "nbformat": 4,
  "nbformat_minor": 0,
  "metadata": {
    "colab": {
      "provenance": [],
      "authorship_tag": "ABX9TyPv/vv1JmprpaTywueX6pUt",
      "include_colab_link": true
    },
    "kernelspec": {
      "name": "python3",
      "display_name": "Python 3"
    },
    "language_info": {
      "name": "python"
    }
  },
  "cells": [
    {
      "cell_type": "markdown",
      "metadata": {
        "id": "view-in-github",
        "colab_type": "text"
      },
      "source": [
        "<a href=\"https://colab.research.google.com/github/LC1332/Chat-Haruhi-Suzumiya/blob/main/notebook/%E5%AF%B9%E5%A3%B0%E7%BA%B9%E7%9A%84%E4%BA%A4%E5%8F%89%E6%A3%80%E9%AA%8C.ipynb\" target=\"_parent\"><img src=\"https://colab.research.google.com/assets/colab-badge.svg\" alt=\"Open In Colab\"/></a>"
      ]
    },
    {
      "cell_type": "markdown",
      "source": [
        "# 对凉宫春日片段声纹识别的交叉验证\n",
        "\n",
        "**Chat凉宫春日**是模仿凉宫春日等一系列动漫人物，使用近似语气、个性和剧情聊天的语言模型，\n",
        "\n",
        "<details>\n",
        "  <summary> 本项目由李鲁鲁，冷子昂，闫晨曦，封小洋，scixing，贾曜恺等开发。 </summary>\n",
        "\n",
        "李鲁鲁发起了项目，并完成了最早的版本，在多个微信群实现了测试。完成了GPT自动生成对话部分。\n",
        "\n",
        "冷子昂参与了早期Gradio的开发，并且参与了后端和前端的选型。debug和最终上线了app.py\n",
        "\n",
        "闫晨曦将李鲁鲁的notebook重构为app.py\n",
        "\n",
        "封小洋进行了中文转日文模型的选型，完成了针对台词抽取图片的工具，（将要完成）和haruhi图片分类器\n",
        "\n",
        "scixing实践了VITS语音，完成了台词对应的语音抽取，（将要完成）特定人物的语音分类器。\n",
        "\n",
        "贾曜恺开发了一个前端实现方案，待测试。\n",
        "\n",
        "</details>\n",
        "\n",
        "本脚本由李鲁鲁开发，用于验证声纹特征交叉验证的准确率"
      ],
      "metadata": {
        "id": "GGXPYbbE6tNT"
      }
    },
    {
      "cell_type": "markdown",
      "source": [
        "- [x] 整理之前的GPTData文件夹\n",
        "- [x] 确认fxy和scixing是否做了这个事情\n",
        "- [x] 转移声纹和声音文件夹到GoogleDrive\n",
        "- [x] 解析标注文件夹，将特征整理成feature，label形式\n",
        "- [x] 进行交叉验证\n",
        "- [ ] 给出自动阈值"
      ],
      "metadata": {
        "id": "oAGW8Idq7hsN"
      }
    },
    {
      "cell_type": "code",
      "execution_count": 1,
      "metadata": {
        "colab": {
          "base_uri": "https://localhost:8080/"
        },
        "id": "AEG438Mu6koY",
        "outputId": "c4902d39-549c-4e6f-92a7-746a9fb68859"
      },
      "outputs": [
        {
          "output_type": "stream",
          "name": "stdout",
          "text": [
            "Mounted at /content/drive\n"
          ]
        }
      ],
      "source": [
        "#mount google drive to colab\n",
        "from google.colab import drive\n",
        "drive.mount('/content/drive')\n"
      ]
    },
    {
      "cell_type": "code",
      "source": [
        "!ls /content/drive/MyDrive/GPTData/HaruhiRoleVoices"
      ],
      "metadata": {
        "colab": {
          "base_uri": "https://localhost:8080/"
        },
        "id": "7YtoXbTsdq3W",
        "outputId": "9794e278-49b9-4df6-b47c-af4b5f04fdd6"
      },
      "execution_count": 3,
      "outputs": [
        {
          "output_type": "stream",
          "name": "stdout",
          "text": [
            "'Haruhi ep10.zip'  'Haruhi ep1.zip'   voiceWithCha.zip\n"
          ]
        }
      ]
    },
    {
      "cell_type": "code",
      "source": [
        "#copy all zip to /content\n",
        "!cp /content/drive/MyDrive/GPTData/HaruhiRoleVoices/*.zip /content/\n",
        "\n"
      ],
      "metadata": {
        "id": "Tuy81xuGd7Qv"
      },
      "execution_count": 26,
      "outputs": []
    },
    {
      "cell_type": "code",
      "source": [
        "#unzip all zip file\n",
        "!unzip -q \"/content/Haruhi ep10.zip\"\n",
        "!unzip -q \"/content/Haruhi ep1.zip\"\n",
        "# !unzip \"/content/voiceWithCha.zip\""
      ],
      "metadata": {
        "id": "S43MGJ3TeGds"
      },
      "execution_count": null,
      "outputs": []
    },
    {
      "cell_type": "code",
      "source": [
        "#unzip /content/voiceWithCha.zip into /content/roles quitely\n",
        "!unzip -q /content/voiceWithCha.zip -d /content/roles"
      ],
      "metadata": {
        "id": "Ew62SQLbeVTt"
      },
      "execution_count": 6,
      "outputs": []
    },
    {
      "cell_type": "code",
      "source": [
        "# scan subfolder in /content/roles and save into a list\n",
        "import os\n",
        "roles = os.listdir('/content/roles')\n",
        "\n",
        "# for each role in roles, scan /content/roles/[role] and save into a list of list\n",
        "roles_list = []\n",
        "roles_list_full = []\n",
        "for role in roles:\n",
        "\n",
        "    sub_list = os.listdir(os.path.join('/content/roles',role))\n",
        "    roles_list.append(sub_list)\n",
        "\n",
        "    full_name_list = ['/content/roles/'+role+'/'+file for file in sub_list]\n",
        "    roles_list_full.append(full_name_list)\n"
      ],
      "metadata": {
        "id": "CnwcSoNtfOK0"
      },
      "execution_count": 16,
      "outputs": []
    },
    {
      "cell_type": "code",
      "source": [
        "print(roles_list[0])"
      ],
      "metadata": {
        "colab": {
          "base_uri": "https://localhost:8080/"
        },
        "id": "qAhDe0ZJfZqy",
        "outputId": "a0531d06-ac2a-4ef1-ab85-d66eaa481774"
      },
      "execution_count": 17,
      "outputs": [
        {
          "output_type": "stream",
          "name": "stdout",
          "text": [
            "['68_而是依照凉宫同学的思维模式进行思考而得出的结论.wav', '55_就需要到和那些事件相应的场所去才行.wav', '51_但是这里说那些现实主义的话就太煞风景了.wav', '63_换言之  名侦探所到之处必有事件发生.wav', '54_想要遭遇这种非现实的神秘事件.wav', '44_推理故事作品里的名侦探们.wav', '58_的确  现实世界是不会像故事那样的.wav', '31_我有个非常有钱的远房亲戚.wav', '32_他的钱多到可以买下一个无人岛并且在上面盖上别墅.wav', '50_这样的事件只存在于虚构而非现实的故事世界中.wav', '43_那么你想想「名侦探」那三个字吧.wav', '56_因为创作出来的名侦探们都是这样被卷进事件中的.wav', '349_新川  有什么事吗？.wav', '59_但是现在我们所要去的「孤岛」这种地方.wav', '60_一般人都认为是最适合成为杀人事件舞台的地方.wav', '193_是除我们之外应邀前来的客人.wav', '69_也就是说呢  她想尝试一次看看.wav', '37_臣拜领此职.wav', '52_因为凉宫同学似乎就是想要投身于这样的虚构世界中.wav', '67_「名侦探」和「Closed Circle」并不是我所空想出来的.wav', '64_被称为名侦探的人都有能够呼唤事件的超自然能力.wav', '346_怪不得凉宫同学吃过早饭后.wav', '45_不知道为什么会不停地卷入难以理解的事件中.wav', '33_那栋别墅前几天刚刚落成.wav', '66_我有时候也会偶尔认真一回的.wav']\n"
          ]
        }
      ]
    },
    {
      "cell_type": "code",
      "source": [
        "candidate_path = [\n",
        "    \"/content/Haruhi ep1\",\n",
        "    \"/content/Haruhi ep10\"\n",
        "]"
      ],
      "metadata": {
        "id": "KNUPT9x3hdxI"
      },
      "execution_count": 21,
      "outputs": []
    },
    {
      "cell_type": "code",
      "source": [
        "import pickle\n",
        "import numpy as np\n",
        "\n",
        "\n",
        "features = []\n",
        "labels = []\n",
        "dim = 0\n",
        "\n",
        "count = 0\n",
        "\n",
        "for role in roles:\n",
        "    print(role,end=' ')\n",
        "\n",
        "    for file in roles_list[roles.index(role)]:\n",
        "        # print(file)\n",
        "\n",
        "        deal_flag = False\n",
        "\n",
        "        for candidate in candidate_path:\n",
        "\n",
        "            candidate_fname = os.path.join(candidate,'voice',file)\n",
        "\n",
        "            if os.path.exists(candidate_fname):\n",
        "                # print(candidate_fname,'found')\n",
        "                deal_flag = True\n",
        "                feature_fname = os.path.join(candidate,'feature',file) + '.pkl'\n",
        "                break\n",
        "\n",
        "        if deal_flag == False:\n",
        "            print('warning!',file,'not found')\n",
        "            continue\n",
        "\n",
        "        if not os.path.exists(feature_fname):\n",
        "            print('warning!',feature_fname,'not found')\n",
        "            continue\n",
        "\n",
        "        # pinkle load feature_fname\n",
        "        with open(feature_fname,'rb') as f:\n",
        "            feature = pickle.load(f)\n",
        "\n",
        "        count += 1\n",
        "\n",
        "        # append numpy array feature into numpy matrix features\n",
        "        if dim == 0:\n",
        "            features = feature\n",
        "            dim = feature.shape[0]\n",
        "            # print(dim)\n",
        "        else:\n",
        "            features = np.vstack((features,feature))\n",
        "\n",
        "        labels.append(role)\n",
        "\n",
        "        # print(feature_fname,'found')\n",
        "\n",
        "\n",
        "\n",
        "    # break\n"
      ],
      "metadata": {
        "colab": {
          "base_uri": "https://localhost:8080/"
        },
        "id": "GJXvx82AfaQa",
        "outputId": "73c19333-f71a-4a23-bffe-19ab5061fd49"
      },
      "execution_count": 45,
      "outputs": [
        {
          "output_type": "stream",
          "name": "stdout",
          "text": [
            "古泉 多丸裕 谷口 新川先生 阿虚妹妹 长门 春日 朝仓 阿虚 森小姐 忘了叫啥的角色 多丸圭一 朝比奈 "
          ]
        }
      ]
    },
    {
      "cell_type": "markdown",
      "source": [
        "feature是一个N*D的numpy矩阵，每行存储了一个D维特征\n",
        "labels是一个python的list of string，表示每行对应的数据的标签。\n",
        "我想验证这批数据使用K近邻分类，在10折交叉时的准确率，请用python为我实现。"
      ],
      "metadata": {
        "id": "wLeCL3mzlnft"
      }
    },
    {
      "cell_type": "code",
      "source": [
        "from sklearn.neighbors import KNeighborsClassifier\n",
        "from sklearn.model_selection import cross_val_score\n",
        "\n",
        "# 创建 K 近邻分类器模型\n",
        "k = 1  # 假设选择 k 值为 3\n",
        "knn = KNeighborsClassifier(n_neighbors=k, metric='cosine')\n",
        "\n",
        "# 将特征转换为 NumPy 数组\n",
        "features = np.array(features)\n",
        "\n",
        "# 将标签转换为 NumPy 数组\n",
        "labels = np.array(labels)\n",
        "\n",
        "# 计算 10 折交叉验证的准确率\n",
        "cv_accuracy = cross_val_score(knn, features, labels, cv=5)\n",
        "\n",
        "# 打印每折交叉验证的准确率\n",
        "for fold, accuracy in enumerate(cv_accuracy, 1):\n",
        "    print(f\"Fold {fold}: {accuracy}\")\n",
        "\n",
        "# 打印平均准确率\n",
        "mean_accuracy = np.mean(cv_accuracy)\n",
        "print(f\"Average Accuracy: {mean_accuracy}\")"
      ],
      "metadata": {
        "colab": {
          "base_uri": "https://localhost:8080/"
        },
        "id": "9GmzU9llljm0",
        "outputId": "c8055c39-6c34-42c5-bc0d-eef6a4beddd3"
      },
      "execution_count": 50,
      "outputs": [
        {
          "output_type": "stream",
          "name": "stdout",
          "text": [
            "Fold 1: 0.8809523809523809\n",
            "Fold 2: 0.9047619047619048\n",
            "Fold 3: 0.8780487804878049\n",
            "Fold 4: 0.8536585365853658\n",
            "Fold 5: 0.8536585365853658\n",
            "Average Accuracy: 0.8742160278745643\n"
          ]
        },
        {
          "output_type": "stream",
          "name": "stderr",
          "text": [
            "/usr/local/lib/python3.10/dist-packages/sklearn/model_selection/_split.py:700: UserWarning: The least populated class in y has only 2 members, which is less than n_splits=5.\n",
            "  warnings.warn(\n"
          ]
        }
      ]
    },
    {
      "cell_type": "code",
      "source": [],
      "metadata": {
        "id": "mvilaBuxjuz1"
      },
      "execution_count": null,
      "outputs": []
    }
  ]
}