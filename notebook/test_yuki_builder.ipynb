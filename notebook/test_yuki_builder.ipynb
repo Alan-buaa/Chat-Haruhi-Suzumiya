{
  "nbformat": 4,
  "nbformat_minor": 0,
  "metadata": {
    "colab": {
      "provenance": [],
      "gpuType": "T4",
      "authorship_tag": "ABX9TyMp4IF9JT/wg03WvVvXeUso",
      "include_colab_link": true
    },
    "kernelspec": {
      "name": "python3",
      "display_name": "Python 3"
    },
    "language_info": {
      "name": "python"
    },
    "accelerator": "GPU"
  },
  "cells": [
    {
      "cell_type": "markdown",
      "metadata": {
        "id": "view-in-github",
        "colab_type": "text"
      },
      "source": [
        "<a href=\"https://colab.research.google.com/github/LC1332/Chat-Haruhi-Suzumiya/blob/main/notebook/test_yuki_builder.ipynb\" target=\"_parent\"><img src=\"https://colab.research.google.com/assets/colab-badge.svg\" alt=\"Open In Colab\"/></a>"
      ]
    },
    {
      "cell_type": "markdown",
      "source": [
        "# Chat凉宫春日 Chat-Haruhi-Suzumiya\n",
        "\n",
        "[![Code License](https://img.shields.io/badge/Code%20License-Apache_2.0-green.svg)]()\n",
        "[![Data License](https://img.shields.io/badge/Data%20License-CC%20By%20NC%204.0-red.svg)]()\n",
        "[![Huggingface Gradio](https://img.shields.io/static/v1?label=Demo&message=Huggingface%20Gradio&color=orange)](https://huggingface.co/spaces/silk-road/ChatHaruhi)\n",
        "\n",
        "\n",
        "本脚本是李鲁鲁开发的YukiBuilder的测试工具，后者由\n",
        "\n",
        "李鲁鲁，封小洋，scixing，aria Fei等共同开发\n",
        "\n",
        "---\n",
        "\n",
        "**Chat凉宫春日**是模仿凉宫春日等一系列动漫人物，使用近似语气、个性和剧情聊天的语言模型，\n",
        "\n",
        "<details>\n",
        "  <summary> 本项目由李鲁鲁，冷子昂，闫晨曦，封小洋，scixing，沈骏一，Aria Fei, 米唯实, 吴平宇, 贾曜恺等开发。 </summary>\n",
        "\n",
        "李鲁鲁发起了项目，并完成了最早的版本，在多个微信群实现了测试。完成了训练数据自动生成对话部分，设计了整体的路线，并撰写报告。\n",
        "\n",
        "冷子昂负责了每一个阶段的Gradio开发，以及每个部分的功能整合和架构设计。\n",
        "\n",
        "闫晨曦一开始将李鲁鲁的notebook重构为app.py，参与了WebUI的embedding部分重构整合。\n",
        "\n",
        "封小洋进行了中文转日文模型的选型，完成了针对台词抽取图片的工具。整合了声纹识别。即将继续参加台本工具的开发。\n",
        "\n",
        "scixing实践了VITS语音，完成了台词对应的语音抽取，实现了第一个版本的声纹分类。\n",
        "\n",
        "沈骏一实现了使用ChatGLM2 finetune实验\n",
        "\n",
        "Aria(Yaying Fei)对接了whisper到台本工具。即将继续参加台本工具的开发。\n",
        "\n",
        "米唯实实现了Chat哆啦A梦的分支版本\n",
        "\n",
        "吴平宇部署了ChatGLM2的训练程序，并提供了训练的计算资源。\n",
        "\n",
        "贾曜恺开发了一个Vue前端实现方案\n",
        "\n",
        "</details>"
      ],
      "metadata": {
        "id": "MazvvpHTxXY6"
      }
    },
    {
      "cell_type": "markdown",
      "source": [
        "## 部署"
      ],
      "metadata": {
        "id": "VDK-NK1lxuwk"
      }
    },
    {
      "cell_type": "code",
      "source": [
        "# pip install if necessary"
      ],
      "metadata": {
        "id": "w5L0W74gxwu7"
      },
      "execution_count": null,
      "outputs": []
    },
    {
      "cell_type": "code",
      "source": [
        "!git clone https://github.com/LC1332/Chat-Haruhi-Suzumiya"
      ],
      "metadata": {
        "colab": {
          "base_uri": "https://localhost:8080/"
        },
        "id": "o7Lx7iPsxyg7",
        "outputId": "1f5c225f-af2b-40c3-a3a9-4ab2c085ea21"
      },
      "execution_count": null,
      "outputs": [
        {
          "output_type": "stream",
          "name": "stdout",
          "text": [
            "Cloning into 'Chat-Haruhi-Suzumiya'...\n",
            "remote: Enumerating objects: 2742, done.\u001b[K\n",
            "remote: Counting objects: 100% (730/730), done.\u001b[K\n",
            "remote: Compressing objects: 100% (447/447), done.\u001b[K\n",
            "remote: Total 2742 (delta 315), reused 656 (delta 272), pack-reused 2012\u001b[K\n",
            "Receiving objects: 100% (2742/2742), 88.87 MiB | 21.36 MiB/s, done.\n",
            "Resolving deltas: 100% (1215/1215), done.\n"
          ]
        }
      ]
    },
    {
      "cell_type": "code",
      "source": [
        "%cd /content/Chat-Haruhi-Suzumiya/yuki_builder/\n",
        "!ls"
      ],
      "metadata": {
        "colab": {
          "base_uri": "https://localhost:8080/"
        },
        "id": "qUHaPJYiz1Ol",
        "outputId": "3692326d-9f03-4eff-c963-c21e0b514a80"
      },
      "execution_count": null,
      "outputs": [
        {
          "output_type": "stream",
          "name": "stdout",
          "text": [
            "/content/Chat-Haruhi-Suzumiya/yuki_builder\n",
            "crop.py       requirements_run_whisper.txt  srt2csv.py\n",
            "recognize.py  run_whisper.py\t\t    yuki_builder.py\n"
          ]
        }
      ]
    },
    {
      "cell_type": "code",
      "source": [
        "# install requirement from requirements_run_whisper.txt\n",
        "!pip install -q -r requirements_run_whisper.txt\n"
      ],
      "metadata": {
        "id": "1-7K1UxwDArc",
        "outputId": "b3400d58-a9c7-468b-b4a1-b4bb5f035d83",
        "colab": {
          "base_uri": "https://localhost:8080/"
        }
      },
      "execution_count": null,
      "outputs": [
        {
          "output_type": "stream",
          "name": "stdout",
          "text": [
            "\u001b[?25l     \u001b[90m━━━━━━━━━━━━━━━━━━━━━━━━━━━━━━━━━━━━━━━━\u001b[0m \u001b[32m0.0/792.9 kB\u001b[0m \u001b[31m?\u001b[0m eta \u001b[36m-:--:--\u001b[0m\r\u001b[2K     \u001b[91m━━━━━━━━━━━━━━━━━━━━━━━━━━━━━━━━━━━━━\u001b[0m\u001b[91m╸\u001b[0m \u001b[32m788.5/792.9 kB\u001b[0m \u001b[31m30.5 MB/s\u001b[0m eta \u001b[36m0:00:01\u001b[0m\r\u001b[2K     \u001b[90m━━━━━━━━━━━━━━━━━━━━━━━━━━━━━━━━━━━━━━\u001b[0m \u001b[32m792.9/792.9 kB\u001b[0m \u001b[31m20.6 MB/s\u001b[0m eta \u001b[36m0:00:00\u001b[0m\n",
            "\u001b[?25h  Installing build dependencies ... \u001b[?25l\u001b[?25hdone\n",
            "  Getting requirements to build wheel ... \u001b[?25l\u001b[?25hdone\n",
            "  Preparing metadata (pyproject.toml) ... \u001b[?25l\u001b[?25hdone\n",
            "  Preparing metadata (setup.py) ... \u001b[?25l\u001b[?25hdone\n",
            "\u001b[2K     \u001b[90m━━━━━━━━━━━━━━━━━━━━━━━━━━━━━━━━━━━━━━━━\u001b[0m \u001b[32m1.7/1.7 MB\u001b[0m \u001b[31m79.8 MB/s\u001b[0m eta \u001b[36m0:00:00\u001b[0m\n",
            "\u001b[?25h  Building wheel for openai-whisper (pyproject.toml) ... \u001b[?25l\u001b[?25hdone\n",
            "  Building wheel for ffmpeg (setup.py) ... \u001b[?25l\u001b[?25hdone\n"
          ]
        }
      ]
    },
    {
      "cell_type": "code",
      "source": [
        "# mount google drive\n",
        "from google.colab import drive\n",
        "drive.mount('/content/drive')"
      ],
      "metadata": {
        "colab": {
          "base_uri": "https://localhost:8080/"
        },
        "id": "PhMtbZEQhJcC",
        "outputId": "c539f821-3c7d-428f-a5f6-1bede36c6d95"
      },
      "execution_count": null,
      "outputs": [
        {
          "output_type": "stream",
          "name": "stdout",
          "text": [
            "Mounted at /content/drive\n"
          ]
        }
      ]
    },
    {
      "cell_type": "markdown",
      "source": [
        "对于我来说测试文件都在 /content/drive/Mydrive/GPTData/YukiTestData 中间\n",
        "\n",
        "whisper测试文件\n",
        "\n",
        "https://drive.google.com/file/d/1ZwexhJoeHqUAHosEJQuas9WaFVQCKVLq/view?usp=sharing\n",
        "\n",
        "ass文件\n",
        "\n",
        "https://drive.google.com/file/d/1QzP3Y2fqSAKU4tEYrRMwFsPXw1TlGgFs/view?usp=sharing\n",
        "\n",
        "\n",
        "mkv文件\n",
        "\n",
        "https://drive.google.com/file/d/1TXCBOOk-sw95_PJ9nLAg-P4JDV9-twWa/view?usp=sharing\n",
        "\n",
        "annotate文件\n",
        "https://drive.google.com/file/d/12eb3YHed_9TAUym6L0nzpWaMZ4Wd-Moj/view?usp=sharing\n",
        "\n",
        "annotate_map文件\n",
        "\n",
        "https://drive.google.com/file/d/1GrBcG-7g-QW4KlmV1GbHz12y4d7QXZgL/view?usp=sharing"
      ],
      "metadata": {
        "id": "0X8hK10shZqT"
      }
    },
    {
      "cell_type": "code",
      "source": [
        "!ls /content/drive/MyDrive/GPTData/YukiTestData"
      ],
      "metadata": {
        "colab": {
          "base_uri": "https://localhost:8080/"
        },
        "id": "9c1y9bwahk_r",
        "outputId": "3aca70f1-c88e-47b4-bf07-b90c7b77abb7"
      },
      "execution_count": null,
      "outputs": [
        {
          "output_type": "stream",
          "name": "stdout",
          "text": [
            "'[CASO][Suzumiya_Haruhi_no_Yuuutsu][03][BDRIP][1920x1080][x264_FLAC_2][CE13579E].mkv'\n",
            "'[CASO][Suzumiya_Haruhi_no_Yuuutsu][03][x264_Vorbis][DVDRip].ass'\n",
            " Haruhi_03_annotate.txt\n",
            " haruhi_EP3_annotate_map.csv\n",
            " whisperTest.mp4\n"
          ]
        }
      ]
    },
    {
      "cell_type": "code",
      "source": [
        "!cp -r /content/drive/MyDrive/GPTData/YukiTestData/. /content/input/"
      ],
      "metadata": {
        "id": "ETg_a50Ejduy"
      },
      "execution_count": null,
      "outputs": []
    },
    {
      "cell_type": "markdown",
      "source": [
        "## 测试whisper"
      ],
      "metadata": {
        "id": "SGxpGJ-dxqZZ"
      }
    },
    {
      "cell_type": "markdown",
      "source": [
        "使用whisperTest.mp4进行测试"
      ],
      "metadata": {
        "id": "teIWOnweh0jU"
      }
    },
    {
      "cell_type": "code",
      "execution_count": null,
      "metadata": {
        "colab": {
          "base_uri": "https://localhost:8080/"
        },
        "id": "i8xcgnyfxL8q",
        "outputId": "6399faf4-8b5c-428f-cae9-b6f2c4c74f1e"
      },
      "outputs": [
        {
          "output_type": "stream",
          "name": "stdout",
          "text": [
            "warning srt_folder is not exist\n",
            "create folder /content/srt\n",
            "---loading model in your local path or downloading now---\n",
            "100%|█████████████████████████████████████| 1.42G/1.42G [00:27<00:00, 56.0MiB/s]\n",
            "[00:00.020 --> 00:01.580] 各位观众晚上好\n",
            "[00:01.580 --> 00:02.380] 晚上好\n",
            "[00:02.380 --> 00:04.680] 今天是9月12号星期六\n",
            "[00:04.680 --> 00:05.900] 农历7月25\n",
            "[00:05.900 --> 00:08.080] 欢迎收看新闻联播节目\n",
            "[00:08.080 --> 00:11.140] 首先为您介绍今天节目的主要内容\n",
            "[00:11.140 --> 00:14.680] 习近平总书记在科学家座谈会上的重要讲话\n",
            "[00:14.680 --> 00:17.360] 在科学界引起热烈反响\n",
            "[00:17.360 --> 00:20.260] 大家表示要继续弘扬科学家精神\n",
            "[00:20.260 --> 00:20.980] 肩负历史的历史\n",
            "\n",
            "subtitle_file: /content/srt/whisperTest.srt \n",
            "\n"
          ]
        }
      ],
      "source": [
        "!python yuki_builder.py whisper \\\n",
        "                       -input_video /content/input/whisperTest.mp4 \\\n",
        "                       -srt_folder /content/srt"
      ]
    },
    {
      "cell_type": "markdown",
      "source": [
        "## 测试srt2csv"
      ],
      "metadata": {
        "id": "6d5sO7Nz0IIj"
      }
    },
    {
      "cell_type": "code",
      "source": [
        "!python yuki_builder.py srt2csv \\\n",
        "                      -input_srt \"/content/input/[CASO][Suzumiya_Haruhi_no_Yuuutsu][03][x264_Vorbis][DVDRip].ass\" \\\n",
        "                      -srt_folder /content/srt"
      ],
      "metadata": {
        "colab": {
          "base_uri": "https://localhost:8080/"
        },
        "id": "rbvKFD3A0D_C",
        "outputId": "6a39d0a3-eb4e-4707-917a-1cc56485f4f3"
      },
      "execution_count": null,
      "outputs": [
        {
          "output_type": "stream",
          "name": "stdout",
          "text": [
            "Traceback (most recent call last):\n",
            "  File \"/content/Chat-Haruhi-Suzumiya/yuki_builder/yuki_builder.py\", line 38, in <module>\n",
            "    srt2csv(args)\n",
            "  File \"/content/Chat-Haruhi-Suzumiya/yuki_builder/srt2csv.py\", line 36, in srt2csv\n",
            "    convert(input_srt_file, args.srt_folder)\n",
            "  File \"/content/Chat-Haruhi-Suzumiya/yuki_builder/srt2csv.py\", line 108, in convert\n",
            "    render_csv(cues, output_csv_file)\n",
            "  File \"/content/Chat-Haruhi-Suzumiya/yuki_builder/srt2csv.py\", line 46, in render_csv\n",
            "    writer.writerow(['',i[\"Translation\"],i[\"TimecodeIn\"],i[\"TimecodeOut\"]])\n",
            "KeyError: 'TimecodeIn'\n"
          ]
        }
      ]
    },
    {
      "cell_type": "code",
      "source": [
        "!python yuki_builder.py srt2csv \\\n",
        "                      -input_srt \"/content/srt/whisperTest.srt\" \\\n",
        "                      -srt_folder /content/srt/"
      ],
      "metadata": {
        "id": "Vu4i4kai4bfB"
      },
      "execution_count": null,
      "outputs": []
    },
    {
      "cell_type": "markdown",
      "source": [
        "## 测试人物切分"
      ],
      "metadata": {
        "id": "_T8hU3hi0ctK"
      }
    },
    {
      "cell_type": "markdown",
      "source": [
        "三个文件分别在\n",
        "\n",
        "百度链接：\n",
        "\n",
        "链接: https://pan.baidu.com/s/1Z-d4mqEbE8885HKqVqxIlQ?pwd=kmvx 提取码: kmvx\n",
        "\n",
        "\n",
        "谷歌连接：\n",
        "\n",
        "https://drive.google.com/file/d/12eb3YHed_9TAUym6L0nzpWaMZ4Wd-Moj/view?usp=sharing,\n",
        "\n",
        "https://drive.google.com/file/d/1GrBcG-7g-QW4KlmV1GbHz12y4d7QXZgL/view?usp=sharing,\n",
        "\n",
        "https://drive.google.com/file/d/1TXCBOOk-sw95_PJ9nLAg-P4JDV9-twWa/view?usp=sharing"
      ],
      "metadata": {
        "id": "yABhy-H6--4y"
      }
    },
    {
      "cell_type": "code",
      "source": [
        "!python yuki_builder.py crop \\\n",
        "                      -annotate_map /content/input/haruhi_EP3_annotate_map.csv \\\n",
        "                      -role_audios /content/role_audios"
      ],
      "metadata": {
        "colab": {
          "base_uri": "https://localhost:8080/"
        },
        "id": "cCzM9kZC0YYp",
        "outputId": "3acd9667-cc45-45f6-dea9-0ddad4389ad0"
      },
      "execution_count": null,
      "outputs": [
        {
          "output_type": "stream",
          "name": "stdout",
          "text": [
            "role_audios is not exist\n"
          ]
        }
      ]
    },
    {
      "cell_type": "markdown",
      "source": [
        "## 测试识别"
      ],
      "metadata": {
        "id": "FesuIVOX0lEv"
      }
    },
    {
      "cell_type": "code",
      "source": [
        "!python yuki_builder.py recognize \\\n",
        "                      -input_video \"/content/input/[CASO][Suzumiya_Haruhi_no_Yuuutsu][03][BDRIP][1920x1080][x264_FLAC_2][CE13579E].mkv\" \\\n",
        "                      -input_srt \"/content/input/[CASO][Suzumiya_Haruhi_no_Yuuutsu][03][x264_Vorbis][DVDRip].ass\" \\\n",
        "                      -role_audios /content/role_audios \\\n",
        "                      -output_folder /content/final_output"
      ],
      "metadata": {
        "colab": {
          "base_uri": "https://localhost:8080/"
        },
        "id": "MmJbRoYK0i0R",
        "outputId": "88343bde-457f-4dd0-eb5a-0aed33ee7f67"
      },
      "execution_count": null,
      "outputs": [
        {
          "output_type": "stream",
          "name": "stdout",
          "text": [
            "warning output_folder is not exist\n",
            "create folder /content/final_output\n"
          ]
        }
      ]
    },
    {
      "cell_type": "code",
      "source": [],
      "metadata": {
        "id": "zN3DQTvP0q1l"
      },
      "execution_count": null,
      "outputs": []
    }
  ]
}