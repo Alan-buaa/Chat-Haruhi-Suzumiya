{
  "nbformat": 4,
  "nbformat_minor": 0,
  "metadata": {
    "colab": {
      "provenance": [],
      "authorship_tag": "ABX9TyN/8onqX1dHRY+hPytoO3yp",
      "include_colab_link": true
    },
    "kernelspec": {
      "name": "python3",
      "display_name": "Python 3"
    },
    "language_info": {
      "name": "python"
    }
  },
  "cells": [
    {
      "cell_type": "markdown",
      "metadata": {
        "id": "view-in-github",
        "colab_type": "text"
      },
      "source": [
        "<a href=\"https://colab.research.google.com/github/LC1332/Chat-Haruhi-Suzumiya/blob/main/notebook/test_yuki_builder.ipynb\" target=\"_parent\"><img src=\"https://colab.research.google.com/assets/colab-badge.svg\" alt=\"Open In Colab\"/></a>"
      ]
    },
    {
      "cell_type": "markdown",
      "source": [
        "# Chat凉宫春日 Chat-Haruhi-Suzumiya\n",
        "\n",
        "[![Code License](https://img.shields.io/badge/Code%20License-Apache_2.0-green.svg)]()\n",
        "[![Data License](https://img.shields.io/badge/Data%20License-CC%20By%20NC%204.0-red.svg)]()\n",
        "[![Huggingface Gradio](https://img.shields.io/static/v1?label=Demo&message=Huggingface%20Gradio&color=orange)](https://huggingface.co/spaces/silk-road/ChatHaruhi)\n",
        "\n",
        "\n",
        "本脚本是李鲁鲁开发的YukiBuilder的测试工具，后者由\n",
        "\n",
        "李鲁鲁，封小洋，scixing，aria Fei等共同开发\n",
        "\n",
        "---\n",
        "\n",
        "**Chat凉宫春日**是模仿凉宫春日等一系列动漫人物，使用近似语气、个性和剧情聊天的语言模型，\n",
        "\n",
        "<details>\n",
        "  <summary> 本项目由李鲁鲁，冷子昂，闫晨曦，封小洋，scixing，沈骏一，Aria Fei, 米唯实, 吴平宇, 贾曜恺等开发。 </summary>\n",
        "\n",
        "李鲁鲁发起了项目，并完成了最早的版本，在多个微信群实现了测试。完成了训练数据自动生成对话部分，设计了整体的路线，并撰写报告。\n",
        "\n",
        "冷子昂负责了每一个阶段的Gradio开发，以及每个部分的功能整合和架构设计。\n",
        "\n",
        "闫晨曦一开始将李鲁鲁的notebook重构为app.py，参与了WebUI的embedding部分重构整合。\n",
        "\n",
        "封小洋进行了中文转日文模型的选型，完成了针对台词抽取图片的工具。整合了声纹识别。即将继续参加台本工具的开发。\n",
        "\n",
        "scixing实践了VITS语音，完成了台词对应的语音抽取，实现了第一个版本的声纹分类。\n",
        "\n",
        "沈骏一实现了使用ChatGLM2 finetune实验\n",
        "\n",
        "Aria(Yaying Fei)对接了whisper到台本工具。即将继续参加台本工具的开发。\n",
        "\n",
        "米唯实实现了Chat哆啦A梦的分支版本\n",
        "\n",
        "吴平宇部署了ChatGLM2的训练程序，并提供了训练的计算资源。\n",
        "\n",
        "贾曜恺开发了一个Vue前端实现方案\n",
        "\n",
        "</details>"
      ],
      "metadata": {
        "id": "MazvvpHTxXY6"
      }
    },
    {
      "cell_type": "markdown",
      "source": [
        "## 部署"
      ],
      "metadata": {
        "id": "VDK-NK1lxuwk"
      }
    },
    {
      "cell_type": "code",
      "source": [
        "# pip install if necessary"
      ],
      "metadata": {
        "id": "w5L0W74gxwu7"
      },
      "execution_count": null,
      "outputs": []
    },
    {
      "cell_type": "code",
      "source": [
        "!git clone https://github.com/LC1332/Chat-Haruhi-Suzumiya"
      ],
      "metadata": {
        "colab": {
          "base_uri": "https://localhost:8080/"
        },
        "id": "o7Lx7iPsxyg7",
        "outputId": "910a5b5d-11f8-427c-dc41-59d1afa2b54a"
      },
      "execution_count": 1,
      "outputs": [
        {
          "output_type": "stream",
          "name": "stdout",
          "text": [
            "Cloning into 'Chat-Haruhi-Suzumiya'...\n",
            "remote: Enumerating objects: 2643, done.\u001b[K\n",
            "remote: Counting objects: 100% (631/631), done.\u001b[K\n",
            "remote: Compressing objects: 100% (370/370), done.\u001b[K\n",
            "remote: Total 2643 (delta 264), reused 593 (delta 250), pack-reused 2012\u001b[K\n",
            "Receiving objects: 100% (2643/2643), 83.08 MiB | 16.02 MiB/s, done.\n",
            "Resolving deltas: 100% (1164/1164), done.\n"
          ]
        }
      ]
    },
    {
      "cell_type": "code",
      "source": [
        "%cd /content/Chat-Haruhi-Suzumiya/yuki_builder/\n",
        "!ls"
      ],
      "metadata": {
        "colab": {
          "base_uri": "https://localhost:8080/"
        },
        "id": "qUHaPJYiz1Ol",
        "outputId": "58aa8bed-cf3c-4f03-9424-7b5aba7de614"
      },
      "execution_count": 2,
      "outputs": [
        {
          "output_type": "stream",
          "name": "stdout",
          "text": [
            "/content/Chat-Haruhi-Suzumiya/yuki_builder\n",
            "crop.py  recognize.py  srt2csv.py  whisper.py  yuki_builder.py\n"
          ]
        }
      ]
    },
    {
      "cell_type": "code",
      "source": [
        "# mount google drive\n",
        "from google.colab import drive\n",
        "drive.mount('/content/drive')"
      ],
      "metadata": {
        "colab": {
          "base_uri": "https://localhost:8080/"
        },
        "id": "PhMtbZEQhJcC",
        "outputId": "208de517-c598-436d-890d-9324292d3f01"
      },
      "execution_count": 3,
      "outputs": [
        {
          "output_type": "stream",
          "name": "stdout",
          "text": [
            "Mounted at /content/drive\n"
          ]
        }
      ]
    },
    {
      "cell_type": "markdown",
      "source": [
        "对于我来说测试文件都在 /content/drive/Mydrive/GPTData/YukiTestData 中间\n",
        "\n",
        "\n",
        "ass文件\n",
        "\n",
        "https://drive.google.com/file/d/1QzP3Y2fqSAKU4tEYrRMwFsPXw1TlGgFs/view?usp=sharing\n",
        "\n",
        "\n",
        "mkv文件\n",
        "\n",
        "https://drive.google.com/file/d/1TXCBOOk-sw95_PJ9nLAg-P4JDV9-twWa/view?usp=sharing\n",
        "\n",
        "annotate文件\n",
        "\n",
        "https://drive.google.com/file/d/10PNLDp5KfkhYjHjCnuQCx-bNjoqXY8Hi/view?usp=sharing\n",
        "\n",
        "annotate_map文件\n",
        "\n",
        "https://drive.google.com/file/d/1GrBcG-7g-QW4KlmV1GbHz12y4d7QXZgL/view?usp=sharing"
      ],
      "metadata": {
        "id": "0X8hK10shZqT"
      }
    },
    {
      "cell_type": "code",
      "source": [
        "!ls /content/drive/MyDrive/GPTData/YukiTestData"
      ],
      "metadata": {
        "colab": {
          "base_uri": "https://localhost:8080/"
        },
        "id": "9c1y9bwahk_r",
        "outputId": "3438831c-3b43-44d3-cd56-40c792d0901e"
      },
      "execution_count": 11,
      "outputs": [
        {
          "output_type": "stream",
          "name": "stdout",
          "text": [
            "'[CASO][Suzumiya_Haruhi_no_Yuuutsu][03][BDRIP][1920x1080][x264_FLAC_2][CE13579E].mkv'\n",
            "'[CASO][Suzumiya_Haruhi_no_Yuuutsu][03][x264_Vorbis][DVDRip].ass'\n",
            " Haruhi_03_annotate.txt\n",
            " haruhi_EP3_annotate_map.csv\n"
          ]
        }
      ]
    },
    {
      "cell_type": "code",
      "source": [
        "!cp -r /content/drive/MyDrive/GPTData/YukiTestData/. /content/input/"
      ],
      "metadata": {
        "id": "ETg_a50Ejduy"
      },
      "execution_count": 10,
      "outputs": []
    },
    {
      "cell_type": "markdown",
      "source": [
        "## 测试whisper"
      ],
      "metadata": {
        "id": "SGxpGJ-dxqZZ"
      }
    },
    {
      "cell_type": "markdown",
      "source": [
        "这个不要用haruhi那个去测试，找个中文的短一点的视频回头测一下"
      ],
      "metadata": {
        "id": "teIWOnweh0jU"
      }
    },
    {
      "cell_type": "code",
      "execution_count": null,
      "metadata": {
        "colab": {
          "base_uri": "https://localhost:8080/"
        },
        "id": "i8xcgnyfxL8q",
        "outputId": "08363f05-7567-4bac-d9a5-c0172e4cfb9b"
      },
      "outputs": [
        {
          "output_type": "stream",
          "name": "stdout",
          "text": [
            "input_video is not exist\n"
          ]
        }
      ],
      "source": [
        "!python yuki_builder.py whisper \\\n",
        "                       -input_video /content/video/input_EP1.mov \\\n",
        "                       -srt_folder /content/srt"
      ]
    },
    {
      "cell_type": "markdown",
      "source": [
        "## 测试srt2csv"
      ],
      "metadata": {
        "id": "6d5sO7Nz0IIj"
      }
    },
    {
      "cell_type": "code",
      "source": [
        "!python yuki_builder.py srt2csv \\\n",
        "                      -input_srt \"/content/input/[CASO][Suzumiya_Haruhi_no_Yuuutsu][03][x264_Vorbis][DVDRip].ass\" \\\n",
        "                      -srt_folder /content/srt"
      ],
      "metadata": {
        "colab": {
          "base_uri": "https://localhost:8080/"
        },
        "id": "rbvKFD3A0D_C",
        "outputId": "099f9909-b140-4637-c1f7-6085b8a48f44"
      },
      "execution_count": 9,
      "outputs": [
        {
          "output_type": "stream",
          "name": "stdout",
          "text": [
            "warning srt_folder is not exist\n",
            "create folder /content/srt\n"
          ]
        }
      ]
    },
    {
      "cell_type": "markdown",
      "source": [
        "## 测试人物切分"
      ],
      "metadata": {
        "id": "_T8hU3hi0ctK"
      }
    },
    {
      "cell_type": "code",
      "source": [
        "!python yuki_builder.py crop \\\n",
        "                      -annotate_map /content/input/haruhi_EP3_annotate_map.csv \\\n",
        "                      -role_audios /content/role_audios"
      ],
      "metadata": {
        "colab": {
          "base_uri": "https://localhost:8080/"
        },
        "id": "cCzM9kZC0YYp",
        "outputId": "3acd9667-cc45-45f6-dea9-0ddad4389ad0"
      },
      "execution_count": 12,
      "outputs": [
        {
          "output_type": "stream",
          "name": "stdout",
          "text": [
            "role_audios is not exist\n"
          ]
        }
      ]
    },
    {
      "cell_type": "markdown",
      "source": [
        "## 测试识别"
      ],
      "metadata": {
        "id": "FesuIVOX0lEv"
      }
    },
    {
      "cell_type": "code",
      "source": [
        "!python yuki_builder.py recognize \\\n",
        "                      -input_video \"/content/input/[CASO][Suzumiya_Haruhi_no_Yuuutsu][03][BDRIP][1920x1080][x264_FLAC_2][CE13579E].mkv\" \\\n",
        "                      -input_srt \"/content/input/[CASO][Suzumiya_Haruhi_no_Yuuutsu][03][x264_Vorbis][DVDRip].ass\" \\\n",
        "                      -role_audios /content/role_audios \\\n",
        "                      -output_folder /content/final_output"
      ],
      "metadata": {
        "colab": {
          "base_uri": "https://localhost:8080/"
        },
        "id": "MmJbRoYK0i0R",
        "outputId": "88343bde-457f-4dd0-eb5a-0aed33ee7f67"
      },
      "execution_count": 13,
      "outputs": [
        {
          "output_type": "stream",
          "name": "stdout",
          "text": [
            "warning output_folder is not exist\n",
            "create folder /content/final_output\n"
          ]
        }
      ]
    },
    {
      "cell_type": "code",
      "source": [],
      "metadata": {
        "id": "zN3DQTvP0q1l"
      },
      "execution_count": null,
      "outputs": []
    }
  ]
}