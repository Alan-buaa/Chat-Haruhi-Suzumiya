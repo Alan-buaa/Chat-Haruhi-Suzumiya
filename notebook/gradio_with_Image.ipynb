{
  "nbformat": 4,
  "nbformat_minor": 0,
  "metadata": {
    "colab": {
      "provenance": [],
      "include_colab_link": true
    },
    "kernelspec": {
      "name": "python3",
      "display_name": "Python 3"
    },
    "language_info": {
      "name": "python"
    }
  },
  "cells": [
    {
      "cell_type": "markdown",
      "metadata": {
        "id": "view-in-github",
        "colab_type": "text"
      },
      "source": [
        "<a href=\"https://colab.research.google.com/github/LC1332/Chat-Haruhi-Suzumiya/blob/main/notebook/gradio_with_Image.ipynb\" target=\"_parent\"><img src=\"https://colab.research.google.com/assets/colab-badge.svg\" alt=\"Open In Colab\"/></a>"
      ]
    },
    {
      "cell_type": "markdown",
      "source": [
        "# Chat凉宫春日的Gradio图片版本\n",
        "\n",
        "[![Code License](https://img.shields.io/badge/Code%20License-Apache_2.0-green.svg)]()\n",
        "[![Data License](https://img.shields.io/badge/Data%20License-CC%20By%20NC%204.0-red.svg)]()\n",
        "\n",
        "**Chat凉宫春日**是模仿凉宫春日等一系列动漫人物，使用近似语气、个性和剧情聊天的语言模型，\n",
        "\n",
        "<details>\n",
        "  <summary> 本项目由李鲁鲁，冷子昂，闫晨曦，封小洋，scixing等开发。 </summary>\n",
        "\n",
        "李鲁鲁发起了项目，并完成了最早的版本，在多个微信群实现了测试。完成了GPT自动生成对话部分。\n",
        "\n",
        "冷子昂参与了早期Gradio的开发，并且参与了后端和前端的选型。debug和最终上线了app.py\n",
        "\n",
        "闫晨曦将李鲁鲁的notebook重构为app.py\n",
        "\n",
        "封小洋进行了中文转日文模型的选型，完成了针对台词抽取图片的工具，（将要完成）和haruhi图片分类器\n",
        "\n",
        "scixing实践了VITS语音，完成了台词对应的语音抽取，（将要完成）特定人物的语音分类器。\n",
        "\n",
        "贾曜恺正在实验一个带图片和语音的前端实现方案。\n",
        "\n",
        "</details>\n",
        "\n",
        "这个脚本是第一个图文版本的Chat凉宫春日，\n",
        "\n",
        "使用了闫晨曦重构的app.py， 冷子昂完成了debug并完成了图文的Gradio实现\n",
        "\n",
        "- [ ] 图片数据还在逐步增加中\n",
        "\n",
        "运行这个notebook你需要OpenAI的API Token\n",
        "\n",
        "项目链接 [https://github.com/LC1332/Prophet-Andrew-Ng](https://github.com/LC1332/Prophet-Andrew-Ng)\n",
        "\n",
        "骆驼先知是[Luotuo(骆驼)](https://github.com/LC1332/Luotuo-Chinese-LLM)的子项目之一，后者由李鲁鲁，冷子昂，陈启源发起。"
      ],
      "metadata": {
        "id": "GgB_5NPqbsDA"
      }
    },
    {
      "cell_type": "code",
      "source": [
        "!pip -q install transformers\n",
        "!pip -q install openai\n",
        "!pip -q install tiktoken\n",
        "!pip -q install langchain\n",
        "!pip -q install gradio"
      ],
      "metadata": {
        "id": "5mxafBYUWItg"
      },
      "execution_count": null,
      "outputs": []
    },
    {
      "cell_type": "code",
      "execution_count": null,
      "metadata": {
        "colab": {
          "base_uri": "https://localhost:8080/"
        },
        "id": "OfHGuLxnV6yI",
        "outputId": "b68acfaa-f437-40ff-84d1-857a4d370705"
      },
      "outputs": [
        {
          "output_type": "stream",
          "name": "stdout",
          "text": [
            "Cloning into 'Chat-Haruhi-Suzumiya'...\n",
            "remote: Enumerating objects: 402, done.\u001b[K\n",
            "remote: Counting objects: 100% (176/176), done.\u001b[K\n",
            "remote: Compressing objects: 100% (132/132), done.\u001b[K\n",
            "remote: Total 402 (delta 75), reused 126 (delta 41), pack-reused 226\u001b[K\n",
            "Receiving objects: 100% (402/402), 10.52 MiB | 15.17 MiB/s, done.\n",
            "Resolving deltas: 100% (154/154), done.\n"
          ]
        }
      ],
      "source": [
        "!git clone https://github.com/LC1332/Chat-Haruhi-Suzumiya.git"
      ]
    },
    {
      "cell_type": "code",
      "source": [
        "import os\n",
        "os.environ[\"OPENAI_API_KEY\"] = 'sk-DfFyRKOnKSZ'"
      ],
      "metadata": {
        "id": "Y0LgGKVxZ4oc"
      },
      "execution_count": null,
      "outputs": []
    },
    {
      "cell_type": "code",
      "source": [
        "%cd Chat-Haruhi-Suzumiya/src"
      ],
      "metadata": {
        "colab": {
          "base_uri": "https://localhost:8080/"
        },
        "id": "3s1LIpccV8xk",
        "outputId": "5e5a9275-7909-44ed-a296-6e592fb2b6fd"
      },
      "execution_count": null,
      "outputs": [
        {
          "output_type": "stream",
          "name": "stdout",
          "text": [
            "/content/Chat-Haruhi-Suzumiya/src\n"
          ]
        }
      ]
    },
    {
      "cell_type": "code",
      "source": [
        "!python app.py"
      ],
      "metadata": {
        "colab": {
          "base_uri": "https://localhost:8080/"
        },
        "id": "GmXTN64iWFXM",
        "outputId": "7f3e2972-a9c6-4fed-f460-4f4c15b16e57"
      },
      "execution_count": null,
      "outputs": [
        {
          "output_type": "stream",
          "name": "stdout",
          "text": [
            "Downloading (…)lve/main/config.json: 100% 966/966 [00:00<00:00, 4.19MB/s]\n",
            "Downloading (…)solve/main/models.py: 100% 21.1k/21.1k [00:00<00:00, 48.5MB/s]\n",
            "A new version of the following files was downloaded from https://huggingface.co/silk-road/luotuo-bert:\n",
            "- models.py\n",
            ". Make sure to double-check they do not contain any added malicious code. To avoid downloading new versions of the code file, you can pin a revision.\n",
            "Downloading pytorch_model.bin: 100% 414M/414M [00:02<00:00, 167MB/s]\n",
            "文件夹 'Suzumiya' 创建成功！\n",
            "Downloading (…)okenizer_config.json: 100% 539/539 [00:00<00:00, 2.91MB/s]\n",
            "Downloading (…)solve/main/vocab.txt: 100% 110k/110k [00:00<00:00, 11.3MB/s]\n",
            "Downloading (…)/main/tokenizer.json: 100% 439k/439k [00:00<00:00, 3.26MB/s]\n",
            "Downloading (…)cial_tokens_map.json: 100% 125/125 [00:00<00:00, 677kB/s]\n",
            "/content/Chat-Haruhi-Suzumiya/src/app.py:323: UserWarning: You have unused kwarg parameters in Textbox, please remove them: {'placeholde': '输入角色名'}\n",
            "  role_name = gr.Textbox(label=\"角色名\", placeholde=\"输入角色名\")\n",
            "Running on local URL:  http://127.0.0.1:7860\n",
            "Running on public URL: https://ceb568aac6f653a2c6.gradio.live\n",
            "\n",
            "This share link expires in 72 hours. For free permanent hosting and GPU upgrades, run `gradio deploy` from Terminal to deploy to Spaces (https://huggingface.co/spaces)\n",
            "history done\n",
            "2\n",
            "3\n",
            "['不重要的事情', '为什么剪头发', '自我介绍', '介绍其他社员', '开学第二天', '电脑是怎么来的', 'SOS团起名由来']\n",
            "当前辅助sample: ['不重要的事情', '为什么剪头发', '自我介绍', '介绍其他社员', '开学第二天', '电脑是怎么来的', 'SOS团起名由来']\n",
            "<PIL.JpegImagePlugin.JpegImageFile image mode=RGB size=854x480 at 0x7FD42CBFC220>\n",
            "history done\n",
            "2\n",
            "3\n",
            "['无聊的社团', '不重要的事情', '自己建一个社团就好啦', '社团教室', '朝仓转学', '为什么剪头发', '电脑是怎么来的']\n",
            "当前辅助sample: ['无聊的社团', '不重要的事情', '自己建一个社团就好啦', '社团教室']\n"
          ]
        }
      ]
    }
  ]
}