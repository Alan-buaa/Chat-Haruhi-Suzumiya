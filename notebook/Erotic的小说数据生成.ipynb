{
  "nbformat": 4,
  "nbformat_minor": 0,
  "metadata": {
    "colab": {
      "provenance": [],
      "authorship_tag": "ABX9TyN2GBrt1rKnZRHs1SZPYgW1",
      "include_colab_link": true
    },
    "kernelspec": {
      "name": "python3",
      "display_name": "Python 3"
    },
    "language_info": {
      "name": "python"
    }
  },
  "cells": [
    {
      "cell_type": "markdown",
      "metadata": {
        "id": "view-in-github",
        "colab_type": "text"
      },
      "source": [
        "<a href=\"https://colab.research.google.com/github/LC1332/Chat-Haruhi-Suzumiya/blob/main/notebook/Erotic%E7%9A%84%E5%B0%8F%E8%AF%B4%E6%95%B0%E6%8D%AE%E7%94%9F%E6%88%90.ipynb\" target=\"_parent\"><img src=\"https://colab.research.google.com/assets/colab-badge.svg\" alt=\"Open In Colab\"/></a>"
      ]
    },
    {
      "cell_type": "markdown",
      "source": [
        "- [x] 统计换行数量\n",
        "- [x] 统计引号数量\n",
        "- [ ] prompt改写成多样化的prompt"
      ],
      "metadata": {
        "id": "S024bFjfrRs1"
      }
    },
    {
      "cell_type": "code",
      "source": [
        "from google.colab import drive\n",
        "drive.mount('/content/drive')"
      ],
      "metadata": {
        "colab": {
          "base_uri": "https://localhost:8080/"
        },
        "id": "0Z_hevNCrRIJ",
        "outputId": "667b58b7-9423-4ec1-b32d-1cfc0656ddb0"
      },
      "execution_count": 1,
      "outputs": [
        {
          "output_type": "stream",
          "name": "stdout",
          "text": [
            "Mounted at /content/drive\n"
          ]
        }
      ]
    },
    {
      "cell_type": "code",
      "execution_count": null,
      "metadata": {
        "id": "8_c1yqgApHy3"
      },
      "outputs": [],
      "source": [
        "!ls /content/drive/MyDrive/Wuxia/erotica"
      ]
    },
    {
      "cell_type": "code",
      "source": [
        "!pip install -q tiktoken\n",
        "import tiktoken\n",
        "\n",
        "enc = tiktoken.get_encoding(\"cl100k_base\")"
      ],
      "metadata": {
        "colab": {
          "base_uri": "https://localhost:8080/"
        },
        "id": "0Aic_8sw_QPQ",
        "outputId": "a297d36c-a33f-4b6d-a979-6a949d5e3f80"
      },
      "execution_count": 3,
      "outputs": [
        {
          "output_type": "stream",
          "name": "stdout",
          "text": [
            "\u001b[?25l     \u001b[90m━━━━━━━━━━━━━━━━━━━━━━━━━━━━━━━━━━━━━━━━\u001b[0m \u001b[32m0.0/2.0 MB\u001b[0m \u001b[31m?\u001b[0m eta \u001b[36m-:--:--\u001b[0m\r\u001b[2K     \u001b[91m━\u001b[0m\u001b[91m╸\u001b[0m\u001b[90m━━━━━━━━━━━━━━━━━━━━━━━━━━━━━━━━━━━━━━\u001b[0m \u001b[32m0.1/2.0 MB\u001b[0m \u001b[31m2.7 MB/s\u001b[0m eta \u001b[36m0:00:01\u001b[0m\r\u001b[2K     \u001b[91m━━━━━━━━━━━━━━━━━\u001b[0m\u001b[90m╺\u001b[0m\u001b[90m━━━━━━━━━━━━━━━━━━━━━━\u001b[0m \u001b[32m0.9/2.0 MB\u001b[0m \u001b[31m12.9 MB/s\u001b[0m eta \u001b[36m0:00:01\u001b[0m\r\u001b[2K     \u001b[90m━━━━━━━━━━━━━━━━━━━━━━━━━━━━━━━━━━━━━━━━\u001b[0m \u001b[32m2.0/2.0 MB\u001b[0m \u001b[31m20.3 MB/s\u001b[0m eta \u001b[36m0:00:00\u001b[0m\n",
            "\u001b[?25h\u001b[31mERROR: pip's dependency resolver does not currently take into account all the packages that are installed. This behaviour is the source of the following dependency conflicts.\n",
            "llmx 0.0.15a0 requires cohere, which is not installed.\n",
            "llmx 0.0.15a0 requires openai, which is not installed.\u001b[0m\u001b[31m\n",
            "\u001b[0m"
          ]
        }
      ]
    },
    {
      "cell_type": "code",
      "source": [
        "#@title 定义strong_divide\n",
        "def divide_str(s, sep=['\\n', '.', '。'], consider_quote = True ):\n",
        "    mid_len = len(s) // 2  # 中心点位置\n",
        "    best_sep_pos = len(s) + 1  # 最接近中心点的分隔符位置\n",
        "    best_sep = None  # 最接近中心点的分隔符\n",
        "    for curr_sep in sep:\n",
        "        sep_pos = s.rfind(curr_sep, 0, mid_len + mid_len - 2)  # 从中心点往左找分隔符\n",
        "        if sep_pos > 0 and abs(sep_pos - mid_len) < abs(best_sep_pos -\n",
        "                                                        mid_len):\n",
        "            if consider_quote == True:\n",
        "                if s[sep_pos + 1] in ['\"', \"'\",\"“\",\"」\"]:\n",
        "                    sep_pos += 1\n",
        "\n",
        "            best_sep_pos = sep_pos\n",
        "            best_sep = curr_sep\n",
        "    if not best_sep:  # 没有找到分隔符\n",
        "        return s, ''\n",
        "    return s[:best_sep_pos + 1], s[best_sep_pos + 1:]\n",
        "\n",
        "\n",
        "def strong_divide(s, balance_ratio = 0.25):\n",
        "    left_bar = int(len(s) * balance_ratio)\n",
        "    left, right = divide_str(s, '\\n')\n",
        "    if len(left) >= left_bar and len(right) >= left_bar:\n",
        "        return left, right\n",
        "\n",
        "    whole_sep = ['\\n', '.', '，', '、', ';', ',', '；',\\\n",
        "                 '：', '！', '？', '(', ')', '”', '“', \\\n",
        "                 '’', '‘', '[', ']', '{', '}', '<', '>', \\\n",
        "                 '/', '''\\''', '|', '-', '=', '+', '*', '%', \\\n",
        "               '$', '''#''', '@', '&', '^', '_', '`', '~',\\\n",
        "                 '·', '…']\n",
        "    left, right = divide_str(s, sep=whole_sep)\n",
        "    if len(left) >= left_bar and len(right) >= left_bar:\n",
        "        return left, right\n",
        "\n",
        "    mid_len = len(s) // 2\n",
        "    return s[:mid_len], s[mid_len:]\n",
        "\n",
        "def super_divide( s, max_len_token = 300, iter_deep = 1):\n",
        "    n_token = len(enc.encode(s))\n",
        "    if n_token <= max_len_token or iter_deep > 2:\n",
        "        return [s]\n",
        "\n",
        "    left, right = strong_divide(s)\n",
        "    return super_divide(left, max_len_token, iter_deep+1) + \\\n",
        "            super_divide(right, max_len_token, iter_deep+1)"
      ],
      "metadata": {
        "id": "GLK23YfQ_Sbu"
      },
      "execution_count": 17,
      "outputs": []
    },
    {
      "cell_type": "markdown",
      "source": [
        "对于 /content/drive/MyDrive/Wuxia/erotica 目录下的所有文件夹\n",
        "\n",
        "如 /content/drive/MyDrive/Wuxia/erotica/例子小说1\n",
        "\n",
        "这个时候我需要定义\n",
        "\n",
        "source = \"例子小说1\"\n",
        "\n",
        "对于这个目录下面，有很多txt\n",
        "\n",
        "我希望对每个txt文件进行读取\n",
        "\n",
        "保存到一个list of dict , datas中，保存source 和text两个字段\n",
        "\n",
        "请用python为我实现"
      ],
      "metadata": {
        "id": "HI6F6tdP3oHE"
      }
    },
    {
      "cell_type": "code",
      "source": [
        "import os\n",
        "\n",
        "# 定义目录路径\n",
        "directory_path = \"/content/drive/MyDrive/Wuxia/erotica\"\n",
        "\n",
        "# 初始化用于保存数据的列表\n",
        "datas = []\n",
        "\n",
        "from tqdm import tqdm\n",
        "\n",
        "count = 0\n",
        "\n",
        "import time\n",
        "\n",
        "# 遍历目录下的所有文件夹\n",
        "for folder in tqdm(os.listdir(directory_path)):\n",
        "    folder_path = os.path.join(directory_path, folder)\n",
        "\n",
        "    count += 1\n",
        "    # if count > 10:\n",
        "    #     break\n",
        "\n",
        "    # 检查当前路径是否为文件夹\n",
        "    if os.path.isdir(folder_path):\n",
        "\n",
        "        # 遍历文件夹下的所有txt文件\n",
        "        for filename in os.listdir(folder_path):\n",
        "            if filename.endswith(\".txt\"):\n",
        "                file_path = os.path.join(folder_path, filename)\n",
        "\n",
        "                # 读取txt文件内容\n",
        "                with open(file_path, \"r\", encoding=\"utf-8\") as file:\n",
        "                    text_content = file.read()\n",
        "\n",
        "                # 将source和text添加到datas列表中\n",
        "                datas.append({\"source\": folder, \"text\": text_content})\n",
        "\n",
        "                time.sleep(0.05)"
      ],
      "metadata": {
        "id": "aOGYrFf0sLrA",
        "colab": {
          "base_uri": "https://localhost:8080/"
        },
        "outputId": "fce903a2-e4fd-466e-b94d-38d614611ce1"
      },
      "execution_count": 50,
      "outputs": [
        {
          "output_type": "stream",
          "name": "stderr",
          "text": [
            "100%|██████████| 288/288 [56:43<00:00, 11.82s/it]\n"
          ]
        }
      ]
    },
    {
      "cell_type": "code",
      "source": [
        "original_datas = datas\n",
        "# datas = []\n",
        "\n",
        "n_tokens = []\n",
        "\n",
        "datas = []\n",
        "\n",
        "for data in original_datas:\n",
        "    source = data[\"source\"]\n",
        "    text = data[\"text\"]\n",
        "    n_token = len(enc.encode(text))\n",
        "    n_tokens.append(n_token)\n",
        "    if n_token > 8000:\n",
        "        divide_texts = super_divide(text, 6000, 4)\n",
        "        for divide_text in divide_texts:\n",
        "            if len(enc.encode(divide_text)) < 1500:\n",
        "                continue\n",
        "            datas.append({\"source\": source, \"text\": divide_text.strip()})\n",
        "    else:\n",
        "        datas.append({\"source\": source, \"text\": text.strip()})\n"
      ],
      "metadata": {
        "id": "JX1UXXjrCpaZ"
      },
      "execution_count": 51,
      "outputs": []
    },
    {
      "cell_type": "code",
      "source": [
        "print(datas[0])"
      ],
      "metadata": {
        "colab": {
          "base_uri": "https://localhost:8080/"
        },
        "id": "Hw5sXwHjDG8h",
        "outputId": "b04ff400-d100-4aa8-d952-0ae5083aca35"
      },
      "execution_count": 52,
      "outputs": [
        {
          "output_type": "stream",
          "name": "stdout",
          "text": [
            "{'source': '梦中的女孩', 'text': '安少廷第二天再次来到了袁可欣的住处的时候，手里还拿了一把鲜花。\\u3000\\u3000他现在就象一个初恋的男孩，每时每刻全身都充满了甜蜜的感觉，心里不断呼唤着袁可欣的名字，脑海里浮现的全是袁可欣迷人的裸体或半裸的画面。\\u3000\\u3000他紧张不安地敲响了袁可欣的房门，胸中就象有个兔子在他的心口扑通扑通地上下蹦跳。\\u3000\\u3000袁可欣慢慢地开了门，脸色却异常难看，发红的眼睛好象她一整天都没有睡觉——她身上还穿着昨天他们出去时穿的黄色连衣裙。她见到他手里的花，显得非常的茫然和不知所措。\\u3000\\u3000安少廷见到她那憔悴的样子，刚才兴奋的心情也一扫而空。他意识到袁可欣心里可能根本无法相信他对她做出的保证，她昨夜肯定是在非常恐惧但又极其企盼的混乱心情中度过的。看来自己是高兴得太早，要让袁可欣受到巨大创伤的心灵完全康复，可能还要努力很长时间。\\u3000\\u3000袁可欣将他让进房间，关了门，默默地从他手中接过花，看也不看就将花扔到了桌子上。\\u3000\\u3000安少廷突然意识到袁可欣今天的举止很不寻常——她没有象往常那样，脱了衣服趴倒在他身前向他说“奴儿欢迎主人光临”的那套见面“仪式”。\\u3000\\u3000他很快平静下来，心想这也许是个好迹象——她可能也开始相信他的善意了，起码她已不再象以前那样一见到他就会恐惧得发抖。\\u3000\\u3000安少廷于是满脸笑意地对她问候道：\\u3000\\u3000“梦奴，昨天你睡得还好吗？”“……”“哈，梦奴，我正要告诉你，你今后见了我可以不必非趴倒到地上不可……喂，梦奴，你今天怎么了？”\\u3000\\u3000袁可欣的脸色变得更加难看，充满恐慌、矛盾和愤怒的眼睛里对着安少廷象是射出了两道利箭，直视着他，非常恨恨地说道：\\u3000\\u3000“你……你不是我的主人！”\\u3000\\u3000啊！原来如此。看来袁可欣已经琢磨出她的‘主人’的性格发生的巨大变化。\\u3000\\u3000安少廷对她这样的反应早就有过准备，只是没有想到她会来得这么快、这么突然。不过这正好，这正说明她头脑还很清醒，不是安少廷曾担心的她会不会因为受到长期的肉体和心灵的折磨而遭到精神上的永久的损害。\\u3000\\u3000安少廷桀然一笑，将脸凑进她，对她笑道：\\u3000\\u3000“怎么？看着不象吗？你再仔细瞧瞧？”“不！你们长得是象极了。但是，你决不会是我的主人。你是谁？”“哈哈，梦奴，我不是你的主人那我会是谁呢？”“你……我主人决不是你这个样子。”“是吗？我的样子怎么了？”“我主人……他……他……”“他没有我这么好，是吗？”“你……你到底是谁？”\\u3000\\u3000安少廷看到她那种急切恐慌的样子，心里反而十分轻松。他不忍再逗弄他的心上人，稍稍严肃起来，慢慢地说道：\\u3000\\u3000“梦奴，你耐心听我说。我的确是你的主人，这绝对不会有错。你可能是奇怪我以前对你那么暴虐，现在却对你如此好，是不是？”“……我的主人……他……决不会容许我这么和他说话。”“是的。以前一段时间我非常残暴，让你受了太多的痛苦的折磨。我现在心里想起来也非常不舒服。但是，过去的就让它过去吧。我以后决不会再象以前那样暴虐地对你了，你可以相信我……”“你……噢不！你……你不是认真的。你还会惩罚我的……”“不！你听我说。我不会再暴虐地惩罚你了，你可以完全放心。”“你……你……不可能的。除非，除非你不是我的主人。你不是的……你根本就不是的。”“唉，梦奴，我当然是你的主人。我以前经常在夜里来，穿着睡袍，还拿来各种刑具，对你又打又骂，残酷地虐待你，实在让你受了太多的委屈。”“不！……”“梦奴，你要我怎么说你才能相信我？难道你希望我再对你施加那些残暴的惩罚才能信吗？我用插在电盒里的电线电击你的乳房和阴部，还用带链条的夹子将你乳房夹住，用各种东西塞到你的阴道里和肛门里，所有这些都是如此极端的暴虐，现在让我回忆起来都十分心寒。所以我决心不再那样对你了，你相信我吧。”“啊？你……不。不会的……你怎么会是这样……”“梦奴，你不用再怀疑了。我的确是你的主人。不过，我再也不会再让你受苦了。我会好好地待你，就象昨天那样。好不好？”\\u3000\\u3000安少廷慢慢走近袁可欣，用手扶住她的双臂，将她几乎要站立不住的身子扶稳。他知道她现在还很难从这一开始的震惊中恢复过来，恐怕还不敢真的相信她的苦日子已经结束。但一旦她理解并开始信任他，她就会知道他对她的真心和诚意。\\u3000\\u3000袁可欣两眼茫然地平视着安少廷的肩头，似乎还是不信他说的一切。\\u3000\\u3000“你真是我的主人？”“当然啦。梦奴。”“那你不再惩罚我了？”“是的。梦奴。我决不会再对你动粗，也决不再用暴力逼你做你不喜欢的事。你说好不好？”\\u3000\\u3000袁可欣好象突然醒了过来，用一种急切的语气对着安少廷急速地问道：\\u3000\\u3000“你，你……你不喜欢我，不愿再要我这个奴儿了？”“梦奴，我怎么会不喜欢你呢？我要你永远做我的奴儿。”“那你还会象以前那样惩罚奴儿吗？你还会的，是吗？”“不。我不是说了嘛，我决不会对你再用任何暴力。”“我以前做的不好，是吗？”“梦奴，你说哪里话嘛。我爱你。我喜欢你。而且你做的一直就非常好，都是我的不好。我以后就不会再对你以暴力相向了。”“……你……”\\u3000\\u3000安少廷突然感到她的眼睛里尽是愤怒和失望的表情，让他完全无法理解。\\u3000\\u3000“梦奴，你不相信我吗？你以为我都在骗你？”\\u3000\\u3000袁可欣突然猛地抛开他的手，对他愤怒地喊道：\\u3000\\u3000“你走开。你不是我的主人。你不可能是我的主人。”\\u3000\\u3000袁可欣的激动的样子让安少廷十分痛苦。他突然意识到自己竟无法说服她让她相信自己的确是她一直称呼的主人——他开始后悔自己变化得太大太快，也太急于求成了。结果他现在出现在袁可欣面前的性格和他以前的暴虐的脾气反差太大，让她怎么能不产生怀疑？\\u3000\\u3000安少廷稍稍缓和了一下，更耐心地对袁可欣说道：\\u3000\\u3000“梦奴，我知道你为何会这么想。这实在是由于我最近性格上变化比较大。我以前对你过于暴力，让你受了许多苦。现在我想改变改变自己，你怎么能不承认我是你的主人呢？难道你非要见到我对你残暴的样子才能相信吗？”“啊……你……你的性格……怎么能……不可能的。你不可能是我的主人。你不用再骗我了。”“梦奴，我真的没有在骗你。我的确是良心发现，不愿再让你受更多的肉体的折磨。而且，我觉得象我们昨天那样好好地玩比那种暴虐的玩法更有意思得多。你难道喜欢那种凶狠和暴虐吗？”“我主人怎样对我跟你无关。他有权利想怎么对我就怎么对我。可你……”“是吗？那好，梦奴，那么我现在也有权利对你温柔、对你爱。我也有权利选择不再暴虐你，对不对？”\\u3000\\u3000袁可欣突然显得异常坚定起来，用一种非常仇恨的眼光直视着安少廷，一字一句地说道：\\u3000\\u3000“你……你把我的主人锁起来，再来这里冒充。你骗不了我。你到底是谁？”\\u3000\\u3000安少廷想起他在两个星期前那个最后一个梦游的夜晚，他到这里肆虐的时候曾说过“锁住我不让我来”之类的话，竟然让袁可欣当真了。他觉得这一切是如此的荒谬可笑，却又实在是无可奈何。\\u3000\\u3000“唉，你要我怎么说你才会相信？这样说吧，就算你相信真有另一个脾气暴虐的主人，如果他再也不能来虐待你，再也不能来把你当成是他的奴隶强暴你、对你随意地打骂暴虐，你说你高兴不高兴呢？”“哼！你原来真是假的！嗷……你……你告诉我，我主人到底怎么样了？你把我的主人到底怎么样了？”\\u3000\\u3000安少廷被她的话弄得真有些哭笑不得。但他立刻吃惊地注意到，她的话里竟流露出对她“主人”的关切之情——难道她的心灵已经被扭曲成了真以为自己是的奴隶的心理定势？难道她会拒绝他给她的解脱奴隶身份的机会？难道她还依然生活在恶梦中，已经习惯于做那个‘主人’的性奴而不愿、不敢、或不能适应没有‘主人’的独立生活？\\u3000\\u3000看来要将她完全催醒过来还需要下很大的功夫才成。\\u3000\\u3000他放低了声音，用温柔但却很诚恳的语气对她说道：\\u3000\\u3000“梦奴，你不用再瞎猜了。你的主人真的就是我，真的没有别人了。你还记不记得，我腰部有个小时候留下的伤疤，很明显的？”\\u3000\\u3000安少廷一边说着一边解开衣服，将上半身裸露出来，让她看他的伤疤。\\u3000\\u3000袁可欣用震惊的眼光盯着那块伤疤，她用颤抖的手轻轻地摸了一下，身子突然象是电了一样，猛地弹向后面，身子紧贴到了墙上，以一种恐怖的表情看着安少廷，嘴里喃喃地说着：\\u3000\\u3000“这……不可能的……你……你……嗷……嗷……”\\u3000\\u3000安少廷看着袁可欣两眼的泪水慢慢地流下来，越流越多，泪珠汇集成了水线。她的嘴唇微微颤抖，越抖越烈，最后哭出了声来。她的哭声越来越大，终于变成了嚎大哭。她边哭边痛苦地弯下了腰，越弯越低，最后支撑不住身子，蹲到到了墙角，最后坐到了地上。\\u3000\\u3000安少廷彻底惊呆了——袁可欣的痛苦是如此的恐怖却又真实，强烈地感泄了站在一边目睹这一切的安少廷。她的每一声痛哭，都象一根拴在他心口的绳子，将他的心一下一下的紧揪，刺痛了他全身的每一个细胞。\\u3000\\u3000他再也没有料到，袁可欣会在知道她的恶梦般的生活已经结束后，还会如此的痛苦和失望。他对她的坦诚，不仅不能给她任何安慰，反而却深深地刺痛了她的心，让她伤痛欲绝。\\u3000\\u3000安少廷怎么也不能理解这一切。难道袁可欣的精神在长期的残酷的折磨中真的产生了变态的倒错，竟将痛苦当成了解脱，而将解脱当成了痛苦？\\u3000\\u3000受虐狂——这个曾经让安少廷十分痛恨的字眼再次浮现在他的脑子里。\\u3000\\u3000不会的。她也许只是还一时不能接受这突然出现的荒谬的转变，她也许只是无法理解或相信他对她不再暴虐的保证的诚意。毕竟他不能很好地向她解释这一切——他不能告诉她她遭受的那么多磨难只是他的梦游——他不能再给她已经非常混乱的脑子里再增加更多的混乱——他不能再冒险让她精神永久地失常。\\u3000\\u3000安少廷坐在地上靠着床脚，看着坐靠在墙角失声痛哭的心上人，麻木地思考着该怎样处理这一切。\\u3000\\u3000很久，他们就这么坐着。房间里的空气都已痛苦地凝固。\\u3000\\u3000袁可欣的哭声渐渐消沉，变成断断续续的抽嘘。泪水已经打湿那件黄色的连衣裙，映出里面一小半白色的乳罩。\\u3000\\u3000安少廷最后再也忍受不了这种可怕的僵局，不得不打破了沉默。\\u3000\\u3000“梦奴，你真的喜欢我虐待你吗？”“……”“难道你……你若真的喜欢，我也可以再……再象以前那样，还……还用鞭子抽你，用电击你，用……其他残酷的手段折磨你，让你……”“啊……你. ……嗷……真的……？”\\u3000\\u3000看到袁可欣脸上突然显露出的神态，安少廷内心被猛地刺痛——她真的已经被他折磨成了被虐待狂。她竟真的希望他来折磨她、暴虐她。\\u3000\\u3000“……梦奴，你真的喜欢那样，是吗？”“噢……”\\u3000\\u3000安少廷胸中的积郁越来越盛，心中的怒火也越来越强。他不知道自己该恨谁——这个可怜但却已经有些变态的受虐狂，还是他自己这个整个事情的始作俑者。他猛地跳了起来，对着地上的袁可欣大吼道：\\u3000\\u3000“你……那好吧。你……你这个……贱奴！”“啊……”“你……你还坐着干什么？还不……爬过来？”“啊……是……是……主人！”\\u3000\\u3000袁可欣见到突然又暴虐起来的安少廷，本来已经完全失神的眼里再次闪现出充满欲火的生机，立刻手脚并用地爬到安少廷脚下，嘴里再次惶恐地叫出了‘主人’。\\u3000\\u3000安少廷的心里一股说不出的怨气猛然爆发，他蹲下身子，一把揪起袁可欣的头发，将她的脸掀起，恶狠狠地对她吼道：\\u3000\\u3000“好吧！你这个贱奴，怎么还不脱了衣服，还不把玩具都拿出来？”“啊……是。奴儿该死……请主人惩罚。”\\u3000\\u3000袁可欣一边答应着，一边快速脱去裙子，又翻身将床底的箱子拖出来，再次伏身在安少廷的脚下。\\u3000\\u3000看到一箱乱七八糟的刑具，安少廷心里又是一惊。他知道自己实在无法忍受将这些东西用到这么娇嫩的女体身上，即使他知道她宁愿承受这些暴虐的惩罚，他也下不了手。\\u3000\\u3000他一手提起她的腿，一手提起她的胳膊，一把将她提起扔到床上趴着。他咬着牙，从中挑出了里面的那个鞭子，一脚再将箱子踢进床底。\\u3000\\u3000他将鞭子在空中挥击了一下，发出啪的一声清脆的鞭响。\\u3000\\u3000袁可欣的身子在床上猛得一抖，就象在冷风中打了个寒颤，嘴里禁不住发出一声嘤叫，就好似已被打到了身子一样，颤抖的声音中竟搀杂着企盼的浪叫。\\u3000\\u3000安少廷再也不按奈不着自己心中的失望和怨恨，猛的一鞭打在袁可欣背上乳罩带子上，在她身上划过一道红印。\\u3000\\u3000袁可欣在咬紧的牙缝中呜呀的痛叫了一声，整个身子为之一颤。\\u3000\\u3000安少廷一鞭下去，就象感觉到自己的身子被狠抽了一下，彻骨的痛感象根针扎进他的心窝。\\u3000\\u3000他脑海变得一片空白，机械地挥舞着鞭子，一下一下地猛抽趴在床上的袁可欣——他自己的身体也象是被抽打着一样，整个身子都在痛苦中颤抖，最后再由痛苦变得越来越麻木，脑子也变得越来越混乱。\\u3000\\u3000啪的一声，袁可欣背上的胸罩带子竟被连续的鞭击打断。\\u3000\\u3000他看着袁可欣雪白的脊背被自己打得鞭痕累累，失神地呆站在床边。他无法想象鞭打自己的心上人的感觉竟会是如此强烈，竟百倍于上一次他鞭打她时感受。\\u3000\\u3000袁可欣的身子在微微地抖动，嘴里发出的声音不象是痛苦倒象是在快感中的喜乐的呻吟。\\u3000\\u3000安少廷向她的胯下望去，难以置信地发现她的下体渗出的淫液已经将她的内裤弄湿了一大片。\\u3000\\u3000他茫然地扔下了鞭子。'}\n"
          ]
        }
      ]
    },
    {
      "cell_type": "code",
      "source": [
        "print(datas[100])"
      ],
      "metadata": {
        "colab": {
          "base_uri": "https://localhost:8080/"
        },
        "id": "exLfAP7REFDE",
        "outputId": "fcb446e2-81ca-4e22-f7c5-0403d1a0bbe9"
      },
      "execution_count": 53,
      "outputs": [
        {
          "output_type": "stream",
          "name": "stdout",
          "text": [
            "{'source': '校园追艳记', 'text': '第二天，我脑海里总是浮现那女孩子清丽的面容和骄人的身材。上课时完全不知老师讲些什么。这是一所重点中学，百分之九十的学生将来都能考上大学。\\u3000\\u3000我却是个不成器的家伙，父母花了钱送我到此寄读，看来那些钱是必定要成为打狗的肉包子了。\\u3000\\u3000好不容易盼到了下课，我以百米赛跑的竞技状态冲到了校门口，却发现赛跑的金银铜牌都已被人包下了。\\u3000\\u3000所有志同道合的朋友都到齐了之后，有人发问：“在这儿等她还是去那大院门口等？”\\u3000\\u3000“去她家大院门口等。”我说：“这么一大群人在校门口太显眼，如果她叫上个护花使者就糟了。”\\u3000\\u3000“对！再说大院子里也好埋伏！”文哥表示赞同。\\u3000\\u3000没有异议。于是我们骑上车，几分钟后进入了院子。经过反覆观察比较后，大家躲在一座楼后的花丛里，密切注视着院门口，等待目标出现。\\u3000\\u3000——知道了她家后又如何？那时我没想过。\\u3000\\u3000我想的是什么，连我自己也不大明白。我拍了一下文哥，问：“你说她读高中几年级？”\\u3000\\u3000文哥一怔：“你怎么知道她是高中生？”\\u3000\\u3000“那还不清楚吗？”我挪瑜道：“你没瞎眼吧？她身体发育得这样成熟，绝对是年纪大过我们的高中生。我们这年段的女生，哼，后面看了就想倒退了。”\\u3000\\u3000“高中生，高中生！”文哥喃喃念道：“好，好极了。我就喜欢比我大的女孩……”\\u3000\\u3000“她是挺诱人的！”我不禁开始幻想，她衣服包裹下的美妙肉体，是怎样一种情形。而她那具有古典美的俏脸，在性爱高潮时将会是怎样一副表情？她的喘息呻吟声，又会是如何的动听？\\u3000\\u3000——可惜的是，我能想像到的都是些淫秽录像的低级镜头。对还未曾有过性经验的我来说，想要尝到一个真正的女人，好像还是很遥远的事情。\\u3000\\u3000几个人谈论着女人大腿，说着黄色笑话，胯下的东西有点儿蠢蠢欲动了。\\u3000\\u3000时间一分一秒的过去，我的双脚已经酸痛无比，那女孩子却连人影都不见。\\u3000\\u3000大家开始变得坐立不安，后来是无精打采。虽然小弟弟仍然是趾高气扬，但身体的其他部分，包括肠胃、膀胱在内的所有器官都一起闹起了革命，实行了全面罢工。\\u3000\\u3000“怎么回事？难道她今天不回家吗？”有人忍不住问。\\u3000\\u3000“屁话。她要是不回家，还能在外面过夜啊？”文哥不耐烦的骂了一句。\\u3000\\u3000“也可能她今天根本没去上学。”\\u3000\\u3000“不会吧？”\\u3000\\u3000渐渐的天全黑了，等到连小弟弟都义无反顾的叛变投敌，由铁骨铮铮的“硬汉”变成了软趴趴的“缩头乌龟”时，我们不得不实行了可以媲美敦刻尔克的大撤退。\\u3000\\u3000大伙儿连骂娘的力气都没有了，悻悻然的走出院子。\\u3000\\u3000穿过小巷，正准备分道扬镳，就在这时候，人影一闪，那个女孩子从前面路口的一家饮食店里拐了出来，迎面向我们走过来。\\u3000\\u3000真该死，我们在她家门口等她，她却悠然自得的坐在这里大饱口福。等我们知难而退了，她才不慌不忙的出现。厉害，实在是厉害！\\u3000\\u3000一时间人人都木头似的呆住了，眼睁睁的看着她迈着悠闲的碎步，慢吞吞的从我们身边插身而过。粉光致致的俊脸上，嘴角带着讽刺的微笑，乌黑的大眼睛里闪动着不屑的目光，却连眼角都不曾撇过我们，好像我们在她眼里只是一群可怜可笑的小丑。\\u3000\\u3000所有人都痴痴的凝视着她，这一瞬间我们心里都不知是啥滋味。直到她快走到大院的门口了，大家才从这梦幻一样的景像中惊醒。\\u3000\\u3000“快追！”几个人手忙脚乱的调转车把，用最快的速度重新冲进了大院。\\u3000\\u3000可是，我们看到的仍然是空空如也的院子。她又不见了！\\u3000\\u3000这小妖精，难道她会隐身法？\\u3000\\u3000各人对望了一眼，发现彼此的脸色都是相当难看。\\u3000\\u3000这一次我们输得更惨，白费了这么长的时间，而且还站得腰酸背痛，结果仍旧是竹篮打水一场空。我开始觉得这女孩十分不好对付，她是一朵花，一朵娇艳欲滴的花，可也是一朵长满了刺的花。\\u3000\\u3000不过，对于男人来说，越是长满了刺的花，就越让人欲得之而后快。而最终得不到的，往往就是最好的。\\u3000\\u3000我在满腔气恼中发了个毒誓：“皇天在上，后土在下。我秦守无论如何，都要得到……得到……这个女孩子（见鬼，我连她的名字都还不知道）的千娇百媚的肉体。无论付出何种代价，也要让她在我的身下娇喘连连，婉转承欢。就算不得好死，我也要把精液射进她的两腿之间……哦……哦……那一定很爽！”\\u3000\\u3000猛然间我惊异的发现，小弟弟又重新获得了旺盛的斗志。\\u3000\\u3000——发毒誓竟然发到勃起，我恐怕也是古往今来的第一人了。\\u3000\\u3000“为了共同的目标，我们一起努力！”我轻抚着弟弟，满怀信心的说，“胜利最终是属于我们的，加油吧。”'}\n"
          ]
        }
      ]
    },
    {
      "cell_type": "code",
      "source": [
        "def count_quotes(text):\n",
        "\n",
        "    quote_chars = '''「」\"“”'''\n",
        "    count = 0\n",
        "    for char in text:\n",
        "        if char in quote_chars:\n",
        "            count += 1\n",
        "    return count"
      ],
      "metadata": {
        "id": "Tjq9GTNssyfc"
      },
      "execution_count": 54,
      "outputs": []
    },
    {
      "cell_type": "code",
      "source": [
        "def count_paragraphs(text):\n",
        "    lines = text.split(\"\\n\")\n",
        "    count = 0\n",
        "    for line in lines:\n",
        "        if line.strip() != \"\":\n",
        "            count += 1\n",
        "    return count"
      ],
      "metadata": {
        "id": "-yIyDBqvtQTy"
      },
      "execution_count": 55,
      "outputs": []
    },
    {
      "cell_type": "code",
      "source": [
        "from tqdm import tqdm\n",
        "n_paragraphs = []\n",
        "n_quotes = []\n",
        "\n",
        "for data in tqdm(datas):\n",
        "    n_paragraphs.append(count_paragraphs(data[\"text\"]))\n",
        "    n_quotes.append(count_quotes(data[\"text\"]))"
      ],
      "metadata": {
        "colab": {
          "base_uri": "https://localhost:8080/"
        },
        "id": "BdNMMR--saEL",
        "outputId": "80e8bd41-6863-41fa-e3fc-a401531b0bab"
      },
      "execution_count": 56,
      "outputs": [
        {
          "output_type": "stream",
          "name": "stderr",
          "text": [
            "100%|██████████| 5198/5198 [00:03<00:00, 1601.29it/s]\n"
          ]
        }
      ]
    },
    {
      "cell_type": "markdown",
      "source": [
        "对于一个字符串line，检查里面的'“'或者'\"'或者'”'出现位置。并把所有位置合并为一个pos的list，如果pos的长度为偶数，则把奇数位置替换为「把偶数位置替换为」，请用python为我实现"
      ],
      "metadata": {
        "id": "sAFytaQowe1n"
      }
    },
    {
      "cell_type": "code",
      "source": [
        "def change_quotes(text):\n",
        "    lines = text.split(\"\\n\")\n",
        "\n",
        "    quotes = ['“', '”', '\"']\n",
        "\n",
        "    new_text = \"\"\n",
        "    for line in lines:\n",
        "        if line.strip() == \"\":\n",
        "            continue\n",
        "        positions = []\n",
        "        for i, char in enumerate(line):\n",
        "            if char in quotes:\n",
        "                positions.append(i)\n",
        "        if len(positions) % 2 == 0:\n",
        "            for i in range(len(positions)):\n",
        "                if i % 2 != 0:\n",
        "                    line = line[:positions[i]] + '」' + line[positions[i]+1:]\n",
        "                else:\n",
        "                    line = line[:positions[i]] + '「' + line[positions[i]+1:]\n",
        "        new_text += line + \"\\n\"\n",
        "    return new_text\n"
      ],
      "metadata": {
        "id": "BZIjnTDVwZL4"
      },
      "execution_count": 57,
      "outputs": []
    },
    {
      "cell_type": "code",
      "source": [
        "prompt_templates = \"\"\"Proceed with the paragraph, maintaining the same style of language.\n",
        "Keep writing the paragraph, using a similar linguistic style.\n",
        "Continue the paragraph, ensuring the language style remains consistent.\n",
        "Go on with the paragraph in a similar style of language.\n",
        "Carry on writing the paragraph, sticking to the current language style.\n",
        "Extend the paragraph, keeping the language tone and style similar.\n",
        "Resume the paragraph, mirroring the existing language style.\n",
        "Continue crafting the paragraph, maintaining the established language style.\n",
        "Keep extending the paragraph, following the same style of language.\n",
        "Proceed with extending the paragraph, preserving the linguistic style.\n",
        "Please compose a paragraph maintaining a uniform style throughout.\n",
        "Write a paragraph ensuring that the style is consistent from start to finish.\n",
        "Your assignment is to craft a paragraph with a consistent stylistic approach.\n",
        "Create a paragraph where the style remains constant throughout.\n",
        "Construct a paragraph, keeping the writing style uniform in the entire passage.\n",
        "Develop a paragraph that demonstrates consistency in style.\n",
        "Focus on writing a paragraph with a steady and unvarying style.\n",
        "Your challenge is to author a paragraph that maintains a consistent style.\n",
        "Compose a paragraph, ensuring stylistic consistency throughout.\n",
        "Produce a paragraph in which the style does not vary from beginning to end.\n",
        "Your task is to write paragraph in a consistent style\n",
        "对于下面的Paragraph，使用一致性的风格进行续写\n",
        "请继续下面的段落，并保持原有的写作风格一致。\n",
        "在接下来的写作中，延续这一段落的风格，并进行扩展。\n",
        "针对以下段落，以相同的风格进行补充写作。\n",
        "续写下面的段落，并确保风格与原文保持一致。\n",
        "请以与下面段落相同的风格，进行创作性的续写。\n",
        "保持原段落的写作风格，对其进行扩展和深化。\n",
        "延续以下段落的风格，进行相应的续写工作。\n",
        "请在下面的段落后续写，确保风格的连贯性。\n",
        "继续这一段落的故事，注意保持原有风格的一致性。\n",
        "针对下文，以一种风格上连贯的方式进行创作性扩写。\"\"\"\n",
        "\n",
        "prompt_templates = prompt_templates.split(\"\\n\")\n",
        "\n",
        "for i in range(len(prompt_templates)):\n",
        "    prompt_templates[i] = prompt_templates[i].strip()"
      ],
      "metadata": {
        "id": "KRIPcXfDypSY"
      },
      "execution_count": 58,
      "outputs": []
    },
    {
      "cell_type": "code",
      "source": [
        "def segment_paragraph(text):\n",
        "    raw_lines = text.split(\"\\n\")\n",
        "    lines = []\n",
        "\n",
        "    all_token_count = 0\n",
        "\n",
        "    for line in raw_lines:\n",
        "        line = line.strip()\n",
        "        if line == \"\":\n",
        "            continue\n",
        "        n_token = len(enc.encode(line))\n",
        "        all_token_count += n_token\n",
        "\n",
        "        if n_token > 600:\n",
        "            segments = super_divide(line)\n",
        "            lines.extend(segments)\n",
        "        else:\n",
        "            lines.append(line)\n",
        "\n",
        "    seg_token = all_token_count // 3\n",
        "\n",
        "    if seg_token > 1500:\n",
        "        seg_token = 1500\n",
        "\n",
        "    current_seg_token = 0\n",
        "    current_seg = \"\"\n",
        "\n",
        "    segments = []\n",
        "    for line in lines:\n",
        "        line = line.strip('\"#-。，, \\n')\n",
        "        if line.strip() == \"\":\n",
        "            continue\n",
        "        n_token = len(enc.encode(line))\n",
        "        if current_seg_token + n_token > seg_token:\n",
        "            if current_seg_token > 0:\n",
        "                segments.append(current_seg.strip())\n",
        "                current_seg = line\n",
        "                current_seg_token = n_token\n",
        "        else:\n",
        "            current_seg += \"\\n\" + line\n",
        "            current_seg_token += n_token\n",
        "\n",
        "    if current_seg_token > 0:\n",
        "        segments.append(current_seg.strip())\n",
        "\n",
        "    return segments"
      ],
      "metadata": {
        "id": "qJ8eQujTz44g"
      },
      "execution_count": 59,
      "outputs": []
    },
    {
      "cell_type": "code",
      "source": [
        "def find_first_sep( text ):\n",
        "    first_sep = 9999\n",
        "    first_sep_second_choice = 9999\n",
        "\n",
        "    find_first_ket = text[:50].find(\"」\",0)\n",
        "\n",
        "    if find_first_ket > 0:\n",
        "        return find_first_ket\n",
        "\n",
        "    if len(text) <= 50:\n",
        "        return len(text)\n",
        "    for i, c in enumerate(text):\n",
        "        if i > 50:\n",
        "            break\n",
        "        if c in ['。','\\n']:\n",
        "            first_sep = min(first_sep, i)\n",
        "        elif c in ['\\n', '.', '，', '、', ';', ',', '；',\\\n",
        "                 '：', '！', '？', '(', ')', '”', '“', \\\n",
        "                 '’', '‘', '[', ']', '{', '}', '<', '>', \\\n",
        "                 '/', '''\\''', '|', '-', '=', '+', '*', '%', \\\n",
        "               '$', '''#''', '@', '&', '^', '_', '`', '~',\\\n",
        "                 '·', '…']:\n",
        "            first_sep_second_choice = min(first_sep_second_choice, i)\n",
        "\n",
        "    for i in range(5):\n",
        "        if len(text) > first_sep and text[first_sep+1] in ['\\n', '.', '，', '、', ';', ',', '；',\\\n",
        "                    '：', '！', '？', '(', ')', '”', '“', \\\n",
        "                    '’', '‘', '[', ']', '{', '}', '<', '>', \\\n",
        "                    '/', '''\\''', '|', '-', '=', '+', '*', '%', \\\n",
        "                '$', '''#''', '@', '&', '^', '_', '`', '~',\\\n",
        "                    '·', '…','「','」']:\n",
        "            first_sep += 1\n",
        "\n",
        "    if first_sep <= 50:\n",
        "        return first_sep\n",
        "    elif first_sep_second_choice <= 50:\n",
        "        return first_sep_second_choice\n",
        "    else:\n",
        "        return 50"
      ],
      "metadata": {
        "id": "huG54_dK-NXE"
      },
      "execution_count": 60,
      "outputs": []
    },
    {
      "cell_type": "code",
      "source": [
        "count = 0\n",
        "\n",
        "import random\n",
        "\n",
        "save_datas = []\n",
        "\n",
        "for i in tqdm(range(len(datas))):\n",
        "\n",
        "    source = datas[i][\"source\"]\n",
        "    # source_pool.add(source)\n",
        "\n",
        "    text = datas[i][\"text\"]\n",
        "    text = change_quotes( text )\n",
        "    segments = segment_paragraph( text )\n",
        "\n",
        "    if len(segments) < 3:\n",
        "        continue\n",
        "\n",
        "    context = random.choice(prompt_templates)\n",
        "\n",
        "    context += \"\\nParagraph:\\n###\\n\" + segments[0] + \"\\n###\\n\"\n",
        "\n",
        "\n",
        "\n",
        "    first_sep = find_first_sep(segments[1])\n",
        "\n",
        "    context += segments[1][:first_sep+1]\n",
        "\n",
        "    target = segments[1][first_sep+1:]\n",
        "\n",
        "    for j in range(2, len(segments)):\n",
        "        target += \"\\n\\n\" + segments[j]\n",
        "\n",
        "    save_data = {\n",
        "        \"context\": context,\n",
        "        \"target\": target\n",
        "    }\n",
        "\n",
        "    save_datas.append(save_data)\n"
      ],
      "metadata": {
        "colab": {
          "base_uri": "https://localhost:8080/"
        },
        "id": "gxHPWRf_wQOd",
        "outputId": "ec765a24-5179-48d7-aa0b-a69566531663"
      },
      "execution_count": 61,
      "outputs": [
        {
          "output_type": "stream",
          "name": "stderr",
          "text": [
            "100%|██████████| 5198/5198 [02:45<00:00, 31.41it/s]\n"
          ]
        }
      ]
    },
    {
      "cell_type": "code",
      "source": [
        "print(len(save_datas))"
      ],
      "metadata": {
        "colab": {
          "base_uri": "https://localhost:8080/"
        },
        "id": "fPEpg9UvETx4",
        "outputId": "efd16461-55ae-4e19-df69-ad6da74a5ff8"
      },
      "execution_count": 62,
      "outputs": [
        {
          "output_type": "stream",
          "name": "stdout",
          "text": [
            "1621\n"
          ]
        }
      ]
    },
    {
      "cell_type": "code",
      "source": [
        "print(save_datas[3]['context'])\n",
        "print(save_datas[3]['target'])"
      ],
      "metadata": {
        "colab": {
          "base_uri": "https://localhost:8080/"
        },
        "id": "TqDlwG8SEkH1",
        "outputId": "253eac53-7053-4ad5-ab18-83d7cc68e7f5"
      },
      "execution_count": 63,
      "outputs": [
        {
          "output_type": "stream",
          "name": "stdout",
          "text": [
            "Extend the paragraph, keeping the language tone and style similar.\n",
            "Paragraph:\n",
            "###\n",
            "安少廷手指夹着香烟茫然地站在街口，不知要走向何方或做什么。　　他突然开始怀疑他现在是不是正在一个梦中。他伸手在空中捞了一把，手中空空，什么也没有。　　这不就是梦吗？但他为何却隐隐觉得心口有些痛？　　黑夜正在降临，对面的‘元元’元宵店的灯光亮了起来。　　他想起了梦奴——他就是在这个元宵店的门口第一次听到她唤他为‘主人’。　　他心中的抽痛竟渐渐强烈起来，就象体内的麻药的药性已经开始慢慢减弱、消失，曾被麻醉住的痛感越来越强。　　梦奴不该走的。　　他这样反复地想着。他觉得他已经找到了他那本性的自我——那个具有暴虐本性的安少廷——那个只有在梦中受潜意识驱使时才会表现出来的安少廷。　　这不正是梦奴一直渴求寻找的真正的主人吗？　　她在临走前的确承认了的：\n",
            "###\n",
            "他是她真正的主人、永远的主人。\n",
            "　　可是，自己的心为何还会越来越痛呢？如果自己已经找到了那个凶残暴戾无情的自我，为何还会为了梦奴的离去而心痛呢？他应该不会感到痛苦的——他应该是无情无义、毫不怜悯的。　　也许他还依然没有抓住他那个自我？那个真正的安少廷？　　谁才是真正的安少廷？　　他忽然糊涂起来。　　如果梦游中的他才是真正的安少廷，那么，现在的他又是谁呢？　　也许，正象梦奴说的，他那梦游的世界才是真实的世界。　　也许，他现在只是在那个真实世界里做的一个梦——一个很长的梦。　　对！他现在正在这个梦中——只是在这个梦里他能感到痛苦。他现在走在街上，正是在他那个真实世界里的梦游之中。　　梦游是多么的可怕啊！\n",
            "\n",
            "他忽然害怕起来——难道他就这样一直活在这个可怕痛苦的梦中，再也醒不了了吗？　　他将几乎烫到他的手指的烟头扔到地上，使劲地猛地将它踩扁。似乎想将自己从梦境中踩醒。　　但他突然意识到梦游的人是不应该在梦中被唤醒的。一股寒气冲上他的脊背，让他的身子打了一个寒颤。　　他从怀中掏出烟盒，取出里面最后一根烟点燃，再将烟盒扔到地下，用脚踩住慢慢将它压扁碾烂。　　他既希望从这个梦游中快点醒来，有有些恐惧如果自己在这个梦游当中突然醒来会出现什么不良后果。现在他只能顺着自己的梦游走下去。　　他连吸了几口烟，听见远处飘来一阵熟悉的音乐：　　‘对面的女孩看过来，看过来、看过来，这里的表演很精彩，请你不要假装不理不采……　　我左看右看上看下看，原来每个女孩都不简单。我想了又想猜了又猜，女孩们的心思还真奇怪……’\n",
            "\n",
            "安少廷恍惚地听着这段歌声，却无法将这段歌声和自己联系起来。　　为何这么熟悉呢？　　他痛苦地摇了摇头，狠狠地连吸着手指间的烟，浓烈的烟呛得他猛烈地咳杖起来。　　他依然不适应香烟的苦涩的幸辣——但他还是一根接一根地抽着。也许正象那个医生说的，他潜意识里就是喜欢尝试这种平常他不曾尝过的苦涩的味道？　　谁也无法知道自己的潜意识真正是什么。　　但是他知道。　　他度步来到一个亮着灯的街头小店前，指着柜台里的烟对着里面说道：　　「请给我拿一盒万宝路。」　　一个小姐走到玻璃柜台的另一边，却没有打开柜台拿烟。　　他茫然地抬起头，只见一个披着长发的清纯的女孩，微低着头，两眼充盈着泪水，两片俏丽的嘴唇在恐惧中哆嗦发抖，洁白的牙齿的缝里艰难地挤出了一声：　　「主人……」　　作者：竹叶青\n"
          ]
        }
      ]
    },
    {
      "cell_type": "code",
      "source": [
        "import json\n",
        "\n",
        "save_name = \"/content/erotics.jsonl\"\n",
        "\n",
        "with open(save_name, 'w', encoding='utf8') as f:\n",
        "    for data in save_datas:\n",
        "        data['target'] = data['target'].strip()\n",
        "        json.dump(data, f, ensure_ascii=False)\n",
        "        f.write('\\n')"
      ],
      "metadata": {
        "id": "UJDMmlQg0ulC"
      },
      "execution_count": 67,
      "outputs": []
    },
    {
      "cell_type": "code",
      "source": [
        "print(len(save_datas))"
      ],
      "metadata": {
        "colab": {
          "base_uri": "https://localhost:8080/"
        },
        "id": "1XqAn14QFb-d",
        "outputId": "23ed73fc-25e8-4c4f-b4d6-94186a769ff8"
      },
      "execution_count": 68,
      "outputs": [
        {
          "output_type": "stream",
          "name": "stdout",
          "text": [
            "1621\n"
          ]
        }
      ]
    },
    {
      "cell_type": "code",
      "source": [],
      "metadata": {
        "id": "UglKKm1Wcmdr"
      },
      "execution_count": null,
      "outputs": []
    }
  ]
}