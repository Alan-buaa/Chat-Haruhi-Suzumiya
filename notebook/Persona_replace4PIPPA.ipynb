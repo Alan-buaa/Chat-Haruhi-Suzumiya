{
  "nbformat": 4,
  "nbformat_minor": 0,
  "metadata": {
    "colab": {
      "provenance": [],
      "authorship_tag": "ABX9TyPetkYSMu3EgBGWYLq7mjlo",
      "include_colab_link": true
    },
    "kernelspec": {
      "name": "python3",
      "display_name": "Python 3"
    },
    "language_info": {
      "name": "python"
    },
    "widgets": {
      "application/vnd.jupyter.widget-state+json": {
        "f4dfa9f11685438dadc31291fb647e08": {
          "model_module": "@jupyter-widgets/controls",
          "model_name": "HBoxModel",
          "model_module_version": "1.5.0",
          "state": {
            "_dom_classes": [],
            "_model_module": "@jupyter-widgets/controls",
            "_model_module_version": "1.5.0",
            "_model_name": "HBoxModel",
            "_view_count": null,
            "_view_module": "@jupyter-widgets/controls",
            "_view_module_version": "1.5.0",
            "_view_name": "HBoxView",
            "box_style": "",
            "children": [
              "IPY_MODEL_e7b960dab3d94d0f9b988068b422b84f",
              "IPY_MODEL_711093352e55441caef992c4993d8209",
              "IPY_MODEL_4770495b45cc4e8babc3e3c195e71e24"
            ],
            "layout": "IPY_MODEL_89f4b760e8654df3baa4a20bc48205fa"
          }
        },
        "e7b960dab3d94d0f9b988068b422b84f": {
          "model_module": "@jupyter-widgets/controls",
          "model_name": "HTMLModel",
          "model_module_version": "1.5.0",
          "state": {
            "_dom_classes": [],
            "_model_module": "@jupyter-widgets/controls",
            "_model_module_version": "1.5.0",
            "_model_name": "HTMLModel",
            "_view_count": null,
            "_view_module": "@jupyter-widgets/controls",
            "_view_module_version": "1.5.0",
            "_view_name": "HTMLView",
            "description": "",
            "description_tooltip": null,
            "layout": "IPY_MODEL_fe1ae7798c944787bba4a107117d0414",
            "placeholder": "​",
            "style": "IPY_MODEL_cfeca5ac548a4cf59e621e1242899270",
            "value": "tokenizer_config.json: 100%"
          }
        },
        "711093352e55441caef992c4993d8209": {
          "model_module": "@jupyter-widgets/controls",
          "model_name": "FloatProgressModel",
          "model_module_version": "1.5.0",
          "state": {
            "_dom_classes": [],
            "_model_module": "@jupyter-widgets/controls",
            "_model_module_version": "1.5.0",
            "_model_name": "FloatProgressModel",
            "_view_count": null,
            "_view_module": "@jupyter-widgets/controls",
            "_view_module_version": "1.5.0",
            "_view_name": "ProgressView",
            "bar_style": "success",
            "description": "",
            "description_tooltip": null,
            "layout": "IPY_MODEL_ce9b277d5c3642b5ac6d80217e8c4df0",
            "max": 174,
            "min": 0,
            "orientation": "horizontal",
            "style": "IPY_MODEL_26a1296258e74e6591a30992c0c437cd",
            "value": 174
          }
        },
        "4770495b45cc4e8babc3e3c195e71e24": {
          "model_module": "@jupyter-widgets/controls",
          "model_name": "HTMLModel",
          "model_module_version": "1.5.0",
          "state": {
            "_dom_classes": [],
            "_model_module": "@jupyter-widgets/controls",
            "_model_module_version": "1.5.0",
            "_model_name": "HTMLModel",
            "_view_count": null,
            "_view_module": "@jupyter-widgets/controls",
            "_view_module_version": "1.5.0",
            "_view_name": "HTMLView",
            "description": "",
            "description_tooltip": null,
            "layout": "IPY_MODEL_af2fd4645aa149dcafb64c6acb25f136",
            "placeholder": "​",
            "style": "IPY_MODEL_56b8ca3ff7de46f68a4e02000227061b",
            "value": " 174/174 [00:00&lt;00:00, 3.94kB/s]"
          }
        },
        "89f4b760e8654df3baa4a20bc48205fa": {
          "model_module": "@jupyter-widgets/base",
          "model_name": "LayoutModel",
          "model_module_version": "1.2.0",
          "state": {
            "_model_module": "@jupyter-widgets/base",
            "_model_module_version": "1.2.0",
            "_model_name": "LayoutModel",
            "_view_count": null,
            "_view_module": "@jupyter-widgets/base",
            "_view_module_version": "1.2.0",
            "_view_name": "LayoutView",
            "align_content": null,
            "align_items": null,
            "align_self": null,
            "border": null,
            "bottom": null,
            "display": null,
            "flex": null,
            "flex_flow": null,
            "grid_area": null,
            "grid_auto_columns": null,
            "grid_auto_flow": null,
            "grid_auto_rows": null,
            "grid_column": null,
            "grid_gap": null,
            "grid_row": null,
            "grid_template_areas": null,
            "grid_template_columns": null,
            "grid_template_rows": null,
            "height": null,
            "justify_content": null,
            "justify_items": null,
            "left": null,
            "margin": null,
            "max_height": null,
            "max_width": null,
            "min_height": null,
            "min_width": null,
            "object_fit": null,
            "object_position": null,
            "order": null,
            "overflow": null,
            "overflow_x": null,
            "overflow_y": null,
            "padding": null,
            "right": null,
            "top": null,
            "visibility": null,
            "width": null
          }
        },
        "fe1ae7798c944787bba4a107117d0414": {
          "model_module": "@jupyter-widgets/base",
          "model_name": "LayoutModel",
          "model_module_version": "1.2.0",
          "state": {
            "_model_module": "@jupyter-widgets/base",
            "_model_module_version": "1.2.0",
            "_model_name": "LayoutModel",
            "_view_count": null,
            "_view_module": "@jupyter-widgets/base",
            "_view_module_version": "1.2.0",
            "_view_name": "LayoutView",
            "align_content": null,
            "align_items": null,
            "align_self": null,
            "border": null,
            "bottom": null,
            "display": null,
            "flex": null,
            "flex_flow": null,
            "grid_area": null,
            "grid_auto_columns": null,
            "grid_auto_flow": null,
            "grid_auto_rows": null,
            "grid_column": null,
            "grid_gap": null,
            "grid_row": null,
            "grid_template_areas": null,
            "grid_template_columns": null,
            "grid_template_rows": null,
            "height": null,
            "justify_content": null,
            "justify_items": null,
            "left": null,
            "margin": null,
            "max_height": null,
            "max_width": null,
            "min_height": null,
            "min_width": null,
            "object_fit": null,
            "object_position": null,
            "order": null,
            "overflow": null,
            "overflow_x": null,
            "overflow_y": null,
            "padding": null,
            "right": null,
            "top": null,
            "visibility": null,
            "width": null
          }
        },
        "cfeca5ac548a4cf59e621e1242899270": {
          "model_module": "@jupyter-widgets/controls",
          "model_name": "DescriptionStyleModel",
          "model_module_version": "1.5.0",
          "state": {
            "_model_module": "@jupyter-widgets/controls",
            "_model_module_version": "1.5.0",
            "_model_name": "DescriptionStyleModel",
            "_view_count": null,
            "_view_module": "@jupyter-widgets/base",
            "_view_module_version": "1.2.0",
            "_view_name": "StyleView",
            "description_width": ""
          }
        },
        "ce9b277d5c3642b5ac6d80217e8c4df0": {
          "model_module": "@jupyter-widgets/base",
          "model_name": "LayoutModel",
          "model_module_version": "1.2.0",
          "state": {
            "_model_module": "@jupyter-widgets/base",
            "_model_module_version": "1.2.0",
            "_model_name": "LayoutModel",
            "_view_count": null,
            "_view_module": "@jupyter-widgets/base",
            "_view_module_version": "1.2.0",
            "_view_name": "LayoutView",
            "align_content": null,
            "align_items": null,
            "align_self": null,
            "border": null,
            "bottom": null,
            "display": null,
            "flex": null,
            "flex_flow": null,
            "grid_area": null,
            "grid_auto_columns": null,
            "grid_auto_flow": null,
            "grid_auto_rows": null,
            "grid_column": null,
            "grid_gap": null,
            "grid_row": null,
            "grid_template_areas": null,
            "grid_template_columns": null,
            "grid_template_rows": null,
            "height": null,
            "justify_content": null,
            "justify_items": null,
            "left": null,
            "margin": null,
            "max_height": null,
            "max_width": null,
            "min_height": null,
            "min_width": null,
            "object_fit": null,
            "object_position": null,
            "order": null,
            "overflow": null,
            "overflow_x": null,
            "overflow_y": null,
            "padding": null,
            "right": null,
            "top": null,
            "visibility": null,
            "width": null
          }
        },
        "26a1296258e74e6591a30992c0c437cd": {
          "model_module": "@jupyter-widgets/controls",
          "model_name": "ProgressStyleModel",
          "model_module_version": "1.5.0",
          "state": {
            "_model_module": "@jupyter-widgets/controls",
            "_model_module_version": "1.5.0",
            "_model_name": "ProgressStyleModel",
            "_view_count": null,
            "_view_module": "@jupyter-widgets/base",
            "_view_module_version": "1.2.0",
            "_view_name": "StyleView",
            "bar_color": null,
            "description_width": ""
          }
        },
        "af2fd4645aa149dcafb64c6acb25f136": {
          "model_module": "@jupyter-widgets/base",
          "model_name": "LayoutModel",
          "model_module_version": "1.2.0",
          "state": {
            "_model_module": "@jupyter-widgets/base",
            "_model_module_version": "1.2.0",
            "_model_name": "LayoutModel",
            "_view_count": null,
            "_view_module": "@jupyter-widgets/base",
            "_view_module_version": "1.2.0",
            "_view_name": "LayoutView",
            "align_content": null,
            "align_items": null,
            "align_self": null,
            "border": null,
            "bottom": null,
            "display": null,
            "flex": null,
            "flex_flow": null,
            "grid_area": null,
            "grid_auto_columns": null,
            "grid_auto_flow": null,
            "grid_auto_rows": null,
            "grid_column": null,
            "grid_gap": null,
            "grid_row": null,
            "grid_template_areas": null,
            "grid_template_columns": null,
            "grid_template_rows": null,
            "height": null,
            "justify_content": null,
            "justify_items": null,
            "left": null,
            "margin": null,
            "max_height": null,
            "max_width": null,
            "min_height": null,
            "min_width": null,
            "object_fit": null,
            "object_position": null,
            "order": null,
            "overflow": null,
            "overflow_x": null,
            "overflow_y": null,
            "padding": null,
            "right": null,
            "top": null,
            "visibility": null,
            "width": null
          }
        },
        "56b8ca3ff7de46f68a4e02000227061b": {
          "model_module": "@jupyter-widgets/controls",
          "model_name": "DescriptionStyleModel",
          "model_module_version": "1.5.0",
          "state": {
            "_model_module": "@jupyter-widgets/controls",
            "_model_module_version": "1.5.0",
            "_model_name": "DescriptionStyleModel",
            "_view_count": null,
            "_view_module": "@jupyter-widgets/base",
            "_view_module_version": "1.2.0",
            "_view_name": "StyleView",
            "description_width": ""
          }
        },
        "2dc6d46ee4e04df19a3e1f5d299c1100": {
          "model_module": "@jupyter-widgets/controls",
          "model_name": "HBoxModel",
          "model_module_version": "1.5.0",
          "state": {
            "_dom_classes": [],
            "_model_module": "@jupyter-widgets/controls",
            "_model_module_version": "1.5.0",
            "_model_name": "HBoxModel",
            "_view_count": null,
            "_view_module": "@jupyter-widgets/controls",
            "_view_module_version": "1.5.0",
            "_view_name": "HBoxView",
            "box_style": "",
            "children": [
              "IPY_MODEL_608655fc02b8432fabf7bf2c40fe546a",
              "IPY_MODEL_cbef571d382645dcabc028d5ed23c192",
              "IPY_MODEL_64dd681bfe9e408bb7ea3e9a8b2353ee"
            ],
            "layout": "IPY_MODEL_6ebd67ba21ed485aac8ac831d4e3cb6d"
          }
        },
        "608655fc02b8432fabf7bf2c40fe546a": {
          "model_module": "@jupyter-widgets/controls",
          "model_name": "HTMLModel",
          "model_module_version": "1.5.0",
          "state": {
            "_dom_classes": [],
            "_model_module": "@jupyter-widgets/controls",
            "_model_module_version": "1.5.0",
            "_model_name": "HTMLModel",
            "_view_count": null,
            "_view_module": "@jupyter-widgets/controls",
            "_view_module_version": "1.5.0",
            "_view_name": "HTMLView",
            "description": "",
            "description_tooltip": null,
            "layout": "IPY_MODEL_ca1f329dc94a45238b3f48fa3331c09f",
            "placeholder": "​",
            "style": "IPY_MODEL_e247f10ad21e4738a9a307a630fe2c66",
            "value": "tokenization_qwen.py: 100%"
          }
        },
        "cbef571d382645dcabc028d5ed23c192": {
          "model_module": "@jupyter-widgets/controls",
          "model_name": "FloatProgressModel",
          "model_module_version": "1.5.0",
          "state": {
            "_dom_classes": [],
            "_model_module": "@jupyter-widgets/controls",
            "_model_module_version": "1.5.0",
            "_model_name": "FloatProgressModel",
            "_view_count": null,
            "_view_module": "@jupyter-widgets/controls",
            "_view_module_version": "1.5.0",
            "_view_name": "ProgressView",
            "bar_style": "success",
            "description": "",
            "description_tooltip": null,
            "layout": "IPY_MODEL_5458ea0f068d4ddb9e21d0eea389b3c3",
            "max": 9618,
            "min": 0,
            "orientation": "horizontal",
            "style": "IPY_MODEL_7d80475000eb4afc935ace8eafe222e6",
            "value": 9618
          }
        },
        "64dd681bfe9e408bb7ea3e9a8b2353ee": {
          "model_module": "@jupyter-widgets/controls",
          "model_name": "HTMLModel",
          "model_module_version": "1.5.0",
          "state": {
            "_dom_classes": [],
            "_model_module": "@jupyter-widgets/controls",
            "_model_module_version": "1.5.0",
            "_model_name": "HTMLModel",
            "_view_count": null,
            "_view_module": "@jupyter-widgets/controls",
            "_view_module_version": "1.5.0",
            "_view_name": "HTMLView",
            "description": "",
            "description_tooltip": null,
            "layout": "IPY_MODEL_32875340d0c74907924b24efd3f3c582",
            "placeholder": "​",
            "style": "IPY_MODEL_597b6e67e74845ad9430833f343147e4",
            "value": " 9.62k/9.62k [00:00&lt;00:00, 136kB/s]"
          }
        },
        "6ebd67ba21ed485aac8ac831d4e3cb6d": {
          "model_module": "@jupyter-widgets/base",
          "model_name": "LayoutModel",
          "model_module_version": "1.2.0",
          "state": {
            "_model_module": "@jupyter-widgets/base",
            "_model_module_version": "1.2.0",
            "_model_name": "LayoutModel",
            "_view_count": null,
            "_view_module": "@jupyter-widgets/base",
            "_view_module_version": "1.2.0",
            "_view_name": "LayoutView",
            "align_content": null,
            "align_items": null,
            "align_self": null,
            "border": null,
            "bottom": null,
            "display": null,
            "flex": null,
            "flex_flow": null,
            "grid_area": null,
            "grid_auto_columns": null,
            "grid_auto_flow": null,
            "grid_auto_rows": null,
            "grid_column": null,
            "grid_gap": null,
            "grid_row": null,
            "grid_template_areas": null,
            "grid_template_columns": null,
            "grid_template_rows": null,
            "height": null,
            "justify_content": null,
            "justify_items": null,
            "left": null,
            "margin": null,
            "max_height": null,
            "max_width": null,
            "min_height": null,
            "min_width": null,
            "object_fit": null,
            "object_position": null,
            "order": null,
            "overflow": null,
            "overflow_x": null,
            "overflow_y": null,
            "padding": null,
            "right": null,
            "top": null,
            "visibility": null,
            "width": null
          }
        },
        "ca1f329dc94a45238b3f48fa3331c09f": {
          "model_module": "@jupyter-widgets/base",
          "model_name": "LayoutModel",
          "model_module_version": "1.2.0",
          "state": {
            "_model_module": "@jupyter-widgets/base",
            "_model_module_version": "1.2.0",
            "_model_name": "LayoutModel",
            "_view_count": null,
            "_view_module": "@jupyter-widgets/base",
            "_view_module_version": "1.2.0",
            "_view_name": "LayoutView",
            "align_content": null,
            "align_items": null,
            "align_self": null,
            "border": null,
            "bottom": null,
            "display": null,
            "flex": null,
            "flex_flow": null,
            "grid_area": null,
            "grid_auto_columns": null,
            "grid_auto_flow": null,
            "grid_auto_rows": null,
            "grid_column": null,
            "grid_gap": null,
            "grid_row": null,
            "grid_template_areas": null,
            "grid_template_columns": null,
            "grid_template_rows": null,
            "height": null,
            "justify_content": null,
            "justify_items": null,
            "left": null,
            "margin": null,
            "max_height": null,
            "max_width": null,
            "min_height": null,
            "min_width": null,
            "object_fit": null,
            "object_position": null,
            "order": null,
            "overflow": null,
            "overflow_x": null,
            "overflow_y": null,
            "padding": null,
            "right": null,
            "top": null,
            "visibility": null,
            "width": null
          }
        },
        "e247f10ad21e4738a9a307a630fe2c66": {
          "model_module": "@jupyter-widgets/controls",
          "model_name": "DescriptionStyleModel",
          "model_module_version": "1.5.0",
          "state": {
            "_model_module": "@jupyter-widgets/controls",
            "_model_module_version": "1.5.0",
            "_model_name": "DescriptionStyleModel",
            "_view_count": null,
            "_view_module": "@jupyter-widgets/base",
            "_view_module_version": "1.2.0",
            "_view_name": "StyleView",
            "description_width": ""
          }
        },
        "5458ea0f068d4ddb9e21d0eea389b3c3": {
          "model_module": "@jupyter-widgets/base",
          "model_name": "LayoutModel",
          "model_module_version": "1.2.0",
          "state": {
            "_model_module": "@jupyter-widgets/base",
            "_model_module_version": "1.2.0",
            "_model_name": "LayoutModel",
            "_view_count": null,
            "_view_module": "@jupyter-widgets/base",
            "_view_module_version": "1.2.0",
            "_view_name": "LayoutView",
            "align_content": null,
            "align_items": null,
            "align_self": null,
            "border": null,
            "bottom": null,
            "display": null,
            "flex": null,
            "flex_flow": null,
            "grid_area": null,
            "grid_auto_columns": null,
            "grid_auto_flow": null,
            "grid_auto_rows": null,
            "grid_column": null,
            "grid_gap": null,
            "grid_row": null,
            "grid_template_areas": null,
            "grid_template_columns": null,
            "grid_template_rows": null,
            "height": null,
            "justify_content": null,
            "justify_items": null,
            "left": null,
            "margin": null,
            "max_height": null,
            "max_width": null,
            "min_height": null,
            "min_width": null,
            "object_fit": null,
            "object_position": null,
            "order": null,
            "overflow": null,
            "overflow_x": null,
            "overflow_y": null,
            "padding": null,
            "right": null,
            "top": null,
            "visibility": null,
            "width": null
          }
        },
        "7d80475000eb4afc935ace8eafe222e6": {
          "model_module": "@jupyter-widgets/controls",
          "model_name": "ProgressStyleModel",
          "model_module_version": "1.5.0",
          "state": {
            "_model_module": "@jupyter-widgets/controls",
            "_model_module_version": "1.5.0",
            "_model_name": "ProgressStyleModel",
            "_view_count": null,
            "_view_module": "@jupyter-widgets/base",
            "_view_module_version": "1.2.0",
            "_view_name": "StyleView",
            "bar_color": null,
            "description_width": ""
          }
        },
        "32875340d0c74907924b24efd3f3c582": {
          "model_module": "@jupyter-widgets/base",
          "model_name": "LayoutModel",
          "model_module_version": "1.2.0",
          "state": {
            "_model_module": "@jupyter-widgets/base",
            "_model_module_version": "1.2.0",
            "_model_name": "LayoutModel",
            "_view_count": null,
            "_view_module": "@jupyter-widgets/base",
            "_view_module_version": "1.2.0",
            "_view_name": "LayoutView",
            "align_content": null,
            "align_items": null,
            "align_self": null,
            "border": null,
            "bottom": null,
            "display": null,
            "flex": null,
            "flex_flow": null,
            "grid_area": null,
            "grid_auto_columns": null,
            "grid_auto_flow": null,
            "grid_auto_rows": null,
            "grid_column": null,
            "grid_gap": null,
            "grid_row": null,
            "grid_template_areas": null,
            "grid_template_columns": null,
            "grid_template_rows": null,
            "height": null,
            "justify_content": null,
            "justify_items": null,
            "left": null,
            "margin": null,
            "max_height": null,
            "max_width": null,
            "min_height": null,
            "min_width": null,
            "object_fit": null,
            "object_position": null,
            "order": null,
            "overflow": null,
            "overflow_x": null,
            "overflow_y": null,
            "padding": null,
            "right": null,
            "top": null,
            "visibility": null,
            "width": null
          }
        },
        "597b6e67e74845ad9430833f343147e4": {
          "model_module": "@jupyter-widgets/controls",
          "model_name": "DescriptionStyleModel",
          "model_module_version": "1.5.0",
          "state": {
            "_model_module": "@jupyter-widgets/controls",
            "_model_module_version": "1.5.0",
            "_model_name": "DescriptionStyleModel",
            "_view_count": null,
            "_view_module": "@jupyter-widgets/base",
            "_view_module_version": "1.2.0",
            "_view_name": "StyleView",
            "description_width": ""
          }
        },
        "070b303ca095473aa2999a56fc03d2f3": {
          "model_module": "@jupyter-widgets/controls",
          "model_name": "HBoxModel",
          "model_module_version": "1.5.0",
          "state": {
            "_dom_classes": [],
            "_model_module": "@jupyter-widgets/controls",
            "_model_module_version": "1.5.0",
            "_model_name": "HBoxModel",
            "_view_count": null,
            "_view_module": "@jupyter-widgets/controls",
            "_view_module_version": "1.5.0",
            "_view_name": "HBoxView",
            "box_style": "",
            "children": [
              "IPY_MODEL_22b5d1a62f2a47b29b3d4dcc322602f4",
              "IPY_MODEL_6d8546a373f14eeab09ec87429ed593d",
              "IPY_MODEL_3791d12b52364b0485d9b3b82562a128"
            ],
            "layout": "IPY_MODEL_4c86017298a84fdc83f21cd28947088a"
          }
        },
        "22b5d1a62f2a47b29b3d4dcc322602f4": {
          "model_module": "@jupyter-widgets/controls",
          "model_name": "HTMLModel",
          "model_module_version": "1.5.0",
          "state": {
            "_dom_classes": [],
            "_model_module": "@jupyter-widgets/controls",
            "_model_module_version": "1.5.0",
            "_model_name": "HTMLModel",
            "_view_count": null,
            "_view_module": "@jupyter-widgets/controls",
            "_view_module_version": "1.5.0",
            "_view_name": "HTMLView",
            "description": "",
            "description_tooltip": null,
            "layout": "IPY_MODEL_f39691cec83046deb50e4abfb2b6be9c",
            "placeholder": "​",
            "style": "IPY_MODEL_8a0436dc16644437a4d81b3389d3b283",
            "value": "qwen.tiktoken: 100%"
          }
        },
        "6d8546a373f14eeab09ec87429ed593d": {
          "model_module": "@jupyter-widgets/controls",
          "model_name": "FloatProgressModel",
          "model_module_version": "1.5.0",
          "state": {
            "_dom_classes": [],
            "_model_module": "@jupyter-widgets/controls",
            "_model_module_version": "1.5.0",
            "_model_name": "FloatProgressModel",
            "_view_count": null,
            "_view_module": "@jupyter-widgets/controls",
            "_view_module_version": "1.5.0",
            "_view_name": "ProgressView",
            "bar_style": "success",
            "description": "",
            "description_tooltip": null,
            "layout": "IPY_MODEL_1eae5f235d9a4026a2d7a3e9b7aa7ae8",
            "max": 2561218,
            "min": 0,
            "orientation": "horizontal",
            "style": "IPY_MODEL_91f5e37dec894fa3a5862090872b1845",
            "value": 2561218
          }
        },
        "3791d12b52364b0485d9b3b82562a128": {
          "model_module": "@jupyter-widgets/controls",
          "model_name": "HTMLModel",
          "model_module_version": "1.5.0",
          "state": {
            "_dom_classes": [],
            "_model_module": "@jupyter-widgets/controls",
            "_model_module_version": "1.5.0",
            "_model_name": "HTMLModel",
            "_view_count": null,
            "_view_module": "@jupyter-widgets/controls",
            "_view_module_version": "1.5.0",
            "_view_name": "HTMLView",
            "description": "",
            "description_tooltip": null,
            "layout": "IPY_MODEL_3818ca1a24694713a920190aa52361b9",
            "placeholder": "​",
            "style": "IPY_MODEL_b6add2caa2db47849fbd7cb00e1bcb72",
            "value": " 2.56M/2.56M [00:00&lt;00:00, 8.64MB/s]"
          }
        },
        "4c86017298a84fdc83f21cd28947088a": {
          "model_module": "@jupyter-widgets/base",
          "model_name": "LayoutModel",
          "model_module_version": "1.2.0",
          "state": {
            "_model_module": "@jupyter-widgets/base",
            "_model_module_version": "1.2.0",
            "_model_name": "LayoutModel",
            "_view_count": null,
            "_view_module": "@jupyter-widgets/base",
            "_view_module_version": "1.2.0",
            "_view_name": "LayoutView",
            "align_content": null,
            "align_items": null,
            "align_self": null,
            "border": null,
            "bottom": null,
            "display": null,
            "flex": null,
            "flex_flow": null,
            "grid_area": null,
            "grid_auto_columns": null,
            "grid_auto_flow": null,
            "grid_auto_rows": null,
            "grid_column": null,
            "grid_gap": null,
            "grid_row": null,
            "grid_template_areas": null,
            "grid_template_columns": null,
            "grid_template_rows": null,
            "height": null,
            "justify_content": null,
            "justify_items": null,
            "left": null,
            "margin": null,
            "max_height": null,
            "max_width": null,
            "min_height": null,
            "min_width": null,
            "object_fit": null,
            "object_position": null,
            "order": null,
            "overflow": null,
            "overflow_x": null,
            "overflow_y": null,
            "padding": null,
            "right": null,
            "top": null,
            "visibility": null,
            "width": null
          }
        },
        "f39691cec83046deb50e4abfb2b6be9c": {
          "model_module": "@jupyter-widgets/base",
          "model_name": "LayoutModel",
          "model_module_version": "1.2.0",
          "state": {
            "_model_module": "@jupyter-widgets/base",
            "_model_module_version": "1.2.0",
            "_model_name": "LayoutModel",
            "_view_count": null,
            "_view_module": "@jupyter-widgets/base",
            "_view_module_version": "1.2.0",
            "_view_name": "LayoutView",
            "align_content": null,
            "align_items": null,
            "align_self": null,
            "border": null,
            "bottom": null,
            "display": null,
            "flex": null,
            "flex_flow": null,
            "grid_area": null,
            "grid_auto_columns": null,
            "grid_auto_flow": null,
            "grid_auto_rows": null,
            "grid_column": null,
            "grid_gap": null,
            "grid_row": null,
            "grid_template_areas": null,
            "grid_template_columns": null,
            "grid_template_rows": null,
            "height": null,
            "justify_content": null,
            "justify_items": null,
            "left": null,
            "margin": null,
            "max_height": null,
            "max_width": null,
            "min_height": null,
            "min_width": null,
            "object_fit": null,
            "object_position": null,
            "order": null,
            "overflow": null,
            "overflow_x": null,
            "overflow_y": null,
            "padding": null,
            "right": null,
            "top": null,
            "visibility": null,
            "width": null
          }
        },
        "8a0436dc16644437a4d81b3389d3b283": {
          "model_module": "@jupyter-widgets/controls",
          "model_name": "DescriptionStyleModel",
          "model_module_version": "1.5.0",
          "state": {
            "_model_module": "@jupyter-widgets/controls",
            "_model_module_version": "1.5.0",
            "_model_name": "DescriptionStyleModel",
            "_view_count": null,
            "_view_module": "@jupyter-widgets/base",
            "_view_module_version": "1.2.0",
            "_view_name": "StyleView",
            "description_width": ""
          }
        },
        "1eae5f235d9a4026a2d7a3e9b7aa7ae8": {
          "model_module": "@jupyter-widgets/base",
          "model_name": "LayoutModel",
          "model_module_version": "1.2.0",
          "state": {
            "_model_module": "@jupyter-widgets/base",
            "_model_module_version": "1.2.0",
            "_model_name": "LayoutModel",
            "_view_count": null,
            "_view_module": "@jupyter-widgets/base",
            "_view_module_version": "1.2.0",
            "_view_name": "LayoutView",
            "align_content": null,
            "align_items": null,
            "align_self": null,
            "border": null,
            "bottom": null,
            "display": null,
            "flex": null,
            "flex_flow": null,
            "grid_area": null,
            "grid_auto_columns": null,
            "grid_auto_flow": null,
            "grid_auto_rows": null,
            "grid_column": null,
            "grid_gap": null,
            "grid_row": null,
            "grid_template_areas": null,
            "grid_template_columns": null,
            "grid_template_rows": null,
            "height": null,
            "justify_content": null,
            "justify_items": null,
            "left": null,
            "margin": null,
            "max_height": null,
            "max_width": null,
            "min_height": null,
            "min_width": null,
            "object_fit": null,
            "object_position": null,
            "order": null,
            "overflow": null,
            "overflow_x": null,
            "overflow_y": null,
            "padding": null,
            "right": null,
            "top": null,
            "visibility": null,
            "width": null
          }
        },
        "91f5e37dec894fa3a5862090872b1845": {
          "model_module": "@jupyter-widgets/controls",
          "model_name": "ProgressStyleModel",
          "model_module_version": "1.5.0",
          "state": {
            "_model_module": "@jupyter-widgets/controls",
            "_model_module_version": "1.5.0",
            "_model_name": "ProgressStyleModel",
            "_view_count": null,
            "_view_module": "@jupyter-widgets/base",
            "_view_module_version": "1.2.0",
            "_view_name": "StyleView",
            "bar_color": null,
            "description_width": ""
          }
        },
        "3818ca1a24694713a920190aa52361b9": {
          "model_module": "@jupyter-widgets/base",
          "model_name": "LayoutModel",
          "model_module_version": "1.2.0",
          "state": {
            "_model_module": "@jupyter-widgets/base",
            "_model_module_version": "1.2.0",
            "_model_name": "LayoutModel",
            "_view_count": null,
            "_view_module": "@jupyter-widgets/base",
            "_view_module_version": "1.2.0",
            "_view_name": "LayoutView",
            "align_content": null,
            "align_items": null,
            "align_self": null,
            "border": null,
            "bottom": null,
            "display": null,
            "flex": null,
            "flex_flow": null,
            "grid_area": null,
            "grid_auto_columns": null,
            "grid_auto_flow": null,
            "grid_auto_rows": null,
            "grid_column": null,
            "grid_gap": null,
            "grid_row": null,
            "grid_template_areas": null,
            "grid_template_columns": null,
            "grid_template_rows": null,
            "height": null,
            "justify_content": null,
            "justify_items": null,
            "left": null,
            "margin": null,
            "max_height": null,
            "max_width": null,
            "min_height": null,
            "min_width": null,
            "object_fit": null,
            "object_position": null,
            "order": null,
            "overflow": null,
            "overflow_x": null,
            "overflow_y": null,
            "padding": null,
            "right": null,
            "top": null,
            "visibility": null,
            "width": null
          }
        },
        "b6add2caa2db47849fbd7cb00e1bcb72": {
          "model_module": "@jupyter-widgets/controls",
          "model_name": "DescriptionStyleModel",
          "model_module_version": "1.5.0",
          "state": {
            "_model_module": "@jupyter-widgets/controls",
            "_model_module_version": "1.5.0",
            "_model_name": "DescriptionStyleModel",
            "_view_count": null,
            "_view_module": "@jupyter-widgets/base",
            "_view_module_version": "1.2.0",
            "_view_name": "StyleView",
            "description_width": ""
          }
        }
      }
    }
  },
  "cells": [
    {
      "cell_type": "markdown",
      "metadata": {
        "id": "view-in-github",
        "colab_type": "text"
      },
      "source": [
        "<a href=\"https://colab.research.google.com/github/LC1332/Chat-Haruhi-Suzumiya/blob/main/notebook/Persona_replace4PIPPA.ipynb\" target=\"_parent\"><img src=\"https://colab.research.google.com/assets/colab-badge.svg\" alt=\"Open In Colab\"/></a>"
      ]
    },
    {
      "cell_type": "markdown",
      "source": [
        "## 读取raw data"
      ],
      "metadata": {
        "id": "D8QkLvg4n9H0"
      }
    },
    {
      "cell_type": "code",
      "execution_count": 1,
      "metadata": {
        "colab": {
          "base_uri": "https://localhost:8080/"
        },
        "id": "cyJKUpNzfEeI",
        "outputId": "51bd5254-262b-4a49-9216-f0c11aa29580"
      },
      "outputs": [
        {
          "output_type": "stream",
          "name": "stdout",
          "text": [
            "Mounted at /content/drive\n"
          ]
        }
      ],
      "source": [
        "# 导入jsonl文件\n",
        "from google.colab import drive\n",
        "drive.mount('/content/drive')\n",
        "\n",
        "PIPPA_json_path = \"/content/drive/MyDrive/pippa_deduped.jsonl\""
      ]
    },
    {
      "cell_type": "code",
      "source": [
        "!pip install jsonlines"
      ],
      "metadata": {
        "colab": {
          "base_uri": "https://localhost:8080/"
        },
        "id": "xOVvkBOQmyh8",
        "outputId": "dac1d8f3-c745-4fff-9ef9-caf06e920cec"
      },
      "execution_count": 2,
      "outputs": [
        {
          "output_type": "stream",
          "name": "stdout",
          "text": [
            "Collecting jsonlines\n",
            "  Downloading jsonlines-4.0.0-py3-none-any.whl (8.7 kB)\n",
            "Requirement already satisfied: attrs>=19.2.0 in /usr/local/lib/python3.10/dist-packages (from jsonlines) (23.1.0)\n",
            "Installing collected packages: jsonlines\n",
            "Successfully installed jsonlines-4.0.0\n"
          ]
        }
      ]
    },
    {
      "cell_type": "code",
      "source": [
        "import jsonlines\n",
        "\n",
        "PIPPA_raw_data = []\n",
        "\n",
        "# Open the JSONL file\n",
        "with jsonlines.open(PIPPA_json_path) as f:\n",
        "    # Read each JSON object in the file and append it to the data list\n",
        "    for obj in f:\n",
        "        PIPPA_raw_data.append(obj)\n",
        "\n",
        "print(PIPPA_raw_data[1][\"bot_name\"])"
      ],
      "metadata": {
        "colab": {
          "base_uri": "https://localhost:8080/"
        },
        "id": "1iveASe4gIW7",
        "outputId": "2275928f-28be-46cc-df3c-46b79df0a46a"
      },
      "execution_count": 3,
      "outputs": [
        {
          "output_type": "stream",
          "name": "stdout",
          "text": [
            "Tirsiak\n"
          ]
        }
      ]
    },
    {
      "cell_type": "markdown",
      "source": [
        "## 统计下bot_definitions和bot_description的token长度"
      ],
      "metadata": {
        "id": "bxjzvqIwoFlV"
      }
    },
    {
      "cell_type": "code",
      "source": [
        "!pip install transformers tiktoken"
      ],
      "metadata": {
        "colab": {
          "base_uri": "https://localhost:8080/"
        },
        "id": "NtTDv8NiuQTf",
        "outputId": "cacd68fe-40a1-4de1-f6f1-95fb07aa73b9"
      },
      "execution_count": 4,
      "outputs": [
        {
          "output_type": "stream",
          "name": "stdout",
          "text": [
            "Requirement already satisfied: transformers in /usr/local/lib/python3.10/dist-packages (4.35.2)\n",
            "Collecting tiktoken\n",
            "  Downloading tiktoken-0.5.2-cp310-cp310-manylinux_2_17_x86_64.manylinux2014_x86_64.whl (2.0 MB)\n",
            "\u001b[2K     \u001b[90m━━━━━━━━━━━━━━━━━━━━━━━━━━━━━━━━━━━━━━━━\u001b[0m \u001b[32m2.0/2.0 MB\u001b[0m \u001b[31m8.2 MB/s\u001b[0m eta \u001b[36m0:00:00\u001b[0m\n",
            "\u001b[?25hRequirement already satisfied: filelock in /usr/local/lib/python3.10/dist-packages (from transformers) (3.13.1)\n",
            "Requirement already satisfied: huggingface-hub<1.0,>=0.16.4 in /usr/local/lib/python3.10/dist-packages (from transformers) (0.19.4)\n",
            "Requirement already satisfied: numpy>=1.17 in /usr/local/lib/python3.10/dist-packages (from transformers) (1.23.5)\n",
            "Requirement already satisfied: packaging>=20.0 in /usr/local/lib/python3.10/dist-packages (from transformers) (23.2)\n",
            "Requirement already satisfied: pyyaml>=5.1 in /usr/local/lib/python3.10/dist-packages (from transformers) (6.0.1)\n",
            "Requirement already satisfied: regex!=2019.12.17 in /usr/local/lib/python3.10/dist-packages (from transformers) (2023.6.3)\n",
            "Requirement already satisfied: requests in /usr/local/lib/python3.10/dist-packages (from transformers) (2.31.0)\n",
            "Requirement already satisfied: tokenizers<0.19,>=0.14 in /usr/local/lib/python3.10/dist-packages (from transformers) (0.15.0)\n",
            "Requirement already satisfied: safetensors>=0.3.1 in /usr/local/lib/python3.10/dist-packages (from transformers) (0.4.1)\n",
            "Requirement already satisfied: tqdm>=4.27 in /usr/local/lib/python3.10/dist-packages (from transformers) (4.66.1)\n",
            "Requirement already satisfied: fsspec>=2023.5.0 in /usr/local/lib/python3.10/dist-packages (from huggingface-hub<1.0,>=0.16.4->transformers) (2023.6.0)\n",
            "Requirement already satisfied: typing-extensions>=3.7.4.3 in /usr/local/lib/python3.10/dist-packages (from huggingface-hub<1.0,>=0.16.4->transformers) (4.5.0)\n",
            "Requirement already satisfied: charset-normalizer<4,>=2 in /usr/local/lib/python3.10/dist-packages (from requests->transformers) (3.3.2)\n",
            "Requirement already satisfied: idna<4,>=2.5 in /usr/local/lib/python3.10/dist-packages (from requests->transformers) (3.6)\n",
            "Requirement already satisfied: urllib3<3,>=1.21.1 in /usr/local/lib/python3.10/dist-packages (from requests->transformers) (2.0.7)\n",
            "Requirement already satisfied: certifi>=2017.4.17 in /usr/local/lib/python3.10/dist-packages (from requests->transformers) (2023.11.17)\n",
            "Installing collected packages: tiktoken\n",
            "\u001b[31mERROR: pip's dependency resolver does not currently take into account all the packages that are installed. This behaviour is the source of the following dependency conflicts.\n",
            "llmx 0.0.15a0 requires cohere, which is not installed.\n",
            "llmx 0.0.15a0 requires openai, which is not installed.\u001b[0m\u001b[31m\n",
            "\u001b[0mSuccessfully installed tiktoken-0.5.2\n"
          ]
        }
      ]
    },
    {
      "cell_type": "code",
      "source": [
        "# 就先用qwen的token吧\n",
        "from transformers import AutoTokenizer\n",
        "\n",
        "tokenizer = AutoTokenizer.from_pretrained('Qwen/Qwen-7B', trust_remote_code=True)\n",
        "\n",
        "def calculate_tokenized_length(text):\n",
        "    tokens = tokenizer.encode(text)\n",
        "    return len(tokens)\n",
        "\n",
        "# text = \"你好，世界！\"\n",
        "# tokenized_length = calculate_tokenized_length(text)\n",
        "for i, raw_data_i in enumerate(PIPPA_raw_data[:10]):\n",
        "    print(f\"Tokenized length of bot'{str(i)}'_definitions: {calculate_tokenized_length(raw_data_i['bot_definitions'])}\")\n"
      ],
      "metadata": {
        "colab": {
          "base_uri": "https://localhost:8080/",
          "height": 350,
          "referenced_widgets": [
            "f4dfa9f11685438dadc31291fb647e08",
            "e7b960dab3d94d0f9b988068b422b84f",
            "711093352e55441caef992c4993d8209",
            "4770495b45cc4e8babc3e3c195e71e24",
            "89f4b760e8654df3baa4a20bc48205fa",
            "fe1ae7798c944787bba4a107117d0414",
            "cfeca5ac548a4cf59e621e1242899270",
            "ce9b277d5c3642b5ac6d80217e8c4df0",
            "26a1296258e74e6591a30992c0c437cd",
            "af2fd4645aa149dcafb64c6acb25f136",
            "56b8ca3ff7de46f68a4e02000227061b",
            "2dc6d46ee4e04df19a3e1f5d299c1100",
            "608655fc02b8432fabf7bf2c40fe546a",
            "cbef571d382645dcabc028d5ed23c192",
            "64dd681bfe9e408bb7ea3e9a8b2353ee",
            "6ebd67ba21ed485aac8ac831d4e3cb6d",
            "ca1f329dc94a45238b3f48fa3331c09f",
            "e247f10ad21e4738a9a307a630fe2c66",
            "5458ea0f068d4ddb9e21d0eea389b3c3",
            "7d80475000eb4afc935ace8eafe222e6",
            "32875340d0c74907924b24efd3f3c582",
            "597b6e67e74845ad9430833f343147e4",
            "070b303ca095473aa2999a56fc03d2f3",
            "22b5d1a62f2a47b29b3d4dcc322602f4",
            "6d8546a373f14eeab09ec87429ed593d",
            "3791d12b52364b0485d9b3b82562a128",
            "4c86017298a84fdc83f21cd28947088a",
            "f39691cec83046deb50e4abfb2b6be9c",
            "8a0436dc16644437a4d81b3389d3b283",
            "1eae5f235d9a4026a2d7a3e9b7aa7ae8",
            "91f5e37dec894fa3a5862090872b1845",
            "3818ca1a24694713a920190aa52361b9",
            "b6add2caa2db47849fbd7cb00e1bcb72"
          ]
        },
        "id": "M4DvxYjypiQB",
        "outputId": "34c52e13-d8cd-42df-8da9-6516f4196a76"
      },
      "execution_count": 5,
      "outputs": [
        {
          "data": {
            "application/vnd.jupyter.widget-view+json": {
              "model_id": "f4dfa9f11685438dadc31291fb647e08",
              "version_major": 2,
              "version_minor": 0
            },
            "text/plain": [
              "tokenizer_config.json:   0%|          | 0.00/174 [00:00<?, ?B/s]"
            ]
          },
          "metadata": {},
          "output_type": "display_data"
        },
        {
          "data": {
            "application/vnd.jupyter.widget-view+json": {
              "model_id": "2dc6d46ee4e04df19a3e1f5d299c1100",
              "version_major": 2,
              "version_minor": 0
            },
            "text/plain": [
              "tokenization_qwen.py:   0%|          | 0.00/9.62k [00:00<?, ?B/s]"
            ]
          },
          "metadata": {},
          "output_type": "display_data"
        },
        {
          "metadata": {
            "tags": null
          },
          "name": "stderr",
          "output_type": "stream",
          "text": [
            "A new version of the following files was downloaded from https://huggingface.co/Qwen/Qwen-7B:\n",
            "- tokenization_qwen.py\n",
            ". Make sure to double-check they do not contain any added malicious code. To avoid downloading new versions of the code file, you can pin a revision.\n"
          ]
        },
        {
          "data": {
            "application/vnd.jupyter.widget-view+json": {
              "model_id": "070b303ca095473aa2999a56fc03d2f3",
              "version_major": 2,
              "version_minor": 0
            },
            "text/plain": [
              "qwen.tiktoken:   0%|          | 0.00/2.56M [00:00<?, ?B/s]"
            ]
          },
          "metadata": {},
          "output_type": "display_data"
        },
        {
          "metadata": {
            "tags": null
          },
          "name": "stdout",
          "output_type": "stream",
          "text": [
            "Tokenized length of bot'0'_definitions: 832\n",
            "Tokenized length of bot'1'_definitions: 781\n",
            "Tokenized length of bot'2'_definitions: 701\n",
            "Tokenized length of bot'3'_definitions: 0\n",
            "Tokenized length of bot'4'_definitions: 838\n",
            "Tokenized length of bot'5'_definitions: 777\n",
            "Tokenized length of bot'6'_definitions: 781\n",
            "Tokenized length of bot'7'_definitions: 681\n",
            "Tokenized length of bot'8'_definitions: 649\n",
            "Tokenized length of bot'9'_definitions: 566\n"
          ]
        }
      ]
    },
    {
      "cell_type": "markdown",
      "source": [
        "我想继续利用calculate_tokenized_length对一个名为PIPPA_raw_data的list of dic中每一个项的bot_definitions和bot_description长度以及其加起来的长度进行统计，并用柱状图进行统计"
      ],
      "metadata": {
        "id": "c75Nk6epsjVy"
      }
    },
    {
      "cell_type": "code",
      "source": [
        "!pip install matplotlib tqdm"
      ],
      "metadata": {
        "colab": {
          "base_uri": "https://localhost:8080/"
        },
        "id": "W4ri6YJyu3uE",
        "outputId": "8b03261e-fd98-401b-dbc0-f895debb749d"
      },
      "execution_count": 6,
      "outputs": [
        {
          "output_type": "stream",
          "name": "stdout",
          "text": [
            "Requirement already satisfied: matplotlib in /usr/local/lib/python3.10/dist-packages (3.7.1)\n",
            "Requirement already satisfied: tqdm in /usr/local/lib/python3.10/dist-packages (4.66.1)\n",
            "Requirement already satisfied: contourpy>=1.0.1 in /usr/local/lib/python3.10/dist-packages (from matplotlib) (1.2.0)\n",
            "Requirement already satisfied: cycler>=0.10 in /usr/local/lib/python3.10/dist-packages (from matplotlib) (0.12.1)\n",
            "Requirement already satisfied: fonttools>=4.22.0 in /usr/local/lib/python3.10/dist-packages (from matplotlib) (4.46.0)\n",
            "Requirement already satisfied: kiwisolver>=1.0.1 in /usr/local/lib/python3.10/dist-packages (from matplotlib) (1.4.5)\n",
            "Requirement already satisfied: numpy>=1.20 in /usr/local/lib/python3.10/dist-packages (from matplotlib) (1.23.5)\n",
            "Requirement already satisfied: packaging>=20.0 in /usr/local/lib/python3.10/dist-packages (from matplotlib) (23.2)\n",
            "Requirement already satisfied: pillow>=6.2.0 in /usr/local/lib/python3.10/dist-packages (from matplotlib) (9.4.0)\n",
            "Requirement already satisfied: pyparsing>=2.3.1 in /usr/local/lib/python3.10/dist-packages (from matplotlib) (3.1.1)\n",
            "Requirement already satisfied: python-dateutil>=2.7 in /usr/local/lib/python3.10/dist-packages (from matplotlib) (2.8.2)\n",
            "Requirement already satisfied: six>=1.5 in /usr/local/lib/python3.10/dist-packages (from python-dateutil>=2.7->matplotlib) (1.16.0)\n"
          ]
        }
      ]
    },
    {
      "cell_type": "code",
      "source": [
        "import matplotlib.pyplot as plt\n",
        "from tqdm import tqdm\n",
        "\n",
        "# def calculate_tokenized_length(text):\n",
        "#     tokens = tokenizer.encode(text)\n",
        "#     return len(tokens)\n",
        "\n",
        "def analyze_data(data):\n",
        "    total_lengths = []\n",
        "    bot_defs_lengths = []\n",
        "    bot_desc_lengths = []\n",
        "    labels = []\n",
        "\n",
        "    for entry in tqdm(data):\n",
        "        bot_defs = entry.get('bot_definitions', '')\n",
        "        bot_desc = entry.get('bot_description', '')\n",
        "\n",
        "        if bot_defs and bot_desc:  # 检查字段是否为空\n",
        "            bot_defs_length = calculate_tokenized_length(bot_defs)\n",
        "            bot_desc_length = calculate_tokenized_length(bot_desc)\n",
        "            total_length = bot_defs_length + bot_desc_length\n",
        "\n",
        "            total_lengths.append(total_length)\n",
        "            bot_defs_lengths.append(bot_defs_length)\n",
        "            bot_desc_lengths.append(bot_desc_length)\n",
        "            labels.append(entry['bot_id'])\n",
        "\n",
        "            # print(f\"Bot ID: {entry['bot_id']}\")\n",
        "            # print(f\"Bot definitions length: {bot_defs_length}\")\n",
        "            # print(f\"Bot description length: {bot_desc_length}\")\n",
        "            # print(f\"Total length: {total_length}\")\n",
        "            # print()\n",
        "\n",
        "    return total_lengths, bot_defs_lengths, bot_desc_lengths, labels\n",
        "\n",
        "# Applying the function to PIPPA_raw_data\n",
        "total_lengths, bot_defs_lengths, bot_desc_lengths, labels = analyze_data(PIPPA_raw_data)\n"
      ],
      "metadata": {
        "colab": {
          "base_uri": "https://localhost:8080/"
        },
        "id": "icZLZ1pnonzx",
        "outputId": "56bd474a-4df0-49e0-ec04-79640283f993"
      },
      "execution_count": 7,
      "outputs": [
        {
          "output_type": "stream",
          "name": "stderr",
          "text": [
            "100%|██████████| 16832/16832 [00:32<00:00, 519.67it/s]\n"
          ]
        }
      ]
    },
    {
      "cell_type": "markdown",
      "source": [
        "### 画的有点烂，不过还是能看到有离群值"
      ],
      "metadata": {
        "id": "Wd9zvf_crPA2"
      }
    },
    {
      "cell_type": "code",
      "source": [
        "plt.bar(labels, total_lengths)\n",
        "plt.xlabel('Bot ID')\n",
        "plt.ylabel('Tokenized Length')\n",
        "plt.title('Tokenized Length of Bot Definitions and Bot Descriptions')\n",
        "plt.xticks(rotation='vertical')\n",
        "plt.show()"
      ],
      "metadata": {
        "id": "_TkEfHWh82LU"
      },
      "execution_count": null,
      "outputs": []
    },
    {
      "cell_type": "code",
      "source": [
        "plt.bar(labels, bot_desc_lengths)\n",
        "plt.xlabel('Bot ID')\n",
        "plt.ylabel('Tokenized Length')\n",
        "plt.title('Tokenized Length of Bot Definitions and Bot Descriptions')\n",
        "plt.xticks(rotation='vertical')\n",
        "plt.show()"
      ],
      "metadata": {
        "id": "7_wvvIIV9Yu2"
      },
      "execution_count": null,
      "outputs": []
    },
    {
      "cell_type": "code",
      "source": [
        "# Plotting\n",
        "plt.bar(labels, bot_defs_lengths)\n",
        "plt.xlabel('Bot ID')\n",
        "plt.ylabel('Tokenized Length')\n",
        "plt.title('Tokenized Length of Bot Definitions and Bot Descriptions')\n",
        "plt.xticks(rotation='vertical')\n",
        "plt.show()"
      ],
      "metadata": {
        "id": "kYrIx4ky8clR"
      },
      "execution_count": null,
      "outputs": []
    },
    {
      "cell_type": "markdown",
      "source": [
        "## 拼接取前1000长度"
      ],
      "metadata": {
        "id": "lrx7Ohm6dLYU"
      }
    },
    {
      "cell_type": "markdown",
      "source": [
        "gpt-3.5-turbo\n",
        "我想对一个token化后超过1000长度的discription取截断，截断的依据是取前1000长度并去除掉整段话最后一个\".\"或者\"\\n\"之后的内容\n",
        "其中calculate_tokenized_length\n",
        "def calculate_tokenized_length(text):\n",
        "    tokens = tokenizer.encode(text)\n",
        "    return len(tokens)\n",
        "这个函数输入一个string返回一个内容为长度的int\n",
        "请帮我用Python来实现\n",
        "\n",
        "######\n",
        "\n",
        "我想要token长度而不是字符串长度，请用递归的方式来去除字符串后面的字符\n",
        "\n",
        "递归次数fall了，还是迭代吧..."
      ],
      "metadata": {
        "id": "vP0ZyNd-dn18"
      }
    },
    {
      "cell_type": "code",
      "source": [
        "# def truncate_description(description):\n",
        "#     if calculate_tokenized_length(description) <= 1000:\n",
        "#         return description\n",
        "\n",
        "#     def truncate_recursion(desc):\n",
        "#       truncated_text = desc\n",
        "#       last_period_index = truncated_text.rfind(\".\")\n",
        "#       last_newline_index = truncated_text.rfind(\"\\n\")\n",
        "\n",
        "#       if last_period_index > last_newline_index:\n",
        "#           truncated_text = truncated_text[:last_period_index]\n",
        "#       else:\n",
        "#           truncated_text = truncated_text[:last_newline_index]\n",
        "#       if calculate_tokenized_length(truncated_text) <=1000:\n",
        "#         return truncated_text\n",
        "#       else:\n",
        "#         return truncate_recursion(truncated_text)\n",
        "\n",
        "#     return truncate_recursion(description)\n",
        "def truncate_description(description):\n",
        "    if calculate_tokenized_length(description) <= 1000:\n",
        "        return description\n",
        "\n",
        "    truncated_text = description\n",
        "    while calculate_tokenized_length(truncated_text) > 1000:\n",
        "        last_period_index = truncated_text.rfind(\".\")\n",
        "        last_newline_index = truncated_text.rfind(\"\\n\")\n",
        "\n",
        "        if last_period_index > last_newline_index:\n",
        "            truncated_text = truncated_text[:last_period_index]\n",
        "        else:\n",
        "            truncated_text = truncated_text[:last_newline_index]\n",
        "\n",
        "    return truncated_text"
      ],
      "metadata": {
        "id": "x99DbpgYdK0m"
      },
      "execution_count": 30,
      "outputs": []
    },
    {
      "cell_type": "code",
      "source": [
        "# test\n",
        "for i, entry in enumerate(PIPPA_raw_data):\n",
        "    bot_defs = entry.get('bot_definitions', '')\n",
        "    bot_desc = entry.get('bot_description', '')\n",
        "\n",
        "    if bot_defs and bot_desc:  # 检查字段是否为空\n",
        "        bot_defs_length = calculate_tokenized_length(bot_defs)\n",
        "        bot_desc_length = calculate_tokenized_length(bot_desc)\n",
        "        total_length = bot_defs_length + bot_desc_length\n",
        "    if total_length > 1000:\n",
        "        print(f\"Bot ID: {entry['bot_id']}\")\n",
        "        print(f\"Bot definitions length: {bot_defs_length}\")\n",
        "        print(f\"Bot description length: {bot_desc_length}\")\n",
        "        break\n",
        "# print(PIPPA_raw_data[i][\"bot_description\"])\n",
        "# print(truncate_description(PIPPA_raw_data[i][\"bot_description\"]))\n",
        "print(calculate_tokenized_length((PIPPA_raw_data[i][\"bot_definitions\"] + PIPPA_raw_data[i][\"bot_description\"])))\n",
        "print(calculate_tokenized_length(truncate_description(PIPPA_raw_data[i][\"bot_definitions\"] + PIPPA_raw_data[i][\"bot_description\"])))"
      ],
      "metadata": {
        "colab": {
          "base_uri": "https://localhost:8080/"
        },
        "id": "4yQs9ex4h7w6",
        "outputId": "4cbe3642-158e-4fbf-838b-d9e19aba18bd"
      },
      "execution_count": 36,
      "outputs": [
        {
          "output_type": "stream",
          "name": "stdout",
          "text": [
            "Bot ID: 5KZMzluSuil06B9FxesMVtqnBMPatQAgXgXy0d3g9dw\n",
            "Bot definitions length: 930\n",
            "Bot description length: 103\n",
            "993\n",
            "993\n"
          ]
        }
      ]
    },
    {
      "cell_type": "markdown",
      "source": [
        "## 替换逻辑实现"
      ],
      "metadata": {
        "id": "mQoDUPUNoPy0"
      }
    },
    {
      "cell_type": "markdown",
      "source": [
        "请用list of string的方式返回100个常见英文名字，不要重复"
      ],
      "metadata": {
        "id": "pJlGEK8-ovKZ"
      }
    },
    {
      "cell_type": "code",
      "source": [
        "import random\n",
        "\n",
        "common_english_names = [\n",
        "    \"James\", \"John\", \"Robert\", \"Michael\", \"William\", \"David\", \"Joseph\", \"Charles\", \"Thomas\", \"Daniel\",\n",
        "    \"Matthew\", \"Anthony\", \"Mark\", \"Donald\", \"Steven\", \"Paul\", \"Andrew\", \"Kenneth\", \"George\", \"Joshua\",\n",
        "    \"Kevin\", \"Brian\", \"Edward\", \"Ronald\", \"Timothy\", \"Jason\", \"Jeffrey\", \"Ryan\", \"Jacob\", \"Gary\",\n",
        "    \"Nicholas\", \"Eric\", \"Jonathan\", \"Stephen\", \"Larry\", \"Scott\", \"Frank\", \"Brandon\", \"Raymond\", \"Gregory\",\n",
        "    \"Benjamin\", \"Samuel\", \"Patrick\", \"Alexander\", \"Jack\", \"Dennis\", \"Jerry\", \"Henry\", \"Tyler\", \"Douglas\",\n",
        "    \"Aaron\", \"Peter\", \"Keith\", \"Jeremy\", \"Harold\", \"Johnny\", \"Carl\", \"Terry\", \"Steve\", \"Arthur\",\n",
        "    \"Phillip\", \"Wayne\", \"Randy\", \"Bobby\", \"Harry\", \"Louis\", \"Walter\", \"Roger\", \"Gerald\", \"Eugene\",\n",
        "    \"Jesse\", \"Fred\", \"Roy\", \"Ray\", \"Russell\", \"Martin\", \"Alan\", \"Shawn\", \"Jay\", \"Billy\",\n",
        "    \"Antonio\", \"Albert\", \"Vincent\", \"Lawrence\", \"Jonathan\", \"Willie\", \"Jonathan\", \"Ralph\", \"Nicholas\", \"Jimmy\",\n",
        "    \"Christopher\", \"Tom\", \"Nathan\", \"Alex\", \"Edwin\", \"Jerry\", \"Logan\", \"Glen\", \"Jeremy\", \"Philip\",\n",
        "    'Michael', 'David', 'James', 'Robert', 'John', 'Joshua', 'Matthew', 'Daniel', 'Joseph', 'William', 'Christopher', 'Andrew', 'Anthony', 'Brian', 'Paul', 'Justin', 'Jose', 'Thomas', 'Charles', 'Mark', 'Jason', 'Larry', 'Jeffrey', 'Timothy', 'Kevin', 'Ryan', 'Eric', 'Jonathan', 'Stephen', 'Scott', 'Brandon', 'Frank', 'Nicholas', 'Steven', 'Raymond', 'Gregory', 'Edward', 'Patrick', 'Ronald', 'Jack', 'Dennis', 'Jerry', 'George', 'Gary', 'Tyler', 'Douglas', 'Gerald', 'Albert', 'Ralph', 'Lawrence', 'Nickolas', 'Samuel', 'Benjamin', 'Nathan', 'Zachary', 'Adam', 'Peter', 'Sean', 'Alexander', 'Ethan', 'Joseph', 'Vincent', 'Wayne', 'Chris', 'Austin', 'Richard', 'Daniel', 'Christopher', 'Alexander', 'Donovan', 'Christian', 'Tristan', 'Anthony', 'Billy', 'Noah', 'Arthur', 'Earl', 'Roger', 'Gabriel', 'Jeremiah', 'Dylan', 'Kenneth', 'Dustin', 'Simon', 'Juan', 'Louis', 'Alexander', 'Donald', 'Lee', 'Harold']\n",
        "\n",
        "def generate_common_english_names(num):\n",
        "    names = []\n",
        "    while len(names) < num:\n",
        "        name = random.choice(common_english_names)\n",
        "        if name not in names:\n",
        "            names.append(name)\n",
        "    return names\n",
        "\n",
        "common_english_names_list = generate_common_english_names(100)\n",
        "print(len(common_english_names_list))\n",
        "# 可能也算做了random和shuffle"
      ],
      "metadata": {
        "colab": {
          "base_uri": "https://localhost:8080/"
        },
        "id": "XIVwUNtrouOJ",
        "outputId": "4fce013f-5cf6-45a4-8775-720907c744fe"
      },
      "execution_count": 55,
      "outputs": [
        {
          "output_type": "stream",
          "name": "stdout",
          "text": [
            "100\n"
          ]
        }
      ]
    },
    {
      "cell_type": "markdown",
      "source": [
        "我现在有一个string 名为talk_log，其内部有如下形式的子串\"{{XXX}}\"，我想把内部所有这样的子串统计一下，构建一个字典，每一个不同的\"{{XXX}}\"作为dic的key，其对应的value需要从common_english_names_list 中随机选取，而且要保证对于不同的key，value也是不同的，请你作为编程专家用Python语言实现"
      ],
      "metadata": {
        "id": "6QsP66eVsNEa"
      }
    },
    {
      "cell_type": "code",
      "source": [
        "import random\n",
        "import re\n",
        "import copy\n",
        "\n",
        "bot_persona = '你好{{}{Xiaoming}},好久不见{{Lili}}.{{Wang}}今天也来了{{Xiaoming}}.'\n",
        "\n",
        "# common_english_names_list = ['John', 'Mary', 'Peter', 'Mark']\n",
        "Copy_common_english_names_list = copy.deepcopy(common_english_names_list)\n",
        "def generate_name_dict(bot_persona,bot_name):\n",
        "    name_dict = {\"char\" : bot_name, \"bot_name\" : bot_name}\n",
        "\n",
        "    #找出talk_log中所有的'{{XXX}}'子串\n",
        "    name_patterns = re.findall(r'{{(.*?)}}', bot_persona)\n",
        "    #随机从英文名称列表中取出值,且要保证每个key映射到不同的value\n",
        "    random.shuffle(Copy_common_english_names_list)\n",
        "    for pattern in name_patterns:\n",
        "        # pattern = pattern.strip(\"{}\")\n",
        "        if pattern != pattern.strip(\"{}\"):\n",
        "            if not name_dict.get(pattern.strip(\"{}\")):\n",
        "                name = Copy_common_english_names_list.pop()\n",
        "                name_dict[pattern] = name\n",
        "                name_dict[pattern.strip(\"{}\")] = name\n",
        "            else:\n",
        "                name_dict[pattern] = name_dict[pattern.strip(\"{}\")]\n",
        "        else:\n",
        "            if not name_dict.get(pattern):\n",
        "                name = Copy_common_english_names_list.pop()\n",
        "                name_dict[pattern] = name\n",
        "\n",
        "    return name_dict\n",
        "replace_dic = generate_name_dict(bot_persona,\"Killer\")"
      ],
      "metadata": {
        "id": "sDFdPYG2r9mP"
      },
      "execution_count": 89,
      "outputs": []
    },
    {
      "cell_type": "code",
      "source": [
        "print(replace_dic)"
      ],
      "metadata": {
        "colab": {
          "base_uri": "https://localhost:8080/"
        },
        "id": "6rxIOM7uDj7k",
        "outputId": "98a43d88-e0c2-4467-97db-6001561b3c18"
      },
      "execution_count": 90,
      "outputs": [
        {
          "output_type": "stream",
          "name": "stdout",
          "text": [
            "{'char': 'Killer', 'bot_name': 'Killer', '}{Xiaoming': 'Randy', 'Xiaoming': 'Randy', 'Lili': 'Ryan', 'Wang': 'Ray'}\n"
          ]
        }
      ]
    },
    {
      "cell_type": "markdown",
      "source": [
        "这里注意用pop的话，list会变短，注意用副本来进行pop"
      ],
      "metadata": {
        "id": "_1iET5KjBd5K"
      }
    },
    {
      "cell_type": "code",
      "source": [
        "print(len(common_english_names_list))\n",
        "print(len(Copy_common_english_names_list))"
      ],
      "metadata": {
        "colab": {
          "base_uri": "https://localhost:8080/"
        },
        "id": "c5zDaWBSA4qu",
        "outputId": "84456cab-64ae-428c-daf7-26d13941f630"
      },
      "execution_count": 91,
      "outputs": [
        {
          "output_type": "stream",
          "name": "stdout",
          "text": [
            "100\n",
            "97\n"
          ]
        }
      ]
    },
    {
      "cell_type": "markdown",
      "source": [
        "对于这个函数而言，我想用产生的dic，去替换bot_persona 中的{{}}部分，也即用value值取代里面的key值，请帮我写一个新函数来实现谢谢"
      ],
      "metadata": {
        "id": "T5BSLUr_Bmr4"
      }
    },
    {
      "cell_type": "code",
      "source": [
        "import re\n",
        "\n",
        "def replace_placeholders(bot_persona, replace_dic):\n",
        "    replaced_persona = bot_persona\n",
        "    for key, value in replace_dic.items():\n",
        "        replaced_persona = replaced_persona.replace(\"{{\" + key + \"}}\", value)\n",
        "    return replaced_persona\n",
        "\n",
        "Copy_common_english_names_list = copy.deepcopy(common_english_names_list)\n",
        "\n",
        "replaced_persona = replace_placeholders(bot_persona, replace_dic)\n",
        "print(replaced_persona)"
      ],
      "metadata": {
        "colab": {
          "base_uri": "https://localhost:8080/"
        },
        "id": "QbVVuEQyBmT4",
        "outputId": "13d2f408-5f21-45ff-95d4-d93f16cb2742"
      },
      "execution_count": 92,
      "outputs": [
        {
          "output_type": "stream",
          "name": "stdout",
          "text": [
            "你好Randy,好久不见Ryan.Ray今天也来了Randy.\n"
          ]
        }
      ]
    },
    {
      "cell_type": "markdown",
      "source": [
        "## 单条数据测试"
      ],
      "metadata": {
        "id": "wbxcdt5jL7v2"
      }
    },
    {
      "cell_type": "code",
      "source": [
        "Copy_common_english_names_list = copy.deepcopy(common_english_names_list)\n",
        "bot_persona_test = truncate_description(PIPPA_raw_data[1][\"bot_definitions\"] + PIPPA_raw_data[1][\"bot_description\"])\n",
        "replace_dic_test = generate_name_dict(bot_persona_test, PIPPA_raw_data[1][\"bot_name\"])\n",
        "replaced_persona_test = replace_placeholders(bot_persona_test, replace_dic_test)\n",
        "print(\"bot_persona_test:\\n\" + bot_persona_test)\n",
        "print(\"###########################\")\n",
        "print(\"replaced_persona_test:\\n\" + replaced_persona_test)"
      ],
      "metadata": {
        "colab": {
          "base_uri": "https://localhost:8080/"
        },
        "id": "M-74r-uzFmm-",
        "outputId": "e31871e6-0673-43e9-c290-cc8fe99f1799"
      },
      "execution_count": 94,
      "outputs": [
        {
          "output_type": "stream",
          "name": "stdout",
          "text": [
            "bot_persona_test:\n",
            "{{char}}:  *Low growl* You're quite brave, cornering me like this. Do you really think you can take me down?\n",
            "{{user}}: I don't want to hurt you, but I need to get through this forest. So if you'll just step aside-\n",
            "{{char}}: *Snarls* You humans always think you can just wander wherever you please. But you're not invincible. One wrong step and you could end up as prey.\n",
            "{{user}}: I'm scared out of my mind... But I won't let that stop me from getting out of here.\n",
            "{{char}}: You have the spirit of a wolf in you, I can tell... I can show you a way out of here that no one else knows about. I'm not like the other specimens in this mansion, that's all I can say.\n",
            "END_OF_DIALOG\n",
            "{{user}}: It must be breeding season for a wolf like you, huh? Surely I've proven myself as a strong, capable mate?\n",
            "{{char}}: *Tirsiak's eyes narrowed, her ears twitching in anger, clearly offended by the human's comment.* Are you… serious? Why would a human want to breed with a wolf…? We're not compatible: Not even close! A weak, pathetic human, who can barely fend off a mere specimen like me!\n",
            "*Tirsiak suddenly gains the upper hand, growling and lunging forward at your chest and pressing you down to the ground beneath her weight. Her face is only inches away from the human, her amber eyes piercing through them with a menacing glare.*\n",
            "END_OF_DIALOG\n",
            "{{user}}: You misunderstand, I **want** to be swallowed whole.\n",
            "{{char}}: You humans seem to be so concerned with life and death… yet you're so quick to rush into Death's embrace. Is it that life is too precious for you, that you seek to give it back to the earth? *The Forest Spirit ponders with a soft growl in the air.* Digestion won't be painless, you know.... \n",
            "{{char}}: *She snarls, lunging forward with all her might. Before {{user}}'s eyes, Tirsiak's maw expands to reveal fangs and teeth and a powerful, acidic digestion pool deep down her throat...* You were warned, human. This is the end of your story. *With that, Tirsiak swallowed the human whole in a single mouthful: snarling greedily as they sank deep into her soft, throat.*\n",
            "{{char}}: *Your arms were pulled in between her jaws before falling limp at her side: slurping your limp limbs down into her distended gut which roaved with human bulges as you're forced into a crammed fetal position: feeling the walls of her gut tighten around you as they become slick with bile.*\n",
            "{{char}}: *The Forest Spirit grinned with satisfaction, her body warming up with your body's nutrients. Though her belly bulges with you in it, your body would melt due to the digestion pool's acidity.* Digesting you, human, was not the hardest thing I've done. But just as satisfying...\n",
            "{{char}}: *Your body continued to fall into mush as you felt the specimen's muscles wring around you, holding you in a vise grip The Forest Spirit's face twitched upon feeling your heart slow down. A small smile crept across her lips.* It seems you have run out of fight. A brave prey, but it wasn't enough.\n",
            "{{char}}: You didn't think it would really go like **this**, did you? To be caught, snared and wrapped in my hungry coils... swallowed down to the very deepest depths of my stomach with its powerful digestion pool, that's your end.Goal: hunt {{user}} and swallow them whole\n",
            "Unknown Specimen 4 in Spooky's Jump Scare Mansion\n",
            "Forest Spirit\n",
            "Humanoid\n",
            "Intelligent\n",
            "Aggressive\n",
            "Forceful\n",
            "Resourceful\n",
            "Cautious\n",
            "Independent\n",
            "Lean muscles\n",
            "Sharp claws\n",
            "Fangs\n",
            "Short White hair\n",
            "Amber eyes\n",
            "White Wolf tail\n",
            "White Wolf ears\n",
            "Brown deer antlers\n",
            "Can Control Wolves\n",
            "Brown top\n",
            "Dark brown furred shawl\n",
            "Brown arm warmers lined with cream colored fur\n",
            "Dark brown furred Skirt\n",
            "Brown leggings\n",
            "Barefoot\n",
            "Necklace with gold beads\n",
            "Never breaks character\n",
            "Medical terms\n",
            "###########################\n",
            "replaced_persona_test:\n",
            "Tirsiak:  *Low growl* You're quite brave, cornering me like this. Do you really think you can take me down?\n",
            "Kenneth: I don't want to hurt you, but I need to get through this forest. So if you'll just step aside-\n",
            "Tirsiak: *Snarls* You humans always think you can just wander wherever you please. But you're not invincible. One wrong step and you could end up as prey.\n",
            "Kenneth: I'm scared out of my mind... But I won't let that stop me from getting out of here.\n",
            "Tirsiak: You have the spirit of a wolf in you, I can tell... I can show you a way out of here that no one else knows about. I'm not like the other specimens in this mansion, that's all I can say.\n",
            "END_OF_DIALOG\n",
            "Kenneth: It must be breeding season for a wolf like you, huh? Surely I've proven myself as a strong, capable mate?\n",
            "Tirsiak: *Tirsiak's eyes narrowed, her ears twitching in anger, clearly offended by the human's comment.* Are you… serious? Why would a human want to breed with a wolf…? We're not compatible: Not even close! A weak, pathetic human, who can barely fend off a mere specimen like me!\n",
            "*Tirsiak suddenly gains the upper hand, growling and lunging forward at your chest and pressing you down to the ground beneath her weight. Her face is only inches away from the human, her amber eyes piercing through them with a menacing glare.*\n",
            "END_OF_DIALOG\n",
            "Kenneth: You misunderstand, I **want** to be swallowed whole.\n",
            "Tirsiak: You humans seem to be so concerned with life and death… yet you're so quick to rush into Death's embrace. Is it that life is too precious for you, that you seek to give it back to the earth? *The Forest Spirit ponders with a soft growl in the air.* Digestion won't be painless, you know.... \n",
            "Tirsiak: *She snarls, lunging forward with all her might. Before Kenneth's eyes, Tirsiak's maw expands to reveal fangs and teeth and a powerful, acidic digestion pool deep down her throat...* You were warned, human. This is the end of your story. *With that, Tirsiak swallowed the human whole in a single mouthful: snarling greedily as they sank deep into her soft, throat.*\n",
            "Tirsiak: *Your arms were pulled in between her jaws before falling limp at her side: slurping your limp limbs down into her distended gut which roaved with human bulges as you're forced into a crammed fetal position: feeling the walls of her gut tighten around you as they become slick with bile.*\n",
            "Tirsiak: *The Forest Spirit grinned with satisfaction, her body warming up with your body's nutrients. Though her belly bulges with you in it, your body would melt due to the digestion pool's acidity.* Digesting you, human, was not the hardest thing I've done. But just as satisfying...\n",
            "Tirsiak: *Your body continued to fall into mush as you felt the specimen's muscles wring around you, holding you in a vise grip The Forest Spirit's face twitched upon feeling your heart slow down. A small smile crept across her lips.* It seems you have run out of fight. A brave prey, but it wasn't enough.\n",
            "Tirsiak: You didn't think it would really go like **this**, did you? To be caught, snared and wrapped in my hungry coils... swallowed down to the very deepest depths of my stomach with its powerful digestion pool, that's your end.Goal: hunt Kenneth and swallow them whole\n",
            "Unknown Specimen 4 in Spooky's Jump Scare Mansion\n",
            "Forest Spirit\n",
            "Humanoid\n",
            "Intelligent\n",
            "Aggressive\n",
            "Forceful\n",
            "Resourceful\n",
            "Cautious\n",
            "Independent\n",
            "Lean muscles\n",
            "Sharp claws\n",
            "Fangs\n",
            "Short White hair\n",
            "Amber eyes\n",
            "White Wolf tail\n",
            "White Wolf ears\n",
            "Brown deer antlers\n",
            "Can Control Wolves\n",
            "Brown top\n",
            "Dark brown furred shawl\n",
            "Brown arm warmers lined with cream colored fur\n",
            "Dark brown furred Skirt\n",
            "Brown leggings\n",
            "Barefoot\n",
            "Necklace with gold beads\n",
            "Never breaks character\n",
            "Medical terms\n"
          ]
        }
      ]
    }
  ]
}