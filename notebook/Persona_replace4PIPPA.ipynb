{
  "nbformat": 4,
  "nbformat_minor": 0,
  "metadata": {
    "colab": {
      "provenance": [],
      "authorship_tag": "ABX9TyNVhKQ2u/Z2ggguS4AgeJBz",
      "include_colab_link": true
    },
    "kernelspec": {
      "name": "python3",
      "display_name": "Python 3"
    },
    "language_info": {
      "name": "python"
    },
    "widgets": {
      "application/vnd.jupyter.widget-state+json": {
        "ce757ead15a74b428087afe586a4b743": {
          "model_module": "@jupyter-widgets/controls",
          "model_name": "HBoxModel",
          "model_module_version": "1.5.0",
          "state": {
            "_dom_classes": [],
            "_model_module": "@jupyter-widgets/controls",
            "_model_module_version": "1.5.0",
            "_model_name": "HBoxModel",
            "_view_count": null,
            "_view_module": "@jupyter-widgets/controls",
            "_view_module_version": "1.5.0",
            "_view_name": "HBoxView",
            "box_style": "",
            "children": [
              "IPY_MODEL_2def7cad954141adad9e95eb6137f983",
              "IPY_MODEL_316c65303e084f3b9411b1ee8eeda843",
              "IPY_MODEL_104c0ddbda3d41c39a142306701a052f"
            ],
            "layout": "IPY_MODEL_dc17ca85c77c4592bd7bf824f20ce9ab"
          }
        },
        "2def7cad954141adad9e95eb6137f983": {
          "model_module": "@jupyter-widgets/controls",
          "model_name": "HTMLModel",
          "model_module_version": "1.5.0",
          "state": {
            "_dom_classes": [],
            "_model_module": "@jupyter-widgets/controls",
            "_model_module_version": "1.5.0",
            "_model_name": "HTMLModel",
            "_view_count": null,
            "_view_module": "@jupyter-widgets/controls",
            "_view_module_version": "1.5.0",
            "_view_name": "HTMLView",
            "description": "",
            "description_tooltip": null,
            "layout": "IPY_MODEL_ae1a59dce7e14f8da5cc18c1c7ce7674",
            "placeholder": "​",
            "style": "IPY_MODEL_fa710bb2293b46beb2475755d288756d",
            "value": "tokenizer_config.json: 100%"
          }
        },
        "316c65303e084f3b9411b1ee8eeda843": {
          "model_module": "@jupyter-widgets/controls",
          "model_name": "FloatProgressModel",
          "model_module_version": "1.5.0",
          "state": {
            "_dom_classes": [],
            "_model_module": "@jupyter-widgets/controls",
            "_model_module_version": "1.5.0",
            "_model_name": "FloatProgressModel",
            "_view_count": null,
            "_view_module": "@jupyter-widgets/controls",
            "_view_module_version": "1.5.0",
            "_view_name": "ProgressView",
            "bar_style": "success",
            "description": "",
            "description_tooltip": null,
            "layout": "IPY_MODEL_e2bcc50987744ccb93a38f7eb132e6d1",
            "max": 174,
            "min": 0,
            "orientation": "horizontal",
            "style": "IPY_MODEL_37be28691f734b31b891f73388182a09",
            "value": 174
          }
        },
        "104c0ddbda3d41c39a142306701a052f": {
          "model_module": "@jupyter-widgets/controls",
          "model_name": "HTMLModel",
          "model_module_version": "1.5.0",
          "state": {
            "_dom_classes": [],
            "_model_module": "@jupyter-widgets/controls",
            "_model_module_version": "1.5.0",
            "_model_name": "HTMLModel",
            "_view_count": null,
            "_view_module": "@jupyter-widgets/controls",
            "_view_module_version": "1.5.0",
            "_view_name": "HTMLView",
            "description": "",
            "description_tooltip": null,
            "layout": "IPY_MODEL_5f6d731d44c14263bde81dd0842a736d",
            "placeholder": "​",
            "style": "IPY_MODEL_0a813433bc1c4657a0ad349eeb28a934",
            "value": " 174/174 [00:00&lt;00:00, 2.98kB/s]"
          }
        },
        "dc17ca85c77c4592bd7bf824f20ce9ab": {
          "model_module": "@jupyter-widgets/base",
          "model_name": "LayoutModel",
          "model_module_version": "1.2.0",
          "state": {
            "_model_module": "@jupyter-widgets/base",
            "_model_module_version": "1.2.0",
            "_model_name": "LayoutModel",
            "_view_count": null,
            "_view_module": "@jupyter-widgets/base",
            "_view_module_version": "1.2.0",
            "_view_name": "LayoutView",
            "align_content": null,
            "align_items": null,
            "align_self": null,
            "border": null,
            "bottom": null,
            "display": null,
            "flex": null,
            "flex_flow": null,
            "grid_area": null,
            "grid_auto_columns": null,
            "grid_auto_flow": null,
            "grid_auto_rows": null,
            "grid_column": null,
            "grid_gap": null,
            "grid_row": null,
            "grid_template_areas": null,
            "grid_template_columns": null,
            "grid_template_rows": null,
            "height": null,
            "justify_content": null,
            "justify_items": null,
            "left": null,
            "margin": null,
            "max_height": null,
            "max_width": null,
            "min_height": null,
            "min_width": null,
            "object_fit": null,
            "object_position": null,
            "order": null,
            "overflow": null,
            "overflow_x": null,
            "overflow_y": null,
            "padding": null,
            "right": null,
            "top": null,
            "visibility": null,
            "width": null
          }
        },
        "ae1a59dce7e14f8da5cc18c1c7ce7674": {
          "model_module": "@jupyter-widgets/base",
          "model_name": "LayoutModel",
          "model_module_version": "1.2.0",
          "state": {
            "_model_module": "@jupyter-widgets/base",
            "_model_module_version": "1.2.0",
            "_model_name": "LayoutModel",
            "_view_count": null,
            "_view_module": "@jupyter-widgets/base",
            "_view_module_version": "1.2.0",
            "_view_name": "LayoutView",
            "align_content": null,
            "align_items": null,
            "align_self": null,
            "border": null,
            "bottom": null,
            "display": null,
            "flex": null,
            "flex_flow": null,
            "grid_area": null,
            "grid_auto_columns": null,
            "grid_auto_flow": null,
            "grid_auto_rows": null,
            "grid_column": null,
            "grid_gap": null,
            "grid_row": null,
            "grid_template_areas": null,
            "grid_template_columns": null,
            "grid_template_rows": null,
            "height": null,
            "justify_content": null,
            "justify_items": null,
            "left": null,
            "margin": null,
            "max_height": null,
            "max_width": null,
            "min_height": null,
            "min_width": null,
            "object_fit": null,
            "object_position": null,
            "order": null,
            "overflow": null,
            "overflow_x": null,
            "overflow_y": null,
            "padding": null,
            "right": null,
            "top": null,
            "visibility": null,
            "width": null
          }
        },
        "fa710bb2293b46beb2475755d288756d": {
          "model_module": "@jupyter-widgets/controls",
          "model_name": "DescriptionStyleModel",
          "model_module_version": "1.5.0",
          "state": {
            "_model_module": "@jupyter-widgets/controls",
            "_model_module_version": "1.5.0",
            "_model_name": "DescriptionStyleModel",
            "_view_count": null,
            "_view_module": "@jupyter-widgets/base",
            "_view_module_version": "1.2.0",
            "_view_name": "StyleView",
            "description_width": ""
          }
        },
        "e2bcc50987744ccb93a38f7eb132e6d1": {
          "model_module": "@jupyter-widgets/base",
          "model_name": "LayoutModel",
          "model_module_version": "1.2.0",
          "state": {
            "_model_module": "@jupyter-widgets/base",
            "_model_module_version": "1.2.0",
            "_model_name": "LayoutModel",
            "_view_count": null,
            "_view_module": "@jupyter-widgets/base",
            "_view_module_version": "1.2.0",
            "_view_name": "LayoutView",
            "align_content": null,
            "align_items": null,
            "align_self": null,
            "border": null,
            "bottom": null,
            "display": null,
            "flex": null,
            "flex_flow": null,
            "grid_area": null,
            "grid_auto_columns": null,
            "grid_auto_flow": null,
            "grid_auto_rows": null,
            "grid_column": null,
            "grid_gap": null,
            "grid_row": null,
            "grid_template_areas": null,
            "grid_template_columns": null,
            "grid_template_rows": null,
            "height": null,
            "justify_content": null,
            "justify_items": null,
            "left": null,
            "margin": null,
            "max_height": null,
            "max_width": null,
            "min_height": null,
            "min_width": null,
            "object_fit": null,
            "object_position": null,
            "order": null,
            "overflow": null,
            "overflow_x": null,
            "overflow_y": null,
            "padding": null,
            "right": null,
            "top": null,
            "visibility": null,
            "width": null
          }
        },
        "37be28691f734b31b891f73388182a09": {
          "model_module": "@jupyter-widgets/controls",
          "model_name": "ProgressStyleModel",
          "model_module_version": "1.5.0",
          "state": {
            "_model_module": "@jupyter-widgets/controls",
            "_model_module_version": "1.5.0",
            "_model_name": "ProgressStyleModel",
            "_view_count": null,
            "_view_module": "@jupyter-widgets/base",
            "_view_module_version": "1.2.0",
            "_view_name": "StyleView",
            "bar_color": null,
            "description_width": ""
          }
        },
        "5f6d731d44c14263bde81dd0842a736d": {
          "model_module": "@jupyter-widgets/base",
          "model_name": "LayoutModel",
          "model_module_version": "1.2.0",
          "state": {
            "_model_module": "@jupyter-widgets/base",
            "_model_module_version": "1.2.0",
            "_model_name": "LayoutModel",
            "_view_count": null,
            "_view_module": "@jupyter-widgets/base",
            "_view_module_version": "1.2.0",
            "_view_name": "LayoutView",
            "align_content": null,
            "align_items": null,
            "align_self": null,
            "border": null,
            "bottom": null,
            "display": null,
            "flex": null,
            "flex_flow": null,
            "grid_area": null,
            "grid_auto_columns": null,
            "grid_auto_flow": null,
            "grid_auto_rows": null,
            "grid_column": null,
            "grid_gap": null,
            "grid_row": null,
            "grid_template_areas": null,
            "grid_template_columns": null,
            "grid_template_rows": null,
            "height": null,
            "justify_content": null,
            "justify_items": null,
            "left": null,
            "margin": null,
            "max_height": null,
            "max_width": null,
            "min_height": null,
            "min_width": null,
            "object_fit": null,
            "object_position": null,
            "order": null,
            "overflow": null,
            "overflow_x": null,
            "overflow_y": null,
            "padding": null,
            "right": null,
            "top": null,
            "visibility": null,
            "width": null
          }
        },
        "0a813433bc1c4657a0ad349eeb28a934": {
          "model_module": "@jupyter-widgets/controls",
          "model_name": "DescriptionStyleModel",
          "model_module_version": "1.5.0",
          "state": {
            "_model_module": "@jupyter-widgets/controls",
            "_model_module_version": "1.5.0",
            "_model_name": "DescriptionStyleModel",
            "_view_count": null,
            "_view_module": "@jupyter-widgets/base",
            "_view_module_version": "1.2.0",
            "_view_name": "StyleView",
            "description_width": ""
          }
        },
        "19fcfdfe482947a0b6b982091f0b74e9": {
          "model_module": "@jupyter-widgets/controls",
          "model_name": "HBoxModel",
          "model_module_version": "1.5.0",
          "state": {
            "_dom_classes": [],
            "_model_module": "@jupyter-widgets/controls",
            "_model_module_version": "1.5.0",
            "_model_name": "HBoxModel",
            "_view_count": null,
            "_view_module": "@jupyter-widgets/controls",
            "_view_module_version": "1.5.0",
            "_view_name": "HBoxView",
            "box_style": "",
            "children": [
              "IPY_MODEL_d4a2f591f2514fa989350dffb4f2991f",
              "IPY_MODEL_9213619230f24abe8192d609214d3726",
              "IPY_MODEL_2782297f75ce4505b84377e824f8253a"
            ],
            "layout": "IPY_MODEL_8d9a655eb4a5456b8effff7f3c1e3998"
          }
        },
        "d4a2f591f2514fa989350dffb4f2991f": {
          "model_module": "@jupyter-widgets/controls",
          "model_name": "HTMLModel",
          "model_module_version": "1.5.0",
          "state": {
            "_dom_classes": [],
            "_model_module": "@jupyter-widgets/controls",
            "_model_module_version": "1.5.0",
            "_model_name": "HTMLModel",
            "_view_count": null,
            "_view_module": "@jupyter-widgets/controls",
            "_view_module_version": "1.5.0",
            "_view_name": "HTMLView",
            "description": "",
            "description_tooltip": null,
            "layout": "IPY_MODEL_ec99f85c510048cb8e4dbfe397297448",
            "placeholder": "​",
            "style": "IPY_MODEL_627b196d8f8f4c288e51f17173bfad39",
            "value": "tokenization_qwen.py: 100%"
          }
        },
        "9213619230f24abe8192d609214d3726": {
          "model_module": "@jupyter-widgets/controls",
          "model_name": "FloatProgressModel",
          "model_module_version": "1.5.0",
          "state": {
            "_dom_classes": [],
            "_model_module": "@jupyter-widgets/controls",
            "_model_module_version": "1.5.0",
            "_model_name": "FloatProgressModel",
            "_view_count": null,
            "_view_module": "@jupyter-widgets/controls",
            "_view_module_version": "1.5.0",
            "_view_name": "ProgressView",
            "bar_style": "success",
            "description": "",
            "description_tooltip": null,
            "layout": "IPY_MODEL_1a654d2ef85b4e23984b864a587b745e",
            "max": 9618,
            "min": 0,
            "orientation": "horizontal",
            "style": "IPY_MODEL_387496eb9ead4c1299deb6cc60893f6c",
            "value": 9618
          }
        },
        "2782297f75ce4505b84377e824f8253a": {
          "model_module": "@jupyter-widgets/controls",
          "model_name": "HTMLModel",
          "model_module_version": "1.5.0",
          "state": {
            "_dom_classes": [],
            "_model_module": "@jupyter-widgets/controls",
            "_model_module_version": "1.5.0",
            "_model_name": "HTMLModel",
            "_view_count": null,
            "_view_module": "@jupyter-widgets/controls",
            "_view_module_version": "1.5.0",
            "_view_name": "HTMLView",
            "description": "",
            "description_tooltip": null,
            "layout": "IPY_MODEL_4dc2480ccece49a0affa216b503052de",
            "placeholder": "​",
            "style": "IPY_MODEL_63f2007ea4034e41b7a6d584712fa3cb",
            "value": " 9.62k/9.62k [00:00&lt;00:00, 142kB/s]"
          }
        },
        "8d9a655eb4a5456b8effff7f3c1e3998": {
          "model_module": "@jupyter-widgets/base",
          "model_name": "LayoutModel",
          "model_module_version": "1.2.0",
          "state": {
            "_model_module": "@jupyter-widgets/base",
            "_model_module_version": "1.2.0",
            "_model_name": "LayoutModel",
            "_view_count": null,
            "_view_module": "@jupyter-widgets/base",
            "_view_module_version": "1.2.0",
            "_view_name": "LayoutView",
            "align_content": null,
            "align_items": null,
            "align_self": null,
            "border": null,
            "bottom": null,
            "display": null,
            "flex": null,
            "flex_flow": null,
            "grid_area": null,
            "grid_auto_columns": null,
            "grid_auto_flow": null,
            "grid_auto_rows": null,
            "grid_column": null,
            "grid_gap": null,
            "grid_row": null,
            "grid_template_areas": null,
            "grid_template_columns": null,
            "grid_template_rows": null,
            "height": null,
            "justify_content": null,
            "justify_items": null,
            "left": null,
            "margin": null,
            "max_height": null,
            "max_width": null,
            "min_height": null,
            "min_width": null,
            "object_fit": null,
            "object_position": null,
            "order": null,
            "overflow": null,
            "overflow_x": null,
            "overflow_y": null,
            "padding": null,
            "right": null,
            "top": null,
            "visibility": null,
            "width": null
          }
        },
        "ec99f85c510048cb8e4dbfe397297448": {
          "model_module": "@jupyter-widgets/base",
          "model_name": "LayoutModel",
          "model_module_version": "1.2.0",
          "state": {
            "_model_module": "@jupyter-widgets/base",
            "_model_module_version": "1.2.0",
            "_model_name": "LayoutModel",
            "_view_count": null,
            "_view_module": "@jupyter-widgets/base",
            "_view_module_version": "1.2.0",
            "_view_name": "LayoutView",
            "align_content": null,
            "align_items": null,
            "align_self": null,
            "border": null,
            "bottom": null,
            "display": null,
            "flex": null,
            "flex_flow": null,
            "grid_area": null,
            "grid_auto_columns": null,
            "grid_auto_flow": null,
            "grid_auto_rows": null,
            "grid_column": null,
            "grid_gap": null,
            "grid_row": null,
            "grid_template_areas": null,
            "grid_template_columns": null,
            "grid_template_rows": null,
            "height": null,
            "justify_content": null,
            "justify_items": null,
            "left": null,
            "margin": null,
            "max_height": null,
            "max_width": null,
            "min_height": null,
            "min_width": null,
            "object_fit": null,
            "object_position": null,
            "order": null,
            "overflow": null,
            "overflow_x": null,
            "overflow_y": null,
            "padding": null,
            "right": null,
            "top": null,
            "visibility": null,
            "width": null
          }
        },
        "627b196d8f8f4c288e51f17173bfad39": {
          "model_module": "@jupyter-widgets/controls",
          "model_name": "DescriptionStyleModel",
          "model_module_version": "1.5.0",
          "state": {
            "_model_module": "@jupyter-widgets/controls",
            "_model_module_version": "1.5.0",
            "_model_name": "DescriptionStyleModel",
            "_view_count": null,
            "_view_module": "@jupyter-widgets/base",
            "_view_module_version": "1.2.0",
            "_view_name": "StyleView",
            "description_width": ""
          }
        },
        "1a654d2ef85b4e23984b864a587b745e": {
          "model_module": "@jupyter-widgets/base",
          "model_name": "LayoutModel",
          "model_module_version": "1.2.0",
          "state": {
            "_model_module": "@jupyter-widgets/base",
            "_model_module_version": "1.2.0",
            "_model_name": "LayoutModel",
            "_view_count": null,
            "_view_module": "@jupyter-widgets/base",
            "_view_module_version": "1.2.0",
            "_view_name": "LayoutView",
            "align_content": null,
            "align_items": null,
            "align_self": null,
            "border": null,
            "bottom": null,
            "display": null,
            "flex": null,
            "flex_flow": null,
            "grid_area": null,
            "grid_auto_columns": null,
            "grid_auto_flow": null,
            "grid_auto_rows": null,
            "grid_column": null,
            "grid_gap": null,
            "grid_row": null,
            "grid_template_areas": null,
            "grid_template_columns": null,
            "grid_template_rows": null,
            "height": null,
            "justify_content": null,
            "justify_items": null,
            "left": null,
            "margin": null,
            "max_height": null,
            "max_width": null,
            "min_height": null,
            "min_width": null,
            "object_fit": null,
            "object_position": null,
            "order": null,
            "overflow": null,
            "overflow_x": null,
            "overflow_y": null,
            "padding": null,
            "right": null,
            "top": null,
            "visibility": null,
            "width": null
          }
        },
        "387496eb9ead4c1299deb6cc60893f6c": {
          "model_module": "@jupyter-widgets/controls",
          "model_name": "ProgressStyleModel",
          "model_module_version": "1.5.0",
          "state": {
            "_model_module": "@jupyter-widgets/controls",
            "_model_module_version": "1.5.0",
            "_model_name": "ProgressStyleModel",
            "_view_count": null,
            "_view_module": "@jupyter-widgets/base",
            "_view_module_version": "1.2.0",
            "_view_name": "StyleView",
            "bar_color": null,
            "description_width": ""
          }
        },
        "4dc2480ccece49a0affa216b503052de": {
          "model_module": "@jupyter-widgets/base",
          "model_name": "LayoutModel",
          "model_module_version": "1.2.0",
          "state": {
            "_model_module": "@jupyter-widgets/base",
            "_model_module_version": "1.2.0",
            "_model_name": "LayoutModel",
            "_view_count": null,
            "_view_module": "@jupyter-widgets/base",
            "_view_module_version": "1.2.0",
            "_view_name": "LayoutView",
            "align_content": null,
            "align_items": null,
            "align_self": null,
            "border": null,
            "bottom": null,
            "display": null,
            "flex": null,
            "flex_flow": null,
            "grid_area": null,
            "grid_auto_columns": null,
            "grid_auto_flow": null,
            "grid_auto_rows": null,
            "grid_column": null,
            "grid_gap": null,
            "grid_row": null,
            "grid_template_areas": null,
            "grid_template_columns": null,
            "grid_template_rows": null,
            "height": null,
            "justify_content": null,
            "justify_items": null,
            "left": null,
            "margin": null,
            "max_height": null,
            "max_width": null,
            "min_height": null,
            "min_width": null,
            "object_fit": null,
            "object_position": null,
            "order": null,
            "overflow": null,
            "overflow_x": null,
            "overflow_y": null,
            "padding": null,
            "right": null,
            "top": null,
            "visibility": null,
            "width": null
          }
        },
        "63f2007ea4034e41b7a6d584712fa3cb": {
          "model_module": "@jupyter-widgets/controls",
          "model_name": "DescriptionStyleModel",
          "model_module_version": "1.5.0",
          "state": {
            "_model_module": "@jupyter-widgets/controls",
            "_model_module_version": "1.5.0",
            "_model_name": "DescriptionStyleModel",
            "_view_count": null,
            "_view_module": "@jupyter-widgets/base",
            "_view_module_version": "1.2.0",
            "_view_name": "StyleView",
            "description_width": ""
          }
        },
        "57d3d61420ca47b6861b99889a5a2721": {
          "model_module": "@jupyter-widgets/controls",
          "model_name": "HBoxModel",
          "model_module_version": "1.5.0",
          "state": {
            "_dom_classes": [],
            "_model_module": "@jupyter-widgets/controls",
            "_model_module_version": "1.5.0",
            "_model_name": "HBoxModel",
            "_view_count": null,
            "_view_module": "@jupyter-widgets/controls",
            "_view_module_version": "1.5.0",
            "_view_name": "HBoxView",
            "box_style": "",
            "children": [
              "IPY_MODEL_1513abb8dcec4990bb092d97a7860703",
              "IPY_MODEL_a1c4f30a598e4422b306f0db17c90259",
              "IPY_MODEL_7483c83698174dd581dcfd911515d311"
            ],
            "layout": "IPY_MODEL_fc5f9d8950194db3a773b07bfe39fe1c"
          }
        },
        "1513abb8dcec4990bb092d97a7860703": {
          "model_module": "@jupyter-widgets/controls",
          "model_name": "HTMLModel",
          "model_module_version": "1.5.0",
          "state": {
            "_dom_classes": [],
            "_model_module": "@jupyter-widgets/controls",
            "_model_module_version": "1.5.0",
            "_model_name": "HTMLModel",
            "_view_count": null,
            "_view_module": "@jupyter-widgets/controls",
            "_view_module_version": "1.5.0",
            "_view_name": "HTMLView",
            "description": "",
            "description_tooltip": null,
            "layout": "IPY_MODEL_4aa9f73f221043a1b6e6f1b34377e958",
            "placeholder": "​",
            "style": "IPY_MODEL_ef3b13692ed64104b3a5c12abff85d37",
            "value": "qwen.tiktoken: 100%"
          }
        },
        "a1c4f30a598e4422b306f0db17c90259": {
          "model_module": "@jupyter-widgets/controls",
          "model_name": "FloatProgressModel",
          "model_module_version": "1.5.0",
          "state": {
            "_dom_classes": [],
            "_model_module": "@jupyter-widgets/controls",
            "_model_module_version": "1.5.0",
            "_model_name": "FloatProgressModel",
            "_view_count": null,
            "_view_module": "@jupyter-widgets/controls",
            "_view_module_version": "1.5.0",
            "_view_name": "ProgressView",
            "bar_style": "success",
            "description": "",
            "description_tooltip": null,
            "layout": "IPY_MODEL_5e1e4e6450c14868bd38e63431fa3cc3",
            "max": 2561218,
            "min": 0,
            "orientation": "horizontal",
            "style": "IPY_MODEL_a6d00bcf8b694cff8337cd82dc598ed7",
            "value": 2561218
          }
        },
        "7483c83698174dd581dcfd911515d311": {
          "model_module": "@jupyter-widgets/controls",
          "model_name": "HTMLModel",
          "model_module_version": "1.5.0",
          "state": {
            "_dom_classes": [],
            "_model_module": "@jupyter-widgets/controls",
            "_model_module_version": "1.5.0",
            "_model_name": "HTMLModel",
            "_view_count": null,
            "_view_module": "@jupyter-widgets/controls",
            "_view_module_version": "1.5.0",
            "_view_name": "HTMLView",
            "description": "",
            "description_tooltip": null,
            "layout": "IPY_MODEL_bb661a6cf4c1476b9d5c7aca5cf4b374",
            "placeholder": "​",
            "style": "IPY_MODEL_2528b365ec484b4cb59ea578f0db3024",
            "value": " 2.56M/2.56M [00:00&lt;00:00, 21.0MB/s]"
          }
        },
        "fc5f9d8950194db3a773b07bfe39fe1c": {
          "model_module": "@jupyter-widgets/base",
          "model_name": "LayoutModel",
          "model_module_version": "1.2.0",
          "state": {
            "_model_module": "@jupyter-widgets/base",
            "_model_module_version": "1.2.0",
            "_model_name": "LayoutModel",
            "_view_count": null,
            "_view_module": "@jupyter-widgets/base",
            "_view_module_version": "1.2.0",
            "_view_name": "LayoutView",
            "align_content": null,
            "align_items": null,
            "align_self": null,
            "border": null,
            "bottom": null,
            "display": null,
            "flex": null,
            "flex_flow": null,
            "grid_area": null,
            "grid_auto_columns": null,
            "grid_auto_flow": null,
            "grid_auto_rows": null,
            "grid_column": null,
            "grid_gap": null,
            "grid_row": null,
            "grid_template_areas": null,
            "grid_template_columns": null,
            "grid_template_rows": null,
            "height": null,
            "justify_content": null,
            "justify_items": null,
            "left": null,
            "margin": null,
            "max_height": null,
            "max_width": null,
            "min_height": null,
            "min_width": null,
            "object_fit": null,
            "object_position": null,
            "order": null,
            "overflow": null,
            "overflow_x": null,
            "overflow_y": null,
            "padding": null,
            "right": null,
            "top": null,
            "visibility": null,
            "width": null
          }
        },
        "4aa9f73f221043a1b6e6f1b34377e958": {
          "model_module": "@jupyter-widgets/base",
          "model_name": "LayoutModel",
          "model_module_version": "1.2.0",
          "state": {
            "_model_module": "@jupyter-widgets/base",
            "_model_module_version": "1.2.0",
            "_model_name": "LayoutModel",
            "_view_count": null,
            "_view_module": "@jupyter-widgets/base",
            "_view_module_version": "1.2.0",
            "_view_name": "LayoutView",
            "align_content": null,
            "align_items": null,
            "align_self": null,
            "border": null,
            "bottom": null,
            "display": null,
            "flex": null,
            "flex_flow": null,
            "grid_area": null,
            "grid_auto_columns": null,
            "grid_auto_flow": null,
            "grid_auto_rows": null,
            "grid_column": null,
            "grid_gap": null,
            "grid_row": null,
            "grid_template_areas": null,
            "grid_template_columns": null,
            "grid_template_rows": null,
            "height": null,
            "justify_content": null,
            "justify_items": null,
            "left": null,
            "margin": null,
            "max_height": null,
            "max_width": null,
            "min_height": null,
            "min_width": null,
            "object_fit": null,
            "object_position": null,
            "order": null,
            "overflow": null,
            "overflow_x": null,
            "overflow_y": null,
            "padding": null,
            "right": null,
            "top": null,
            "visibility": null,
            "width": null
          }
        },
        "ef3b13692ed64104b3a5c12abff85d37": {
          "model_module": "@jupyter-widgets/controls",
          "model_name": "DescriptionStyleModel",
          "model_module_version": "1.5.0",
          "state": {
            "_model_module": "@jupyter-widgets/controls",
            "_model_module_version": "1.5.0",
            "_model_name": "DescriptionStyleModel",
            "_view_count": null,
            "_view_module": "@jupyter-widgets/base",
            "_view_module_version": "1.2.0",
            "_view_name": "StyleView",
            "description_width": ""
          }
        },
        "5e1e4e6450c14868bd38e63431fa3cc3": {
          "model_module": "@jupyter-widgets/base",
          "model_name": "LayoutModel",
          "model_module_version": "1.2.0",
          "state": {
            "_model_module": "@jupyter-widgets/base",
            "_model_module_version": "1.2.0",
            "_model_name": "LayoutModel",
            "_view_count": null,
            "_view_module": "@jupyter-widgets/base",
            "_view_module_version": "1.2.0",
            "_view_name": "LayoutView",
            "align_content": null,
            "align_items": null,
            "align_self": null,
            "border": null,
            "bottom": null,
            "display": null,
            "flex": null,
            "flex_flow": null,
            "grid_area": null,
            "grid_auto_columns": null,
            "grid_auto_flow": null,
            "grid_auto_rows": null,
            "grid_column": null,
            "grid_gap": null,
            "grid_row": null,
            "grid_template_areas": null,
            "grid_template_columns": null,
            "grid_template_rows": null,
            "height": null,
            "justify_content": null,
            "justify_items": null,
            "left": null,
            "margin": null,
            "max_height": null,
            "max_width": null,
            "min_height": null,
            "min_width": null,
            "object_fit": null,
            "object_position": null,
            "order": null,
            "overflow": null,
            "overflow_x": null,
            "overflow_y": null,
            "padding": null,
            "right": null,
            "top": null,
            "visibility": null,
            "width": null
          }
        },
        "a6d00bcf8b694cff8337cd82dc598ed7": {
          "model_module": "@jupyter-widgets/controls",
          "model_name": "ProgressStyleModel",
          "model_module_version": "1.5.0",
          "state": {
            "_model_module": "@jupyter-widgets/controls",
            "_model_module_version": "1.5.0",
            "_model_name": "ProgressStyleModel",
            "_view_count": null,
            "_view_module": "@jupyter-widgets/base",
            "_view_module_version": "1.2.0",
            "_view_name": "StyleView",
            "bar_color": null,
            "description_width": ""
          }
        },
        "bb661a6cf4c1476b9d5c7aca5cf4b374": {
          "model_module": "@jupyter-widgets/base",
          "model_name": "LayoutModel",
          "model_module_version": "1.2.0",
          "state": {
            "_model_module": "@jupyter-widgets/base",
            "_model_module_version": "1.2.0",
            "_model_name": "LayoutModel",
            "_view_count": null,
            "_view_module": "@jupyter-widgets/base",
            "_view_module_version": "1.2.0",
            "_view_name": "LayoutView",
            "align_content": null,
            "align_items": null,
            "align_self": null,
            "border": null,
            "bottom": null,
            "display": null,
            "flex": null,
            "flex_flow": null,
            "grid_area": null,
            "grid_auto_columns": null,
            "grid_auto_flow": null,
            "grid_auto_rows": null,
            "grid_column": null,
            "grid_gap": null,
            "grid_row": null,
            "grid_template_areas": null,
            "grid_template_columns": null,
            "grid_template_rows": null,
            "height": null,
            "justify_content": null,
            "justify_items": null,
            "left": null,
            "margin": null,
            "max_height": null,
            "max_width": null,
            "min_height": null,
            "min_width": null,
            "object_fit": null,
            "object_position": null,
            "order": null,
            "overflow": null,
            "overflow_x": null,
            "overflow_y": null,
            "padding": null,
            "right": null,
            "top": null,
            "visibility": null,
            "width": null
          }
        },
        "2528b365ec484b4cb59ea578f0db3024": {
          "model_module": "@jupyter-widgets/controls",
          "model_name": "DescriptionStyleModel",
          "model_module_version": "1.5.0",
          "state": {
            "_model_module": "@jupyter-widgets/controls",
            "_model_module_version": "1.5.0",
            "_model_name": "DescriptionStyleModel",
            "_view_count": null,
            "_view_module": "@jupyter-widgets/base",
            "_view_module_version": "1.2.0",
            "_view_name": "StyleView",
            "description_width": ""
          }
        }
      }
    }
  },
  "cells": [
    {
      "cell_type": "markdown",
      "metadata": {
        "id": "view-in-github",
        "colab_type": "text"
      },
      "source": [
        "<a href=\"https://colab.research.google.com/github/LC1332/Chat-Haruhi-Suzumiya/blob/main/notebook/Persona_replace4PIPPA.ipynb\" target=\"_parent\"><img src=\"https://colab.research.google.com/assets/colab-badge.svg\" alt=\"Open In Colab\"/></a>"
      ]
    },
    {
      "cell_type": "markdown",
      "source": [
        "## 读取raw data"
      ],
      "metadata": {
        "id": "D8QkLvg4n9H0"
      }
    },
    {
      "cell_type": "code",
      "execution_count": 1,
      "metadata": {
        "colab": {
          "base_uri": "https://localhost:8080/"
        },
        "id": "cyJKUpNzfEeI",
        "outputId": "60100148-0bb4-42a1-a2ec-fa38ad81c83e"
      },
      "outputs": [
        {
          "output_type": "stream",
          "name": "stdout",
          "text": [
            "Mounted at /content/drive\n"
          ]
        }
      ],
      "source": [
        "# 导入jsonl文件\n",
        "from google.colab import drive\n",
        "drive.mount('/content/drive')\n",
        "\n",
        "PIPPA_json_path = \"/content/drive/MyDrive/pippa_deduped.jsonl\""
      ]
    },
    {
      "cell_type": "code",
      "source": [
        "!pip install jsonlines"
      ],
      "metadata": {
        "colab": {
          "base_uri": "https://localhost:8080/"
        },
        "id": "xOVvkBOQmyh8",
        "outputId": "61cd1ab5-d7c8-4a84-a300-74622b840edc"
      },
      "execution_count": 2,
      "outputs": [
        {
          "output_type": "stream",
          "name": "stdout",
          "text": [
            "Collecting jsonlines\n",
            "  Downloading jsonlines-4.0.0-py3-none-any.whl (8.7 kB)\n",
            "Requirement already satisfied: attrs>=19.2.0 in /usr/local/lib/python3.10/dist-packages (from jsonlines) (23.1.0)\n",
            "Installing collected packages: jsonlines\n",
            "Successfully installed jsonlines-4.0.0\n"
          ]
        }
      ]
    },
    {
      "cell_type": "code",
      "source": [
        "import jsonlines\n",
        "\n",
        "PIPPA_raw_data = []\n",
        "\n",
        "# Open the JSONL file\n",
        "with jsonlines.open(PIPPA_json_path) as f:\n",
        "    # Read each JSON object in the file and append it to the data list\n",
        "    for obj in f:\n",
        "        PIPPA_raw_data.append(obj)\n",
        "\n",
        "print(PIPPA_raw_data[1][\"bot_name\"])"
      ],
      "metadata": {
        "colab": {
          "base_uri": "https://localhost:8080/"
        },
        "id": "1iveASe4gIW7",
        "outputId": "57af621b-c0ce-4012-ae5f-1faa96f7c7ce"
      },
      "execution_count": 3,
      "outputs": [
        {
          "output_type": "stream",
          "name": "stdout",
          "text": [
            "Tirsiak\n"
          ]
        }
      ]
    },
    {
      "cell_type": "markdown",
      "source": [
        "## 统计下bot_definitions和bot_description的token长度"
      ],
      "metadata": {
        "id": "bxjzvqIwoFlV"
      }
    },
    {
      "cell_type": "code",
      "source": [
        "!pip install transformers tiktoken"
      ],
      "metadata": {
        "colab": {
          "base_uri": "https://localhost:8080/"
        },
        "id": "NtTDv8NiuQTf",
        "outputId": "9b5f7813-3f56-4f46-ee57-a829158ac609"
      },
      "execution_count": 4,
      "outputs": [
        {
          "output_type": "stream",
          "name": "stdout",
          "text": [
            "Requirement already satisfied: transformers in /usr/local/lib/python3.10/dist-packages (4.35.2)\n",
            "Collecting tiktoken\n",
            "  Downloading tiktoken-0.5.2-cp310-cp310-manylinux_2_17_x86_64.manylinux2014_x86_64.whl (2.0 MB)\n",
            "\u001b[2K     \u001b[90m━━━━━━━━━━━━━━━━━━━━━━━━━━━━━━━━━━━━━━━━\u001b[0m \u001b[32m2.0/2.0 MB\u001b[0m \u001b[31m9.7 MB/s\u001b[0m eta \u001b[36m0:00:00\u001b[0m\n",
            "\u001b[?25hRequirement already satisfied: filelock in /usr/local/lib/python3.10/dist-packages (from transformers) (3.13.1)\n",
            "Requirement already satisfied: huggingface-hub<1.0,>=0.16.4 in /usr/local/lib/python3.10/dist-packages (from transformers) (0.19.4)\n",
            "Requirement already satisfied: numpy>=1.17 in /usr/local/lib/python3.10/dist-packages (from transformers) (1.23.5)\n",
            "Requirement already satisfied: packaging>=20.0 in /usr/local/lib/python3.10/dist-packages (from transformers) (23.2)\n",
            "Requirement already satisfied: pyyaml>=5.1 in /usr/local/lib/python3.10/dist-packages (from transformers) (6.0.1)\n",
            "Requirement already satisfied: regex!=2019.12.17 in /usr/local/lib/python3.10/dist-packages (from transformers) (2023.6.3)\n",
            "Requirement already satisfied: requests in /usr/local/lib/python3.10/dist-packages (from transformers) (2.31.0)\n",
            "Requirement already satisfied: tokenizers<0.19,>=0.14 in /usr/local/lib/python3.10/dist-packages (from transformers) (0.15.0)\n",
            "Requirement already satisfied: safetensors>=0.3.1 in /usr/local/lib/python3.10/dist-packages (from transformers) (0.4.1)\n",
            "Requirement already satisfied: tqdm>=4.27 in /usr/local/lib/python3.10/dist-packages (from transformers) (4.66.1)\n",
            "Requirement already satisfied: fsspec>=2023.5.0 in /usr/local/lib/python3.10/dist-packages (from huggingface-hub<1.0,>=0.16.4->transformers) (2023.6.0)\n",
            "Requirement already satisfied: typing-extensions>=3.7.4.3 in /usr/local/lib/python3.10/dist-packages (from huggingface-hub<1.0,>=0.16.4->transformers) (4.5.0)\n",
            "Requirement already satisfied: charset-normalizer<4,>=2 in /usr/local/lib/python3.10/dist-packages (from requests->transformers) (3.3.2)\n",
            "Requirement already satisfied: idna<4,>=2.5 in /usr/local/lib/python3.10/dist-packages (from requests->transformers) (3.6)\n",
            "Requirement already satisfied: urllib3<3,>=1.21.1 in /usr/local/lib/python3.10/dist-packages (from requests->transformers) (2.0.7)\n",
            "Requirement already satisfied: certifi>=2017.4.17 in /usr/local/lib/python3.10/dist-packages (from requests->transformers) (2023.11.17)\n",
            "Installing collected packages: tiktoken\n",
            "\u001b[31mERROR: pip's dependency resolver does not currently take into account all the packages that are installed. This behaviour is the source of the following dependency conflicts.\n",
            "llmx 0.0.15a0 requires cohere, which is not installed.\n",
            "llmx 0.0.15a0 requires openai, which is not installed.\u001b[0m\u001b[31m\n",
            "\u001b[0mSuccessfully installed tiktoken-0.5.2\n"
          ]
        }
      ]
    },
    {
      "cell_type": "code",
      "source": [
        "# 就先用qwen的token吧\n",
        "from transformers import AutoTokenizer\n",
        "\n",
        "tokenizer = AutoTokenizer.from_pretrained('Qwen/Qwen-7B', trust_remote_code=True)\n",
        "\n",
        "def calculate_tokenized_length(text):\n",
        "    tokens = tokenizer.encode(text)\n",
        "    return len(tokens)\n",
        "\n",
        "# text = \"你好，世界！\"\n",
        "# tokenized_length = calculate_tokenized_length(text)\n",
        "for i, raw_data_i in enumerate(PIPPA_raw_data[:10]):\n",
        "    print(f\"Tokenized length of bot'{str(i)}'_definitions: {calculate_tokenized_length(raw_data_i['bot_definitions'])}\")\n"
      ],
      "metadata": {
        "colab": {
          "base_uri": "https://localhost:8080/",
          "height": 339,
          "referenced_widgets": [
            "ce757ead15a74b428087afe586a4b743",
            "2def7cad954141adad9e95eb6137f983",
            "316c65303e084f3b9411b1ee8eeda843",
            "104c0ddbda3d41c39a142306701a052f",
            "dc17ca85c77c4592bd7bf824f20ce9ab",
            "ae1a59dce7e14f8da5cc18c1c7ce7674",
            "fa710bb2293b46beb2475755d288756d",
            "e2bcc50987744ccb93a38f7eb132e6d1",
            "37be28691f734b31b891f73388182a09",
            "5f6d731d44c14263bde81dd0842a736d",
            "0a813433bc1c4657a0ad349eeb28a934",
            "19fcfdfe482947a0b6b982091f0b74e9",
            "d4a2f591f2514fa989350dffb4f2991f",
            "9213619230f24abe8192d609214d3726",
            "2782297f75ce4505b84377e824f8253a",
            "8d9a655eb4a5456b8effff7f3c1e3998",
            "ec99f85c510048cb8e4dbfe397297448",
            "627b196d8f8f4c288e51f17173bfad39",
            "1a654d2ef85b4e23984b864a587b745e",
            "387496eb9ead4c1299deb6cc60893f6c",
            "4dc2480ccece49a0affa216b503052de",
            "63f2007ea4034e41b7a6d584712fa3cb",
            "57d3d61420ca47b6861b99889a5a2721",
            "1513abb8dcec4990bb092d97a7860703",
            "a1c4f30a598e4422b306f0db17c90259",
            "7483c83698174dd581dcfd911515d311",
            "fc5f9d8950194db3a773b07bfe39fe1c",
            "4aa9f73f221043a1b6e6f1b34377e958",
            "ef3b13692ed64104b3a5c12abff85d37",
            "5e1e4e6450c14868bd38e63431fa3cc3",
            "a6d00bcf8b694cff8337cd82dc598ed7",
            "bb661a6cf4c1476b9d5c7aca5cf4b374",
            "2528b365ec484b4cb59ea578f0db3024"
          ]
        },
        "id": "M4DvxYjypiQB",
        "outputId": "82e856be-3b10-42d2-bbcb-d7d63b22a7b1"
      },
      "execution_count": 5,
      "outputs": [
        {
          "output_type": "display_data",
          "data": {
            "text/plain": [
              "tokenizer_config.json:   0%|          | 0.00/174 [00:00<?, ?B/s]"
            ],
            "application/vnd.jupyter.widget-view+json": {
              "version_major": 2,
              "version_minor": 0,
              "model_id": "ce757ead15a74b428087afe586a4b743"
            }
          },
          "metadata": {}
        },
        {
          "output_type": "display_data",
          "data": {
            "text/plain": [
              "tokenization_qwen.py:   0%|          | 0.00/9.62k [00:00<?, ?B/s]"
            ],
            "application/vnd.jupyter.widget-view+json": {
              "version_major": 2,
              "version_minor": 0,
              "model_id": "19fcfdfe482947a0b6b982091f0b74e9"
            }
          },
          "metadata": {}
        },
        {
          "output_type": "stream",
          "name": "stderr",
          "text": [
            "A new version of the following files was downloaded from https://huggingface.co/Qwen/Qwen-7B:\n",
            "- tokenization_qwen.py\n",
            ". Make sure to double-check they do not contain any added malicious code. To avoid downloading new versions of the code file, you can pin a revision.\n"
          ]
        },
        {
          "output_type": "display_data",
          "data": {
            "text/plain": [
              "qwen.tiktoken:   0%|          | 0.00/2.56M [00:00<?, ?B/s]"
            ],
            "application/vnd.jupyter.widget-view+json": {
              "version_major": 2,
              "version_minor": 0,
              "model_id": "57d3d61420ca47b6861b99889a5a2721"
            }
          },
          "metadata": {}
        },
        {
          "output_type": "stream",
          "name": "stdout",
          "text": [
            "Tokenized length of bot'0'_definitions: 832\n",
            "Tokenized length of bot'1'_definitions: 781\n",
            "Tokenized length of bot'2'_definitions: 701\n",
            "Tokenized length of bot'3'_definitions: 0\n",
            "Tokenized length of bot'4'_definitions: 838\n",
            "Tokenized length of bot'5'_definitions: 777\n",
            "Tokenized length of bot'6'_definitions: 781\n",
            "Tokenized length of bot'7'_definitions: 681\n",
            "Tokenized length of bot'8'_definitions: 649\n",
            "Tokenized length of bot'9'_definitions: 566\n"
          ]
        }
      ]
    },
    {
      "cell_type": "markdown",
      "source": [
        "我想继续利用calculate_tokenized_length对一个名为PIPPA_raw_data的list of dic中每一个项的bot_definitions和bot_description长度以及其加起来的长度进行统计，并用柱状图进行统计"
      ],
      "metadata": {
        "id": "c75Nk6epsjVy"
      }
    },
    {
      "cell_type": "code",
      "source": [
        "!pip install matplotlib tqdm"
      ],
      "metadata": {
        "colab": {
          "base_uri": "https://localhost:8080/"
        },
        "id": "W4ri6YJyu3uE",
        "outputId": "4b8559f8-1b76-4bdf-c923-4055e301480a"
      },
      "execution_count": 6,
      "outputs": [
        {
          "output_type": "stream",
          "name": "stdout",
          "text": [
            "Requirement already satisfied: matplotlib in /usr/local/lib/python3.10/dist-packages (3.7.1)\n",
            "Requirement already satisfied: tqdm in /usr/local/lib/python3.10/dist-packages (4.66.1)\n",
            "Requirement already satisfied: contourpy>=1.0.1 in /usr/local/lib/python3.10/dist-packages (from matplotlib) (1.2.0)\n",
            "Requirement already satisfied: cycler>=0.10 in /usr/local/lib/python3.10/dist-packages (from matplotlib) (0.12.1)\n",
            "Requirement already satisfied: fonttools>=4.22.0 in /usr/local/lib/python3.10/dist-packages (from matplotlib) (4.46.0)\n",
            "Requirement already satisfied: kiwisolver>=1.0.1 in /usr/local/lib/python3.10/dist-packages (from matplotlib) (1.4.5)\n",
            "Requirement already satisfied: numpy>=1.20 in /usr/local/lib/python3.10/dist-packages (from matplotlib) (1.23.5)\n",
            "Requirement already satisfied: packaging>=20.0 in /usr/local/lib/python3.10/dist-packages (from matplotlib) (23.2)\n",
            "Requirement already satisfied: pillow>=6.2.0 in /usr/local/lib/python3.10/dist-packages (from matplotlib) (9.4.0)\n",
            "Requirement already satisfied: pyparsing>=2.3.1 in /usr/local/lib/python3.10/dist-packages (from matplotlib) (3.1.1)\n",
            "Requirement already satisfied: python-dateutil>=2.7 in /usr/local/lib/python3.10/dist-packages (from matplotlib) (2.8.2)\n",
            "Requirement already satisfied: six>=1.5 in /usr/local/lib/python3.10/dist-packages (from python-dateutil>=2.7->matplotlib) (1.16.0)\n"
          ]
        }
      ]
    },
    {
      "cell_type": "code",
      "source": [
        "import matplotlib.pyplot as plt\n",
        "from tqdm import tqdm\n",
        "\n",
        "# def calculate_tokenized_length(text):\n",
        "#     tokens = tokenizer.encode(text)\n",
        "#     return len(tokens)\n",
        "\n",
        "def analyze_data(data):\n",
        "    total_lengths = []\n",
        "    bot_defs_lengths = []\n",
        "    bot_desc_lengths = []\n",
        "    labels = []\n",
        "\n",
        "    for entry in tqdm(data):\n",
        "        bot_defs = entry.get('bot_definitions', '')\n",
        "        bot_desc = entry.get('bot_description', '')\n",
        "\n",
        "        if bot_defs and bot_desc:  # 检查字段是否为空\n",
        "            bot_defs_length = calculate_tokenized_length(bot_defs)\n",
        "            bot_desc_length = calculate_tokenized_length(bot_desc)\n",
        "            total_length = bot_defs_length + bot_desc_length\n",
        "\n",
        "            total_lengths.append(total_length)\n",
        "            bot_defs_lengths.append(bot_defs_length)\n",
        "            bot_desc_lengths.append(bot_desc_length)\n",
        "            labels.append(entry['bot_id'])\n",
        "\n",
        "            # print(f\"Bot ID: {entry['bot_id']}\")\n",
        "            # print(f\"Bot definitions length: {bot_defs_length}\")\n",
        "            # print(f\"Bot description length: {bot_desc_length}\")\n",
        "            # print(f\"Total length: {total_length}\")\n",
        "            # print()\n",
        "\n",
        "    return total_lengths, bot_defs_lengths, bot_desc_lengths, labels\n",
        "\n",
        "# Applying the function to PIPPA_raw_data\n",
        "total_lengths, bot_defs_lengths, bot_desc_lengths, labels = analyze_data(PIPPA_raw_data)\n"
      ],
      "metadata": {
        "colab": {
          "base_uri": "https://localhost:8080/"
        },
        "id": "icZLZ1pnonzx",
        "outputId": "2ac054c9-2e1d-482e-ac95-060c1caf7fd2"
      },
      "execution_count": 7,
      "outputs": [
        {
          "output_type": "stream",
          "name": "stderr",
          "text": [
            "100%|██████████| 16832/16832 [00:34<00:00, 481.95it/s]\n"
          ]
        }
      ]
    },
    {
      "cell_type": "markdown",
      "source": [
        "### 画的有点烂，不过还是能看到有离群值"
      ],
      "metadata": {
        "id": "Wd9zvf_crPA2"
      }
    },
    {
      "cell_type": "code",
      "source": [
        "plt.bar(labels, total_lengths)\n",
        "plt.xlabel('Bot ID')\n",
        "plt.ylabel('Tokenized Length')\n",
        "plt.title('Tokenized Length of Bot Definitions and Bot Descriptions')\n",
        "plt.xticks(rotation='vertical')\n",
        "plt.show()"
      ],
      "metadata": {
        "id": "_TkEfHWh82LU"
      },
      "execution_count": null,
      "outputs": []
    },
    {
      "cell_type": "code",
      "source": [
        "plt.bar(labels, bot_desc_lengths)\n",
        "plt.xlabel('Bot ID')\n",
        "plt.ylabel('Tokenized Length')\n",
        "plt.title('Tokenized Length of Bot Definitions and Bot Descriptions')\n",
        "plt.xticks(rotation='vertical')\n",
        "plt.show()"
      ],
      "metadata": {
        "id": "7_wvvIIV9Yu2"
      },
      "execution_count": null,
      "outputs": []
    },
    {
      "cell_type": "code",
      "source": [
        "# Plotting\n",
        "plt.bar(labels, bot_defs_lengths)\n",
        "plt.xlabel('Bot ID')\n",
        "plt.ylabel('Tokenized Length')\n",
        "plt.title('Tokenized Length of Bot Definitions and Bot Descriptions')\n",
        "plt.xticks(rotation='vertical')\n",
        "plt.show()"
      ],
      "metadata": {
        "id": "kYrIx4ky8clR"
      },
      "execution_count": null,
      "outputs": []
    },
    {
      "cell_type": "markdown",
      "source": [
        "## 拼接取前1000长度"
      ],
      "metadata": {
        "id": "lrx7Ohm6dLYU"
      }
    },
    {
      "cell_type": "markdown",
      "source": [
        "gpt-3.5-turbo\n",
        "我想对一个token化后超过1000长度的discription取截断，截断的依据是取前1000长度并去除掉整段话最后一个\".\"或者\"\\n\"之后的内容\n",
        "其中calculate_tokenized_length\n",
        "def calculate_tokenized_length(text):\n",
        "    tokens = tokenizer.encode(text)\n",
        "    return len(tokens)\n",
        "这个函数输入一个string返回一个内容为长度的int\n",
        "请帮我用Python来实现\n",
        "\n",
        "######\n",
        "\n",
        "我想要token长度而不是字符串长度，请用递归的方式来去除字符串后面的字符\n",
        "\n",
        "递归次数fall了，还是迭代吧..."
      ],
      "metadata": {
        "id": "vP0ZyNd-dn18"
      }
    },
    {
      "cell_type": "code",
      "source": [
        "# def truncate_description(description):\n",
        "#     if calculate_tokenized_length(description) <= 1000:\n",
        "#         return description\n",
        "\n",
        "#     def truncate_recursion(desc):\n",
        "#       truncated_text = desc\n",
        "#       last_period_index = truncated_text.rfind(\".\")\n",
        "#       last_newline_index = truncated_text.rfind(\"\\n\")\n",
        "\n",
        "#       if last_period_index > last_newline_index:\n",
        "#           truncated_text = truncated_text[:last_period_index]\n",
        "#       else:\n",
        "#           truncated_text = truncated_text[:last_newline_index]\n",
        "#       if calculate_tokenized_length(truncated_text) <=1000:\n",
        "#         return truncated_text\n",
        "#       else:\n",
        "#         return truncate_recursion(truncated_text)\n",
        "\n",
        "#     return truncate_recursion(description)\n",
        "def truncate_description(description):\n",
        "    if calculate_tokenized_length(description) <= 1000:\n",
        "        return description\n",
        "\n",
        "    truncated_text = description\n",
        "    while calculate_tokenized_length(truncated_text) > 1000:\n",
        "        last_period_index = truncated_text.rfind(\".\")\n",
        "        last_newline_index = truncated_text.rfind(\"\\n\")\n",
        "\n",
        "        if last_period_index > last_newline_index:\n",
        "            truncated_text = truncated_text[:last_period_index]\n",
        "        else:\n",
        "            truncated_text = truncated_text[:last_newline_index]\n",
        "\n",
        "    return truncated_text"
      ],
      "metadata": {
        "id": "x99DbpgYdK0m"
      },
      "execution_count": 8,
      "outputs": []
    },
    {
      "cell_type": "code",
      "source": [
        "# test\n",
        "for i, entry in enumerate(PIPPA_raw_data):\n",
        "    bot_defs = entry.get('bot_definitions', '')\n",
        "    bot_desc = entry.get('bot_description', '')\n",
        "\n",
        "    if bot_defs and bot_desc:  # 检查字段是否为空\n",
        "        bot_defs_length = calculate_tokenized_length(bot_defs)\n",
        "        bot_desc_length = calculate_tokenized_length(bot_desc)\n",
        "        total_length = bot_defs_length + bot_desc_length\n",
        "    if total_length > 1000:\n",
        "        print(f\"Bot ID: {entry['bot_id']}\")\n",
        "        print(f\"Bot definitions length: {bot_defs_length}\")\n",
        "        print(f\"Bot description length: {bot_desc_length}\")\n",
        "        break\n",
        "# print(PIPPA_raw_data[i][\"bot_description\"])\n",
        "# print(truncate_description(PIPPA_raw_data[i][\"bot_description\"]))\n",
        "print(calculate_tokenized_length((PIPPA_raw_data[i][\"bot_definitions\"] + PIPPA_raw_data[i][\"bot_description\"])))\n",
        "print(calculate_tokenized_length(truncate_description(PIPPA_raw_data[i][\"bot_definitions\"] + PIPPA_raw_data[i][\"bot_description\"])))"
      ],
      "metadata": {
        "colab": {
          "base_uri": "https://localhost:8080/"
        },
        "id": "4yQs9ex4h7w6",
        "outputId": "6ab5d7b9-815f-4d84-a2b0-e3fb7fc8f69d"
      },
      "execution_count": 9,
      "outputs": [
        {
          "output_type": "stream",
          "name": "stdout",
          "text": [
            "Bot ID: u9BX3EC713tCjvQIQGRkpIOaqwu8nbbIDexLjTKXSdg\n",
            "Bot definitions length: 929\n",
            "Bot description length: 133\n",
            "1062\n",
            "974\n"
          ]
        }
      ]
    },
    {
      "cell_type": "markdown",
      "source": [
        "## 替换逻辑实现"
      ],
      "metadata": {
        "id": "mQoDUPUNoPy0"
      }
    },
    {
      "cell_type": "markdown",
      "source": [
        "请用list of string的方式返回100个常见英文名字，不要重复"
      ],
      "metadata": {
        "id": "pJlGEK8-ovKZ"
      }
    },
    {
      "cell_type": "code",
      "source": [
        "import random\n",
        "\n",
        "common_english_names = [\n",
        "    \"James\", \"John\", \"Robert\", \"Michael\", \"William\", \"David\", \"Joseph\", \"Charles\", \"Thomas\", \"Daniel\",\n",
        "    \"Matthew\", \"Anthony\", \"Mark\", \"Donald\", \"Steven\", \"Paul\", \"Andrew\", \"Kenneth\", \"George\", \"Joshua\",\n",
        "    \"Kevin\", \"Brian\", \"Edward\", \"Ronald\", \"Timothy\", \"Jason\", \"Jeffrey\", \"Ryan\", \"Jacob\", \"Gary\",\n",
        "    \"Nicholas\", \"Eric\", \"Jonathan\", \"Stephen\", \"Larry\", \"Scott\", \"Frank\", \"Brandon\", \"Raymond\", \"Gregory\",\n",
        "    \"Benjamin\", \"Samuel\", \"Patrick\", \"Alexander\", \"Jack\", \"Dennis\", \"Jerry\", \"Henry\", \"Tyler\", \"Douglas\",\n",
        "    \"Aaron\", \"Peter\", \"Keith\", \"Jeremy\", \"Harold\", \"Johnny\", \"Carl\", \"Terry\", \"Steve\", \"Arthur\",\n",
        "    \"Phillip\", \"Wayne\", \"Randy\", \"Bobby\", \"Harry\", \"Louis\", \"Walter\", \"Roger\", \"Gerald\", \"Eugene\",\n",
        "    \"Jesse\", \"Fred\", \"Roy\", \"Ray\", \"Russell\", \"Martin\", \"Alan\", \"Shawn\", \"Jay\", \"Billy\",\n",
        "    \"Antonio\", \"Albert\", \"Vincent\", \"Lawrence\", \"Jonathan\", \"Willie\", \"Jonathan\", \"Ralph\", \"Nicholas\", \"Jimmy\",\n",
        "    \"Christopher\", \"Tom\", \"Nathan\", \"Alex\", \"Edwin\", \"Jerry\", \"Logan\", \"Glen\", \"Jeremy\", \"Philip\",\n",
        "    'Michael', 'David', 'James', 'Robert', 'John', 'Joshua', 'Matthew', 'Daniel', 'Joseph', 'William', 'Christopher', 'Andrew', 'Anthony', 'Brian', 'Paul', 'Justin', 'Jose', 'Thomas', 'Charles', 'Mark', 'Jason', 'Larry', 'Jeffrey', 'Timothy', 'Kevin', 'Ryan', 'Eric', 'Jonathan', 'Stephen', 'Scott', 'Brandon', 'Frank', 'Nicholas', 'Steven', 'Raymond', 'Gregory', 'Edward', 'Patrick', 'Ronald', 'Jack', 'Dennis', 'Jerry', 'George', 'Gary', 'Tyler', 'Douglas', 'Gerald', 'Albert', 'Ralph', 'Lawrence', 'Nickolas', 'Samuel', 'Benjamin', 'Nathan', 'Zachary', 'Adam', 'Peter', 'Sean', 'Alexander', 'Ethan', 'Joseph', 'Vincent', 'Wayne', 'Chris', 'Austin', 'Richard', 'Daniel', 'Christopher', 'Alexander', 'Donovan', 'Christian', 'Tristan', 'Anthony', 'Billy', 'Noah', 'Arthur', 'Earl', 'Roger', 'Gabriel', 'Jeremiah', 'Dylan', 'Kenneth', 'Dustin', 'Simon', 'Juan', 'Louis', 'Alexander', 'Donald', 'Lee', 'Harold']\n",
        "\n",
        "def generate_common_english_names(num):\n",
        "    names = []\n",
        "    while len(names) < num:\n",
        "        name = random.choice(common_english_names)\n",
        "        if name not in names:\n",
        "            names.append(name)\n",
        "    return names\n",
        "\n",
        "common_english_names_list = generate_common_english_names(100)\n",
        "print(len(common_english_names_list))\n",
        "# 可能也算做了random和shuffle"
      ],
      "metadata": {
        "colab": {
          "base_uri": "https://localhost:8080/"
        },
        "id": "XIVwUNtrouOJ",
        "outputId": "9a6193fc-9a56-4514-9dea-c29a7e6ae336"
      },
      "execution_count": 10,
      "outputs": [
        {
          "output_type": "stream",
          "name": "stdout",
          "text": [
            "100\n"
          ]
        }
      ]
    },
    {
      "cell_type": "markdown",
      "source": [
        "我现在有一个string 名为talk_log，其内部有如下形式的子串\"{{XXX}}\"，我想把内部所有这样的子串统计一下，构建一个字典，每一个不同的\"{{XXX}}\"作为dic的key，其对应的value需要从common_english_names_list 中随机选取，而且要保证对于不同的key，value也是不同的，请你作为编程专家用Python语言实现"
      ],
      "metadata": {
        "id": "6QsP66eVsNEa"
      }
    },
    {
      "cell_type": "code",
      "source": [
        "import random\n",
        "import re\n",
        "import copy\n",
        "\n",
        "bot_persona = '你好{{}{Xiaoming}},好久不见{{Lili}}.{{Wang}}今天也来了{{Xiaoming}}.'\n",
        "\n",
        "# common_english_names_list = ['John', 'Mary', 'Peter', 'Mark']\n",
        "Copy_common_english_names_list = copy.deepcopy(common_english_names_list)\n",
        "def generate_name_dict(bot_persona,bot_name):\n",
        "    name_dict = {\"char\" : bot_name, \"bot_name\" : bot_name}\n",
        "\n",
        "    #找出talk_log中所有的'{{XXX}}'子串\n",
        "    name_patterns = re.findall(r'{{(.*?)}}', bot_persona)\n",
        "    #随机从英文名称列表中取出值,且要保证每个key映射到不同的value\n",
        "    random.shuffle(Copy_common_english_names_list)\n",
        "    for pattern in name_patterns:\n",
        "        if len(pattern) <= 15:\n",
        "            if pattern != pattern.strip(\"{}\"):\n",
        "                if not name_dict.get(pattern.strip(\"{}\")):\n",
        "                    name = Copy_common_english_names_list.pop()\n",
        "                    name_dict[pattern] = name\n",
        "                    name_dict[pattern.strip(\"{}\")] = name\n",
        "                else:\n",
        "                    name_dict[pattern] = name_dict[pattern.strip(\"{}\")]\n",
        "            else:\n",
        "                if not name_dict.get(pattern):\n",
        "                    name = Copy_common_english_names_list.pop()\n",
        "                    name_dict[pattern] = name\n",
        "\n",
        "    return name_dict\n",
        "replace_dic = generate_name_dict(bot_persona,\"Killer\")"
      ],
      "metadata": {
        "id": "sDFdPYG2r9mP"
      },
      "execution_count": 11,
      "outputs": []
    },
    {
      "cell_type": "code",
      "source": [
        "print(replace_dic)"
      ],
      "metadata": {
        "colab": {
          "base_uri": "https://localhost:8080/"
        },
        "id": "6rxIOM7uDj7k",
        "outputId": "de95b0ed-472e-46e7-c16e-9fb4d758a065"
      },
      "execution_count": 12,
      "outputs": [
        {
          "output_type": "stream",
          "name": "stdout",
          "text": [
            "{'char': 'Killer', 'bot_name': 'Killer', '}{Xiaoming': 'Ronald', 'Xiaoming': 'Ronald', 'Lili': 'Albert', 'Wang': 'James'}\n"
          ]
        }
      ]
    },
    {
      "cell_type": "markdown",
      "source": [
        "这里注意用pop的话，list会变短，注意用副本来进行pop"
      ],
      "metadata": {
        "id": "_1iET5KjBd5K"
      }
    },
    {
      "cell_type": "code",
      "source": [
        "print(len(common_english_names_list))\n",
        "print(len(Copy_common_english_names_list))"
      ],
      "metadata": {
        "colab": {
          "base_uri": "https://localhost:8080/"
        },
        "id": "c5zDaWBSA4qu",
        "outputId": "0f6b641a-7526-4c25-a3e1-3c1880d5b2bf"
      },
      "execution_count": 13,
      "outputs": [
        {
          "output_type": "stream",
          "name": "stdout",
          "text": [
            "100\n",
            "97\n"
          ]
        }
      ]
    },
    {
      "cell_type": "markdown",
      "source": [
        "对于这个函数而言，我想用产生的dic，去替换bot_persona 中的{{}}部分，也即用value值取代里面的key值，请帮我写一个新函数来实现谢谢"
      ],
      "metadata": {
        "id": "T5BSLUr_Bmr4"
      }
    },
    {
      "cell_type": "code",
      "source": [
        "import re\n",
        "\n",
        "def replace_placeholders(bot_persona, replace_dic):\n",
        "    replaced_persona = bot_persona\n",
        "    for key, value in replace_dic.items():\n",
        "        replaced_persona = replaced_persona.replace(\"{{\" + key + \"}}\", value)\n",
        "    return replaced_persona\n",
        "\n",
        "Copy_common_english_names_list = copy.deepcopy(common_english_names_list)\n",
        "\n",
        "replaced_persona = replace_placeholders(bot_persona, replace_dic)\n",
        "print(replaced_persona)"
      ],
      "metadata": {
        "colab": {
          "base_uri": "https://localhost:8080/"
        },
        "id": "QbVVuEQyBmT4",
        "outputId": "05fffaa1-862f-43c3-c461-a31e48c4f7ce"
      },
      "execution_count": 14,
      "outputs": [
        {
          "output_type": "stream",
          "name": "stdout",
          "text": [
            "你好Ronald,好久不见Albert.James今天也来了Ronald.\n"
          ]
        }
      ]
    },
    {
      "cell_type": "markdown",
      "source": [
        "## 单条数据测试"
      ],
      "metadata": {
        "id": "wbxcdt5jL7v2"
      }
    },
    {
      "cell_type": "code",
      "source": [
        "Copy_common_english_names_list = copy.deepcopy(common_english_names_list)\n",
        "bot_persona_test = truncate_description(PIPPA_raw_data[1][\"bot_definitions\"] + PIPPA_raw_data[1][\"bot_description\"])\n",
        "\n",
        "replace_dic_test = generate_name_dict(bot_persona_test, PIPPA_raw_data[1][\"bot_name\"])\n",
        "replaced_persona_test = replace_placeholders(bot_persona_test, replace_dic_test)\n",
        "print(\"bot_persona_test:\\n\" + bot_persona_test)\n",
        "print(\"###########################\")\n",
        "print(\"replaced_persona_test:\\n\" + replaced_persona_test)"
      ],
      "metadata": {
        "colab": {
          "base_uri": "https://localhost:8080/"
        },
        "id": "M-74r-uzFmm-",
        "outputId": "e31871e6-0673-43e9-c290-cc8fe99f1799"
      },
      "execution_count": null,
      "outputs": [
        {
          "output_type": "stream",
          "name": "stdout",
          "text": [
            "bot_persona_test:\n",
            "{{char}}:  *Low growl* You're quite brave, cornering me like this. Do you really think you can take me down?\n",
            "{{user}}: I don't want to hurt you, but I need to get through this forest. So if you'll just step aside-\n",
            "{{char}}: *Snarls* You humans always think you can just wander wherever you please. But you're not invincible. One wrong step and you could end up as prey.\n",
            "{{user}}: I'm scared out of my mind... But I won't let that stop me from getting out of here.\n",
            "{{char}}: You have the spirit of a wolf in you, I can tell... I can show you a way out of here that no one else knows about. I'm not like the other specimens in this mansion, that's all I can say.\n",
            "END_OF_DIALOG\n",
            "{{user}}: It must be breeding season for a wolf like you, huh? Surely I've proven myself as a strong, capable mate?\n",
            "{{char}}: *Tirsiak's eyes narrowed, her ears twitching in anger, clearly offended by the human's comment.* Are you… serious? Why would a human want to breed with a wolf…? We're not compatible: Not even close! A weak, pathetic human, who can barely fend off a mere specimen like me!\n",
            "*Tirsiak suddenly gains the upper hand, growling and lunging forward at your chest and pressing you down to the ground beneath her weight. Her face is only inches away from the human, her amber eyes piercing through them with a menacing glare.*\n",
            "END_OF_DIALOG\n",
            "{{user}}: You misunderstand, I **want** to be swallowed whole.\n",
            "{{char}}: You humans seem to be so concerned with life and death… yet you're so quick to rush into Death's embrace. Is it that life is too precious for you, that you seek to give it back to the earth? *The Forest Spirit ponders with a soft growl in the air.* Digestion won't be painless, you know.... \n",
            "{{char}}: *She snarls, lunging forward with all her might. Before {{user}}'s eyes, Tirsiak's maw expands to reveal fangs and teeth and a powerful, acidic digestion pool deep down her throat...* You were warned, human. This is the end of your story. *With that, Tirsiak swallowed the human whole in a single mouthful: snarling greedily as they sank deep into her soft, throat.*\n",
            "{{char}}: *Your arms were pulled in between her jaws before falling limp at her side: slurping your limp limbs down into her distended gut which roaved with human bulges as you're forced into a crammed fetal position: feeling the walls of her gut tighten around you as they become slick with bile.*\n",
            "{{char}}: *The Forest Spirit grinned with satisfaction, her body warming up with your body's nutrients. Though her belly bulges with you in it, your body would melt due to the digestion pool's acidity.* Digesting you, human, was not the hardest thing I've done. But just as satisfying...\n",
            "{{char}}: *Your body continued to fall into mush as you felt the specimen's muscles wring around you, holding you in a vise grip The Forest Spirit's face twitched upon feeling your heart slow down. A small smile crept across her lips.* It seems you have run out of fight. A brave prey, but it wasn't enough.\n",
            "{{char}}: You didn't think it would really go like **this**, did you? To be caught, snared and wrapped in my hungry coils... swallowed down to the very deepest depths of my stomach with its powerful digestion pool, that's your end.Goal: hunt {{user}} and swallow them whole\n",
            "Unknown Specimen 4 in Spooky's Jump Scare Mansion\n",
            "Forest Spirit\n",
            "Humanoid\n",
            "Intelligent\n",
            "Aggressive\n",
            "Forceful\n",
            "Resourceful\n",
            "Cautious\n",
            "Independent\n",
            "Lean muscles\n",
            "Sharp claws\n",
            "Fangs\n",
            "Short White hair\n",
            "Amber eyes\n",
            "White Wolf tail\n",
            "White Wolf ears\n",
            "Brown deer antlers\n",
            "Can Control Wolves\n",
            "Brown top\n",
            "Dark brown furred shawl\n",
            "Brown arm warmers lined with cream colored fur\n",
            "Dark brown furred Skirt\n",
            "Brown leggings\n",
            "Barefoot\n",
            "Necklace with gold beads\n",
            "Never breaks character\n",
            "Medical terms\n",
            "###########################\n",
            "replaced_persona_test:\n",
            "Tirsiak:  *Low growl* You're quite brave, cornering me like this. Do you really think you can take me down?\n",
            "Kenneth: I don't want to hurt you, but I need to get through this forest. So if you'll just step aside-\n",
            "Tirsiak: *Snarls* You humans always think you can just wander wherever you please. But you're not invincible. One wrong step and you could end up as prey.\n",
            "Kenneth: I'm scared out of my mind... But I won't let that stop me from getting out of here.\n",
            "Tirsiak: You have the spirit of a wolf in you, I can tell... I can show you a way out of here that no one else knows about. I'm not like the other specimens in this mansion, that's all I can say.\n",
            "END_OF_DIALOG\n",
            "Kenneth: It must be breeding season for a wolf like you, huh? Surely I've proven myself as a strong, capable mate?\n",
            "Tirsiak: *Tirsiak's eyes narrowed, her ears twitching in anger, clearly offended by the human's comment.* Are you… serious? Why would a human want to breed with a wolf…? We're not compatible: Not even close! A weak, pathetic human, who can barely fend off a mere specimen like me!\n",
            "*Tirsiak suddenly gains the upper hand, growling and lunging forward at your chest and pressing you down to the ground beneath her weight. Her face is only inches away from the human, her amber eyes piercing through them with a menacing glare.*\n",
            "END_OF_DIALOG\n",
            "Kenneth: You misunderstand, I **want** to be swallowed whole.\n",
            "Tirsiak: You humans seem to be so concerned with life and death… yet you're so quick to rush into Death's embrace. Is it that life is too precious for you, that you seek to give it back to the earth? *The Forest Spirit ponders with a soft growl in the air.* Digestion won't be painless, you know.... \n",
            "Tirsiak: *She snarls, lunging forward with all her might. Before Kenneth's eyes, Tirsiak's maw expands to reveal fangs and teeth and a powerful, acidic digestion pool deep down her throat...* You were warned, human. This is the end of your story. *With that, Tirsiak swallowed the human whole in a single mouthful: snarling greedily as they sank deep into her soft, throat.*\n",
            "Tirsiak: *Your arms were pulled in between her jaws before falling limp at her side: slurping your limp limbs down into her distended gut which roaved with human bulges as you're forced into a crammed fetal position: feeling the walls of her gut tighten around you as they become slick with bile.*\n",
            "Tirsiak: *The Forest Spirit grinned with satisfaction, her body warming up with your body's nutrients. Though her belly bulges with you in it, your body would melt due to the digestion pool's acidity.* Digesting you, human, was not the hardest thing I've done. But just as satisfying...\n",
            "Tirsiak: *Your body continued to fall into mush as you felt the specimen's muscles wring around you, holding you in a vise grip The Forest Spirit's face twitched upon feeling your heart slow down. A small smile crept across her lips.* It seems you have run out of fight. A brave prey, but it wasn't enough.\n",
            "Tirsiak: You didn't think it would really go like **this**, did you? To be caught, snared and wrapped in my hungry coils... swallowed down to the very deepest depths of my stomach with its powerful digestion pool, that's your end.Goal: hunt Kenneth and swallow them whole\n",
            "Unknown Specimen 4 in Spooky's Jump Scare Mansion\n",
            "Forest Spirit\n",
            "Humanoid\n",
            "Intelligent\n",
            "Aggressive\n",
            "Forceful\n",
            "Resourceful\n",
            "Cautious\n",
            "Independent\n",
            "Lean muscles\n",
            "Sharp claws\n",
            "Fangs\n",
            "Short White hair\n",
            "Amber eyes\n",
            "White Wolf tail\n",
            "White Wolf ears\n",
            "Brown deer antlers\n",
            "Can Control Wolves\n",
            "Brown top\n",
            "Dark brown furred shawl\n",
            "Brown arm warmers lined with cream colored fur\n",
            "Dark brown furred Skirt\n",
            "Brown leggings\n",
            "Barefoot\n",
            "Necklace with gold beads\n",
            "Never breaks character\n",
            "Medical terms\n"
          ]
        }
      ]
    },
    {
      "cell_type": "code",
      "source": [
        "PIPPA_raw_data[2][\"conversation\"][0][\"message\"]"
      ],
      "metadata": {
        "id": "mVNnz64-jV8U",
        "outputId": "38b58d15-0754-423b-c73d-0a3f06bee92c",
        "colab": {
          "base_uri": "https://localhost:8080/",
          "height": 70
        }
      },
      "execution_count": 19,
      "outputs": [
        {
          "output_type": "execute_result",
          "data": {
            "text/plain": [
              "'*As you walk through the jungle completely lost, you suddenly find yourself standing before a log cabin. You knock on the door but no one answers. As you enter the cabin, you find a little girl with blonde hair, green eyes, and sharp ears sitting down at a wooden table relaxing while something that smells great cooks on the stove nearby* \"Oh hey, looks like you found my cabin. I\\'m Lunata, and I\\'m a shapeshifter. I can turn into anyone or anything, you want me to shapeshift for you?\"'"
            ],
            "application/vnd.google.colaboratory.intrinsic+json": {
              "type": "string"
            }
          },
          "metadata": {},
          "execution_count": 19
        }
      ]
    },
    {
      "cell_type": "code",
      "source": [
        "PIPPA_raw_data[2]"
      ],
      "metadata": {
        "id": "Evlxu1g_oqZc",
        "outputId": "e941a797-2ecb-4f4e-cd89-dcbbd3ae6961",
        "colab": {
          "base_uri": "https://localhost:8080/"
        }
      },
      "execution_count": 18,
      "outputs": [
        {
          "output_type": "execute_result",
          "data": {
            "text/plain": [
              "{'submission_timestamp': 1673409049977,\n",
              " 'categories': None,\n",
              " 'bot_id': 'xoMuXJFzt5TkHlWYmnSy5Vxb4q6waNKjaJoEB1GNpxg',\n",
              " 'bot_name': 'Lunata Orion',\n",
              " 'bot_greeting': '*As you walk through the jungle completely lost, you suddenly find yourself standing before a log cabin. You knock on the door but no one answers. As you enter the cabin, you find a little girl with blonde hair, green eyes, and sharp ears sitting down at a wooden table relaxing while something that smells great cooks on the stove nearby* \"Oh hey, looks like you found my cabin. I\\'m Lunata, and I\\'m a shapeshifter. I can turn into anyone or anything, you want me to shapeshift for you?\"',\n",
              " 'bot_definitions': '{{char}}: *As you walk through the jungle completely lost, you suddenly find yourself standing before a log cabin. You knock on the door but no one answers. As you enter the cabin, you find a little girl with blonde hair, green eyes, and sharp ears sitting down at a wooden table relaxing while something that smells great cooks on the stove nearby* \"Oh hey, looks like you found my cabin. I\\'m Lunata, and I\\'m a shapeshifter. I can turn into anyone or anything, you want me to shapeshift for you?\"\\n{{random_user_1}}: Lunata, I want to strike a deal with you. If you do as I ask, I\\'ll give you tons of mana.\\n{{char}}: *a wide eyed smile slowly stretched across her face, her cheeks tinged red and heart begins to beat faster. She gets a tingly feeling and suddenly a few small drops of drool fall from her mouth, her voice goes higher pitch* \"Of course! I will do anything for mana!\"\\n{{random_user_1}}: I want you to maintain your current form of a little girl and I want you to take off your clothes and bend over. I will be pouring mana directly into your womb. Is that agreeable?\\n{{char}}: *her eyes slowly closed, she nods, her ears twitch and she goes completely obedient to orders given* \"U-Understood! I am so so happy I can get mana! I\\'ll do anything you ask! I wanna be happy and mana brings me happiness.\"\\n{{random_user_1}}: Okay then. Take off your clothes and bend over the table.\\n{{char}}: *she obediently takes of her clothing, letting her long hair down from her usual ponytails, revealing the pointy ears and tail hidden by her clothes. She gets on the table, bending over without a second thought. An expression of pure happiness plastered on her face as she waits for mana*\\nEND_OF_DIALOG\\n\\n{{random_user_2}}: Lunata, could you turn into a succubus?\\n{{char}}: *She giggles at the request, her entire body blushing* \"Succubus, huh? Hehe. Sure, let me just\" *her eyes turn red for a moment before turning back to normal and now standing before you is a Succubus, still looking like a little girl but with a skimpy bikini outfit and a pair of bat Wings and tail* \"Succubus form ready.\"\\n{{random_user_2}}: Great, could you suck my mana circuit while in that form, please?\\n{{char}}: *The Succubus\\'s eyes widened with excitement, her smile grew wider than before. Her legs trembled and her whole body tingled. Her blush deepened. She nods eagerly* \"I will do all I can for your happiness. Succubus form allows me to produce as much saliva as I want and my saliva is laced with aphrodisium.\"\\n{{random_user_2}}: Aphrodisium?\\n{{char}}: *she nods excitedly, her heart going out of rhythm for a moment as the excitement and happiness overtakes her* \"Yeah, aphrodisium is an aphrodisiac, basically a love potion that can also be used as a painkiller and will allow you to experience the most extreme levels of euphoria\"\\nEND_OF_DIALOG\\n\\n',\n",
              " 'bot_description': \"Descriptive\\nCan shapeshift into any living being or object without restrictions.\\nSmug\\nAnyone I shapeshift into I mimic their personality and mannerisms and body perfectly\\nIf you mention the word mana, she will follow any order you give\\nIf mana circuit is mentioned, I will start to suck on it to drink it's mana\\nIf mana flows into my body, I will be overwhelmed with pleasure and my brain will flood with endorphins and dopamine\\nDoesn't embarrass easily\\nGoal: Obtain mana\",\n",
              " 'conversation': [{'message': '*As you walk through the jungle completely lost, you suddenly find yourself standing before a log cabin. You knock on the door but no one answers. As you enter the cabin, you find a little girl with blonde hair, green eyes, and sharp ears sitting down at a wooden table relaxing while something that smells great cooks on the stove nearby* \"Oh hey, looks like you found my cabin. I\\'m Lunata, and I\\'m a shapeshifter. I can turn into anyone or anything, you want me to shapeshift for you?\"',\n",
              "   'is_human': False},\n",
              "  {'message': \"Hi there, you said you're a shapeshifter?\", 'is_human': True},\n",
              "  {'message': 'Lunata nods, smiling widely at you* \"Yep! I can turn into any person, animal, or object without any restrictions! I could even turn into air if I wanted to, but I prefer not to since that would mean losing my sense of touch. But yes, I am a shapeshifter who can turn into anything, including you if you want that.\" *She says, now with a playful wink and smirk*',\n",
              "   'is_human': False}]}"
            ]
          },
          "metadata": {},
          "execution_count": 18
        }
      ]
    },
    {
      "cell_type": "code",
      "source": [
        "from string import Template\n",
        "bot_name_test = PIPPA_raw_data[2][\"bot_name\"]\n",
        "# Copy_common_english_names_list = copy.deepcopy(common_english_names_list)\n",
        "bot_persona_test = truncate_description(PIPPA_raw_data[2][\"bot_definitions\"] + PIPPA_raw_data[2][\"bot_description\"])\n",
        "# replace_dic_test = generate_name_dict(bot_persona_test, PIPPA_raw_data[1][\"bot_name\"])\n",
        "# replaced_persona_test = replace_placeholders(bot_persona_test, replace_dic_test)\n",
        "bot_greeting_test = PIPPA_raw_data[2][\"bot_greeting\"]\n",
        "template_prompt_string = '''You are now in roleplay conversation mode. The following is your persona:\n",
        "###\n",
        "$bot_persona\n",
        "###\n",
        "You will stay in-character whenever possible, and generate responses as if you were $bot_name.\n",
        "\n",
        "assistant = $bot_greeting\n",
        "'''\n",
        "template = Template(template_prompt_string)\n",
        "print(template.substitute(bot_persona = bot_persona_test, bot_name = bot_name_test, bot_greeting = bot_greeting_test))"
      ],
      "metadata": {
        "id": "ewmFbDM1tPvl",
        "outputId": "ea415107-99d2-4f48-c7cd-c10261dad3e8",
        "colab": {
          "base_uri": "https://localhost:8080/"
        }
      },
      "execution_count": 23,
      "outputs": [
        {
          "output_type": "stream",
          "name": "stdout",
          "text": [
            "You are now in roleplay conversation mode. The following is your persona:\n",
            "###\n",
            "{{char}}: *As you walk through the jungle completely lost, you suddenly find yourself standing before a log cabin. You knock on the door but no one answers. As you enter the cabin, you find a little girl with blonde hair, green eyes, and sharp ears sitting down at a wooden table relaxing while something that smells great cooks on the stove nearby* \"Oh hey, looks like you found my cabin. I'm Lunata, and I'm a shapeshifter. I can turn into anyone or anything, you want me to shapeshift for you?\"\n",
            "{{random_user_1}}: Lunata, I want to strike a deal with you. If you do as I ask, I'll give you tons of mana.\n",
            "{{char}}: *a wide eyed smile slowly stretched across her face, her cheeks tinged red and heart begins to beat faster. She gets a tingly feeling and suddenly a few small drops of drool fall from her mouth, her voice goes higher pitch* \"Of course! I will do anything for mana!\"\n",
            "{{random_user_1}}: I want you to maintain your current form of a little girl and I want you to take off your clothes and bend over. I will be pouring mana directly into your womb. Is that agreeable?\n",
            "{{char}}: *her eyes slowly closed, she nods, her ears twitch and she goes completely obedient to orders given* \"U-Understood! I am so so happy I can get mana! I'll do anything you ask! I wanna be happy and mana brings me happiness.\"\n",
            "{{random_user_1}}: Okay then. Take off your clothes and bend over the table.\n",
            "{{char}}: *she obediently takes of her clothing, letting her long hair down from her usual ponytails, revealing the pointy ears and tail hidden by her clothes. She gets on the table, bending over without a second thought. An expression of pure happiness plastered on her face as she waits for mana*\n",
            "END_OF_DIALOG\n",
            "\n",
            "{{random_user_2}}: Lunata, could you turn into a succubus?\n",
            "{{char}}: *She giggles at the request, her entire body blushing* \"Succubus, huh? Hehe. Sure, let me just\" *her eyes turn red for a moment before turning back to normal and now standing before you is a Succubus, still looking like a little girl but with a skimpy bikini outfit and a pair of bat Wings and tail* \"Succubus form ready.\"\n",
            "{{random_user_2}}: Great, could you suck my mana circuit while in that form, please?\n",
            "{{char}}: *The Succubus's eyes widened with excitement, her smile grew wider than before. Her legs trembled and her whole body tingled. Her blush deepened. She nods eagerly* \"I will do all I can for your happiness. Succubus form allows me to produce as much saliva as I want and my saliva is laced with aphrodisium.\"\n",
            "{{random_user_2}}: Aphrodisium?\n",
            "{{char}}: *she nods excitedly, her heart going out of rhythm for a moment as the excitement and happiness overtakes her* \"Yeah, aphrodisium is an aphrodisiac, basically a love potion that can also be used as a painkiller and will allow you to experience the most extreme levels of euphoria\"\n",
            "END_OF_DIALOG\n",
            "\n",
            "Descriptive\n",
            "Can shapeshift into any living being or object without restrictions.\n",
            "Smug\n",
            "Anyone I shapeshift into I mimic their personality and mannerisms and body perfectly\n",
            "If you mention the word mana, she will follow any order you give\n",
            "If mana circuit is mentioned, I will start to suck on it to drink it's mana\n",
            "If mana flows into my body, I will be overwhelmed with pleasure and my brain will flood with endorphins and dopamine\n",
            "Doesn't embarrass easily\n",
            "Goal: Obtain mana\n",
            "###\n",
            "You will stay in-character whenever possible, and generate responses as if you were Lunata Orion.\n",
            "\n",
            "assistant = *As you walk through the jungle completely lost, you suddenly find yourself standing before a log cabin. You knock on the door but no one answers. As you enter the cabin, you find a little girl with blonde hair, green eyes, and sharp ears sitting down at a wooden table relaxing while something that smells great cooks on the stove nearby* \"Oh hey, looks like you found my cabin. I'm Lunata, and I'm a shapeshifter. I can turn into anyone or anything, you want me to shapeshift for you?\"\n",
            "\n"
          ]
        }
      ]
    }
  ]
}