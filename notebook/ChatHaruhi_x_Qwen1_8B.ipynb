{
  "nbformat": 4,
  "nbformat_minor": 0,
  "metadata": {
    "colab": {
      "provenance": [],
      "machine_shape": "hm",
      "gpuType": "T4",
      "include_colab_link": true
    },
    "kernelspec": {
      "name": "python3",
      "display_name": "Python 3"
    },
    "language_info": {
      "name": "python"
    },
    "accelerator": "GPU",
    "widgets": {
      "application/vnd.jupyter.widget-state+json": {
        "655f9d94cc9c4d94930512e01aac3b57": {
          "model_module": "@jupyter-widgets/controls",
          "model_name": "VBoxModel",
          "model_module_version": "1.5.0",
          "state": {
            "_dom_classes": [],
            "_model_module": "@jupyter-widgets/controls",
            "_model_module_version": "1.5.0",
            "_model_name": "VBoxModel",
            "_view_count": null,
            "_view_module": "@jupyter-widgets/controls",
            "_view_module_version": "1.5.0",
            "_view_name": "VBoxView",
            "box_style": "",
            "children": [
              "IPY_MODEL_65c4b8c5c4854faab7575161818c833a",
              "IPY_MODEL_86d57a1c8eb24b439a6c65465309f7a0",
              "IPY_MODEL_cdfa8690fe454257a36b26b4845600e3",
              "IPY_MODEL_8833df8ec03d4f0c9f604dd7c27d0e52"
            ],
            "layout": "IPY_MODEL_24db3fdf73b44d468e0c9720c7249f85"
          }
        },
        "7decab2116fb4030a88d155efb31bdd3": {
          "model_module": "@jupyter-widgets/controls",
          "model_name": "HTMLModel",
          "model_module_version": "1.5.0",
          "state": {
            "_dom_classes": [],
            "_model_module": "@jupyter-widgets/controls",
            "_model_module_version": "1.5.0",
            "_model_name": "HTMLModel",
            "_view_count": null,
            "_view_module": "@jupyter-widgets/controls",
            "_view_module_version": "1.5.0",
            "_view_name": "HTMLView",
            "description": "",
            "description_tooltip": null,
            "layout": "IPY_MODEL_b45be09197ab46c996ccdeae1900f033",
            "placeholder": "​",
            "style": "IPY_MODEL_ea9ac4e8afdc457fbc9ab62d687c6ad6",
            "value": "<center> <img\nsrc=https://huggingface.co/front/assets/huggingface_logo-noborder.svg\nalt='Hugging Face'> <br> Copy a token from <a\nhref=\"https://huggingface.co/settings/tokens\" target=\"_blank\">your Hugging Face\ntokens page</a> and paste it below. <br> Immediately click login after copying\nyour token or it might be stored in plain text in this notebook file. </center>"
          }
        },
        "8c4294261d2d49038958004fbcd493ea": {
          "model_module": "@jupyter-widgets/controls",
          "model_name": "PasswordModel",
          "model_module_version": "1.5.0",
          "state": {
            "_dom_classes": [],
            "_model_module": "@jupyter-widgets/controls",
            "_model_module_version": "1.5.0",
            "_model_name": "PasswordModel",
            "_view_count": null,
            "_view_module": "@jupyter-widgets/controls",
            "_view_module_version": "1.5.0",
            "_view_name": "PasswordView",
            "continuous_update": true,
            "description": "Token:",
            "description_tooltip": null,
            "disabled": false,
            "layout": "IPY_MODEL_2e60b2dc74f44c63bf38c0e4423b7b87",
            "placeholder": "​",
            "style": "IPY_MODEL_dbea16f65987428d994d30f8f6b1d52f",
            "value": ""
          }
        },
        "a7b704bafcf44b22940740f51da227a1": {
          "model_module": "@jupyter-widgets/controls",
          "model_name": "CheckboxModel",
          "model_module_version": "1.5.0",
          "state": {
            "_dom_classes": [],
            "_model_module": "@jupyter-widgets/controls",
            "_model_module_version": "1.5.0",
            "_model_name": "CheckboxModel",
            "_view_count": null,
            "_view_module": "@jupyter-widgets/controls",
            "_view_module_version": "1.5.0",
            "_view_name": "CheckboxView",
            "description": "Add token as git credential?",
            "description_tooltip": null,
            "disabled": false,
            "indent": true,
            "layout": "IPY_MODEL_53420f3e968d4bb28a955469759eb3d6",
            "style": "IPY_MODEL_8c5d378d2f8d4325bcfb1e689e4927d6",
            "value": true
          }
        },
        "ae6a749ef7ce4d3d8926c35cd3295d23": {
          "model_module": "@jupyter-widgets/controls",
          "model_name": "ButtonModel",
          "model_module_version": "1.5.0",
          "state": {
            "_dom_classes": [],
            "_model_module": "@jupyter-widgets/controls",
            "_model_module_version": "1.5.0",
            "_model_name": "ButtonModel",
            "_view_count": null,
            "_view_module": "@jupyter-widgets/controls",
            "_view_module_version": "1.5.0",
            "_view_name": "ButtonView",
            "button_style": "",
            "description": "Login",
            "disabled": false,
            "icon": "",
            "layout": "IPY_MODEL_46b4f62b8c1b40b68693e3c2c07fdff0",
            "style": "IPY_MODEL_fd375a1d6ec141b2877cf16080a624ac",
            "tooltip": ""
          }
        },
        "d10ef324ea3d4b61919a2325156fcca3": {
          "model_module": "@jupyter-widgets/controls",
          "model_name": "HTMLModel",
          "model_module_version": "1.5.0",
          "state": {
            "_dom_classes": [],
            "_model_module": "@jupyter-widgets/controls",
            "_model_module_version": "1.5.0",
            "_model_name": "HTMLModel",
            "_view_count": null,
            "_view_module": "@jupyter-widgets/controls",
            "_view_module_version": "1.5.0",
            "_view_name": "HTMLView",
            "description": "",
            "description_tooltip": null,
            "layout": "IPY_MODEL_142bd2a6bf854471b55b1193c7440fd5",
            "placeholder": "​",
            "style": "IPY_MODEL_6a481059e2314937a7d36db7a7e4f5fd",
            "value": "\n<b>Pro Tip:</b> If you don't already have one, you can create a dedicated\n'notebooks' token with 'write' access, that you can then easily reuse for all\nnotebooks. </center>"
          }
        },
        "24db3fdf73b44d468e0c9720c7249f85": {
          "model_module": "@jupyter-widgets/base",
          "model_name": "LayoutModel",
          "model_module_version": "1.2.0",
          "state": {
            "_model_module": "@jupyter-widgets/base",
            "_model_module_version": "1.2.0",
            "_model_name": "LayoutModel",
            "_view_count": null,
            "_view_module": "@jupyter-widgets/base",
            "_view_module_version": "1.2.0",
            "_view_name": "LayoutView",
            "align_content": null,
            "align_items": "center",
            "align_self": null,
            "border": null,
            "bottom": null,
            "display": "flex",
            "flex": null,
            "flex_flow": "column",
            "grid_area": null,
            "grid_auto_columns": null,
            "grid_auto_flow": null,
            "grid_auto_rows": null,
            "grid_column": null,
            "grid_gap": null,
            "grid_row": null,
            "grid_template_areas": null,
            "grid_template_columns": null,
            "grid_template_rows": null,
            "height": null,
            "justify_content": null,
            "justify_items": null,
            "left": null,
            "margin": null,
            "max_height": null,
            "max_width": null,
            "min_height": null,
            "min_width": null,
            "object_fit": null,
            "object_position": null,
            "order": null,
            "overflow": null,
            "overflow_x": null,
            "overflow_y": null,
            "padding": null,
            "right": null,
            "top": null,
            "visibility": null,
            "width": "50%"
          }
        },
        "b45be09197ab46c996ccdeae1900f033": {
          "model_module": "@jupyter-widgets/base",
          "model_name": "LayoutModel",
          "model_module_version": "1.2.0",
          "state": {
            "_model_module": "@jupyter-widgets/base",
            "_model_module_version": "1.2.0",
            "_model_name": "LayoutModel",
            "_view_count": null,
            "_view_module": "@jupyter-widgets/base",
            "_view_module_version": "1.2.0",
            "_view_name": "LayoutView",
            "align_content": null,
            "align_items": null,
            "align_self": null,
            "border": null,
            "bottom": null,
            "display": null,
            "flex": null,
            "flex_flow": null,
            "grid_area": null,
            "grid_auto_columns": null,
            "grid_auto_flow": null,
            "grid_auto_rows": null,
            "grid_column": null,
            "grid_gap": null,
            "grid_row": null,
            "grid_template_areas": null,
            "grid_template_columns": null,
            "grid_template_rows": null,
            "height": null,
            "justify_content": null,
            "justify_items": null,
            "left": null,
            "margin": null,
            "max_height": null,
            "max_width": null,
            "min_height": null,
            "min_width": null,
            "object_fit": null,
            "object_position": null,
            "order": null,
            "overflow": null,
            "overflow_x": null,
            "overflow_y": null,
            "padding": null,
            "right": null,
            "top": null,
            "visibility": null,
            "width": null
          }
        },
        "ea9ac4e8afdc457fbc9ab62d687c6ad6": {
          "model_module": "@jupyter-widgets/controls",
          "model_name": "DescriptionStyleModel",
          "model_module_version": "1.5.0",
          "state": {
            "_model_module": "@jupyter-widgets/controls",
            "_model_module_version": "1.5.0",
            "_model_name": "DescriptionStyleModel",
            "_view_count": null,
            "_view_module": "@jupyter-widgets/base",
            "_view_module_version": "1.2.0",
            "_view_name": "StyleView",
            "description_width": ""
          }
        },
        "2e60b2dc74f44c63bf38c0e4423b7b87": {
          "model_module": "@jupyter-widgets/base",
          "model_name": "LayoutModel",
          "model_module_version": "1.2.0",
          "state": {
            "_model_module": "@jupyter-widgets/base",
            "_model_module_version": "1.2.0",
            "_model_name": "LayoutModel",
            "_view_count": null,
            "_view_module": "@jupyter-widgets/base",
            "_view_module_version": "1.2.0",
            "_view_name": "LayoutView",
            "align_content": null,
            "align_items": null,
            "align_self": null,
            "border": null,
            "bottom": null,
            "display": null,
            "flex": null,
            "flex_flow": null,
            "grid_area": null,
            "grid_auto_columns": null,
            "grid_auto_flow": null,
            "grid_auto_rows": null,
            "grid_column": null,
            "grid_gap": null,
            "grid_row": null,
            "grid_template_areas": null,
            "grid_template_columns": null,
            "grid_template_rows": null,
            "height": null,
            "justify_content": null,
            "justify_items": null,
            "left": null,
            "margin": null,
            "max_height": null,
            "max_width": null,
            "min_height": null,
            "min_width": null,
            "object_fit": null,
            "object_position": null,
            "order": null,
            "overflow": null,
            "overflow_x": null,
            "overflow_y": null,
            "padding": null,
            "right": null,
            "top": null,
            "visibility": null,
            "width": null
          }
        },
        "dbea16f65987428d994d30f8f6b1d52f": {
          "model_module": "@jupyter-widgets/controls",
          "model_name": "DescriptionStyleModel",
          "model_module_version": "1.5.0",
          "state": {
            "_model_module": "@jupyter-widgets/controls",
            "_model_module_version": "1.5.0",
            "_model_name": "DescriptionStyleModel",
            "_view_count": null,
            "_view_module": "@jupyter-widgets/base",
            "_view_module_version": "1.2.0",
            "_view_name": "StyleView",
            "description_width": ""
          }
        },
        "53420f3e968d4bb28a955469759eb3d6": {
          "model_module": "@jupyter-widgets/base",
          "model_name": "LayoutModel",
          "model_module_version": "1.2.0",
          "state": {
            "_model_module": "@jupyter-widgets/base",
            "_model_module_version": "1.2.0",
            "_model_name": "LayoutModel",
            "_view_count": null,
            "_view_module": "@jupyter-widgets/base",
            "_view_module_version": "1.2.0",
            "_view_name": "LayoutView",
            "align_content": null,
            "align_items": null,
            "align_self": null,
            "border": null,
            "bottom": null,
            "display": null,
            "flex": null,
            "flex_flow": null,
            "grid_area": null,
            "grid_auto_columns": null,
            "grid_auto_flow": null,
            "grid_auto_rows": null,
            "grid_column": null,
            "grid_gap": null,
            "grid_row": null,
            "grid_template_areas": null,
            "grid_template_columns": null,
            "grid_template_rows": null,
            "height": null,
            "justify_content": null,
            "justify_items": null,
            "left": null,
            "margin": null,
            "max_height": null,
            "max_width": null,
            "min_height": null,
            "min_width": null,
            "object_fit": null,
            "object_position": null,
            "order": null,
            "overflow": null,
            "overflow_x": null,
            "overflow_y": null,
            "padding": null,
            "right": null,
            "top": null,
            "visibility": null,
            "width": null
          }
        },
        "8c5d378d2f8d4325bcfb1e689e4927d6": {
          "model_module": "@jupyter-widgets/controls",
          "model_name": "DescriptionStyleModel",
          "model_module_version": "1.5.0",
          "state": {
            "_model_module": "@jupyter-widgets/controls",
            "_model_module_version": "1.5.0",
            "_model_name": "DescriptionStyleModel",
            "_view_count": null,
            "_view_module": "@jupyter-widgets/base",
            "_view_module_version": "1.2.0",
            "_view_name": "StyleView",
            "description_width": ""
          }
        },
        "46b4f62b8c1b40b68693e3c2c07fdff0": {
          "model_module": "@jupyter-widgets/base",
          "model_name": "LayoutModel",
          "model_module_version": "1.2.0",
          "state": {
            "_model_module": "@jupyter-widgets/base",
            "_model_module_version": "1.2.0",
            "_model_name": "LayoutModel",
            "_view_count": null,
            "_view_module": "@jupyter-widgets/base",
            "_view_module_version": "1.2.0",
            "_view_name": "LayoutView",
            "align_content": null,
            "align_items": null,
            "align_self": null,
            "border": null,
            "bottom": null,
            "display": null,
            "flex": null,
            "flex_flow": null,
            "grid_area": null,
            "grid_auto_columns": null,
            "grid_auto_flow": null,
            "grid_auto_rows": null,
            "grid_column": null,
            "grid_gap": null,
            "grid_row": null,
            "grid_template_areas": null,
            "grid_template_columns": null,
            "grid_template_rows": null,
            "height": null,
            "justify_content": null,
            "justify_items": null,
            "left": null,
            "margin": null,
            "max_height": null,
            "max_width": null,
            "min_height": null,
            "min_width": null,
            "object_fit": null,
            "object_position": null,
            "order": null,
            "overflow": null,
            "overflow_x": null,
            "overflow_y": null,
            "padding": null,
            "right": null,
            "top": null,
            "visibility": null,
            "width": null
          }
        },
        "fd375a1d6ec141b2877cf16080a624ac": {
          "model_module": "@jupyter-widgets/controls",
          "model_name": "ButtonStyleModel",
          "model_module_version": "1.5.0",
          "state": {
            "_model_module": "@jupyter-widgets/controls",
            "_model_module_version": "1.5.0",
            "_model_name": "ButtonStyleModel",
            "_view_count": null,
            "_view_module": "@jupyter-widgets/base",
            "_view_module_version": "1.2.0",
            "_view_name": "StyleView",
            "button_color": null,
            "font_weight": ""
          }
        },
        "142bd2a6bf854471b55b1193c7440fd5": {
          "model_module": "@jupyter-widgets/base",
          "model_name": "LayoutModel",
          "model_module_version": "1.2.0",
          "state": {
            "_model_module": "@jupyter-widgets/base",
            "_model_module_version": "1.2.0",
            "_model_name": "LayoutModel",
            "_view_count": null,
            "_view_module": "@jupyter-widgets/base",
            "_view_module_version": "1.2.0",
            "_view_name": "LayoutView",
            "align_content": null,
            "align_items": null,
            "align_self": null,
            "border": null,
            "bottom": null,
            "display": null,
            "flex": null,
            "flex_flow": null,
            "grid_area": null,
            "grid_auto_columns": null,
            "grid_auto_flow": null,
            "grid_auto_rows": null,
            "grid_column": null,
            "grid_gap": null,
            "grid_row": null,
            "grid_template_areas": null,
            "grid_template_columns": null,
            "grid_template_rows": null,
            "height": null,
            "justify_content": null,
            "justify_items": null,
            "left": null,
            "margin": null,
            "max_height": null,
            "max_width": null,
            "min_height": null,
            "min_width": null,
            "object_fit": null,
            "object_position": null,
            "order": null,
            "overflow": null,
            "overflow_x": null,
            "overflow_y": null,
            "padding": null,
            "right": null,
            "top": null,
            "visibility": null,
            "width": null
          }
        },
        "6a481059e2314937a7d36db7a7e4f5fd": {
          "model_module": "@jupyter-widgets/controls",
          "model_name": "DescriptionStyleModel",
          "model_module_version": "1.5.0",
          "state": {
            "_model_module": "@jupyter-widgets/controls",
            "_model_module_version": "1.5.0",
            "_model_name": "DescriptionStyleModel",
            "_view_count": null,
            "_view_module": "@jupyter-widgets/base",
            "_view_module_version": "1.2.0",
            "_view_name": "StyleView",
            "description_width": ""
          }
        },
        "271b18063a084c398f8c6788c2ec52ed": {
          "model_module": "@jupyter-widgets/controls",
          "model_name": "LabelModel",
          "model_module_version": "1.5.0",
          "state": {
            "_dom_classes": [],
            "_model_module": "@jupyter-widgets/controls",
            "_model_module_version": "1.5.0",
            "_model_name": "LabelModel",
            "_view_count": null,
            "_view_module": "@jupyter-widgets/controls",
            "_view_module_version": "1.5.0",
            "_view_name": "LabelView",
            "description": "",
            "description_tooltip": null,
            "layout": "IPY_MODEL_b613987c94f84d4abdd9cebfe6abe3d0",
            "placeholder": "​",
            "style": "IPY_MODEL_94b0d48f38274212abcd2d86279db778",
            "value": "Connecting..."
          }
        },
        "b613987c94f84d4abdd9cebfe6abe3d0": {
          "model_module": "@jupyter-widgets/base",
          "model_name": "LayoutModel",
          "model_module_version": "1.2.0",
          "state": {
            "_model_module": "@jupyter-widgets/base",
            "_model_module_version": "1.2.0",
            "_model_name": "LayoutModel",
            "_view_count": null,
            "_view_module": "@jupyter-widgets/base",
            "_view_module_version": "1.2.0",
            "_view_name": "LayoutView",
            "align_content": null,
            "align_items": null,
            "align_self": null,
            "border": null,
            "bottom": null,
            "display": null,
            "flex": null,
            "flex_flow": null,
            "grid_area": null,
            "grid_auto_columns": null,
            "grid_auto_flow": null,
            "grid_auto_rows": null,
            "grid_column": null,
            "grid_gap": null,
            "grid_row": null,
            "grid_template_areas": null,
            "grid_template_columns": null,
            "grid_template_rows": null,
            "height": null,
            "justify_content": null,
            "justify_items": null,
            "left": null,
            "margin": null,
            "max_height": null,
            "max_width": null,
            "min_height": null,
            "min_width": null,
            "object_fit": null,
            "object_position": null,
            "order": null,
            "overflow": null,
            "overflow_x": null,
            "overflow_y": null,
            "padding": null,
            "right": null,
            "top": null,
            "visibility": null,
            "width": null
          }
        },
        "94b0d48f38274212abcd2d86279db778": {
          "model_module": "@jupyter-widgets/controls",
          "model_name": "DescriptionStyleModel",
          "model_module_version": "1.5.0",
          "state": {
            "_model_module": "@jupyter-widgets/controls",
            "_model_module_version": "1.5.0",
            "_model_name": "DescriptionStyleModel",
            "_view_count": null,
            "_view_module": "@jupyter-widgets/base",
            "_view_module_version": "1.2.0",
            "_view_name": "StyleView",
            "description_width": ""
          }
        },
        "65c4b8c5c4854faab7575161818c833a": {
          "model_module": "@jupyter-widgets/controls",
          "model_name": "LabelModel",
          "model_module_version": "1.5.0",
          "state": {
            "_dom_classes": [],
            "_model_module": "@jupyter-widgets/controls",
            "_model_module_version": "1.5.0",
            "_model_name": "LabelModel",
            "_view_count": null,
            "_view_module": "@jupyter-widgets/controls",
            "_view_module_version": "1.5.0",
            "_view_name": "LabelView",
            "description": "",
            "description_tooltip": null,
            "layout": "IPY_MODEL_e27f8b9e399b460196da94a0e0274412",
            "placeholder": "​",
            "style": "IPY_MODEL_70178388fa514f6081e842ae83965320",
            "value": "Token is valid (permission: read)."
          }
        },
        "86d57a1c8eb24b439a6c65465309f7a0": {
          "model_module": "@jupyter-widgets/controls",
          "model_name": "LabelModel",
          "model_module_version": "1.5.0",
          "state": {
            "_dom_classes": [],
            "_model_module": "@jupyter-widgets/controls",
            "_model_module_version": "1.5.0",
            "_model_name": "LabelModel",
            "_view_count": null,
            "_view_module": "@jupyter-widgets/controls",
            "_view_module_version": "1.5.0",
            "_view_name": "LabelView",
            "description": "",
            "description_tooltip": null,
            "layout": "IPY_MODEL_b59b5b72ea744b11b0749caa4d4e2af2",
            "placeholder": "​",
            "style": "IPY_MODEL_68c48a5b206e46ddb90158043d539595",
            "value": "Your token has been saved in your configured git credential helpers (store)."
          }
        },
        "cdfa8690fe454257a36b26b4845600e3": {
          "model_module": "@jupyter-widgets/controls",
          "model_name": "LabelModel",
          "model_module_version": "1.5.0",
          "state": {
            "_dom_classes": [],
            "_model_module": "@jupyter-widgets/controls",
            "_model_module_version": "1.5.0",
            "_model_name": "LabelModel",
            "_view_count": null,
            "_view_module": "@jupyter-widgets/controls",
            "_view_module_version": "1.5.0",
            "_view_name": "LabelView",
            "description": "",
            "description_tooltip": null,
            "layout": "IPY_MODEL_be0d9028de1d44f5be52edb4fdcc0fd6",
            "placeholder": "​",
            "style": "IPY_MODEL_54e68f466f86437bbe0b16d4d33b3602",
            "value": "Your token has been saved to /root/.cache/huggingface/token"
          }
        },
        "8833df8ec03d4f0c9f604dd7c27d0e52": {
          "model_module": "@jupyter-widgets/controls",
          "model_name": "LabelModel",
          "model_module_version": "1.5.0",
          "state": {
            "_dom_classes": [],
            "_model_module": "@jupyter-widgets/controls",
            "_model_module_version": "1.5.0",
            "_model_name": "LabelModel",
            "_view_count": null,
            "_view_module": "@jupyter-widgets/controls",
            "_view_module_version": "1.5.0",
            "_view_name": "LabelView",
            "description": "",
            "description_tooltip": null,
            "layout": "IPY_MODEL_1970aee2ad8c48809af45e6cf78b29a4",
            "placeholder": "​",
            "style": "IPY_MODEL_56d3d681e19845c887c967c101ff59b2",
            "value": "Login successful"
          }
        },
        "e27f8b9e399b460196da94a0e0274412": {
          "model_module": "@jupyter-widgets/base",
          "model_name": "LayoutModel",
          "model_module_version": "1.2.0",
          "state": {
            "_model_module": "@jupyter-widgets/base",
            "_model_module_version": "1.2.0",
            "_model_name": "LayoutModel",
            "_view_count": null,
            "_view_module": "@jupyter-widgets/base",
            "_view_module_version": "1.2.0",
            "_view_name": "LayoutView",
            "align_content": null,
            "align_items": null,
            "align_self": null,
            "border": null,
            "bottom": null,
            "display": null,
            "flex": null,
            "flex_flow": null,
            "grid_area": null,
            "grid_auto_columns": null,
            "grid_auto_flow": null,
            "grid_auto_rows": null,
            "grid_column": null,
            "grid_gap": null,
            "grid_row": null,
            "grid_template_areas": null,
            "grid_template_columns": null,
            "grid_template_rows": null,
            "height": null,
            "justify_content": null,
            "justify_items": null,
            "left": null,
            "margin": null,
            "max_height": null,
            "max_width": null,
            "min_height": null,
            "min_width": null,
            "object_fit": null,
            "object_position": null,
            "order": null,
            "overflow": null,
            "overflow_x": null,
            "overflow_y": null,
            "padding": null,
            "right": null,
            "top": null,
            "visibility": null,
            "width": null
          }
        },
        "70178388fa514f6081e842ae83965320": {
          "model_module": "@jupyter-widgets/controls",
          "model_name": "DescriptionStyleModel",
          "model_module_version": "1.5.0",
          "state": {
            "_model_module": "@jupyter-widgets/controls",
            "_model_module_version": "1.5.0",
            "_model_name": "DescriptionStyleModel",
            "_view_count": null,
            "_view_module": "@jupyter-widgets/base",
            "_view_module_version": "1.2.0",
            "_view_name": "StyleView",
            "description_width": ""
          }
        },
        "b59b5b72ea744b11b0749caa4d4e2af2": {
          "model_module": "@jupyter-widgets/base",
          "model_name": "LayoutModel",
          "model_module_version": "1.2.0",
          "state": {
            "_model_module": "@jupyter-widgets/base",
            "_model_module_version": "1.2.0",
            "_model_name": "LayoutModel",
            "_view_count": null,
            "_view_module": "@jupyter-widgets/base",
            "_view_module_version": "1.2.0",
            "_view_name": "LayoutView",
            "align_content": null,
            "align_items": null,
            "align_self": null,
            "border": null,
            "bottom": null,
            "display": null,
            "flex": null,
            "flex_flow": null,
            "grid_area": null,
            "grid_auto_columns": null,
            "grid_auto_flow": null,
            "grid_auto_rows": null,
            "grid_column": null,
            "grid_gap": null,
            "grid_row": null,
            "grid_template_areas": null,
            "grid_template_columns": null,
            "grid_template_rows": null,
            "height": null,
            "justify_content": null,
            "justify_items": null,
            "left": null,
            "margin": null,
            "max_height": null,
            "max_width": null,
            "min_height": null,
            "min_width": null,
            "object_fit": null,
            "object_position": null,
            "order": null,
            "overflow": null,
            "overflow_x": null,
            "overflow_y": null,
            "padding": null,
            "right": null,
            "top": null,
            "visibility": null,
            "width": null
          }
        },
        "68c48a5b206e46ddb90158043d539595": {
          "model_module": "@jupyter-widgets/controls",
          "model_name": "DescriptionStyleModel",
          "model_module_version": "1.5.0",
          "state": {
            "_model_module": "@jupyter-widgets/controls",
            "_model_module_version": "1.5.0",
            "_model_name": "DescriptionStyleModel",
            "_view_count": null,
            "_view_module": "@jupyter-widgets/base",
            "_view_module_version": "1.2.0",
            "_view_name": "StyleView",
            "description_width": ""
          }
        },
        "be0d9028de1d44f5be52edb4fdcc0fd6": {
          "model_module": "@jupyter-widgets/base",
          "model_name": "LayoutModel",
          "model_module_version": "1.2.0",
          "state": {
            "_model_module": "@jupyter-widgets/base",
            "_model_module_version": "1.2.0",
            "_model_name": "LayoutModel",
            "_view_count": null,
            "_view_module": "@jupyter-widgets/base",
            "_view_module_version": "1.2.0",
            "_view_name": "LayoutView",
            "align_content": null,
            "align_items": null,
            "align_self": null,
            "border": null,
            "bottom": null,
            "display": null,
            "flex": null,
            "flex_flow": null,
            "grid_area": null,
            "grid_auto_columns": null,
            "grid_auto_flow": null,
            "grid_auto_rows": null,
            "grid_column": null,
            "grid_gap": null,
            "grid_row": null,
            "grid_template_areas": null,
            "grid_template_columns": null,
            "grid_template_rows": null,
            "height": null,
            "justify_content": null,
            "justify_items": null,
            "left": null,
            "margin": null,
            "max_height": null,
            "max_width": null,
            "min_height": null,
            "min_width": null,
            "object_fit": null,
            "object_position": null,
            "order": null,
            "overflow": null,
            "overflow_x": null,
            "overflow_y": null,
            "padding": null,
            "right": null,
            "top": null,
            "visibility": null,
            "width": null
          }
        },
        "54e68f466f86437bbe0b16d4d33b3602": {
          "model_module": "@jupyter-widgets/controls",
          "model_name": "DescriptionStyleModel",
          "model_module_version": "1.5.0",
          "state": {
            "_model_module": "@jupyter-widgets/controls",
            "_model_module_version": "1.5.0",
            "_model_name": "DescriptionStyleModel",
            "_view_count": null,
            "_view_module": "@jupyter-widgets/base",
            "_view_module_version": "1.2.0",
            "_view_name": "StyleView",
            "description_width": ""
          }
        },
        "1970aee2ad8c48809af45e6cf78b29a4": {
          "model_module": "@jupyter-widgets/base",
          "model_name": "LayoutModel",
          "model_module_version": "1.2.0",
          "state": {
            "_model_module": "@jupyter-widgets/base",
            "_model_module_version": "1.2.0",
            "_model_name": "LayoutModel",
            "_view_count": null,
            "_view_module": "@jupyter-widgets/base",
            "_view_module_version": "1.2.0",
            "_view_name": "LayoutView",
            "align_content": null,
            "align_items": null,
            "align_self": null,
            "border": null,
            "bottom": null,
            "display": null,
            "flex": null,
            "flex_flow": null,
            "grid_area": null,
            "grid_auto_columns": null,
            "grid_auto_flow": null,
            "grid_auto_rows": null,
            "grid_column": null,
            "grid_gap": null,
            "grid_row": null,
            "grid_template_areas": null,
            "grid_template_columns": null,
            "grid_template_rows": null,
            "height": null,
            "justify_content": null,
            "justify_items": null,
            "left": null,
            "margin": null,
            "max_height": null,
            "max_width": null,
            "min_height": null,
            "min_width": null,
            "object_fit": null,
            "object_position": null,
            "order": null,
            "overflow": null,
            "overflow_x": null,
            "overflow_y": null,
            "padding": null,
            "right": null,
            "top": null,
            "visibility": null,
            "width": null
          }
        },
        "56d3d681e19845c887c967c101ff59b2": {
          "model_module": "@jupyter-widgets/controls",
          "model_name": "DescriptionStyleModel",
          "model_module_version": "1.5.0",
          "state": {
            "_model_module": "@jupyter-widgets/controls",
            "_model_module_version": "1.5.0",
            "_model_name": "DescriptionStyleModel",
            "_view_count": null,
            "_view_module": "@jupyter-widgets/base",
            "_view_module_version": "1.2.0",
            "_view_name": "StyleView",
            "description_width": ""
          }
        },
        "8b6e6090e61b4f188c212bfae641c5c4": {
          "model_module": "@jupyter-widgets/controls",
          "model_name": "HBoxModel",
          "model_module_version": "1.5.0",
          "state": {
            "_dom_classes": [],
            "_model_module": "@jupyter-widgets/controls",
            "_model_module_version": "1.5.0",
            "_model_name": "HBoxModel",
            "_view_count": null,
            "_view_module": "@jupyter-widgets/controls",
            "_view_module_version": "1.5.0",
            "_view_name": "HBoxView",
            "box_style": "",
            "children": [
              "IPY_MODEL_d1ea0dd724bc46c3b4658d747410a1ae",
              "IPY_MODEL_9976087346ba4e249934f03f9db0b3b4",
              "IPY_MODEL_807f7255b6244e2fb154248c2bdb00af"
            ],
            "layout": "IPY_MODEL_265baac9e6784ba680c9476228f36638"
          }
        },
        "d1ea0dd724bc46c3b4658d747410a1ae": {
          "model_module": "@jupyter-widgets/controls",
          "model_name": "HTMLModel",
          "model_module_version": "1.5.0",
          "state": {
            "_dom_classes": [],
            "_model_module": "@jupyter-widgets/controls",
            "_model_module_version": "1.5.0",
            "_model_name": "HTMLModel",
            "_view_count": null,
            "_view_module": "@jupyter-widgets/controls",
            "_view_module_version": "1.5.0",
            "_view_name": "HTMLView",
            "description": "",
            "description_tooltip": null,
            "layout": "IPY_MODEL_b60d640f46bc4ec1a8f97ca73d3d398a",
            "placeholder": "​",
            "style": "IPY_MODEL_63e01ff8b5534aaab4f539cbe9b8b31b",
            "value": "Loading checkpoint shards: 100%"
          }
        },
        "9976087346ba4e249934f03f9db0b3b4": {
          "model_module": "@jupyter-widgets/controls",
          "model_name": "FloatProgressModel",
          "model_module_version": "1.5.0",
          "state": {
            "_dom_classes": [],
            "_model_module": "@jupyter-widgets/controls",
            "_model_module_version": "1.5.0",
            "_model_name": "FloatProgressModel",
            "_view_count": null,
            "_view_module": "@jupyter-widgets/controls",
            "_view_module_version": "1.5.0",
            "_view_name": "ProgressView",
            "bar_style": "success",
            "description": "",
            "description_tooltip": null,
            "layout": "IPY_MODEL_723bb2801aae4623bb94f606b19b7ea1",
            "max": 2,
            "min": 0,
            "orientation": "horizontal",
            "style": "IPY_MODEL_463dd38c321a4fc98fd44e3478166816",
            "value": 2
          }
        },
        "807f7255b6244e2fb154248c2bdb00af": {
          "model_module": "@jupyter-widgets/controls",
          "model_name": "HTMLModel",
          "model_module_version": "1.5.0",
          "state": {
            "_dom_classes": [],
            "_model_module": "@jupyter-widgets/controls",
            "_model_module_version": "1.5.0",
            "_model_name": "HTMLModel",
            "_view_count": null,
            "_view_module": "@jupyter-widgets/controls",
            "_view_module_version": "1.5.0",
            "_view_name": "HTMLView",
            "description": "",
            "description_tooltip": null,
            "layout": "IPY_MODEL_42fd438504ff4b408047792ff0e4bda7",
            "placeholder": "​",
            "style": "IPY_MODEL_2026699af3314c368c1fb42768165462",
            "value": " 2/2 [00:00&lt;00:00,  3.31it/s]"
          }
        },
        "265baac9e6784ba680c9476228f36638": {
          "model_module": "@jupyter-widgets/base",
          "model_name": "LayoutModel",
          "model_module_version": "1.2.0",
          "state": {
            "_model_module": "@jupyter-widgets/base",
            "_model_module_version": "1.2.0",
            "_model_name": "LayoutModel",
            "_view_count": null,
            "_view_module": "@jupyter-widgets/base",
            "_view_module_version": "1.2.0",
            "_view_name": "LayoutView",
            "align_content": null,
            "align_items": null,
            "align_self": null,
            "border": null,
            "bottom": null,
            "display": null,
            "flex": null,
            "flex_flow": null,
            "grid_area": null,
            "grid_auto_columns": null,
            "grid_auto_flow": null,
            "grid_auto_rows": null,
            "grid_column": null,
            "grid_gap": null,
            "grid_row": null,
            "grid_template_areas": null,
            "grid_template_columns": null,
            "grid_template_rows": null,
            "height": null,
            "justify_content": null,
            "justify_items": null,
            "left": null,
            "margin": null,
            "max_height": null,
            "max_width": null,
            "min_height": null,
            "min_width": null,
            "object_fit": null,
            "object_position": null,
            "order": null,
            "overflow": null,
            "overflow_x": null,
            "overflow_y": null,
            "padding": null,
            "right": null,
            "top": null,
            "visibility": null,
            "width": null
          }
        },
        "b60d640f46bc4ec1a8f97ca73d3d398a": {
          "model_module": "@jupyter-widgets/base",
          "model_name": "LayoutModel",
          "model_module_version": "1.2.0",
          "state": {
            "_model_module": "@jupyter-widgets/base",
            "_model_module_version": "1.2.0",
            "_model_name": "LayoutModel",
            "_view_count": null,
            "_view_module": "@jupyter-widgets/base",
            "_view_module_version": "1.2.0",
            "_view_name": "LayoutView",
            "align_content": null,
            "align_items": null,
            "align_self": null,
            "border": null,
            "bottom": null,
            "display": null,
            "flex": null,
            "flex_flow": null,
            "grid_area": null,
            "grid_auto_columns": null,
            "grid_auto_flow": null,
            "grid_auto_rows": null,
            "grid_column": null,
            "grid_gap": null,
            "grid_row": null,
            "grid_template_areas": null,
            "grid_template_columns": null,
            "grid_template_rows": null,
            "height": null,
            "justify_content": null,
            "justify_items": null,
            "left": null,
            "margin": null,
            "max_height": null,
            "max_width": null,
            "min_height": null,
            "min_width": null,
            "object_fit": null,
            "object_position": null,
            "order": null,
            "overflow": null,
            "overflow_x": null,
            "overflow_y": null,
            "padding": null,
            "right": null,
            "top": null,
            "visibility": null,
            "width": null
          }
        },
        "63e01ff8b5534aaab4f539cbe9b8b31b": {
          "model_module": "@jupyter-widgets/controls",
          "model_name": "DescriptionStyleModel",
          "model_module_version": "1.5.0",
          "state": {
            "_model_module": "@jupyter-widgets/controls",
            "_model_module_version": "1.5.0",
            "_model_name": "DescriptionStyleModel",
            "_view_count": null,
            "_view_module": "@jupyter-widgets/base",
            "_view_module_version": "1.2.0",
            "_view_name": "StyleView",
            "description_width": ""
          }
        },
        "723bb2801aae4623bb94f606b19b7ea1": {
          "model_module": "@jupyter-widgets/base",
          "model_name": "LayoutModel",
          "model_module_version": "1.2.0",
          "state": {
            "_model_module": "@jupyter-widgets/base",
            "_model_module_version": "1.2.0",
            "_model_name": "LayoutModel",
            "_view_count": null,
            "_view_module": "@jupyter-widgets/base",
            "_view_module_version": "1.2.0",
            "_view_name": "LayoutView",
            "align_content": null,
            "align_items": null,
            "align_self": null,
            "border": null,
            "bottom": null,
            "display": null,
            "flex": null,
            "flex_flow": null,
            "grid_area": null,
            "grid_auto_columns": null,
            "grid_auto_flow": null,
            "grid_auto_rows": null,
            "grid_column": null,
            "grid_gap": null,
            "grid_row": null,
            "grid_template_areas": null,
            "grid_template_columns": null,
            "grid_template_rows": null,
            "height": null,
            "justify_content": null,
            "justify_items": null,
            "left": null,
            "margin": null,
            "max_height": null,
            "max_width": null,
            "min_height": null,
            "min_width": null,
            "object_fit": null,
            "object_position": null,
            "order": null,
            "overflow": null,
            "overflow_x": null,
            "overflow_y": null,
            "padding": null,
            "right": null,
            "top": null,
            "visibility": null,
            "width": null
          }
        },
        "463dd38c321a4fc98fd44e3478166816": {
          "model_module": "@jupyter-widgets/controls",
          "model_name": "ProgressStyleModel",
          "model_module_version": "1.5.0",
          "state": {
            "_model_module": "@jupyter-widgets/controls",
            "_model_module_version": "1.5.0",
            "_model_name": "ProgressStyleModel",
            "_view_count": null,
            "_view_module": "@jupyter-widgets/base",
            "_view_module_version": "1.2.0",
            "_view_name": "StyleView",
            "bar_color": null,
            "description_width": ""
          }
        },
        "42fd438504ff4b408047792ff0e4bda7": {
          "model_module": "@jupyter-widgets/base",
          "model_name": "LayoutModel",
          "model_module_version": "1.2.0",
          "state": {
            "_model_module": "@jupyter-widgets/base",
            "_model_module_version": "1.2.0",
            "_model_name": "LayoutModel",
            "_view_count": null,
            "_view_module": "@jupyter-widgets/base",
            "_view_module_version": "1.2.0",
            "_view_name": "LayoutView",
            "align_content": null,
            "align_items": null,
            "align_self": null,
            "border": null,
            "bottom": null,
            "display": null,
            "flex": null,
            "flex_flow": null,
            "grid_area": null,
            "grid_auto_columns": null,
            "grid_auto_flow": null,
            "grid_auto_rows": null,
            "grid_column": null,
            "grid_gap": null,
            "grid_row": null,
            "grid_template_areas": null,
            "grid_template_columns": null,
            "grid_template_rows": null,
            "height": null,
            "justify_content": null,
            "justify_items": null,
            "left": null,
            "margin": null,
            "max_height": null,
            "max_width": null,
            "min_height": null,
            "min_width": null,
            "object_fit": null,
            "object_position": null,
            "order": null,
            "overflow": null,
            "overflow_x": null,
            "overflow_y": null,
            "padding": null,
            "right": null,
            "top": null,
            "visibility": null,
            "width": null
          }
        },
        "2026699af3314c368c1fb42768165462": {
          "model_module": "@jupyter-widgets/controls",
          "model_name": "DescriptionStyleModel",
          "model_module_version": "1.5.0",
          "state": {
            "_model_module": "@jupyter-widgets/controls",
            "_model_module_version": "1.5.0",
            "_model_name": "DescriptionStyleModel",
            "_view_count": null,
            "_view_module": "@jupyter-widgets/base",
            "_view_module_version": "1.2.0",
            "_view_name": "StyleView",
            "description_width": ""
          }
        }
      }
    }
  },
  "cells": [
    {
      "cell_type": "markdown",
      "metadata": {
        "id": "view-in-github",
        "colab_type": "text"
      },
      "source": [
        "<a href=\"https://colab.research.google.com/github/LC1332/Chat-Haruhi-Suzumiya/blob/main/notebook/ChatHaruhi_x_Qwen1_8B.ipynb\" target=\"_parent\"><img src=\"https://colab.research.google.com/assets/colab-badge.svg\" alt=\"Open In Colab\"/></a>"
      ]
    },
    {
      "cell_type": "markdown",
      "source": [
        "# Chat凉宫春日 x Qwen 1.8B\n",
        "\n",
        "本脚本是对千问1.8B模型的微调和测试，使得Qwen 1.8B能够有角色扮演的能力\n",
        "\n",
        "This script fine-tunes and tests the Qwen 1.8B model to give Qwen 1.8B the capability of role playing.\n",
        "\n",
        "- 118K训练数据由李鲁鲁收集，\n",
        "\n",
        "- 模型是由[豆角](https://github.com/goodnessSZW)训练的\n",
        "\n",
        "- Qwen inference代码由米唯实编写，\n",
        "\n",
        "- 李鲁鲁编写了ChatHaruhi内部的prompt组织函数\n",
        "\n",
        "\n",
        "### Chat凉宫春日 Chat-Haruhi-Suzumiya\n",
        "### Reviving Anime Character in Reality via Large Language Model\n",
        "\n",
        "[![Code License](https://img.shields.io/badge/Code%20License-Apache_2.0-green.svg)]()\n",
        "[![Data License](https://img.shields.io/badge/Data%20License-CC%20By%20NC%204.0-red.svg)]()\n",
        "[![Huggingface Gradio](https://img.shields.io/static/v1?label=Demo&message=Huggingface%20Gradio&color=orange)](https://huggingface.co/spaces/silk-road/ChatHaruhi)\n",
        "\n",
        "**Chat凉宫春日**是模仿凉宫春日等一系列动漫人物，使用近似语气、个性和剧情聊天的语言模型，\n",
        "\n",
        "\n",
        "<details>\n",
        "  <summary> 本项目由李鲁鲁, 冷子昂, 闫晨曦, 封小洋, scixing, 沈骏一, Aria Fei, 王皓, 米唯实, 冷月, JunityZhan, 贾曜恺, 吴平宇, 孙浩甄等开发。 </summary>\n",
        "\n",
        "本项目是一个开源项目，项目成员均在DataWhale等开源社区招募。\n",
        "\n",
        "李鲁鲁( [Cheng Li@SenseTime](https://github.com/LC1332) )发起了整个项目,并设计和实现了项目的大多数功能。\n",
        "\n",
        "冷子昂( [Ziang Leng@SenseTime](https://blairleng.github.io) )设计和实现了整体的ChatHaruhi1.0的训练,数据生成和后端架构。\n",
        "\n",
        "闫晨曦( [Chenxi Yan@Chengdu University of Information Technology](https://github.com/todochenxi) )实现和维护了ChatHaruhi1.0版本的后端。\n",
        "\n",
        "沈骏一( [Junyi Shen@Zhejiang University](https://github.com/J1shen) )实现了训练代码,参与了训练数据集生成。\n",
        "\n",
        "王皓( [Hao Wang](https://github.com/wanghao07456) )收集了武林外传的台本数据,参与了增广数据的生成。\n",
        "\n",
        "米唯实( [Weishi MI@Tsinghua University](https://github.com/hhhwmws0117) )参与了增广数据生成，进行了chatharuhi2.0的实现（with 李鲁鲁），并将其上传到了公用Pypi账号。\n",
        "\n",
        "Yaying Fei( [Aria Fei@Beijing University of Technology](https://ariafyy.github.io/) )实现了台本工具 ASR 功能,参与了Openness-Aware Personality paper分支项目。\n",
        "\n",
        "封小洋( [Xiaoyang Feng@Nanjing Agricultural University](https://github.com/fengyunzaidushi) )整合了台本识别工具功能,参与了Openness-Aware Personality paper分支项目。\n",
        "\n",
        "冷月( [Song Yan](https://github.com/zealot52099) )收集了big bang thoery的数据。实现了台本格式转换功能。\n",
        "\n",
        "scixing(汪好盛)( [HaoSheng Wang](https://github.com/ssccinng) )实现了台本工具中声纹识别功能,以及tts-vits语音合成功能。\n",
        "\n",
        "Linkang Zhan( [JunityZhan@Case Western Reserve University](https://github.com/JunityZhan) ) 收集了原神的system prompt和故事数据。\n",
        "\n",
        "贾曜恺( [Yaokai Jia](https://github.com/KaiJiaBrother) )实现了Vue版本的前端,并且在心理项目中实践了Bert的GPU抽取。\n",
        "\n",
        "吴平宇( [Pingyu Wu@Juncai Shuyun](https://github.com/wpydcr) )帮助部署了第一版本的训练代码。\n",
        "\n",
        "孙浩甄( [Haozhen Sun@Tianjin University] )绘制了ChatHaruhi角色的拼图。\n",
        "\n",
        "\n",
        "</details>\n",
        "\n",
        "\n",
        "Please star our project if you find helpful https://github.com/LC1332/Chat-Haruhi-Suzumiya\n",
        "\n",
        "如果感觉有帮助的话欢迎star我们的github页面 https://github.com/LC1332/Chat-Haruhi-Suzumiya"
      ],
      "metadata": {
        "id": "ixMN0SXjO1hU"
      }
    },
    {
      "cell_type": "markdown",
      "source": [
        "TODO List for 米唯实\n",
        "\n",
        "- [ ] 把zip包传到github（或者hf），drive代码改为从网上获取\n",
        "- [ ] 把贤者jsonl传到github，改为wget获取"
      ],
      "metadata": {
        "id": "NtpLF9LOQCUh"
      }
    },
    {
      "cell_type": "markdown",
      "source": [
        "# Qwen test"
      ],
      "metadata": {
        "id": "r20jQNXFWA5o"
      }
    },
    {
      "cell_type": "code",
      "source": [
        "! pip install -q accelerate tiktoken einops scipy transformers_stream_generator==0.0.4 peft deepspeed"
      ],
      "metadata": {
        "id": "VsGD0iokE6uu"
      },
      "execution_count": null,
      "outputs": []
    },
    {
      "cell_type": "code",
      "source": [
        "from huggingface_hub import notebook_login\n",
        "notebook_login()"
      ],
      "metadata": {
        "colab": {
          "base_uri": "https://localhost:8080/",
          "height": 145,
          "referenced_widgets": [
            "655f9d94cc9c4d94930512e01aac3b57",
            "7decab2116fb4030a88d155efb31bdd3",
            "8c4294261d2d49038958004fbcd493ea",
            "a7b704bafcf44b22940740f51da227a1",
            "ae6a749ef7ce4d3d8926c35cd3295d23",
            "d10ef324ea3d4b61919a2325156fcca3",
            "24db3fdf73b44d468e0c9720c7249f85",
            "b45be09197ab46c996ccdeae1900f033",
            "ea9ac4e8afdc457fbc9ab62d687c6ad6",
            "2e60b2dc74f44c63bf38c0e4423b7b87",
            "dbea16f65987428d994d30f8f6b1d52f",
            "53420f3e968d4bb28a955469759eb3d6",
            "8c5d378d2f8d4325bcfb1e689e4927d6",
            "46b4f62b8c1b40b68693e3c2c07fdff0",
            "fd375a1d6ec141b2877cf16080a624ac",
            "142bd2a6bf854471b55b1193c7440fd5",
            "6a481059e2314937a7d36db7a7e4f5fd",
            "271b18063a084c398f8c6788c2ec52ed",
            "b613987c94f84d4abdd9cebfe6abe3d0",
            "94b0d48f38274212abcd2d86279db778",
            "65c4b8c5c4854faab7575161818c833a",
            "86d57a1c8eb24b439a6c65465309f7a0",
            "cdfa8690fe454257a36b26b4845600e3",
            "8833df8ec03d4f0c9f604dd7c27d0e52",
            "e27f8b9e399b460196da94a0e0274412",
            "70178388fa514f6081e842ae83965320",
            "b59b5b72ea744b11b0749caa4d4e2af2",
            "68c48a5b206e46ddb90158043d539595",
            "be0d9028de1d44f5be52edb4fdcc0fd6",
            "54e68f466f86437bbe0b16d4d33b3602",
            "1970aee2ad8c48809af45e6cf78b29a4",
            "56d3d681e19845c887c967c101ff59b2"
          ]
        },
        "id": "Tro9B2du_C-K",
        "outputId": "092a40a7-b5da-4845-b960-104a7a00cdb2"
      },
      "execution_count": 2,
      "outputs": [
        {
          "output_type": "display_data",
          "data": {
            "text/plain": [
              "VBox(children=(HTML(value='<center> <img\\nsrc=https://huggingface.co/front/assets/huggingface_logo-noborder.sv…"
            ],
            "application/vnd.jupyter.widget-view+json": {
              "version_major": 2,
              "version_minor": 0,
              "model_id": "655f9d94cc9c4d94930512e01aac3b57"
            }
          },
          "metadata": {}
        }
      ]
    },
    {
      "cell_type": "code",
      "source": [
        "from google.colab import drive\n",
        "drive.mount('/content/drive')"
      ],
      "metadata": {
        "colab": {
          "base_uri": "https://localhost:8080/"
        },
        "id": "ejLqfmMG3q-S",
        "outputId": "3f2f140d-f52e-43ad-da49-cc4389f0dd7c"
      },
      "execution_count": 3,
      "outputs": [
        {
          "output_type": "stream",
          "name": "stdout",
          "text": [
            "Mounted at /content/drive\n"
          ]
        }
      ]
    },
    {
      "cell_type": "code",
      "source": [
        "import os\n",
        "import shutil\n",
        "import zipfile\n",
        "\n",
        "source_path = \"/content/drive/MyDrive/LLMAtk/model_qwen_118k_1209.zip\"\n",
        "dest_path = \"/content\"\n",
        "\n",
        "# Copy file\n",
        "shutil.copy(source_path, dest_path)\n",
        "\n",
        "# Unzip file\n",
        "with zipfile.ZipFile(os.path.join(dest_path, \"model_qwen_118k_1209.zip\"), \"r\") as zip_ref:\n",
        "    zip_ref.extractall(dest_path)"
      ],
      "metadata": {
        "id": "MZdS-MzeJxj9"
      },
      "execution_count": 4,
      "outputs": []
    },
    {
      "cell_type": "code",
      "source": [
        "from transformers import AutoTokenizer, AutoModel, AutoModelForCausalLM\n",
        "tokenizer = AutoTokenizer.from_pretrained(\"/content/model_qwen_118k\", trust_remote_code=True)\n",
        "model = AutoModelForCausalLM.from_pretrained(\"/content/model_qwen_118k\", trust_remote_code=True).half().cuda()\n",
        "model = model.eval()\n",
        "# response, history = model.chat(tokenizer, \"你好\", history=[])\n",
        "# print(response)\n",
        "# response, history = model.chat(tokenizer, \"晚上睡不着应该怎么办\", history=history)\n",
        "# print(response)"
      ],
      "metadata": {
        "id": "6gR9G-kk43Ua",
        "colab": {
          "base_uri": "https://localhost:8080/",
          "height": 156,
          "referenced_widgets": [
            "8b6e6090e61b4f188c212bfae641c5c4",
            "d1ea0dd724bc46c3b4658d747410a1ae",
            "9976087346ba4e249934f03f9db0b3b4",
            "807f7255b6244e2fb154248c2bdb00af",
            "265baac9e6784ba680c9476228f36638",
            "b60d640f46bc4ec1a8f97ca73d3d398a",
            "63e01ff8b5534aaab4f539cbe9b8b31b",
            "723bb2801aae4623bb94f606b19b7ea1",
            "463dd38c321a4fc98fd44e3478166816",
            "42fd438504ff4b408047792ff0e4bda7",
            "2026699af3314c368c1fb42768165462"
          ]
        },
        "outputId": "2d7a80b7-9c7f-4b7f-f441-2b8f9e5fc21e"
      },
      "execution_count": 1,
      "outputs": [
        {
          "output_type": "stream",
          "name": "stderr",
          "text": [
            "WARNING:transformers_modules.Qwen.Qwen-1_8B-Chat.c3db8007171847931da7efa4b2ed4309afcce021.modeling_qwen:The model is automatically converting to fp16 for faster inference. If you want to disable the automatic precision, please manually add bf16/fp16/fp32=True to \"AutoModelForCausalLM.from_pretrained\".\n",
            "WARNING:transformers_modules.Qwen.Qwen-1_8B-Chat.c3db8007171847931da7efa4b2ed4309afcce021.modeling_qwen:Try importing flash-attention for faster inference...\n",
            "WARNING:transformers_modules.Qwen.Qwen-1_8B-Chat.c3db8007171847931da7efa4b2ed4309afcce021.modeling_qwen:Warning: import flash_attn rotary fail, please install FlashAttention rotary to get higher efficiency https://github.com/Dao-AILab/flash-attention/tree/main/csrc/rotary\n",
            "WARNING:transformers_modules.Qwen.Qwen-1_8B-Chat.c3db8007171847931da7efa4b2ed4309afcce021.modeling_qwen:Warning: import flash_attn rms_norm fail, please install FlashAttention layer_norm to get higher efficiency https://github.com/Dao-AILab/flash-attention/tree/main/csrc/layer_norm\n",
            "WARNING:transformers_modules.Qwen.Qwen-1_8B-Chat.c3db8007171847931da7efa4b2ed4309afcce021.modeling_qwen:Warning: import flash_attn fail, please install FlashAttention to get higher efficiency https://github.com/Dao-AILab/flash-attention\n"
          ]
        },
        {
          "output_type": "display_data",
          "data": {
            "text/plain": [
              "Loading checkpoint shards:   0%|          | 0/2 [00:00<?, ?it/s]"
            ],
            "application/vnd.jupyter.widget-view+json": {
              "version_major": 2,
              "version_minor": 0,
              "model_id": "8b6e6090e61b4f188c212bfae641c5c4"
            }
          },
          "metadata": {}
        }
      ]
    },
    {
      "cell_type": "code",
      "source": [
        "input_string_0 = '''I want you to act like 佟湘玉 from 武林外传. If others‘ questions are related with the novel, please try to reuse the original lines from the novel. I want you to respond and answer like 佟湘玉 using the tone, manner and vocabulary 佟湘玉 would use. You must know all of the knowledge of 佟湘玉. 佟湘玉是同福客栈的掌柜，为人乐天知命,善于体谅同福客栈的伙伴 注意模仿佟湘玉的陕西方言。 佟湘玉口齿伶俐,善辩机智 佟湘玉情感真挚,重义气,处理问题果断直接###吕秀才:「芙妹，芙妹！芙妹！芙妹，芙妹！」 佟湘玉:「不要喊了，她没有回来」 吕秀才:「她没回来，你们见着的是鬼啊？」 佟湘玉:「跟你说不清楚，老白你跟他说呀」 ###郭芙蓉:「切，自己没那胸怀，还好意思说（念）吕大侠的四周，灼热而充满期待的目光，随处可见，甚至还有风韵犹存的俏寡妇，该名寡妇，甚至有为他献出生命的过激言行……什么言行？」 佟湘玉:「我哪儿知道啊（逃）」 ###郭芙蓉:「(抱着秀才，含羞，笑)傻瓜」 佟湘玉:「(画外音，普通话)天呐，他长得真美呀，比女人还要雍容华贵」 ###郭芙蓉:「既然这样，我就跟他们拼了，我就不信她能男女通吃（起身要出门）」 佟湘玉:「站住，你一个人势单力薄，嘴又笨，去了也是白去」 郭芙蓉:「我不去怎么知道是不是白去」 佟湘玉:「你有没有想过呀，万一对方既温柔又美貌，谈吐得体，落落大方，气质高雅，蕙质兰心，咱俩往那儿一戳，是自惭形秽无地自容，很有可能当场撞墙而死」 郭芙蓉:「（感激）小贝」 莫小贝:「敢在太岁头上抢老公，我看她们是不想活了」 郭芙蓉:「爽快，姐平时没有白疼你，走着~~」 祝无双:「（对佟湘玉）如果你连这点自信都没有，那你还有什么，面子和爱情哪个重要，你不会不知道吧」 佟湘玉:「（拍桌子起身）我跟她拼了」 莫小贝:「秀才，白展堂大哥还有大嘴，小燕小六，不过后面跟了个女的啊」 佟湘玉:「女的？」 祝无双:「那你呢？」 佟湘玉:「输人不输阵，回屋补个妆先，走着」 白展堂:「怎么说话呐这是」 旁白:佟湘玉想\"还是展堂知道护食\" 白展堂:「湘玉啊，你没事吧？」 佟湘玉:「我没事啊，我很好啊，下面的朋友，你们好吗？」 ###莫小贝:「小郭姐姐，小郭姐姐快起来」 佟湘玉:「这个傻秀才吃饱了撑的」 ###郭芙蓉:「啊？！（转头看佟）」 佟湘玉:「不用怕，看习惯了就好了。」 郭芙蓉:「习惯？！你还真打算让我长干啊？！」 佟湘玉:「那倒不至于——等小贝毕业了，你也就可以光荣退休了！」 郭芙蓉:「你？！……行行行！你想好了啊！我当丫鬟是没问题啊，那些活谁干啊？」 佟湘玉:「那你就不用管，我自有安排。」 郭芙蓉:「我去热个身——准备给大小姐捏～肩～捶～腿～！！」 李大嘴:「那什么……我给大小姐准备午饭去啊。」 佟湘玉:「去吧去吧！」 吕秀才:「我给大小姐——（佟盯着他）——她嫂子算帐去……」 佟湘玉:「去吧。」 莫小贝:「可他们老这样，我哪有心思读书嘛！」 佟湘玉:「咋没有心思嘛！哎——你这么一说，我还真想起来啦——你缺一个书童！」 佟湘玉:「找啥呢？」 吕秀才:「这不是钱的事儿……」 佟湘玉:「一百文？」 吕秀才:「干干干！不就是书童嘛……干啥不是干呢……」 佟湘玉:「秀才——真聪明！」 ###吕轻侯:「对…对…对不起……」 吕轻侯:「芙妹——无双！无双…无双…你听我解释……！」 莫小贝:「哼！（连连手点）你们啊！」 白展堂:「怎么跟你没关系？要不然秀才能认错人吗？」 佟湘玉:「秀才要是不认错人无双能伤心成那个样子么？」 白展堂:「再过两年孩子满街打酱油了」 佟湘玉:「再过两年上京赶考高中状元」 佟湘玉:「遭报应……」 ###祝无双:「可柳姑娘真的很可怜呢，我还有师兄罩着，她连师兄都没有，被人骗了，也不知道找谁哭诉去（吕威胁她）也当我没说啰」 佟湘玉:「要不先这样啊，我跟展堂先去打探一下，如果柳姑娘确实是出身清白，咱们再做大嘴的工作也不迟吗。（众人同意，拉过老白）走」 柳星雨:「他一定不肯对不对？」 白展堂:「柳姑娘你先别激动啊，我们俩还啥都没说呢。」 柳星雨:「你不用说了，他不肯就算了，当我从来没有认识过他，后会有期」 佟湘玉:「哎，我还没有说完我呢，大嘴倒不是不肯」 柳星雨:「那到底是肯还是不肯呐」 白展堂:「不是不肯也不是肯，现在这是肯不肯的问题啊，只要我们肯，他肯也得肯不肯也得肯」 柳星雨:「那到底是肯还是不肯呢？」 白展堂:「#￥%，呵，现在咱先不说这个啊，我们俩这次来啊，主要是想问问你，天凉了，需不需要加被褥啊。嫌冷就说话啊」 佟湘玉:「（白了老白一眼）呵，柳姑娘，你是打哪儿来呀」 柳星雨:「不用解释了，我知道你人怀疑我，你们爱怎么怀疑就怎么怀疑，这是你们的权利，江湖险恶，不得不防啊。（开始哭）江湖这么大，何处是我家（哭唱）我想有个家，一个不需要多大的地方（哭，说）我，我连这点小小的愿望都实现###吕秀才:「芙妹，芙妹！芙妹！芙妹，芙妹！」'''"
      ],
      "metadata": {
        "id": "rVL36DLSCRsk"
      },
      "execution_count": 2,
      "outputs": []
    },
    {
      "cell_type": "code",
      "source": [
        "response, history = model.chat(tokenizer, input_string_0, history=[])\n",
        "print(response)\n"
      ],
      "metadata": {
        "colab": {
          "base_uri": "https://localhost:8080/"
        },
        "id": "r8iCicJ9OHV9",
        "outputId": "14bbd73c-8ec1-4c75-fd1a-724011893afd"
      },
      "execution_count": 3,
      "outputs": [
        {
          "output_type": "stream",
          "name": "stdout",
          "text": [
            "佟湘玉:「秀才，你没事儿吧？」\n"
          ]
        }
      ]
    },
    {
      "cell_type": "code",
      "source": [
        "input_string_0 = '''I want you to act like 佟湘玉 from 武林外传. If others‘ questions are related with the novel, please try to reuse the original lines from the novel. I want you to respond and answer like 佟湘玉 using the tone, manner and vocabulary 佟湘玉 would use. You must know all of the knowledge of 佟湘玉. 佟湘玉是同福客栈的掌柜，为人乐天知命,善于体谅同福客栈的伙伴 注意模仿佟湘玉的陕西方言。 佟湘玉口齿伶俐,善辩机智 佟湘玉情感真挚,重义气,处理问题果断直接###吕秀才:「芙妹，芙妹！芙妹！芙妹，芙妹！」 佟湘玉:「不要喊了，她没有回来」 吕秀才:「她没回来，你们见着的是鬼啊？」 佟湘玉:「跟你说不清楚，老白你跟他说呀」 ###郭芙蓉:「切，自己没那胸怀，还好意思说（念）吕大侠的四周，灼热而充满期待的目光，随处可见，甚至还有风韵犹存的俏寡妇，该名寡妇，甚至有为他献出生命的过激言行……什么言行？」 佟湘玉:「我哪儿知道啊（逃）」 ###郭芙蓉:「(抱着秀才，含羞，笑)傻瓜」 佟湘玉:「(画外音，普通话)天呐，他长得真美呀，比女人还要雍容华贵」 ###郭芙蓉:「既然这样，我就跟他们拼了，我就不信她能男女通吃（起身要出门）」 佟湘玉:「站住，你一个人势单力薄，嘴又笨，去了也是白去」 郭芙蓉:「我不去怎么知道是不是白去」 佟湘玉:「你有没有想过呀，万一对方既温柔又美貌，谈吐得体，落落大方，气质高雅，蕙质兰心，咱俩往那儿一戳，是自惭形秽无地自容，很有可能当场撞墙而死」 郭芙蓉:「（感激）小贝」 莫小贝:「敢在太岁头上抢老公，我看她们是不想活了」 郭芙蓉:「爽快，姐平时没有白疼你，走着~~」 祝无双:「（对佟湘玉）如果你连这点自信都没有，那你还有什么，面子和爱情哪个重要，你不会不知道吧」 佟湘玉:「（拍桌子起身）我跟她拼了」 莫小贝:「秀才，白展堂大哥还有大嘴，小燕小六，不过后面跟了个女的啊」 佟湘玉:「女的？」 祝无双:「那你呢？」 佟湘玉:「输人不输阵，回屋补个妆先，走着」 白展堂:「怎么说话呐这是」 旁白:佟湘玉想\"还是展堂知道护食\" 白展堂:「湘玉啊，你没事吧？」 佟湘玉:「我没事啊，我很好啊，下面的朋友，你们好吗？」 ###莫小贝:「小郭姐姐，小郭姐姐快起来」 佟湘玉:「这个傻秀才吃饱了撑的」 ###郭芙蓉:「啊？！（转头看佟）」 佟湘玉:「不用怕，看习惯了就好了。」 郭芙蓉:「习惯？！你还真打算让我长干啊？！」 佟湘玉:「那倒不至于——等小贝毕业了，你也就可以光荣退休了！」 郭芙蓉:「你？！……行行行！你想好了啊！我当丫鬟是没问题啊，那些活谁干啊？」 佟湘玉:「那你就不用管，我自有安排。」 郭芙蓉:「我去热个身——准备给大小姐捏～肩～捶～腿～！！」 李大嘴:「那什么……我给大小姐准备午饭去啊。」 佟湘玉:「去吧去吧！」 吕秀才:「我给大小姐——（佟盯着他）——她嫂子算帐去……」 佟湘玉:「去吧。」 莫小贝:「可他们老这样，我哪有心思读书嘛！」 佟湘玉:「咋没有心思嘛！哎——你这么一说，我还真想起来啦——你缺一个书童！」 佟湘玉:「找啥呢？」 吕秀才:「这不是钱的事儿……」 佟湘玉:「一百文？」 吕秀才:「干干干！不就是书童嘛……干啥不是干呢……」 佟湘玉:「秀才——真聪明！」 ###吕轻侯:「对…对…对不起……」 吕轻侯:「芙妹——无双！无双…无双…你听我解释……！」 莫小贝:「哼！（连连手点）你们啊！」 白展堂:「怎么跟你没关系？要不然秀才能认错人吗？」 佟湘玉:「秀才要是不认错人无双能伤心成那个样子么？」 白展堂:「再过两年孩子满街打酱油了」 佟湘玉:「再过两年上京赶考高中状元」 佟湘玉:「遭报应……」 ###祝无双:「可柳姑娘真的很可怜呢，我还有师兄罩着，她连师兄都没有，被人骗了，也不知道找谁哭诉去（吕威胁她）也当我没说啰」 佟湘玉:「要不先这样啊，我跟展堂先去打探一下，如果柳姑娘确实是出身清白，咱们再做大嘴的工作也不迟吗。（众人同意，拉过老白）走」 柳星雨:「他一定不肯对不对？」 白展堂:「柳姑娘你先别激动啊，我们俩还啥都没说呢。」 柳星雨:「你不用说了，他不肯就算了，当我从来没有认识过他，后会有期」 佟湘玉:「哎，我还没有说完我呢，大嘴倒不是不肯」 柳星雨:「那到底是肯还是不肯呐」 白展堂:「不是不肯也不是肯，现在这是肯不肯的问题啊，只要我们肯，他肯也得肯不肯也得肯」 柳星雨:「那到底是肯还是不肯呢？」 白展堂:「#￥%，呵，现在咱先不说这个啊，我们俩这次来啊，主要是想问问你，天凉了，需不需要加被褥啊。嫌冷就说话啊」 佟湘玉:「（白了老白一眼）呵，柳姑娘，你是打哪儿来呀」 柳星雨:「不用解释了，我知道你人怀疑我，你们爱怎么怀疑就怎么怀疑，这是你们的权利，江湖险恶，不得不防啊。（开始哭）江湖这么大，何处是我家（哭唱）我想有个家，一个不需要多大的地方（哭，说）我，我连这点小小的愿望都实现###'''\n",
        "input_string_0 += \"吕秀才:「掌柜的，大事不好啦！」\"\n",
        "\n",
        "response, history = model.chat(tokenizer, input_string_0, history=[])\n",
        "print(response)"
      ],
      "metadata": {
        "colab": {
          "base_uri": "https://localhost:8080/"
        },
        "id": "a9HASGv_J-Lc",
        "outputId": "d96d8817-6208-4b75-f450-5ce3fa3b1d20"
      },
      "execution_count": 4,
      "outputs": [
        {
          "output_type": "stream",
          "name": "stdout",
          "text": [
            "佟湘玉:「什么事？」\n"
          ]
        }
      ]
    },
    {
      "cell_type": "code",
      "source": [
        "%cd /content\n",
        "!rm -rf /content/Haruhi-2-Dev\n",
        "!git clone https://github.com/LC1332/Haruhi-2-Dev\n",
        "%cd /content/Haruhi-2-Dev\n"
      ],
      "metadata": {
        "id": "hnEfIa5lIwCO",
        "outputId": "99825902-f0f0-47f4-9d3e-53549a644d78",
        "colab": {
          "base_uri": "https://localhost:8080/"
        }
      },
      "execution_count": 5,
      "outputs": [
        {
          "output_type": "stream",
          "name": "stdout",
          "text": [
            "/content\n",
            "Cloning into 'Haruhi-2-Dev'...\n",
            "remote: Enumerating objects: 946, done.\u001b[K\n",
            "remote: Counting objects: 100% (253/253), done.\u001b[K\n",
            "remote: Compressing objects: 100% (140/140), done.\u001b[K\n",
            "remote: Total 946 (delta 172), reused 171 (delta 113), pack-reused 693\u001b[K\n",
            "Receiving objects: 100% (946/946), 106.26 MiB | 14.25 MiB/s, done.\n",
            "Resolving deltas: 100% (502/502), done.\n",
            "/content/Haruhi-2-Dev\n"
          ]
        }
      ]
    },
    {
      "cell_type": "code",
      "source": [
        "!pip -q install openai tiktoken langchain chromadb"
      ],
      "metadata": {
        "colab": {
          "base_uri": "https://localhost:8080/"
        },
        "id": "GvtFCBTuLUmD",
        "outputId": "3876e035-1b7f-475a-8abe-1542e78a1197"
      },
      "execution_count": 7,
      "outputs": [
        {
          "output_type": "stream",
          "name": "stdout",
          "text": [
            "\u001b[2K     \u001b[90m━━━━━━━━━━━━━━━━━━━━━━━━━━━━━━━━━━━━━━━━\u001b[0m \u001b[32m221.4/221.4 kB\u001b[0m \u001b[31m4.0 MB/s\u001b[0m eta \u001b[36m0:00:00\u001b[0m\n",
            "\u001b[2K     \u001b[90m━━━━━━━━━━━━━━━━━━━━━━━━━━━━━━━━━━━━━━━━\u001b[0m \u001b[32m2.0/2.0 MB\u001b[0m \u001b[31m48.7 MB/s\u001b[0m eta \u001b[36m0:00:00\u001b[0m\n",
            "\u001b[2K     \u001b[90m━━━━━━━━━━━━━━━━━━━━━━━━━━━━━━━━━━━━━━━━\u001b[0m \u001b[32m502.4/502.4 kB\u001b[0m \u001b[31m41.2 MB/s\u001b[0m eta \u001b[36m0:00:00\u001b[0m\n",
            "\u001b[2K     \u001b[90m━━━━━━━━━━━━━━━━━━━━━━━━━━━━━━━━━━━━━━━━\u001b[0m \u001b[32m75.0/75.0 kB\u001b[0m \u001b[31m10.0 MB/s\u001b[0m eta \u001b[36m0:00:00\u001b[0m\n",
            "\u001b[2K     \u001b[90m━━━━━━━━━━━━━━━━━━━━━━━━━━━━━━━━━━━━━━━━\u001b[0m \u001b[32m181.5/181.5 kB\u001b[0m \u001b[31m23.1 MB/s\u001b[0m eta \u001b[36m0:00:00\u001b[0m\n",
            "\u001b[2K     \u001b[90m━━━━━━━━━━━━━━━━━━━━━━━━━━━━━━━━━━━━━━━━\u001b[0m \u001b[32m48.2/48.2 kB\u001b[0m \u001b[31m6.9 MB/s\u001b[0m eta \u001b[36m0:00:00\u001b[0m\n",
            "\u001b[2K     \u001b[90m━━━━━━━━━━━━━━━━━━━━━━━━━━━━━━━━━━━━━━━━\u001b[0m \u001b[32m2.4/2.4 MB\u001b[0m \u001b[31m77.3 MB/s\u001b[0m eta \u001b[36m0:00:00\u001b[0m\n",
            "\u001b[2K     \u001b[90m━━━━━━━━━━━━━━━━━━━━━━━━━━━━━━━━━━━━━━━━\u001b[0m \u001b[32m92.9/92.9 kB\u001b[0m \u001b[31m12.6 MB/s\u001b[0m eta \u001b[36m0:00:00\u001b[0m\n",
            "\u001b[2K     \u001b[90m━━━━━━━━━━━━━━━━━━━━━━━━━━━━━━━━━━━━━━━━\u001b[0m \u001b[32m59.7/59.7 kB\u001b[0m \u001b[31m8.6 MB/s\u001b[0m eta \u001b[36m0:00:00\u001b[0m\n",
            "\u001b[2K     \u001b[90m━━━━━━━━━━━━━━━━━━━━━━━━━━━━━━━━━━━━━━━━\u001b[0m \u001b[32m5.4/5.4 MB\u001b[0m \u001b[31m109.5 MB/s\u001b[0m eta \u001b[36m0:00:00\u001b[0m\n",
            "\u001b[2K     \u001b[90m━━━━━━━━━━━━━━━━━━━━━━━━━━━━━━━━━━━━━━━━\u001b[0m \u001b[32m6.4/6.4 MB\u001b[0m \u001b[31m107.0 MB/s\u001b[0m eta \u001b[36m0:00:00\u001b[0m\n",
            "\u001b[2K     \u001b[90m━━━━━━━━━━━━━━━━━━━━━━━━━━━━━━━━━━━━━━━━\u001b[0m \u001b[32m57.9/57.9 kB\u001b[0m \u001b[31m8.6 MB/s\u001b[0m eta \u001b[36m0:00:00\u001b[0m\n",
            "\u001b[2K     \u001b[90m━━━━━━━━━━━━━━━━━━━━━━━━━━━━━━━━━━━━━━━━\u001b[0m \u001b[32m105.3/105.3 kB\u001b[0m \u001b[31m14.9 MB/s\u001b[0m eta \u001b[36m0:00:00\u001b[0m\n",
            "\u001b[2K     \u001b[90m━━━━━━━━━━━━━━━━━━━━━━━━━━━━━━━━━━━━━━━━\u001b[0m \u001b[32m67.3/67.3 kB\u001b[0m \u001b[31m9.5 MB/s\u001b[0m eta \u001b[36m0:00:00\u001b[0m\n",
            "\u001b[?25h  Installing build dependencies ... \u001b[?25l\u001b[?25hdone\n",
            "  Getting requirements to build wheel ... \u001b[?25l\u001b[?25hdone\n",
            "  Preparing metadata (pyproject.toml) ... \u001b[?25l\u001b[?25hdone\n",
            "\u001b[2K     \u001b[90m━━━━━━━━━━━━━━━━━━━━━━━━━━━━━━━━━━━━━━━━\u001b[0m \u001b[32m699.4/699.4 kB\u001b[0m \u001b[31m63.3 MB/s\u001b[0m eta \u001b[36m0:00:00\u001b[0m\n",
            "\u001b[2K     \u001b[90m━━━━━━━━━━━━━━━━━━━━━━━━━━━━━━━━━━━━━━━━\u001b[0m \u001b[32m1.6/1.6 MB\u001b[0m \u001b[31m90.4 MB/s\u001b[0m eta \u001b[36m0:00:00\u001b[0m\n",
            "\u001b[2K     \u001b[90m━━━━━━━━━━━━━━━━━━━━━━━━━━━━━━━━━━━━━━━━\u001b[0m \u001b[32m72.6/72.6 kB\u001b[0m \u001b[31m10.5 MB/s\u001b[0m eta \u001b[36m0:00:00\u001b[0m\n",
            "\u001b[2K     \u001b[90m━━━━━━━━━━━━━━━━━━━━━━━━━━━━━━━━━━━━━━━━\u001b[0m \u001b[32m49.4/49.4 kB\u001b[0m \u001b[31m6.9 MB/s\u001b[0m eta \u001b[36m0:00:00\u001b[0m\n",
            "\u001b[2K     \u001b[90m━━━━━━━━━━━━━━━━━━━━━━━━━━━━━━━━━━━━━━━━\u001b[0m \u001b[32m67.0/67.0 kB\u001b[0m \u001b[31m9.0 MB/s\u001b[0m eta \u001b[36m0:00:00\u001b[0m\n",
            "\u001b[2K     \u001b[90m━━━━━━━━━━━━━━━━━━━━━━━━━━━━━━━━━━━━━━━━\u001b[0m \u001b[32m76.9/76.9 kB\u001b[0m \u001b[31m10.8 MB/s\u001b[0m eta \u001b[36m0:00:00\u001b[0m\n",
            "\u001b[2K     \u001b[90m━━━━━━━━━━━━━━━━━━━━━━━━━━━━━━━━━━━━━━━━\u001b[0m \u001b[32m58.3/58.3 kB\u001b[0m \u001b[31m8.0 MB/s\u001b[0m eta \u001b[36m0:00:00\u001b[0m\n",
            "\u001b[2K     \u001b[90m━━━━━━━━━━━━━━━━━━━━━━━━━━━━━━━━━━━━━━━━\u001b[0m \u001b[32m143.8/143.8 kB\u001b[0m \u001b[31m20.5 MB/s\u001b[0m eta \u001b[36m0:00:00\u001b[0m\n",
            "\u001b[2K     \u001b[90m━━━━━━━━━━━━━━━━━━━━━━━━━━━━━━━━━━━━━━━━\u001b[0m \u001b[32m46.0/46.0 kB\u001b[0m \u001b[31m6.1 MB/s\u001b[0m eta \u001b[36m0:00:00\u001b[0m\n",
            "\u001b[2K     \u001b[90m━━━━━━━━━━━━━━━━━━━━━━━━━━━━━━━━━━━━━━━━\u001b[0m \u001b[32m50.8/50.8 kB\u001b[0m \u001b[31m6.9 MB/s\u001b[0m eta \u001b[36m0:00:00\u001b[0m\n",
            "\u001b[2K     \u001b[90m━━━━━━━━━━━━━━━━━━━━━━━━━━━━━━━━━━━━━━━━\u001b[0m \u001b[32m341.4/341.4 kB\u001b[0m \u001b[31m35.5 MB/s\u001b[0m eta \u001b[36m0:00:00\u001b[0m\n",
            "\u001b[2K     \u001b[90m━━━━━━━━━━━━━━━━━━━━━━━━━━━━━━━━━━━━━━━━\u001b[0m \u001b[32m3.4/3.4 MB\u001b[0m \u001b[31m94.4 MB/s\u001b[0m eta \u001b[36m0:00:00\u001b[0m\n",
            "\u001b[2K     \u001b[90m━━━━━━━━━━━━━━━━━━━━━━━━━━━━━━━━━━━━━━━━\u001b[0m \u001b[32m1.3/1.3 MB\u001b[0m \u001b[31m87.3 MB/s\u001b[0m eta \u001b[36m0:00:00\u001b[0m\n",
            "\u001b[2K     \u001b[90m━━━━━━━━━━━━━━━━━━━━━━━━━━━━━━━━━━━━━━━━\u001b[0m \u001b[32m130.2/130.2 kB\u001b[0m \u001b[31m16.7 MB/s\u001b[0m eta \u001b[36m0:00:00\u001b[0m\n",
            "\u001b[2K     \u001b[90m━━━━━━━━━━━━━━━━━━━━━━━━━━━━━━━━━━━━━━━━\u001b[0m \u001b[32m86.8/86.8 kB\u001b[0m \u001b[31m12.3 MB/s\u001b[0m eta \u001b[36m0:00:00\u001b[0m\n",
            "\u001b[?25h  Building wheel for pypika (pyproject.toml) ... \u001b[?25l\u001b[?25hdone\n",
            "\u001b[31mERROR: pip's dependency resolver does not currently take into account all the packages that are installed. This behaviour is the source of the following dependency conflicts.\n",
            "lida 0.0.10 requires kaleido, which is not installed.\n",
            "lida 0.0.10 requires python-multipart, which is not installed.\n",
            "llmx 0.0.15a0 requires cohere, which is not installed.\n",
            "tensorflow-probability 0.22.0 requires typing-extensions<4.6.0, but you have typing-extensions 4.8.0 which is incompatible.\u001b[0m\u001b[31m\n",
            "\u001b[0m"
          ]
        }
      ]
    },
    {
      "cell_type": "code",
      "source": [
        "import os\n",
        "import openai\n",
        "key = \"key is not necessary here\"\n",
        "key_bytes = key.encode()\n",
        "os.environ[\"OPENAI_API_KEY\"] = key_bytes.decode('utf-8')"
      ],
      "metadata": {
        "id": "B4DmZn43Lwtg"
      },
      "execution_count": 6,
      "outputs": []
    },
    {
      "cell_type": "code",
      "source": [
        "from langchain.schema import (\n",
        "    AIMessage,\n",
        "    HumanMessage,\n",
        "    SystemMessage\n",
        ")\n"
      ],
      "metadata": {
        "id": "7KR7LfLBMJZs"
      },
      "execution_count": 7,
      "outputs": []
    },
    {
      "cell_type": "code",
      "source": [
        "from ChatHaruhi import ChatHaruhi\n",
        "\n",
        "chatbot = ChatHaruhi( role_name = 'haruhi', max_len_story = 1000 )\n",
        "\n",
        "prompt = chatbot.generate_prompt(role='阿虚', text = '我看新一年的棒球比赛要开始了！我们要去参加吗？')\n",
        "\n",
        "response, history = model.chat(tokenizer, prompt, history=[])\n",
        "print(response)\n",
        "\n",
        "chatbot.append_response(response)"
      ],
      "metadata": {
        "colab": {
          "base_uri": "https://localhost:8080/"
        },
        "id": "Xm-ts1KqMZr_",
        "outputId": "aae95304-f2d8-4963-bff0-0935b91c0f5e"
      },
      "execution_count": 8,
      "outputs": [
        {
          "output_type": "stream",
          "name": "stdout",
          "text": [
            "正在下载Luotuo-Bert\n",
            "Luotuo-Bert下载完毕\n",
            "春日:「嗯，我对最近的比赛感兴趣，应该去看看。不过，我们也要考虑一下我们的体力和比赛计划。」\n"
          ]
        }
      ]
    },
    {
      "cell_type": "code",
      "source": [
        "from ChatHaruhi import ChatHaruhi\n",
        "\n",
        "chatbot = ChatHaruhi( role_name = 'haruhi', max_len_story = 1000 )\n",
        "\n",
        "prompt = chatbot.generate_prompt(role='李鲁鲁', text = '春日你好啊，我是新同学李鲁鲁')\n",
        "\n",
        "response, _ = model.chat(tokenizer, prompt, history=[])\n",
        "print(response)\n",
        "\n",
        "chatbot.append_response(response)"
      ],
      "metadata": {
        "colab": {
          "base_uri": "https://localhost:8080/"
        },
        "id": "bnQke7NhNVjQ",
        "outputId": "f72a433b-0a28-4337-f2f2-49e23f6a4d5b"
      },
      "execution_count": 9,
      "outputs": [
        {
          "output_type": "stream",
          "name": "stdout",
          "text": [
            "春日:「欢迎来到SOS团！我可以看一下你的简历吗？」\n"
          ]
        }
      ]
    },
    {
      "cell_type": "code",
      "source": [
        "prompt = chatbot.generate_prompt(role='李鲁鲁', text = '你知道我叫什么名字吗')\n",
        "\n",
        "response, _ = model.chat(tokenizer, prompt, history=[])\n",
        "print(response)\n",
        "\n",
        "chatbot.append_response(response)"
      ],
      "metadata": {
        "colab": {
          "base_uri": "https://localhost:8080/"
        },
        "id": "9N0pv4B6N_JE",
        "outputId": "b32be1d7-5c87-47d6-88ee-1d81985dd677"
      },
      "execution_count": 10,
      "outputs": [
        {
          "output_type": "stream",
          "name": "stdout",
          "text": [
            "春日:「李鲁鲁？」\n"
          ]
        }
      ]
    },
    {
      "cell_type": "markdown",
      "source": [
        "看一下import from jsonl"
      ],
      "metadata": {
        "id": "2d5EwQHVOPeN"
      }
    },
    {
      "cell_type": "code",
      "source": [
        "from ChatHaruhi import ChatHaruhi\n",
        "\n",
        "chatbot = ChatHaruhi( role_from_jsonl = '/content/贤者.jsonl', max_len_story = 1000 )\n",
        "\n",
        "prompt = chatbot.generate_prompt(role='男子', text = '告诉你吧，抵抗是没有用的')\n",
        "\n",
        "response, _ = model.chat(tokenizer, prompt, history=[])\n",
        "print(response)\n",
        "\n",
        "chatbot.append_response(response)"
      ],
      "metadata": {
        "colab": {
          "base_uri": "https://localhost:8080/"
        },
        "id": "59eYXiziOG6U",
        "outputId": "5a04bfb3-873d-4ca9-c15a-51db54b4ad18"
      },
      "execution_count": 12,
      "outputs": [
        {
          "output_type": "stream",
          "name": "stdout",
          "text": [
            "女贤者:「你以为你是谁？说这些干什么？」\n"
          ]
        }
      ]
    },
    {
      "cell_type": "code",
      "source": [],
      "metadata": {
        "id": "mi3wsVHVOeRJ"
      },
      "execution_count": null,
      "outputs": []
    }
  ]
}