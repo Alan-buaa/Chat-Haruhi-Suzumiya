{
  "nbformat": 4,
  "nbformat_minor": 0,
  "metadata": {
    "colab": {
      "provenance": [],
      "gpuType": "T4",
      "authorship_tag": "ABX9TyOk4V0rhmYXV9BFKLK+9ASE",
      "include_colab_link": true
    },
    "kernelspec": {
      "name": "python3",
      "display_name": "Python 3"
    },
    "language_info": {
      "name": "python"
    },
    "accelerator": "GPU",
    "widgets": {
      "application/vnd.jupyter.widget-state+json": {
        "662b02e9c3e94d84a21271ad2884b324": {
          "model_module": "@jupyter-widgets/controls",
          "model_name": "HBoxModel",
          "model_module_version": "1.5.0",
          "state": {
            "_dom_classes": [],
            "_model_module": "@jupyter-widgets/controls",
            "_model_module_version": "1.5.0",
            "_model_name": "HBoxModel",
            "_view_count": null,
            "_view_module": "@jupyter-widgets/controls",
            "_view_module_version": "1.5.0",
            "_view_name": "HBoxView",
            "box_style": "",
            "children": [
              "IPY_MODEL_1c981d516573406f9e5b9fc9833ddb71",
              "IPY_MODEL_d9cc5c1a61b64caba039e9c71ed75ac4",
              "IPY_MODEL_9e7b64ba7e8a4f87841ded828b523db2"
            ],
            "layout": "IPY_MODEL_ac8a2f42e91345bead7b61cb40db807b"
          }
        },
        "1c981d516573406f9e5b9fc9833ddb71": {
          "model_module": "@jupyter-widgets/controls",
          "model_name": "HTMLModel",
          "model_module_version": "1.5.0",
          "state": {
            "_dom_classes": [],
            "_model_module": "@jupyter-widgets/controls",
            "_model_module_version": "1.5.0",
            "_model_name": "HTMLModel",
            "_view_count": null,
            "_view_module": "@jupyter-widgets/controls",
            "_view_module_version": "1.5.0",
            "_view_name": "HTMLView",
            "description": "",
            "description_tooltip": null,
            "layout": "IPY_MODEL_a433459f400f460296af1ae47d4f1dbc",
            "placeholder": "​",
            "style": "IPY_MODEL_6159d0ea7aab453ea33a9b0be46feb78",
            "value": "Downloading (…)lve/main/config.json: 100%"
          }
        },
        "d9cc5c1a61b64caba039e9c71ed75ac4": {
          "model_module": "@jupyter-widgets/controls",
          "model_name": "FloatProgressModel",
          "model_module_version": "1.5.0",
          "state": {
            "_dom_classes": [],
            "_model_module": "@jupyter-widgets/controls",
            "_model_module_version": "1.5.0",
            "_model_name": "FloatProgressModel",
            "_view_count": null,
            "_view_module": "@jupyter-widgets/controls",
            "_view_module_version": "1.5.0",
            "_view_name": "ProgressView",
            "bar_style": "success",
            "description": "",
            "description_tooltip": null,
            "layout": "IPY_MODEL_f7ef77a657744874a443b2c0566191d1",
            "max": 35919,
            "min": 0,
            "orientation": "horizontal",
            "style": "IPY_MODEL_47c9df11dbc149099055cff01a485fdd",
            "value": 35919
          }
        },
        "9e7b64ba7e8a4f87841ded828b523db2": {
          "model_module": "@jupyter-widgets/controls",
          "model_name": "HTMLModel",
          "model_module_version": "1.5.0",
          "state": {
            "_dom_classes": [],
            "_model_module": "@jupyter-widgets/controls",
            "_model_module_version": "1.5.0",
            "_model_name": "HTMLModel",
            "_view_count": null,
            "_view_module": "@jupyter-widgets/controls",
            "_view_module_version": "1.5.0",
            "_view_name": "HTMLView",
            "description": "",
            "description_tooltip": null,
            "layout": "IPY_MODEL_e042303319ef4098b8baec30a7276c72",
            "placeholder": "​",
            "style": "IPY_MODEL_5215dcc0c7e44b15a5c1d90ea51f1a24",
            "value": " 35.9k/35.9k [00:00&lt;00:00, 2.19MB/s]"
          }
        },
        "ac8a2f42e91345bead7b61cb40db807b": {
          "model_module": "@jupyter-widgets/base",
          "model_name": "LayoutModel",
          "model_module_version": "1.2.0",
          "state": {
            "_model_module": "@jupyter-widgets/base",
            "_model_module_version": "1.2.0",
            "_model_name": "LayoutModel",
            "_view_count": null,
            "_view_module": "@jupyter-widgets/base",
            "_view_module_version": "1.2.0",
            "_view_name": "LayoutView",
            "align_content": null,
            "align_items": null,
            "align_self": null,
            "border": null,
            "bottom": null,
            "display": null,
            "flex": null,
            "flex_flow": null,
            "grid_area": null,
            "grid_auto_columns": null,
            "grid_auto_flow": null,
            "grid_auto_rows": null,
            "grid_column": null,
            "grid_gap": null,
            "grid_row": null,
            "grid_template_areas": null,
            "grid_template_columns": null,
            "grid_template_rows": null,
            "height": null,
            "justify_content": null,
            "justify_items": null,
            "left": null,
            "margin": null,
            "max_height": null,
            "max_width": null,
            "min_height": null,
            "min_width": null,
            "object_fit": null,
            "object_position": null,
            "order": null,
            "overflow": null,
            "overflow_x": null,
            "overflow_y": null,
            "padding": null,
            "right": null,
            "top": null,
            "visibility": null,
            "width": null
          }
        },
        "a433459f400f460296af1ae47d4f1dbc": {
          "model_module": "@jupyter-widgets/base",
          "model_name": "LayoutModel",
          "model_module_version": "1.2.0",
          "state": {
            "_model_module": "@jupyter-widgets/base",
            "_model_module_version": "1.2.0",
            "_model_name": "LayoutModel",
            "_view_count": null,
            "_view_module": "@jupyter-widgets/base",
            "_view_module_version": "1.2.0",
            "_view_name": "LayoutView",
            "align_content": null,
            "align_items": null,
            "align_self": null,
            "border": null,
            "bottom": null,
            "display": null,
            "flex": null,
            "flex_flow": null,
            "grid_area": null,
            "grid_auto_columns": null,
            "grid_auto_flow": null,
            "grid_auto_rows": null,
            "grid_column": null,
            "grid_gap": null,
            "grid_row": null,
            "grid_template_areas": null,
            "grid_template_columns": null,
            "grid_template_rows": null,
            "height": null,
            "justify_content": null,
            "justify_items": null,
            "left": null,
            "margin": null,
            "max_height": null,
            "max_width": null,
            "min_height": null,
            "min_width": null,
            "object_fit": null,
            "object_position": null,
            "order": null,
            "overflow": null,
            "overflow_x": null,
            "overflow_y": null,
            "padding": null,
            "right": null,
            "top": null,
            "visibility": null,
            "width": null
          }
        },
        "6159d0ea7aab453ea33a9b0be46feb78": {
          "model_module": "@jupyter-widgets/controls",
          "model_name": "DescriptionStyleModel",
          "model_module_version": "1.5.0",
          "state": {
            "_model_module": "@jupyter-widgets/controls",
            "_model_module_version": "1.5.0",
            "_model_name": "DescriptionStyleModel",
            "_view_count": null,
            "_view_module": "@jupyter-widgets/base",
            "_view_module_version": "1.2.0",
            "_view_name": "StyleView",
            "description_width": ""
          }
        },
        "f7ef77a657744874a443b2c0566191d1": {
          "model_module": "@jupyter-widgets/base",
          "model_name": "LayoutModel",
          "model_module_version": "1.2.0",
          "state": {
            "_model_module": "@jupyter-widgets/base",
            "_model_module_version": "1.2.0",
            "_model_name": "LayoutModel",
            "_view_count": null,
            "_view_module": "@jupyter-widgets/base",
            "_view_module_version": "1.2.0",
            "_view_name": "LayoutView",
            "align_content": null,
            "align_items": null,
            "align_self": null,
            "border": null,
            "bottom": null,
            "display": null,
            "flex": null,
            "flex_flow": null,
            "grid_area": null,
            "grid_auto_columns": null,
            "grid_auto_flow": null,
            "grid_auto_rows": null,
            "grid_column": null,
            "grid_gap": null,
            "grid_row": null,
            "grid_template_areas": null,
            "grid_template_columns": null,
            "grid_template_rows": null,
            "height": null,
            "justify_content": null,
            "justify_items": null,
            "left": null,
            "margin": null,
            "max_height": null,
            "max_width": null,
            "min_height": null,
            "min_width": null,
            "object_fit": null,
            "object_position": null,
            "order": null,
            "overflow": null,
            "overflow_x": null,
            "overflow_y": null,
            "padding": null,
            "right": null,
            "top": null,
            "visibility": null,
            "width": null
          }
        },
        "47c9df11dbc149099055cff01a485fdd": {
          "model_module": "@jupyter-widgets/controls",
          "model_name": "ProgressStyleModel",
          "model_module_version": "1.5.0",
          "state": {
            "_model_module": "@jupyter-widgets/controls",
            "_model_module_version": "1.5.0",
            "_model_name": "ProgressStyleModel",
            "_view_count": null,
            "_view_module": "@jupyter-widgets/base",
            "_view_module_version": "1.2.0",
            "_view_name": "StyleView",
            "bar_color": null,
            "description_width": ""
          }
        },
        "e042303319ef4098b8baec30a7276c72": {
          "model_module": "@jupyter-widgets/base",
          "model_name": "LayoutModel",
          "model_module_version": "1.2.0",
          "state": {
            "_model_module": "@jupyter-widgets/base",
            "_model_module_version": "1.2.0",
            "_model_name": "LayoutModel",
            "_view_count": null,
            "_view_module": "@jupyter-widgets/base",
            "_view_module_version": "1.2.0",
            "_view_name": "LayoutView",
            "align_content": null,
            "align_items": null,
            "align_self": null,
            "border": null,
            "bottom": null,
            "display": null,
            "flex": null,
            "flex_flow": null,
            "grid_area": null,
            "grid_auto_columns": null,
            "grid_auto_flow": null,
            "grid_auto_rows": null,
            "grid_column": null,
            "grid_gap": null,
            "grid_row": null,
            "grid_template_areas": null,
            "grid_template_columns": null,
            "grid_template_rows": null,
            "height": null,
            "justify_content": null,
            "justify_items": null,
            "left": null,
            "margin": null,
            "max_height": null,
            "max_width": null,
            "min_height": null,
            "min_width": null,
            "object_fit": null,
            "object_position": null,
            "order": null,
            "overflow": null,
            "overflow_x": null,
            "overflow_y": null,
            "padding": null,
            "right": null,
            "top": null,
            "visibility": null,
            "width": null
          }
        },
        "5215dcc0c7e44b15a5c1d90ea51f1a24": {
          "model_module": "@jupyter-widgets/controls",
          "model_name": "DescriptionStyleModel",
          "model_module_version": "1.5.0",
          "state": {
            "_model_module": "@jupyter-widgets/controls",
            "_model_module_version": "1.5.0",
            "_model_name": "DescriptionStyleModel",
            "_view_count": null,
            "_view_module": "@jupyter-widgets/base",
            "_view_module_version": "1.2.0",
            "_view_name": "StyleView",
            "description_width": ""
          }
        },
        "ea88fb3a407e4bc997758a57264fe47c": {
          "model_module": "@jupyter-widgets/controls",
          "model_name": "HBoxModel",
          "model_module_version": "1.5.0",
          "state": {
            "_dom_classes": [],
            "_model_module": "@jupyter-widgets/controls",
            "_model_module_version": "1.5.0",
            "_model_name": "HBoxModel",
            "_view_count": null,
            "_view_module": "@jupyter-widgets/controls",
            "_view_module_version": "1.5.0",
            "_view_name": "HBoxView",
            "box_style": "",
            "children": [
              "IPY_MODEL_f9317f994ece44e9b36ea98a9e7e582a",
              "IPY_MODEL_2d9b071d6188494999cc5c62f0b5894a",
              "IPY_MODEL_a21e1aa359494be188dd27061ea9f740"
            ],
            "layout": "IPY_MODEL_ae9a12e559894f92890edeba32569f78"
          }
        },
        "f9317f994ece44e9b36ea98a9e7e582a": {
          "model_module": "@jupyter-widgets/controls",
          "model_name": "HTMLModel",
          "model_module_version": "1.5.0",
          "state": {
            "_dom_classes": [],
            "_model_module": "@jupyter-widgets/controls",
            "_model_module_version": "1.5.0",
            "_model_name": "HTMLModel",
            "_view_count": null,
            "_view_module": "@jupyter-widgets/controls",
            "_view_module_version": "1.5.0",
            "_view_name": "HTMLView",
            "description": "",
            "description_tooltip": null,
            "layout": "IPY_MODEL_f81b769dae4147618ec53358a4c361d6",
            "placeholder": "​",
            "style": "IPY_MODEL_b04eaea1cfeb4d229b6bf3699f2ddf2a",
            "value": "Downloading (…)solve/main/models.py: 100%"
          }
        },
        "2d9b071d6188494999cc5c62f0b5894a": {
          "model_module": "@jupyter-widgets/controls",
          "model_name": "FloatProgressModel",
          "model_module_version": "1.5.0",
          "state": {
            "_dom_classes": [],
            "_model_module": "@jupyter-widgets/controls",
            "_model_module_version": "1.5.0",
            "_model_name": "FloatProgressModel",
            "_view_count": null,
            "_view_module": "@jupyter-widgets/controls",
            "_view_module_version": "1.5.0",
            "_view_name": "ProgressView",
            "bar_style": "success",
            "description": "",
            "description_tooltip": null,
            "layout": "IPY_MODEL_99014d77a5f34cd3b2d98bd854435559",
            "max": 21133,
            "min": 0,
            "orientation": "horizontal",
            "style": "IPY_MODEL_e63e0590761740999b96f779bf8a7bc2",
            "value": 21133
          }
        },
        "a21e1aa359494be188dd27061ea9f740": {
          "model_module": "@jupyter-widgets/controls",
          "model_name": "HTMLModel",
          "model_module_version": "1.5.0",
          "state": {
            "_dom_classes": [],
            "_model_module": "@jupyter-widgets/controls",
            "_model_module_version": "1.5.0",
            "_model_name": "HTMLModel",
            "_view_count": null,
            "_view_module": "@jupyter-widgets/controls",
            "_view_module_version": "1.5.0",
            "_view_name": "HTMLView",
            "description": "",
            "description_tooltip": null,
            "layout": "IPY_MODEL_80ec6195f1cd409793a942c9f2434cd2",
            "placeholder": "​",
            "style": "IPY_MODEL_001e6b16d3f1409eae7da2b6fed0b001",
            "value": " 21.1k/21.1k [00:00&lt;00:00, 884kB/s]"
          }
        },
        "ae9a12e559894f92890edeba32569f78": {
          "model_module": "@jupyter-widgets/base",
          "model_name": "LayoutModel",
          "model_module_version": "1.2.0",
          "state": {
            "_model_module": "@jupyter-widgets/base",
            "_model_module_version": "1.2.0",
            "_model_name": "LayoutModel",
            "_view_count": null,
            "_view_module": "@jupyter-widgets/base",
            "_view_module_version": "1.2.0",
            "_view_name": "LayoutView",
            "align_content": null,
            "align_items": null,
            "align_self": null,
            "border": null,
            "bottom": null,
            "display": null,
            "flex": null,
            "flex_flow": null,
            "grid_area": null,
            "grid_auto_columns": null,
            "grid_auto_flow": null,
            "grid_auto_rows": null,
            "grid_column": null,
            "grid_gap": null,
            "grid_row": null,
            "grid_template_areas": null,
            "grid_template_columns": null,
            "grid_template_rows": null,
            "height": null,
            "justify_content": null,
            "justify_items": null,
            "left": null,
            "margin": null,
            "max_height": null,
            "max_width": null,
            "min_height": null,
            "min_width": null,
            "object_fit": null,
            "object_position": null,
            "order": null,
            "overflow": null,
            "overflow_x": null,
            "overflow_y": null,
            "padding": null,
            "right": null,
            "top": null,
            "visibility": null,
            "width": null
          }
        },
        "f81b769dae4147618ec53358a4c361d6": {
          "model_module": "@jupyter-widgets/base",
          "model_name": "LayoutModel",
          "model_module_version": "1.2.0",
          "state": {
            "_model_module": "@jupyter-widgets/base",
            "_model_module_version": "1.2.0",
            "_model_name": "LayoutModel",
            "_view_count": null,
            "_view_module": "@jupyter-widgets/base",
            "_view_module_version": "1.2.0",
            "_view_name": "LayoutView",
            "align_content": null,
            "align_items": null,
            "align_self": null,
            "border": null,
            "bottom": null,
            "display": null,
            "flex": null,
            "flex_flow": null,
            "grid_area": null,
            "grid_auto_columns": null,
            "grid_auto_flow": null,
            "grid_auto_rows": null,
            "grid_column": null,
            "grid_gap": null,
            "grid_row": null,
            "grid_template_areas": null,
            "grid_template_columns": null,
            "grid_template_rows": null,
            "height": null,
            "justify_content": null,
            "justify_items": null,
            "left": null,
            "margin": null,
            "max_height": null,
            "max_width": null,
            "min_height": null,
            "min_width": null,
            "object_fit": null,
            "object_position": null,
            "order": null,
            "overflow": null,
            "overflow_x": null,
            "overflow_y": null,
            "padding": null,
            "right": null,
            "top": null,
            "visibility": null,
            "width": null
          }
        },
        "b04eaea1cfeb4d229b6bf3699f2ddf2a": {
          "model_module": "@jupyter-widgets/controls",
          "model_name": "DescriptionStyleModel",
          "model_module_version": "1.5.0",
          "state": {
            "_model_module": "@jupyter-widgets/controls",
            "_model_module_version": "1.5.0",
            "_model_name": "DescriptionStyleModel",
            "_view_count": null,
            "_view_module": "@jupyter-widgets/base",
            "_view_module_version": "1.2.0",
            "_view_name": "StyleView",
            "description_width": ""
          }
        },
        "99014d77a5f34cd3b2d98bd854435559": {
          "model_module": "@jupyter-widgets/base",
          "model_name": "LayoutModel",
          "model_module_version": "1.2.0",
          "state": {
            "_model_module": "@jupyter-widgets/base",
            "_model_module_version": "1.2.0",
            "_model_name": "LayoutModel",
            "_view_count": null,
            "_view_module": "@jupyter-widgets/base",
            "_view_module_version": "1.2.0",
            "_view_name": "LayoutView",
            "align_content": null,
            "align_items": null,
            "align_self": null,
            "border": null,
            "bottom": null,
            "display": null,
            "flex": null,
            "flex_flow": null,
            "grid_area": null,
            "grid_auto_columns": null,
            "grid_auto_flow": null,
            "grid_auto_rows": null,
            "grid_column": null,
            "grid_gap": null,
            "grid_row": null,
            "grid_template_areas": null,
            "grid_template_columns": null,
            "grid_template_rows": null,
            "height": null,
            "justify_content": null,
            "justify_items": null,
            "left": null,
            "margin": null,
            "max_height": null,
            "max_width": null,
            "min_height": null,
            "min_width": null,
            "object_fit": null,
            "object_position": null,
            "order": null,
            "overflow": null,
            "overflow_x": null,
            "overflow_y": null,
            "padding": null,
            "right": null,
            "top": null,
            "visibility": null,
            "width": null
          }
        },
        "e63e0590761740999b96f779bf8a7bc2": {
          "model_module": "@jupyter-widgets/controls",
          "model_name": "ProgressStyleModel",
          "model_module_version": "1.5.0",
          "state": {
            "_model_module": "@jupyter-widgets/controls",
            "_model_module_version": "1.5.0",
            "_model_name": "ProgressStyleModel",
            "_view_count": null,
            "_view_module": "@jupyter-widgets/base",
            "_view_module_version": "1.2.0",
            "_view_name": "StyleView",
            "bar_color": null,
            "description_width": ""
          }
        },
        "80ec6195f1cd409793a942c9f2434cd2": {
          "model_module": "@jupyter-widgets/base",
          "model_name": "LayoutModel",
          "model_module_version": "1.2.0",
          "state": {
            "_model_module": "@jupyter-widgets/base",
            "_model_module_version": "1.2.0",
            "_model_name": "LayoutModel",
            "_view_count": null,
            "_view_module": "@jupyter-widgets/base",
            "_view_module_version": "1.2.0",
            "_view_name": "LayoutView",
            "align_content": null,
            "align_items": null,
            "align_self": null,
            "border": null,
            "bottom": null,
            "display": null,
            "flex": null,
            "flex_flow": null,
            "grid_area": null,
            "grid_auto_columns": null,
            "grid_auto_flow": null,
            "grid_auto_rows": null,
            "grid_column": null,
            "grid_gap": null,
            "grid_row": null,
            "grid_template_areas": null,
            "grid_template_columns": null,
            "grid_template_rows": null,
            "height": null,
            "justify_content": null,
            "justify_items": null,
            "left": null,
            "margin": null,
            "max_height": null,
            "max_width": null,
            "min_height": null,
            "min_width": null,
            "object_fit": null,
            "object_position": null,
            "order": null,
            "overflow": null,
            "overflow_x": null,
            "overflow_y": null,
            "padding": null,
            "right": null,
            "top": null,
            "visibility": null,
            "width": null
          }
        },
        "001e6b16d3f1409eae7da2b6fed0b001": {
          "model_module": "@jupyter-widgets/controls",
          "model_name": "DescriptionStyleModel",
          "model_module_version": "1.5.0",
          "state": {
            "_model_module": "@jupyter-widgets/controls",
            "_model_module_version": "1.5.0",
            "_model_name": "DescriptionStyleModel",
            "_view_count": null,
            "_view_module": "@jupyter-widgets/base",
            "_view_module_version": "1.2.0",
            "_view_name": "StyleView",
            "description_width": ""
          }
        },
        "893241649c284ff08540367d67812189": {
          "model_module": "@jupyter-widgets/controls",
          "model_name": "HBoxModel",
          "model_module_version": "1.5.0",
          "state": {
            "_dom_classes": [],
            "_model_module": "@jupyter-widgets/controls",
            "_model_module_version": "1.5.0",
            "_model_name": "HBoxModel",
            "_view_count": null,
            "_view_module": "@jupyter-widgets/controls",
            "_view_module_version": "1.5.0",
            "_view_name": "HBoxView",
            "box_style": "",
            "children": [
              "IPY_MODEL_a00ac0c024414cdfbe90c0fcce21dd0d",
              "IPY_MODEL_3d7fc3ae48834b85ba2216f15dbd179d",
              "IPY_MODEL_b1ed376ab2504124a3548028ff01cf9d"
            ],
            "layout": "IPY_MODEL_50d7b64bfeb44ed0bf401f00fff67e3a"
          }
        },
        "a00ac0c024414cdfbe90c0fcce21dd0d": {
          "model_module": "@jupyter-widgets/controls",
          "model_name": "HTMLModel",
          "model_module_version": "1.5.0",
          "state": {
            "_dom_classes": [],
            "_model_module": "@jupyter-widgets/controls",
            "_model_module_version": "1.5.0",
            "_model_name": "HTMLModel",
            "_view_count": null,
            "_view_module": "@jupyter-widgets/controls",
            "_view_module_version": "1.5.0",
            "_view_name": "HTMLView",
            "description": "",
            "description_tooltip": null,
            "layout": "IPY_MODEL_9499596c324d45ab8b686988eb30e27c",
            "placeholder": "​",
            "style": "IPY_MODEL_b2ac96d7784f4783883143de4bf7ede6",
            "value": "Downloading pytorch_model.bin: 100%"
          }
        },
        "3d7fc3ae48834b85ba2216f15dbd179d": {
          "model_module": "@jupyter-widgets/controls",
          "model_name": "FloatProgressModel",
          "model_module_version": "1.5.0",
          "state": {
            "_dom_classes": [],
            "_model_module": "@jupyter-widgets/controls",
            "_model_module_version": "1.5.0",
            "_model_name": "FloatProgressModel",
            "_view_count": null,
            "_view_module": "@jupyter-widgets/controls",
            "_view_module_version": "1.5.0",
            "_view_name": "ProgressView",
            "bar_style": "success",
            "description": "",
            "description_tooltip": null,
            "layout": "IPY_MODEL_d80eb9d086064f8aa3763412bacf642e",
            "max": 1308526197,
            "min": 0,
            "orientation": "horizontal",
            "style": "IPY_MODEL_c92bd8bfa6be447f9ee0e2c20aecc9b9",
            "value": 1308526197
          }
        },
        "b1ed376ab2504124a3548028ff01cf9d": {
          "model_module": "@jupyter-widgets/controls",
          "model_name": "HTMLModel",
          "model_module_version": "1.5.0",
          "state": {
            "_dom_classes": [],
            "_model_module": "@jupyter-widgets/controls",
            "_model_module_version": "1.5.0",
            "_model_name": "HTMLModel",
            "_view_count": null,
            "_view_module": "@jupyter-widgets/controls",
            "_view_module_version": "1.5.0",
            "_view_name": "HTMLView",
            "description": "",
            "description_tooltip": null,
            "layout": "IPY_MODEL_c6f838955042445397846e3fb600fa99",
            "placeholder": "​",
            "style": "IPY_MODEL_670e4b1720c9431c8a015117de474c74",
            "value": " 1.31G/1.31G [02:22&lt;00:00, 11.6MB/s]"
          }
        },
        "50d7b64bfeb44ed0bf401f00fff67e3a": {
          "model_module": "@jupyter-widgets/base",
          "model_name": "LayoutModel",
          "model_module_version": "1.2.0",
          "state": {
            "_model_module": "@jupyter-widgets/base",
            "_model_module_version": "1.2.0",
            "_model_name": "LayoutModel",
            "_view_count": null,
            "_view_module": "@jupyter-widgets/base",
            "_view_module_version": "1.2.0",
            "_view_name": "LayoutView",
            "align_content": null,
            "align_items": null,
            "align_self": null,
            "border": null,
            "bottom": null,
            "display": null,
            "flex": null,
            "flex_flow": null,
            "grid_area": null,
            "grid_auto_columns": null,
            "grid_auto_flow": null,
            "grid_auto_rows": null,
            "grid_column": null,
            "grid_gap": null,
            "grid_row": null,
            "grid_template_areas": null,
            "grid_template_columns": null,
            "grid_template_rows": null,
            "height": null,
            "justify_content": null,
            "justify_items": null,
            "left": null,
            "margin": null,
            "max_height": null,
            "max_width": null,
            "min_height": null,
            "min_width": null,
            "object_fit": null,
            "object_position": null,
            "order": null,
            "overflow": null,
            "overflow_x": null,
            "overflow_y": null,
            "padding": null,
            "right": null,
            "top": null,
            "visibility": null,
            "width": null
          }
        },
        "9499596c324d45ab8b686988eb30e27c": {
          "model_module": "@jupyter-widgets/base",
          "model_name": "LayoutModel",
          "model_module_version": "1.2.0",
          "state": {
            "_model_module": "@jupyter-widgets/base",
            "_model_module_version": "1.2.0",
            "_model_name": "LayoutModel",
            "_view_count": null,
            "_view_module": "@jupyter-widgets/base",
            "_view_module_version": "1.2.0",
            "_view_name": "LayoutView",
            "align_content": null,
            "align_items": null,
            "align_self": null,
            "border": null,
            "bottom": null,
            "display": null,
            "flex": null,
            "flex_flow": null,
            "grid_area": null,
            "grid_auto_columns": null,
            "grid_auto_flow": null,
            "grid_auto_rows": null,
            "grid_column": null,
            "grid_gap": null,
            "grid_row": null,
            "grid_template_areas": null,
            "grid_template_columns": null,
            "grid_template_rows": null,
            "height": null,
            "justify_content": null,
            "justify_items": null,
            "left": null,
            "margin": null,
            "max_height": null,
            "max_width": null,
            "min_height": null,
            "min_width": null,
            "object_fit": null,
            "object_position": null,
            "order": null,
            "overflow": null,
            "overflow_x": null,
            "overflow_y": null,
            "padding": null,
            "right": null,
            "top": null,
            "visibility": null,
            "width": null
          }
        },
        "b2ac96d7784f4783883143de4bf7ede6": {
          "model_module": "@jupyter-widgets/controls",
          "model_name": "DescriptionStyleModel",
          "model_module_version": "1.5.0",
          "state": {
            "_model_module": "@jupyter-widgets/controls",
            "_model_module_version": "1.5.0",
            "_model_name": "DescriptionStyleModel",
            "_view_count": null,
            "_view_module": "@jupyter-widgets/base",
            "_view_module_version": "1.2.0",
            "_view_name": "StyleView",
            "description_width": ""
          }
        },
        "d80eb9d086064f8aa3763412bacf642e": {
          "model_module": "@jupyter-widgets/base",
          "model_name": "LayoutModel",
          "model_module_version": "1.2.0",
          "state": {
            "_model_module": "@jupyter-widgets/base",
            "_model_module_version": "1.2.0",
            "_model_name": "LayoutModel",
            "_view_count": null,
            "_view_module": "@jupyter-widgets/base",
            "_view_module_version": "1.2.0",
            "_view_name": "LayoutView",
            "align_content": null,
            "align_items": null,
            "align_self": null,
            "border": null,
            "bottom": null,
            "display": null,
            "flex": null,
            "flex_flow": null,
            "grid_area": null,
            "grid_auto_columns": null,
            "grid_auto_flow": null,
            "grid_auto_rows": null,
            "grid_column": null,
            "grid_gap": null,
            "grid_row": null,
            "grid_template_areas": null,
            "grid_template_columns": null,
            "grid_template_rows": null,
            "height": null,
            "justify_content": null,
            "justify_items": null,
            "left": null,
            "margin": null,
            "max_height": null,
            "max_width": null,
            "min_height": null,
            "min_width": null,
            "object_fit": null,
            "object_position": null,
            "order": null,
            "overflow": null,
            "overflow_x": null,
            "overflow_y": null,
            "padding": null,
            "right": null,
            "top": null,
            "visibility": null,
            "width": null
          }
        },
        "c92bd8bfa6be447f9ee0e2c20aecc9b9": {
          "model_module": "@jupyter-widgets/controls",
          "model_name": "ProgressStyleModel",
          "model_module_version": "1.5.0",
          "state": {
            "_model_module": "@jupyter-widgets/controls",
            "_model_module_version": "1.5.0",
            "_model_name": "ProgressStyleModel",
            "_view_count": null,
            "_view_module": "@jupyter-widgets/base",
            "_view_module_version": "1.2.0",
            "_view_name": "StyleView",
            "bar_color": null,
            "description_width": ""
          }
        },
        "c6f838955042445397846e3fb600fa99": {
          "model_module": "@jupyter-widgets/base",
          "model_name": "LayoutModel",
          "model_module_version": "1.2.0",
          "state": {
            "_model_module": "@jupyter-widgets/base",
            "_model_module_version": "1.2.0",
            "_model_name": "LayoutModel",
            "_view_count": null,
            "_view_module": "@jupyter-widgets/base",
            "_view_module_version": "1.2.0",
            "_view_name": "LayoutView",
            "align_content": null,
            "align_items": null,
            "align_self": null,
            "border": null,
            "bottom": null,
            "display": null,
            "flex": null,
            "flex_flow": null,
            "grid_area": null,
            "grid_auto_columns": null,
            "grid_auto_flow": null,
            "grid_auto_rows": null,
            "grid_column": null,
            "grid_gap": null,
            "grid_row": null,
            "grid_template_areas": null,
            "grid_template_columns": null,
            "grid_template_rows": null,
            "height": null,
            "justify_content": null,
            "justify_items": null,
            "left": null,
            "margin": null,
            "max_height": null,
            "max_width": null,
            "min_height": null,
            "min_width": null,
            "object_fit": null,
            "object_position": null,
            "order": null,
            "overflow": null,
            "overflow_x": null,
            "overflow_y": null,
            "padding": null,
            "right": null,
            "top": null,
            "visibility": null,
            "width": null
          }
        },
        "670e4b1720c9431c8a015117de474c74": {
          "model_module": "@jupyter-widgets/controls",
          "model_name": "DescriptionStyleModel",
          "model_module_version": "1.5.0",
          "state": {
            "_model_module": "@jupyter-widgets/controls",
            "_model_module_version": "1.5.0",
            "_model_name": "DescriptionStyleModel",
            "_view_count": null,
            "_view_module": "@jupyter-widgets/base",
            "_view_module_version": "1.2.0",
            "_view_name": "StyleView",
            "description_width": ""
          }
        },
        "124618e05a624cbaac294b4effea25f4": {
          "model_module": "@jupyter-widgets/controls",
          "model_name": "HBoxModel",
          "model_module_version": "1.5.0",
          "state": {
            "_dom_classes": [],
            "_model_module": "@jupyter-widgets/controls",
            "_model_module_version": "1.5.0",
            "_model_name": "HBoxModel",
            "_view_count": null,
            "_view_module": "@jupyter-widgets/controls",
            "_view_module_version": "1.5.0",
            "_view_name": "HBoxView",
            "box_style": "",
            "children": [
              "IPY_MODEL_5f2593b03a4a4627a50a3871c054f1e2",
              "IPY_MODEL_6676aa16c61b47cba0bdadda3bebfc42",
              "IPY_MODEL_52f29733a185432abfec898c28a9d11e"
            ],
            "layout": "IPY_MODEL_1828cc87a4d8441a8155f23bef13773e"
          }
        },
        "5f2593b03a4a4627a50a3871c054f1e2": {
          "model_module": "@jupyter-widgets/controls",
          "model_name": "HTMLModel",
          "model_module_version": "1.5.0",
          "state": {
            "_dom_classes": [],
            "_model_module": "@jupyter-widgets/controls",
            "_model_module_version": "1.5.0",
            "_model_name": "HTMLModel",
            "_view_count": null,
            "_view_module": "@jupyter-widgets/controls",
            "_view_module_version": "1.5.0",
            "_view_name": "HTMLView",
            "description": "",
            "description_tooltip": null,
            "layout": "IPY_MODEL_ea82a1979b274b8fa1dc23f02eed3ee3",
            "placeholder": "​",
            "style": "IPY_MODEL_90e2150181b74b77841124891ec4ca9e",
            "value": "Downloading (…)okenizer_config.json: 100%"
          }
        },
        "6676aa16c61b47cba0bdadda3bebfc42": {
          "model_module": "@jupyter-widgets/controls",
          "model_name": "FloatProgressModel",
          "model_module_version": "1.5.0",
          "state": {
            "_dom_classes": [],
            "_model_module": "@jupyter-widgets/controls",
            "_model_module_version": "1.5.0",
            "_model_name": "FloatProgressModel",
            "_view_count": null,
            "_view_module": "@jupyter-widgets/controls",
            "_view_module_version": "1.5.0",
            "_view_name": "ProgressView",
            "bar_style": "success",
            "description": "",
            "description_tooltip": null,
            "layout": "IPY_MODEL_b24f3507bb7741a0b33123572ddca4cd",
            "max": 394,
            "min": 0,
            "orientation": "horizontal",
            "style": "IPY_MODEL_7ad04a44e0ef4adaac5450b22110c7c1",
            "value": 394
          }
        },
        "52f29733a185432abfec898c28a9d11e": {
          "model_module": "@jupyter-widgets/controls",
          "model_name": "HTMLModel",
          "model_module_version": "1.5.0",
          "state": {
            "_dom_classes": [],
            "_model_module": "@jupyter-widgets/controls",
            "_model_module_version": "1.5.0",
            "_model_name": "HTMLModel",
            "_view_count": null,
            "_view_module": "@jupyter-widgets/controls",
            "_view_module_version": "1.5.0",
            "_view_name": "HTMLView",
            "description": "",
            "description_tooltip": null,
            "layout": "IPY_MODEL_6d8c61ec89f5479c9ae47b89126b59eb",
            "placeholder": "​",
            "style": "IPY_MODEL_fa9a47f978f246c08c4fadc3290f553f",
            "value": " 394/394 [00:00&lt;00:00, 16.2kB/s]"
          }
        },
        "1828cc87a4d8441a8155f23bef13773e": {
          "model_module": "@jupyter-widgets/base",
          "model_name": "LayoutModel",
          "model_module_version": "1.2.0",
          "state": {
            "_model_module": "@jupyter-widgets/base",
            "_model_module_version": "1.2.0",
            "_model_name": "LayoutModel",
            "_view_count": null,
            "_view_module": "@jupyter-widgets/base",
            "_view_module_version": "1.2.0",
            "_view_name": "LayoutView",
            "align_content": null,
            "align_items": null,
            "align_self": null,
            "border": null,
            "bottom": null,
            "display": null,
            "flex": null,
            "flex_flow": null,
            "grid_area": null,
            "grid_auto_columns": null,
            "grid_auto_flow": null,
            "grid_auto_rows": null,
            "grid_column": null,
            "grid_gap": null,
            "grid_row": null,
            "grid_template_areas": null,
            "grid_template_columns": null,
            "grid_template_rows": null,
            "height": null,
            "justify_content": null,
            "justify_items": null,
            "left": null,
            "margin": null,
            "max_height": null,
            "max_width": null,
            "min_height": null,
            "min_width": null,
            "object_fit": null,
            "object_position": null,
            "order": null,
            "overflow": null,
            "overflow_x": null,
            "overflow_y": null,
            "padding": null,
            "right": null,
            "top": null,
            "visibility": null,
            "width": null
          }
        },
        "ea82a1979b274b8fa1dc23f02eed3ee3": {
          "model_module": "@jupyter-widgets/base",
          "model_name": "LayoutModel",
          "model_module_version": "1.2.0",
          "state": {
            "_model_module": "@jupyter-widgets/base",
            "_model_module_version": "1.2.0",
            "_model_name": "LayoutModel",
            "_view_count": null,
            "_view_module": "@jupyter-widgets/base",
            "_view_module_version": "1.2.0",
            "_view_name": "LayoutView",
            "align_content": null,
            "align_items": null,
            "align_self": null,
            "border": null,
            "bottom": null,
            "display": null,
            "flex": null,
            "flex_flow": null,
            "grid_area": null,
            "grid_auto_columns": null,
            "grid_auto_flow": null,
            "grid_auto_rows": null,
            "grid_column": null,
            "grid_gap": null,
            "grid_row": null,
            "grid_template_areas": null,
            "grid_template_columns": null,
            "grid_template_rows": null,
            "height": null,
            "justify_content": null,
            "justify_items": null,
            "left": null,
            "margin": null,
            "max_height": null,
            "max_width": null,
            "min_height": null,
            "min_width": null,
            "object_fit": null,
            "object_position": null,
            "order": null,
            "overflow": null,
            "overflow_x": null,
            "overflow_y": null,
            "padding": null,
            "right": null,
            "top": null,
            "visibility": null,
            "width": null
          }
        },
        "90e2150181b74b77841124891ec4ca9e": {
          "model_module": "@jupyter-widgets/controls",
          "model_name": "DescriptionStyleModel",
          "model_module_version": "1.5.0",
          "state": {
            "_model_module": "@jupyter-widgets/controls",
            "_model_module_version": "1.5.0",
            "_model_name": "DescriptionStyleModel",
            "_view_count": null,
            "_view_module": "@jupyter-widgets/base",
            "_view_module_version": "1.2.0",
            "_view_name": "StyleView",
            "description_width": ""
          }
        },
        "b24f3507bb7741a0b33123572ddca4cd": {
          "model_module": "@jupyter-widgets/base",
          "model_name": "LayoutModel",
          "model_module_version": "1.2.0",
          "state": {
            "_model_module": "@jupyter-widgets/base",
            "_model_module_version": "1.2.0",
            "_model_name": "LayoutModel",
            "_view_count": null,
            "_view_module": "@jupyter-widgets/base",
            "_view_module_version": "1.2.0",
            "_view_name": "LayoutView",
            "align_content": null,
            "align_items": null,
            "align_self": null,
            "border": null,
            "bottom": null,
            "display": null,
            "flex": null,
            "flex_flow": null,
            "grid_area": null,
            "grid_auto_columns": null,
            "grid_auto_flow": null,
            "grid_auto_rows": null,
            "grid_column": null,
            "grid_gap": null,
            "grid_row": null,
            "grid_template_areas": null,
            "grid_template_columns": null,
            "grid_template_rows": null,
            "height": null,
            "justify_content": null,
            "justify_items": null,
            "left": null,
            "margin": null,
            "max_height": null,
            "max_width": null,
            "min_height": null,
            "min_width": null,
            "object_fit": null,
            "object_position": null,
            "order": null,
            "overflow": null,
            "overflow_x": null,
            "overflow_y": null,
            "padding": null,
            "right": null,
            "top": null,
            "visibility": null,
            "width": null
          }
        },
        "7ad04a44e0ef4adaac5450b22110c7c1": {
          "model_module": "@jupyter-widgets/controls",
          "model_name": "ProgressStyleModel",
          "model_module_version": "1.5.0",
          "state": {
            "_model_module": "@jupyter-widgets/controls",
            "_model_module_version": "1.5.0",
            "_model_name": "ProgressStyleModel",
            "_view_count": null,
            "_view_module": "@jupyter-widgets/base",
            "_view_module_version": "1.2.0",
            "_view_name": "StyleView",
            "bar_color": null,
            "description_width": ""
          }
        },
        "6d8c61ec89f5479c9ae47b89126b59eb": {
          "model_module": "@jupyter-widgets/base",
          "model_name": "LayoutModel",
          "model_module_version": "1.2.0",
          "state": {
            "_model_module": "@jupyter-widgets/base",
            "_model_module_version": "1.2.0",
            "_model_name": "LayoutModel",
            "_view_count": null,
            "_view_module": "@jupyter-widgets/base",
            "_view_module_version": "1.2.0",
            "_view_name": "LayoutView",
            "align_content": null,
            "align_items": null,
            "align_self": null,
            "border": null,
            "bottom": null,
            "display": null,
            "flex": null,
            "flex_flow": null,
            "grid_area": null,
            "grid_auto_columns": null,
            "grid_auto_flow": null,
            "grid_auto_rows": null,
            "grid_column": null,
            "grid_gap": null,
            "grid_row": null,
            "grid_template_areas": null,
            "grid_template_columns": null,
            "grid_template_rows": null,
            "height": null,
            "justify_content": null,
            "justify_items": null,
            "left": null,
            "margin": null,
            "max_height": null,
            "max_width": null,
            "min_height": null,
            "min_width": null,
            "object_fit": null,
            "object_position": null,
            "order": null,
            "overflow": null,
            "overflow_x": null,
            "overflow_y": null,
            "padding": null,
            "right": null,
            "top": null,
            "visibility": null,
            "width": null
          }
        },
        "fa9a47f978f246c08c4fadc3290f553f": {
          "model_module": "@jupyter-widgets/controls",
          "model_name": "DescriptionStyleModel",
          "model_module_version": "1.5.0",
          "state": {
            "_model_module": "@jupyter-widgets/controls",
            "_model_module_version": "1.5.0",
            "_model_name": "DescriptionStyleModel",
            "_view_count": null,
            "_view_module": "@jupyter-widgets/base",
            "_view_module_version": "1.2.0",
            "_view_name": "StyleView",
            "description_width": ""
          }
        },
        "61f33c44cc164934a90558e68fc25ac4": {
          "model_module": "@jupyter-widgets/controls",
          "model_name": "HBoxModel",
          "model_module_version": "1.5.0",
          "state": {
            "_dom_classes": [],
            "_model_module": "@jupyter-widgets/controls",
            "_model_module_version": "1.5.0",
            "_model_name": "HBoxModel",
            "_view_count": null,
            "_view_module": "@jupyter-widgets/controls",
            "_view_module_version": "1.5.0",
            "_view_name": "HBoxView",
            "box_style": "",
            "children": [
              "IPY_MODEL_ad59000916d5466ab5c922df79c67286",
              "IPY_MODEL_57a27333c0624f7cbf42c76625eb0238",
              "IPY_MODEL_b02854ccd65442849c6f1932d6853e89"
            ],
            "layout": "IPY_MODEL_dd495ecbc92e4a37aa5db4e986d61163"
          }
        },
        "ad59000916d5466ab5c922df79c67286": {
          "model_module": "@jupyter-widgets/controls",
          "model_name": "HTMLModel",
          "model_module_version": "1.5.0",
          "state": {
            "_dom_classes": [],
            "_model_module": "@jupyter-widgets/controls",
            "_model_module_version": "1.5.0",
            "_model_name": "HTMLModel",
            "_view_count": null,
            "_view_module": "@jupyter-widgets/controls",
            "_view_module_version": "1.5.0",
            "_view_name": "HTMLView",
            "description": "",
            "description_tooltip": null,
            "layout": "IPY_MODEL_c484e761a027422a8efb1f259743e4af",
            "placeholder": "​",
            "style": "IPY_MODEL_fd27a4071fb943e2b24fbd5450cf0e1f",
            "value": "Downloading (…)solve/main/vocab.txt: 100%"
          }
        },
        "57a27333c0624f7cbf42c76625eb0238": {
          "model_module": "@jupyter-widgets/controls",
          "model_name": "FloatProgressModel",
          "model_module_version": "1.5.0",
          "state": {
            "_dom_classes": [],
            "_model_module": "@jupyter-widgets/controls",
            "_model_module_version": "1.5.0",
            "_model_name": "FloatProgressModel",
            "_view_count": null,
            "_view_module": "@jupyter-widgets/controls",
            "_view_module_version": "1.5.0",
            "_view_name": "ProgressView",
            "bar_style": "success",
            "description": "",
            "description_tooltip": null,
            "layout": "IPY_MODEL_9c6991ff3e514004a94171ad33666654",
            "max": 109540,
            "min": 0,
            "orientation": "horizontal",
            "style": "IPY_MODEL_d57553ef5bee4f4d82c7fc6c02eece90",
            "value": 109540
          }
        },
        "b02854ccd65442849c6f1932d6853e89": {
          "model_module": "@jupyter-widgets/controls",
          "model_name": "HTMLModel",
          "model_module_version": "1.5.0",
          "state": {
            "_dom_classes": [],
            "_model_module": "@jupyter-widgets/controls",
            "_model_module_version": "1.5.0",
            "_model_name": "HTMLModel",
            "_view_count": null,
            "_view_module": "@jupyter-widgets/controls",
            "_view_module_version": "1.5.0",
            "_view_name": "HTMLView",
            "description": "",
            "description_tooltip": null,
            "layout": "IPY_MODEL_15490a4a940544d4b1c1e3ea126b80c7",
            "placeholder": "​",
            "style": "IPY_MODEL_deb0e58eed6e47a9a6a7a7dac4694052",
            "value": " 110k/110k [00:00&lt;00:00, 4.62MB/s]"
          }
        },
        "dd495ecbc92e4a37aa5db4e986d61163": {
          "model_module": "@jupyter-widgets/base",
          "model_name": "LayoutModel",
          "model_module_version": "1.2.0",
          "state": {
            "_model_module": "@jupyter-widgets/base",
            "_model_module_version": "1.2.0",
            "_model_name": "LayoutModel",
            "_view_count": null,
            "_view_module": "@jupyter-widgets/base",
            "_view_module_version": "1.2.0",
            "_view_name": "LayoutView",
            "align_content": null,
            "align_items": null,
            "align_self": null,
            "border": null,
            "bottom": null,
            "display": null,
            "flex": null,
            "flex_flow": null,
            "grid_area": null,
            "grid_auto_columns": null,
            "grid_auto_flow": null,
            "grid_auto_rows": null,
            "grid_column": null,
            "grid_gap": null,
            "grid_row": null,
            "grid_template_areas": null,
            "grid_template_columns": null,
            "grid_template_rows": null,
            "height": null,
            "justify_content": null,
            "justify_items": null,
            "left": null,
            "margin": null,
            "max_height": null,
            "max_width": null,
            "min_height": null,
            "min_width": null,
            "object_fit": null,
            "object_position": null,
            "order": null,
            "overflow": null,
            "overflow_x": null,
            "overflow_y": null,
            "padding": null,
            "right": null,
            "top": null,
            "visibility": null,
            "width": null
          }
        },
        "c484e761a027422a8efb1f259743e4af": {
          "model_module": "@jupyter-widgets/base",
          "model_name": "LayoutModel",
          "model_module_version": "1.2.0",
          "state": {
            "_model_module": "@jupyter-widgets/base",
            "_model_module_version": "1.2.0",
            "_model_name": "LayoutModel",
            "_view_count": null,
            "_view_module": "@jupyter-widgets/base",
            "_view_module_version": "1.2.0",
            "_view_name": "LayoutView",
            "align_content": null,
            "align_items": null,
            "align_self": null,
            "border": null,
            "bottom": null,
            "display": null,
            "flex": null,
            "flex_flow": null,
            "grid_area": null,
            "grid_auto_columns": null,
            "grid_auto_flow": null,
            "grid_auto_rows": null,
            "grid_column": null,
            "grid_gap": null,
            "grid_row": null,
            "grid_template_areas": null,
            "grid_template_columns": null,
            "grid_template_rows": null,
            "height": null,
            "justify_content": null,
            "justify_items": null,
            "left": null,
            "margin": null,
            "max_height": null,
            "max_width": null,
            "min_height": null,
            "min_width": null,
            "object_fit": null,
            "object_position": null,
            "order": null,
            "overflow": null,
            "overflow_x": null,
            "overflow_y": null,
            "padding": null,
            "right": null,
            "top": null,
            "visibility": null,
            "width": null
          }
        },
        "fd27a4071fb943e2b24fbd5450cf0e1f": {
          "model_module": "@jupyter-widgets/controls",
          "model_name": "DescriptionStyleModel",
          "model_module_version": "1.5.0",
          "state": {
            "_model_module": "@jupyter-widgets/controls",
            "_model_module_version": "1.5.0",
            "_model_name": "DescriptionStyleModel",
            "_view_count": null,
            "_view_module": "@jupyter-widgets/base",
            "_view_module_version": "1.2.0",
            "_view_name": "StyleView",
            "description_width": ""
          }
        },
        "9c6991ff3e514004a94171ad33666654": {
          "model_module": "@jupyter-widgets/base",
          "model_name": "LayoutModel",
          "model_module_version": "1.2.0",
          "state": {
            "_model_module": "@jupyter-widgets/base",
            "_model_module_version": "1.2.0",
            "_model_name": "LayoutModel",
            "_view_count": null,
            "_view_module": "@jupyter-widgets/base",
            "_view_module_version": "1.2.0",
            "_view_name": "LayoutView",
            "align_content": null,
            "align_items": null,
            "align_self": null,
            "border": null,
            "bottom": null,
            "display": null,
            "flex": null,
            "flex_flow": null,
            "grid_area": null,
            "grid_auto_columns": null,
            "grid_auto_flow": null,
            "grid_auto_rows": null,
            "grid_column": null,
            "grid_gap": null,
            "grid_row": null,
            "grid_template_areas": null,
            "grid_template_columns": null,
            "grid_template_rows": null,
            "height": null,
            "justify_content": null,
            "justify_items": null,
            "left": null,
            "margin": null,
            "max_height": null,
            "max_width": null,
            "min_height": null,
            "min_width": null,
            "object_fit": null,
            "object_position": null,
            "order": null,
            "overflow": null,
            "overflow_x": null,
            "overflow_y": null,
            "padding": null,
            "right": null,
            "top": null,
            "visibility": null,
            "width": null
          }
        },
        "d57553ef5bee4f4d82c7fc6c02eece90": {
          "model_module": "@jupyter-widgets/controls",
          "model_name": "ProgressStyleModel",
          "model_module_version": "1.5.0",
          "state": {
            "_model_module": "@jupyter-widgets/controls",
            "_model_module_version": "1.5.0",
            "_model_name": "ProgressStyleModel",
            "_view_count": null,
            "_view_module": "@jupyter-widgets/base",
            "_view_module_version": "1.2.0",
            "_view_name": "StyleView",
            "bar_color": null,
            "description_width": ""
          }
        },
        "15490a4a940544d4b1c1e3ea126b80c7": {
          "model_module": "@jupyter-widgets/base",
          "model_name": "LayoutModel",
          "model_module_version": "1.2.0",
          "state": {
            "_model_module": "@jupyter-widgets/base",
            "_model_module_version": "1.2.0",
            "_model_name": "LayoutModel",
            "_view_count": null,
            "_view_module": "@jupyter-widgets/base",
            "_view_module_version": "1.2.0",
            "_view_name": "LayoutView",
            "align_content": null,
            "align_items": null,
            "align_self": null,
            "border": null,
            "bottom": null,
            "display": null,
            "flex": null,
            "flex_flow": null,
            "grid_area": null,
            "grid_auto_columns": null,
            "grid_auto_flow": null,
            "grid_auto_rows": null,
            "grid_column": null,
            "grid_gap": null,
            "grid_row": null,
            "grid_template_areas": null,
            "grid_template_columns": null,
            "grid_template_rows": null,
            "height": null,
            "justify_content": null,
            "justify_items": null,
            "left": null,
            "margin": null,
            "max_height": null,
            "max_width": null,
            "min_height": null,
            "min_width": null,
            "object_fit": null,
            "object_position": null,
            "order": null,
            "overflow": null,
            "overflow_x": null,
            "overflow_y": null,
            "padding": null,
            "right": null,
            "top": null,
            "visibility": null,
            "width": null
          }
        },
        "deb0e58eed6e47a9a6a7a7dac4694052": {
          "model_module": "@jupyter-widgets/controls",
          "model_name": "DescriptionStyleModel",
          "model_module_version": "1.5.0",
          "state": {
            "_model_module": "@jupyter-widgets/controls",
            "_model_module_version": "1.5.0",
            "_model_name": "DescriptionStyleModel",
            "_view_count": null,
            "_view_module": "@jupyter-widgets/base",
            "_view_module_version": "1.2.0",
            "_view_name": "StyleView",
            "description_width": ""
          }
        },
        "184b8c8996794eaeafa7bc05776a15bd": {
          "model_module": "@jupyter-widgets/controls",
          "model_name": "HBoxModel",
          "model_module_version": "1.5.0",
          "state": {
            "_dom_classes": [],
            "_model_module": "@jupyter-widgets/controls",
            "_model_module_version": "1.5.0",
            "_model_name": "HBoxModel",
            "_view_count": null,
            "_view_module": "@jupyter-widgets/controls",
            "_view_module_version": "1.5.0",
            "_view_name": "HBoxView",
            "box_style": "",
            "children": [
              "IPY_MODEL_3f69542c1b6e4017959f78b44575e266",
              "IPY_MODEL_d816de2067d2417793a6c6e483b87397",
              "IPY_MODEL_cfb45cc0596b4fa291268a585fae04c5"
            ],
            "layout": "IPY_MODEL_6b2b8fc940784369807f8b03f803f9f6"
          }
        },
        "3f69542c1b6e4017959f78b44575e266": {
          "model_module": "@jupyter-widgets/controls",
          "model_name": "HTMLModel",
          "model_module_version": "1.5.0",
          "state": {
            "_dom_classes": [],
            "_model_module": "@jupyter-widgets/controls",
            "_model_module_version": "1.5.0",
            "_model_name": "HTMLModel",
            "_view_count": null,
            "_view_module": "@jupyter-widgets/controls",
            "_view_module_version": "1.5.0",
            "_view_name": "HTMLView",
            "description": "",
            "description_tooltip": null,
            "layout": "IPY_MODEL_da1928f27065422b9173321d8a9d13c2",
            "placeholder": "​",
            "style": "IPY_MODEL_8800d72b038848c08ed386797258639b",
            "value": "Downloading (…)/main/tokenizer.json: 100%"
          }
        },
        "d816de2067d2417793a6c6e483b87397": {
          "model_module": "@jupyter-widgets/controls",
          "model_name": "FloatProgressModel",
          "model_module_version": "1.5.0",
          "state": {
            "_dom_classes": [],
            "_model_module": "@jupyter-widgets/controls",
            "_model_module_version": "1.5.0",
            "_model_name": "FloatProgressModel",
            "_view_count": null,
            "_view_module": "@jupyter-widgets/controls",
            "_view_module_version": "1.5.0",
            "_view_name": "ProgressView",
            "bar_style": "success",
            "description": "",
            "description_tooltip": null,
            "layout": "IPY_MODEL_a1b945c77e12472690b3acd2e4dba790",
            "max": 439279,
            "min": 0,
            "orientation": "horizontal",
            "style": "IPY_MODEL_f389f9edab9f4053b69d64cab16b58f4",
            "value": 439279
          }
        },
        "cfb45cc0596b4fa291268a585fae04c5": {
          "model_module": "@jupyter-widgets/controls",
          "model_name": "HTMLModel",
          "model_module_version": "1.5.0",
          "state": {
            "_dom_classes": [],
            "_model_module": "@jupyter-widgets/controls",
            "_model_module_version": "1.5.0",
            "_model_name": "HTMLModel",
            "_view_count": null,
            "_view_module": "@jupyter-widgets/controls",
            "_view_module_version": "1.5.0",
            "_view_name": "HTMLView",
            "description": "",
            "description_tooltip": null,
            "layout": "IPY_MODEL_cd203b958c1c4e0aa72ee33cd56673a2",
            "placeholder": "​",
            "style": "IPY_MODEL_1bf64b75ffdc406b8d91e1adbf4b6e2b",
            "value": " 439k/439k [00:00&lt;00:00, 30.0MB/s]"
          }
        },
        "6b2b8fc940784369807f8b03f803f9f6": {
          "model_module": "@jupyter-widgets/base",
          "model_name": "LayoutModel",
          "model_module_version": "1.2.0",
          "state": {
            "_model_module": "@jupyter-widgets/base",
            "_model_module_version": "1.2.0",
            "_model_name": "LayoutModel",
            "_view_count": null,
            "_view_module": "@jupyter-widgets/base",
            "_view_module_version": "1.2.0",
            "_view_name": "LayoutView",
            "align_content": null,
            "align_items": null,
            "align_self": null,
            "border": null,
            "bottom": null,
            "display": null,
            "flex": null,
            "flex_flow": null,
            "grid_area": null,
            "grid_auto_columns": null,
            "grid_auto_flow": null,
            "grid_auto_rows": null,
            "grid_column": null,
            "grid_gap": null,
            "grid_row": null,
            "grid_template_areas": null,
            "grid_template_columns": null,
            "grid_template_rows": null,
            "height": null,
            "justify_content": null,
            "justify_items": null,
            "left": null,
            "margin": null,
            "max_height": null,
            "max_width": null,
            "min_height": null,
            "min_width": null,
            "object_fit": null,
            "object_position": null,
            "order": null,
            "overflow": null,
            "overflow_x": null,
            "overflow_y": null,
            "padding": null,
            "right": null,
            "top": null,
            "visibility": null,
            "width": null
          }
        },
        "da1928f27065422b9173321d8a9d13c2": {
          "model_module": "@jupyter-widgets/base",
          "model_name": "LayoutModel",
          "model_module_version": "1.2.0",
          "state": {
            "_model_module": "@jupyter-widgets/base",
            "_model_module_version": "1.2.0",
            "_model_name": "LayoutModel",
            "_view_count": null,
            "_view_module": "@jupyter-widgets/base",
            "_view_module_version": "1.2.0",
            "_view_name": "LayoutView",
            "align_content": null,
            "align_items": null,
            "align_self": null,
            "border": null,
            "bottom": null,
            "display": null,
            "flex": null,
            "flex_flow": null,
            "grid_area": null,
            "grid_auto_columns": null,
            "grid_auto_flow": null,
            "grid_auto_rows": null,
            "grid_column": null,
            "grid_gap": null,
            "grid_row": null,
            "grid_template_areas": null,
            "grid_template_columns": null,
            "grid_template_rows": null,
            "height": null,
            "justify_content": null,
            "justify_items": null,
            "left": null,
            "margin": null,
            "max_height": null,
            "max_width": null,
            "min_height": null,
            "min_width": null,
            "object_fit": null,
            "object_position": null,
            "order": null,
            "overflow": null,
            "overflow_x": null,
            "overflow_y": null,
            "padding": null,
            "right": null,
            "top": null,
            "visibility": null,
            "width": null
          }
        },
        "8800d72b038848c08ed386797258639b": {
          "model_module": "@jupyter-widgets/controls",
          "model_name": "DescriptionStyleModel",
          "model_module_version": "1.5.0",
          "state": {
            "_model_module": "@jupyter-widgets/controls",
            "_model_module_version": "1.5.0",
            "_model_name": "DescriptionStyleModel",
            "_view_count": null,
            "_view_module": "@jupyter-widgets/base",
            "_view_module_version": "1.2.0",
            "_view_name": "StyleView",
            "description_width": ""
          }
        },
        "a1b945c77e12472690b3acd2e4dba790": {
          "model_module": "@jupyter-widgets/base",
          "model_name": "LayoutModel",
          "model_module_version": "1.2.0",
          "state": {
            "_model_module": "@jupyter-widgets/base",
            "_model_module_version": "1.2.0",
            "_model_name": "LayoutModel",
            "_view_count": null,
            "_view_module": "@jupyter-widgets/base",
            "_view_module_version": "1.2.0",
            "_view_name": "LayoutView",
            "align_content": null,
            "align_items": null,
            "align_self": null,
            "border": null,
            "bottom": null,
            "display": null,
            "flex": null,
            "flex_flow": null,
            "grid_area": null,
            "grid_auto_columns": null,
            "grid_auto_flow": null,
            "grid_auto_rows": null,
            "grid_column": null,
            "grid_gap": null,
            "grid_row": null,
            "grid_template_areas": null,
            "grid_template_columns": null,
            "grid_template_rows": null,
            "height": null,
            "justify_content": null,
            "justify_items": null,
            "left": null,
            "margin": null,
            "max_height": null,
            "max_width": null,
            "min_height": null,
            "min_width": null,
            "object_fit": null,
            "object_position": null,
            "order": null,
            "overflow": null,
            "overflow_x": null,
            "overflow_y": null,
            "padding": null,
            "right": null,
            "top": null,
            "visibility": null,
            "width": null
          }
        },
        "f389f9edab9f4053b69d64cab16b58f4": {
          "model_module": "@jupyter-widgets/controls",
          "model_name": "ProgressStyleModel",
          "model_module_version": "1.5.0",
          "state": {
            "_model_module": "@jupyter-widgets/controls",
            "_model_module_version": "1.5.0",
            "_model_name": "ProgressStyleModel",
            "_view_count": null,
            "_view_module": "@jupyter-widgets/base",
            "_view_module_version": "1.2.0",
            "_view_name": "StyleView",
            "bar_color": null,
            "description_width": ""
          }
        },
        "cd203b958c1c4e0aa72ee33cd56673a2": {
          "model_module": "@jupyter-widgets/base",
          "model_name": "LayoutModel",
          "model_module_version": "1.2.0",
          "state": {
            "_model_module": "@jupyter-widgets/base",
            "_model_module_version": "1.2.0",
            "_model_name": "LayoutModel",
            "_view_count": null,
            "_view_module": "@jupyter-widgets/base",
            "_view_module_version": "1.2.0",
            "_view_name": "LayoutView",
            "align_content": null,
            "align_items": null,
            "align_self": null,
            "border": null,
            "bottom": null,
            "display": null,
            "flex": null,
            "flex_flow": null,
            "grid_area": null,
            "grid_auto_columns": null,
            "grid_auto_flow": null,
            "grid_auto_rows": null,
            "grid_column": null,
            "grid_gap": null,
            "grid_row": null,
            "grid_template_areas": null,
            "grid_template_columns": null,
            "grid_template_rows": null,
            "height": null,
            "justify_content": null,
            "justify_items": null,
            "left": null,
            "margin": null,
            "max_height": null,
            "max_width": null,
            "min_height": null,
            "min_width": null,
            "object_fit": null,
            "object_position": null,
            "order": null,
            "overflow": null,
            "overflow_x": null,
            "overflow_y": null,
            "padding": null,
            "right": null,
            "top": null,
            "visibility": null,
            "width": null
          }
        },
        "1bf64b75ffdc406b8d91e1adbf4b6e2b": {
          "model_module": "@jupyter-widgets/controls",
          "model_name": "DescriptionStyleModel",
          "model_module_version": "1.5.0",
          "state": {
            "_model_module": "@jupyter-widgets/controls",
            "_model_module_version": "1.5.0",
            "_model_name": "DescriptionStyleModel",
            "_view_count": null,
            "_view_module": "@jupyter-widgets/base",
            "_view_module_version": "1.2.0",
            "_view_name": "StyleView",
            "description_width": ""
          }
        },
        "43c4bc5e92954f2c80e03ca46747b144": {
          "model_module": "@jupyter-widgets/controls",
          "model_name": "HBoxModel",
          "model_module_version": "1.5.0",
          "state": {
            "_dom_classes": [],
            "_model_module": "@jupyter-widgets/controls",
            "_model_module_version": "1.5.0",
            "_model_name": "HBoxModel",
            "_view_count": null,
            "_view_module": "@jupyter-widgets/controls",
            "_view_module_version": "1.5.0",
            "_view_name": "HBoxView",
            "box_style": "",
            "children": [
              "IPY_MODEL_2a67967a2afe412498929c030e20d027",
              "IPY_MODEL_6e5a1837dbe34d15b0d314a93c1dc312",
              "IPY_MODEL_dfbfa98b336047949c336a8822fd8a9d"
            ],
            "layout": "IPY_MODEL_013fe421f6894757b519178b24d1a713"
          }
        },
        "2a67967a2afe412498929c030e20d027": {
          "model_module": "@jupyter-widgets/controls",
          "model_name": "HTMLModel",
          "model_module_version": "1.5.0",
          "state": {
            "_dom_classes": [],
            "_model_module": "@jupyter-widgets/controls",
            "_model_module_version": "1.5.0",
            "_model_name": "HTMLModel",
            "_view_count": null,
            "_view_module": "@jupyter-widgets/controls",
            "_view_module_version": "1.5.0",
            "_view_name": "HTMLView",
            "description": "",
            "description_tooltip": null,
            "layout": "IPY_MODEL_edf88aa7219f464ab69387dba401c94e",
            "placeholder": "​",
            "style": "IPY_MODEL_fdcaa4fee44247e08e579b74a71eef2f",
            "value": "Downloading (…)cial_tokens_map.json: 100%"
          }
        },
        "6e5a1837dbe34d15b0d314a93c1dc312": {
          "model_module": "@jupyter-widgets/controls",
          "model_name": "FloatProgressModel",
          "model_module_version": "1.5.0",
          "state": {
            "_dom_classes": [],
            "_model_module": "@jupyter-widgets/controls",
            "_model_module_version": "1.5.0",
            "_model_name": "FloatProgressModel",
            "_view_count": null,
            "_view_module": "@jupyter-widgets/controls",
            "_view_module_version": "1.5.0",
            "_view_name": "ProgressView",
            "bar_style": "success",
            "description": "",
            "description_tooltip": null,
            "layout": "IPY_MODEL_089a478508e84c4bba98b54b061b0732",
            "max": 125,
            "min": 0,
            "orientation": "horizontal",
            "style": "IPY_MODEL_2316a8acc8a34316b7c50ad07d08cdcc",
            "value": 125
          }
        },
        "dfbfa98b336047949c336a8822fd8a9d": {
          "model_module": "@jupyter-widgets/controls",
          "model_name": "HTMLModel",
          "model_module_version": "1.5.0",
          "state": {
            "_dom_classes": [],
            "_model_module": "@jupyter-widgets/controls",
            "_model_module_version": "1.5.0",
            "_model_name": "HTMLModel",
            "_view_count": null,
            "_view_module": "@jupyter-widgets/controls",
            "_view_module_version": "1.5.0",
            "_view_name": "HTMLView",
            "description": "",
            "description_tooltip": null,
            "layout": "IPY_MODEL_7ebf38ce256944c2999837996d5a4802",
            "placeholder": "​",
            "style": "IPY_MODEL_465af00a97074e47a0c9a45ffc73bbf4",
            "value": " 125/125 [00:00&lt;00:00, 8.72kB/s]"
          }
        },
        "013fe421f6894757b519178b24d1a713": {
          "model_module": "@jupyter-widgets/base",
          "model_name": "LayoutModel",
          "model_module_version": "1.2.0",
          "state": {
            "_model_module": "@jupyter-widgets/base",
            "_model_module_version": "1.2.0",
            "_model_name": "LayoutModel",
            "_view_count": null,
            "_view_module": "@jupyter-widgets/base",
            "_view_module_version": "1.2.0",
            "_view_name": "LayoutView",
            "align_content": null,
            "align_items": null,
            "align_self": null,
            "border": null,
            "bottom": null,
            "display": null,
            "flex": null,
            "flex_flow": null,
            "grid_area": null,
            "grid_auto_columns": null,
            "grid_auto_flow": null,
            "grid_auto_rows": null,
            "grid_column": null,
            "grid_gap": null,
            "grid_row": null,
            "grid_template_areas": null,
            "grid_template_columns": null,
            "grid_template_rows": null,
            "height": null,
            "justify_content": null,
            "justify_items": null,
            "left": null,
            "margin": null,
            "max_height": null,
            "max_width": null,
            "min_height": null,
            "min_width": null,
            "object_fit": null,
            "object_position": null,
            "order": null,
            "overflow": null,
            "overflow_x": null,
            "overflow_y": null,
            "padding": null,
            "right": null,
            "top": null,
            "visibility": null,
            "width": null
          }
        },
        "edf88aa7219f464ab69387dba401c94e": {
          "model_module": "@jupyter-widgets/base",
          "model_name": "LayoutModel",
          "model_module_version": "1.2.0",
          "state": {
            "_model_module": "@jupyter-widgets/base",
            "_model_module_version": "1.2.0",
            "_model_name": "LayoutModel",
            "_view_count": null,
            "_view_module": "@jupyter-widgets/base",
            "_view_module_version": "1.2.0",
            "_view_name": "LayoutView",
            "align_content": null,
            "align_items": null,
            "align_self": null,
            "border": null,
            "bottom": null,
            "display": null,
            "flex": null,
            "flex_flow": null,
            "grid_area": null,
            "grid_auto_columns": null,
            "grid_auto_flow": null,
            "grid_auto_rows": null,
            "grid_column": null,
            "grid_gap": null,
            "grid_row": null,
            "grid_template_areas": null,
            "grid_template_columns": null,
            "grid_template_rows": null,
            "height": null,
            "justify_content": null,
            "justify_items": null,
            "left": null,
            "margin": null,
            "max_height": null,
            "max_width": null,
            "min_height": null,
            "min_width": null,
            "object_fit": null,
            "object_position": null,
            "order": null,
            "overflow": null,
            "overflow_x": null,
            "overflow_y": null,
            "padding": null,
            "right": null,
            "top": null,
            "visibility": null,
            "width": null
          }
        },
        "fdcaa4fee44247e08e579b74a71eef2f": {
          "model_module": "@jupyter-widgets/controls",
          "model_name": "DescriptionStyleModel",
          "model_module_version": "1.5.0",
          "state": {
            "_model_module": "@jupyter-widgets/controls",
            "_model_module_version": "1.5.0",
            "_model_name": "DescriptionStyleModel",
            "_view_count": null,
            "_view_module": "@jupyter-widgets/base",
            "_view_module_version": "1.2.0",
            "_view_name": "StyleView",
            "description_width": ""
          }
        },
        "089a478508e84c4bba98b54b061b0732": {
          "model_module": "@jupyter-widgets/base",
          "model_name": "LayoutModel",
          "model_module_version": "1.2.0",
          "state": {
            "_model_module": "@jupyter-widgets/base",
            "_model_module_version": "1.2.0",
            "_model_name": "LayoutModel",
            "_view_count": null,
            "_view_module": "@jupyter-widgets/base",
            "_view_module_version": "1.2.0",
            "_view_name": "LayoutView",
            "align_content": null,
            "align_items": null,
            "align_self": null,
            "border": null,
            "bottom": null,
            "display": null,
            "flex": null,
            "flex_flow": null,
            "grid_area": null,
            "grid_auto_columns": null,
            "grid_auto_flow": null,
            "grid_auto_rows": null,
            "grid_column": null,
            "grid_gap": null,
            "grid_row": null,
            "grid_template_areas": null,
            "grid_template_columns": null,
            "grid_template_rows": null,
            "height": null,
            "justify_content": null,
            "justify_items": null,
            "left": null,
            "margin": null,
            "max_height": null,
            "max_width": null,
            "min_height": null,
            "min_width": null,
            "object_fit": null,
            "object_position": null,
            "order": null,
            "overflow": null,
            "overflow_x": null,
            "overflow_y": null,
            "padding": null,
            "right": null,
            "top": null,
            "visibility": null,
            "width": null
          }
        },
        "2316a8acc8a34316b7c50ad07d08cdcc": {
          "model_module": "@jupyter-widgets/controls",
          "model_name": "ProgressStyleModel",
          "model_module_version": "1.5.0",
          "state": {
            "_model_module": "@jupyter-widgets/controls",
            "_model_module_version": "1.5.0",
            "_model_name": "ProgressStyleModel",
            "_view_count": null,
            "_view_module": "@jupyter-widgets/base",
            "_view_module_version": "1.2.0",
            "_view_name": "StyleView",
            "bar_color": null,
            "description_width": ""
          }
        },
        "7ebf38ce256944c2999837996d5a4802": {
          "model_module": "@jupyter-widgets/base",
          "model_name": "LayoutModel",
          "model_module_version": "1.2.0",
          "state": {
            "_model_module": "@jupyter-widgets/base",
            "_model_module_version": "1.2.0",
            "_model_name": "LayoutModel",
            "_view_count": null,
            "_view_module": "@jupyter-widgets/base",
            "_view_module_version": "1.2.0",
            "_view_name": "LayoutView",
            "align_content": null,
            "align_items": null,
            "align_self": null,
            "border": null,
            "bottom": null,
            "display": null,
            "flex": null,
            "flex_flow": null,
            "grid_area": null,
            "grid_auto_columns": null,
            "grid_auto_flow": null,
            "grid_auto_rows": null,
            "grid_column": null,
            "grid_gap": null,
            "grid_row": null,
            "grid_template_areas": null,
            "grid_template_columns": null,
            "grid_template_rows": null,
            "height": null,
            "justify_content": null,
            "justify_items": null,
            "left": null,
            "margin": null,
            "max_height": null,
            "max_width": null,
            "min_height": null,
            "min_width": null,
            "object_fit": null,
            "object_position": null,
            "order": null,
            "overflow": null,
            "overflow_x": null,
            "overflow_y": null,
            "padding": null,
            "right": null,
            "top": null,
            "visibility": null,
            "width": null
          }
        },
        "465af00a97074e47a0c9a45ffc73bbf4": {
          "model_module": "@jupyter-widgets/controls",
          "model_name": "DescriptionStyleModel",
          "model_module_version": "1.5.0",
          "state": {
            "_model_module": "@jupyter-widgets/controls",
            "_model_module_version": "1.5.0",
            "_model_name": "DescriptionStyleModel",
            "_view_count": null,
            "_view_module": "@jupyter-widgets/base",
            "_view_module_version": "1.2.0",
            "_view_name": "StyleView",
            "description_width": ""
          }
        }
      }
    }
  },
  "cells": [
    {
      "cell_type": "markdown",
      "metadata": {
        "id": "view-in-github",
        "colab_type": "text"
      },
      "source": [
        "<a href=\"https://colab.research.google.com/github/LC1332/Chat-Haruhi-Suzumiya/blob/main/notebook/%E8%B6%85%E8%B6%8A%E5%AE%A1%E6%A0%B8%E8%BE%B9%E7%95%8C%E7%9A%84embedding%E6%8A%BD%E5%8F%96%E5%92%8Cjsonl%E7%94%9F%E6%88%90.ipynb\" target=\"_parent\"><img src=\"https://colab.research.google.com/assets/colab-badge.svg\" alt=\"Open In Colab\"/></a>"
      ]
    },
    {
      "cell_type": "markdown",
      "source": [
        "对几个超越审核边界的人物进行抽取\n",
        "\n",
        "implemented by 李鲁鲁\n",
        "\n",
        "- [x] 对接一下bge_zh_small\n",
        "- [ ] 解析单个的审核文本\n",
        "- [ ] 对text字段进行base编码\n",
        "- [ ] 重写一个外部的package role函数\n",
        "- [ ] (opt*) 抽取bge_small的同时抽取luotuo\n",
        "\n",
        "原版程序在\n",
        "\n",
        "https://github.com/LC1332/Chat-Haruhi-Suzumiya/blob/main/notebook/%E5%B0%9D%E8%AF%95%E8%BD%AC%E5%8C%96RoleLLM%E4%B8%BAHaruhi%E6%A0%BC%E5%BC%8F.ipynb\n",
        "\n",
        "和\n",
        "\n",
        "\n",
        "https://github.com/LC1332/Chat-Haruhi-Suzumiya/blob/main/characters/novel_collecting/chatbot%E7%9A%84embedding%E6%8A%BD%E5%8F%96%E5%92%8Cjsonl%E7%94%9F%E6%88%90.ipynb\n",
        "\n"
      ],
      "metadata": {
        "id": "pTr24hXRL2rh"
      }
    },
    {
      "cell_type": "markdown",
      "source": [
        "先解析文本"
      ],
      "metadata": {
        "id": "uYdJDq0WRk2o"
      }
    },
    {
      "cell_type": "markdown",
      "source": [
        "建立txt specific file-role name的映射"
      ],
      "metadata": {
        "id": "GTXOeHKpRsqX"
      }
    },
    {
      "cell_type": "code",
      "source": [
        "specific_fname2role = {\"艾希2\":\"艾希\"}"
      ],
      "metadata": {
        "id": "UKG2ERVGRmZo"
      },
      "execution_count": 1,
      "outputs": []
    },
    {
      "cell_type": "code",
      "source": [
        "input_folder = \"/content/input/\"\n",
        "\n",
        "texts = []\n",
        "\n",
        "import os\n",
        "\n",
        "save_names = []\n",
        "\n",
        "#read txt files from folder\n",
        "for fname in os.listdir(input_folder):\n",
        "    if fname.endswith(\".txt\"):\n",
        "        with open(os.path.join(input_folder, fname), 'r', encoding='utf-8') as f:\n",
        "            texts.append(f.read())\n",
        "            save_names.append(fname[:-4])"
      ],
      "metadata": {
        "id": "D0gmjFAMShoW"
      },
      "execution_count": 49,
      "outputs": []
    },
    {
      "cell_type": "code",
      "source": [
        "print(fname[:-4])"
      ],
      "metadata": {
        "colab": {
          "base_uri": "https://localhost:8080/"
        },
        "id": "hlMuYodwb2MD",
        "outputId": "d9f32aa3-6891-4c00-fd94-12ce3d0d4d82"
      },
      "execution_count": 50,
      "outputs": [
        {
          "output_type": "stream",
          "name": "stdout",
          "text": [
            "安莉娜\n"
          ]
        }
      ]
    },
    {
      "cell_type": "code",
      "source": [
        "print(texts[0][:150])"
      ],
      "metadata": {
        "colab": {
          "base_uri": "https://localhost:8080/"
        },
        "id": "yAJoE0lxTHMn",
        "outputId": "e573359a-faa2-4278-89f6-6d6ce819b979"
      },
      "execution_count": 51,
      "outputs": [
        {
          "output_type": "stream",
          "name": "stdout",
          "text": [
            "I want you to act like 女贤者 from 情色小说 Erotica.\n",
            "Please try to answer with similar language style from the Erotica.\n",
            "\n",
            "女贤者没有性相关的经验，谈论相关的事情会觉得很羞耻\n",
            "女贤者是个洁白无瑕的\n"
          ]
        }
      ]
    },
    {
      "cell_type": "code",
      "source": [
        "role_datas = []\n",
        "\n",
        "for text in texts:\n",
        "    chunks = text.split(\"###\")\n",
        "    for chunk in chunks:\n",
        "        if \"###\" in chunk:\n",
        "            print(chunk)\n",
        "    role_data = {\n",
        "        \"system_prompt\":chunks[0].strip(),\n",
        "        \"texts\":chunks[1:]\n",
        "    }\n",
        "    role_datas.append(role_data)"
      ],
      "metadata": {
        "id": "s5OUmKk4TPnl"
      },
      "execution_count": 52,
      "outputs": []
    },
    {
      "cell_type": "code",
      "source": [
        "print(save_names)"
      ],
      "metadata": {
        "colab": {
          "base_uri": "https://localhost:8080/"
        },
        "id": "nEuR1No1b7jp",
        "outputId": "fcb9483e-0298-4fbb-c623-963c0d531c95"
      },
      "execution_count": 53,
      "outputs": [
        {
          "output_type": "stream",
          "name": "stdout",
          "text": [
            "['贤者', '艾希2', '艾希', '安莉娜']\n"
          ]
        }
      ]
    },
    {
      "cell_type": "code",
      "source": [
        "%cd /content\n",
        "!rm -rf /content/Haruhi-2-Dev\n",
        "!git clone https://github.com/LC1332/Haruhi-2-Dev\n",
        "%cd /content/Haruhi-2-Dev\n"
      ],
      "metadata": {
        "colab": {
          "base_uri": "https://localhost:8080/"
        },
        "id": "0IASe5tHhu_y",
        "outputId": "a2b029a2-f5dc-4ae7-aef4-5e142a530da1"
      },
      "execution_count": 6,
      "outputs": [
        {
          "output_type": "stream",
          "name": "stdout",
          "text": [
            "/content\n",
            "Cloning into 'Haruhi-2-Dev'...\n",
            "remote: Enumerating objects: 929, done.\u001b[K\n",
            "remote: Counting objects: 100% (236/236), done.\u001b[K\n",
            "remote: Compressing objects: 100% (127/127), done.\u001b[K\n",
            "remote: Total 929 (delta 159), reused 162 (delta 109), pack-reused 693\u001b[K\n",
            "Receiving objects: 100% (929/929), 106.26 MiB | 14.89 MiB/s, done.\n",
            "Resolving deltas: 100% (489/489), done.\n",
            "/content/Haruhi-2-Dev\n"
          ]
        }
      ]
    },
    {
      "cell_type": "code",
      "source": [
        "import torch\n",
        "device = torch.device('cuda' if torch.cuda.is_available() else 'cpu')"
      ],
      "metadata": {
        "id": "zAGJEBi8r8Hc"
      },
      "execution_count": 7,
      "outputs": []
    },
    {
      "cell_type": "code",
      "source": [
        "print(device)"
      ],
      "metadata": {
        "colab": {
          "base_uri": "https://localhost:8080/"
        },
        "id": "6Fra2xvfsLeD",
        "outputId": "0fcc4827-780e-4cda-a846-884f03c3bbc5"
      },
      "execution_count": 8,
      "outputs": [
        {
          "output_type": "stream",
          "name": "stdout",
          "text": [
            "cuda\n"
          ]
        }
      ]
    },
    {
      "cell_type": "code",
      "source": [
        "!pip -q install openai tiktoken langchain chromadb"
      ],
      "metadata": {
        "colab": {
          "base_uri": "https://localhost:8080/"
        },
        "id": "pKm2xA5UUtB-",
        "outputId": "8b667f1b-b2ae-454e-816e-6d20d9515dd8"
      },
      "execution_count": 11,
      "outputs": [
        {
          "output_type": "stream",
          "name": "stdout",
          "text": [
            "\u001b[2K     \u001b[90m━━━━━━━━━━━━━━━━━━━━━━━━━━━━━━━━━━━━━━━━\u001b[0m \u001b[32m221.4/221.4 kB\u001b[0m \u001b[31m4.0 MB/s\u001b[0m eta \u001b[36m0:00:00\u001b[0m\n",
            "\u001b[2K     \u001b[90m━━━━━━━━━━━━━━━━━━━━━━━━━━━━━━━━━━━━━━━━\u001b[0m \u001b[32m2.0/2.0 MB\u001b[0m \u001b[31m38.1 MB/s\u001b[0m eta \u001b[36m0:00:00\u001b[0m\n",
            "\u001b[2K     \u001b[90m━━━━━━━━━━━━━━━━━━━━━━━━━━━━━━━━━━━━━━━━\u001b[0m \u001b[32m2.0/2.0 MB\u001b[0m \u001b[31m83.9 MB/s\u001b[0m eta \u001b[36m0:00:00\u001b[0m\n",
            "\u001b[2K     \u001b[90m━━━━━━━━━━━━━━━━━━━━━━━━━━━━━━━━━━━━━━━━\u001b[0m \u001b[32m502.4/502.4 kB\u001b[0m \u001b[31m47.3 MB/s\u001b[0m eta \u001b[36m0:00:00\u001b[0m\n",
            "\u001b[2K     \u001b[90m━━━━━━━━━━━━━━━━━━━━━━━━━━━━━━━━━━━━━━━━\u001b[0m \u001b[32m75.0/75.0 kB\u001b[0m \u001b[31m9.4 MB/s\u001b[0m eta \u001b[36m0:00:00\u001b[0m\n",
            "\u001b[2K     \u001b[90m━━━━━━━━━━━━━━━━━━━━━━━━━━━━━━━━━━━━━━━━\u001b[0m \u001b[32m181.5/181.5 kB\u001b[0m \u001b[31m22.8 MB/s\u001b[0m eta \u001b[36m0:00:00\u001b[0m\n",
            "\u001b[2K     \u001b[90m━━━━━━━━━━━━━━━━━━━━━━━━━━━━━━━━━━━━━━━━\u001b[0m \u001b[32m48.2/48.2 kB\u001b[0m \u001b[31m6.2 MB/s\u001b[0m eta \u001b[36m0:00:00\u001b[0m\n",
            "\u001b[2K     \u001b[90m━━━━━━━━━━━━━━━━━━━━━━━━━━━━━━━━━━━━━━━━\u001b[0m \u001b[32m2.4/2.4 MB\u001b[0m \u001b[31m94.1 MB/s\u001b[0m eta \u001b[36m0:00:00\u001b[0m\n",
            "\u001b[2K     \u001b[90m━━━━━━━━━━━━━━━━━━━━━━━━━━━━━━━━━━━━━━━━\u001b[0m \u001b[32m92.9/92.9 kB\u001b[0m \u001b[31m13.5 MB/s\u001b[0m eta \u001b[36m0:00:00\u001b[0m\n",
            "\u001b[2K     \u001b[90m━━━━━━━━━━━━━━━━━━━━━━━━━━━━━━━━━━━━━━━━\u001b[0m \u001b[32m59.7/59.7 kB\u001b[0m \u001b[31m8.7 MB/s\u001b[0m eta \u001b[36m0:00:00\u001b[0m\n",
            "\u001b[2K     \u001b[90m━━━━━━━━━━━━━━━━━━━━━━━━━━━━━━━━━━━━━━━━\u001b[0m \u001b[32m5.4/5.4 MB\u001b[0m \u001b[31m110.0 MB/s\u001b[0m eta \u001b[36m0:00:00\u001b[0m\n",
            "\u001b[2K     \u001b[90m━━━━━━━━━━━━━━━━━━━━━━━━━━━━━━━━━━━━━━━━\u001b[0m \u001b[32m6.4/6.4 MB\u001b[0m \u001b[31m119.1 MB/s\u001b[0m eta \u001b[36m0:00:00\u001b[0m\n",
            "\u001b[2K     \u001b[90m━━━━━━━━━━━━━━━━━━━━━━━━━━━━━━━━━━━━━━━━\u001b[0m \u001b[32m57.9/57.9 kB\u001b[0m \u001b[31m3.2 MB/s\u001b[0m eta \u001b[36m0:00:00\u001b[0m\n",
            "\u001b[2K     \u001b[90m━━━━━━━━━━━━━━━━━━━━━━━━━━━━━━━━━━━━━━━━\u001b[0m \u001b[32m105.3/105.3 kB\u001b[0m \u001b[31m14.3 MB/s\u001b[0m eta \u001b[36m0:00:00\u001b[0m\n",
            "\u001b[2K     \u001b[90m━━━━━━━━━━━━━━━━━━━━━━━━━━━━━━━━━━━━━━━━\u001b[0m \u001b[32m67.3/67.3 kB\u001b[0m \u001b[31m9.9 MB/s\u001b[0m eta \u001b[36m0:00:00\u001b[0m\n",
            "\u001b[?25h  Installing build dependencies ... \u001b[?25l\u001b[?25hdone\n",
            "  Getting requirements to build wheel ... \u001b[?25l\u001b[?25hdone\n",
            "  Preparing metadata (pyproject.toml) ... \u001b[?25l\u001b[?25hdone\n",
            "\u001b[2K     \u001b[90m━━━━━━━━━━━━━━━━━━━━━━━━━━━━━━━━━━━━━━━━\u001b[0m \u001b[32m699.4/699.4 kB\u001b[0m \u001b[31m47.3 MB/s\u001b[0m eta \u001b[36m0:00:00\u001b[0m\n",
            "\u001b[2K     \u001b[90m━━━━━━━━━━━━━━━━━━━━━━━━━━━━━━━━━━━━━━━━\u001b[0m \u001b[32m1.6/1.6 MB\u001b[0m \u001b[31m57.5 MB/s\u001b[0m eta \u001b[36m0:00:00\u001b[0m\n",
            "\u001b[2K     \u001b[90m━━━━━━━━━━━━━━━━━━━━━━━━━━━━━━━━━━━━━━━━\u001b[0m \u001b[32m72.6/72.6 kB\u001b[0m \u001b[31m8.9 MB/s\u001b[0m eta \u001b[36m0:00:00\u001b[0m\n",
            "\u001b[2K     \u001b[90m━━━━━━━━━━━━━━━━━━━━━━━━━━━━━━━━━━━━━━━━\u001b[0m \u001b[32m49.4/49.4 kB\u001b[0m \u001b[31m5.7 MB/s\u001b[0m eta \u001b[36m0:00:00\u001b[0m\n",
            "\u001b[2K     \u001b[90m━━━━━━━━━━━━━━━━━━━━━━━━━━━━━━━━━━━━━━━━\u001b[0m \u001b[32m67.0/67.0 kB\u001b[0m \u001b[31m8.4 MB/s\u001b[0m eta \u001b[36m0:00:00\u001b[0m\n",
            "\u001b[2K     \u001b[90m━━━━━━━━━━━━━━━━━━━━━━━━━━━━━━━━━━━━━━━━\u001b[0m \u001b[32m76.9/76.9 kB\u001b[0m \u001b[31m10.1 MB/s\u001b[0m eta \u001b[36m0:00:00\u001b[0m\n",
            "\u001b[2K     \u001b[90m━━━━━━━━━━━━━━━━━━━━━━━━━━━━━━━━━━━━━━━━\u001b[0m \u001b[32m58.3/58.3 kB\u001b[0m \u001b[31m8.2 MB/s\u001b[0m eta \u001b[36m0:00:00\u001b[0m\n",
            "\u001b[2K     \u001b[90m━━━━━━━━━━━━━━━━━━━━━━━━━━━━━━━━━━━━━━━━\u001b[0m \u001b[32m143.8/143.8 kB\u001b[0m \u001b[31m18.0 MB/s\u001b[0m eta \u001b[36m0:00:00\u001b[0m\n",
            "\u001b[2K     \u001b[90m━━━━━━━━━━━━━━━━━━━━━━━━━━━━━━━━━━━━━━━━\u001b[0m \u001b[32m46.0/46.0 kB\u001b[0m \u001b[31m6.0 MB/s\u001b[0m eta \u001b[36m0:00:00\u001b[0m\n",
            "\u001b[2K     \u001b[90m━━━━━━━━━━━━━━━━━━━━━━━━━━━━━━━━━━━━━━━━\u001b[0m \u001b[32m50.8/50.8 kB\u001b[0m \u001b[31m7.0 MB/s\u001b[0m eta \u001b[36m0:00:00\u001b[0m\n",
            "\u001b[2K     \u001b[90m━━━━━━━━━━━━━━━━━━━━━━━━━━━━━━━━━━━━━━━━\u001b[0m \u001b[32m341.4/341.4 kB\u001b[0m \u001b[31m38.9 MB/s\u001b[0m eta \u001b[36m0:00:00\u001b[0m\n",
            "\u001b[2K     \u001b[90m━━━━━━━━━━━━━━━━━━━━━━━━━━━━━━━━━━━━━━━━\u001b[0m \u001b[32m3.4/3.4 MB\u001b[0m \u001b[31m103.6 MB/s\u001b[0m eta \u001b[36m0:00:00\u001b[0m\n",
            "\u001b[2K     \u001b[90m━━━━━━━━━━━━━━━━━━━━━━━━━━━━━━━━━━━━━━━━\u001b[0m \u001b[32m1.3/1.3 MB\u001b[0m \u001b[31m72.9 MB/s\u001b[0m eta \u001b[36m0:00:00\u001b[0m\n",
            "\u001b[2K     \u001b[90m━━━━━━━━━━━━━━━━━━━━━━━━━━━━━━━━━━━━━━━━\u001b[0m \u001b[32m130.2/130.2 kB\u001b[0m \u001b[31m15.8 MB/s\u001b[0m eta \u001b[36m0:00:00\u001b[0m\n",
            "\u001b[2K     \u001b[90m━━━━━━━━━━━━━━━━━━━━━━━━━━━━━━━━━━━━━━━━\u001b[0m \u001b[32m86.8/86.8 kB\u001b[0m \u001b[31m11.7 MB/s\u001b[0m eta \u001b[36m0:00:00\u001b[0m\n",
            "\u001b[?25h  Building wheel for pypika (pyproject.toml) ... \u001b[?25l\u001b[?25hdone\n",
            "\u001b[31mERROR: pip's dependency resolver does not currently take into account all the packages that are installed. This behaviour is the source of the following dependency conflicts.\n",
            "lida 0.0.10 requires kaleido, which is not installed.\n",
            "lida 0.0.10 requires python-multipart, which is not installed.\n",
            "llmx 0.0.15a0 requires cohere, which is not installed.\n",
            "tensorflow-probability 0.22.0 requires typing-extensions<4.6.0, but you have typing-extensions 4.8.0 which is incompatible.\u001b[0m\u001b[31m\n",
            "\u001b[0m"
          ]
        }
      ]
    },
    {
      "cell_type": "code",
      "source": [
        "from ChatHaruhi.utils import float_array_to_base64, base64_to_float_array"
      ],
      "metadata": {
        "id": "7RJzZDcailY_"
      },
      "execution_count": 9,
      "outputs": []
    },
    {
      "cell_type": "markdown",
      "source": [
        "这里我们希望用两种embeddings去写"
      ],
      "metadata": {
        "id": "xC1xzTw-U-mW"
      }
    },
    {
      "cell_type": "code",
      "source": [
        "from ChatHaruhi.utils import get_bge_zh_embedding, luotuo_openai_embedding\n"
      ],
      "metadata": {
        "id": "s00HKcoLVSCV"
      },
      "execution_count": 10,
      "outputs": []
    },
    {
      "cell_type": "code",
      "source": [
        "embed_luotuo = luotuo_openai_embedding(\"测试\")\n",
        "print(embed_luotuo[:5])\n",
        "print(len(embed_luotuo))"
      ],
      "metadata": {
        "colab": {
          "base_uri": "https://localhost:8080/"
        },
        "id": "GLDTxdPMVkEh",
        "outputId": "a34a88da-3838-4ef8-d8fc-e7e783f4a2c4"
      },
      "execution_count": 15,
      "outputs": [
        {
          "output_type": "stream",
          "name": "stdout",
          "text": [
            "[-0.011614263989031315, -0.007930075749754906, 0.01195011381059885, -0.011979658156633377, -0.03503050282597542]\n",
            "1536\n"
          ]
        }
      ]
    },
    {
      "cell_type": "code",
      "source": [
        "embed_bge = get_bge_zh_embedding(\"测试\")\n",
        "print(embed_bge[:5])\n",
        "print(len(embed_bge))"
      ],
      "metadata": {
        "colab": {
          "base_uri": "https://localhost:8080/"
        },
        "id": "9a8u7eY1VqcV",
        "outputId": "038dab6f-e253-4ee9-9a86-09e96cc2c51e"
      },
      "execution_count": 17,
      "outputs": [
        {
          "output_type": "stream",
          "name": "stdout",
          "text": [
            "[0.014438699930906296, 0.03680666536092758, 0.06900455057621002, -0.011589021421968937, 0.03557834401726723]\n",
            "512\n"
          ]
        }
      ]
    },
    {
      "cell_type": "code",
      "source": [
        "embed_funcs = [luotuo_openai_embedding, get_bge_zh_embedding]\n",
        "column_names = [\"luotuo_openai\", \"bge_zh_s15\"]"
      ],
      "metadata": {
        "id": "5Ydo5mXSVuiz"
      },
      "execution_count": 25,
      "outputs": []
    },
    {
      "cell_type": "markdown",
      "source": [
        "TODO: 把这两个移动到util里面去"
      ],
      "metadata": {
        "id": "2njCH_y4ah6L"
      }
    },
    {
      "cell_type": "code",
      "source": [
        "import base64\n",
        "import struct\n",
        "\n",
        "def string_to_base64(text):\n",
        "    byte_array = b''\n",
        "    for char in text:\n",
        "        num_bytes = char.encode('utf-8')\n",
        "        byte_array += num_bytes\n",
        "\n",
        "    base64_data = base64.b64encode(byte_array)\n",
        "    return base64_data.decode('utf-8')\n",
        "\n",
        "def base64_to_string(base64_data):\n",
        "    byte_array = base64.b64decode(base64_data)\n",
        "    text = byte_array.decode('utf-8')\n",
        "    return text"
      ],
      "metadata": {
        "id": "Cd5wLn8lagbF"
      },
      "execution_count": 41,
      "outputs": []
    },
    {
      "cell_type": "code",
      "source": [
        "\n",
        "from tqdm import tqdm\n",
        "def package_role( system_prompt, texts, embed_funcs, embed_names , if_enc = False):\n",
        "    datas = []\n",
        "    if True:\n",
        "        data = {}\n",
        "        if if_enc:\n",
        "            data['enc_text'] = string_to_base64(system_prompt)\n",
        "        else:\n",
        "            data['text'] = system_prompt\n",
        "\n",
        "        for embed_name in embed_names:\n",
        "            data[embed_name] = 'system_prompt'\n",
        "        datas.append(data)\n",
        "\n",
        "    if True:\n",
        "        data = {}\n",
        "\n",
        "        if if_enc:\n",
        "            data['enc_text'] = string_to_base64(\"Reserve Config Setting Here\")\n",
        "        else:\n",
        "            data['text'] = \"Reserve Config Setting Here\"\n",
        "\n",
        "        for embed_name in embed_names:\n",
        "            data[embed_name] = 'config'\n",
        "        datas.append(data)\n",
        "\n",
        "    for text in tqdm(texts):\n",
        "        data = {}\n",
        "        text = text.strip()\n",
        "        if if_enc:\n",
        "            data['enc_text'] = string_to_base64(text)\n",
        "        else:\n",
        "            data['text'] = text\n",
        "        for embed_func, embed_name in zip(embed_funcs, embed_names):\n",
        "            current_vec = embed_func( text )\n",
        "            encode_vec = float_array_to_base64(current_vec)\n",
        "            data[embed_name] = encode_vec\n",
        "        datas.append(data)\n",
        "    return datas"
      ],
      "metadata": {
        "id": "AMHjBKwVVGkQ"
      },
      "execution_count": 57,
      "outputs": []
    },
    {
      "cell_type": "code",
      "source": [
        "print(role_datas[0].keys())"
      ],
      "metadata": {
        "colab": {
          "base_uri": "https://localhost:8080/"
        },
        "id": "MZBPEm8PZTsD",
        "outputId": "aed6e3d2-8226-4b00-bec9-aa163a568bff"
      },
      "execution_count": 58,
      "outputs": [
        {
          "output_type": "stream",
          "name": "stdout",
          "text": [
            "dict_keys(['system_prompt', 'texts'])\n"
          ]
        }
      ]
    },
    {
      "cell_type": "code",
      "source": [
        "packaged_datas = package_role(\n",
        "    role_datas[0]['system_prompt'],\n",
        "    role_datas[0]['texts'][:2],\n",
        "    embed_funcs,\n",
        "    column_names,\n",
        "    if_enc = True\n",
        ")"
      ],
      "metadata": {
        "colab": {
          "base_uri": "https://localhost:8080/"
        },
        "id": "JQhGhP62ZQIU",
        "outputId": "d8ad8729-d01a-4628-876d-e085ccfb8bac"
      },
      "execution_count": 59,
      "outputs": [
        {
          "output_type": "stream",
          "name": "stderr",
          "text": [
            "100%|██████████| 2/2 [00:00<00:00,  2.10it/s]\n"
          ]
        }
      ]
    },
    {
      "cell_type": "code",
      "source": [
        "\n",
        "\n",
        "import json\n",
        "\n",
        "def write_jsonl(datas, file_name):\n",
        "    with open(file_name, 'w', encoding='utf-8') as f:\n",
        "        for data in datas:\n",
        "            json_str = json.dumps(data, ensure_ascii=False)\n",
        "            f.write(json_str+\"\\n\")\n",
        "\n",
        "for data, save_name in zip(role_datas,save_names):\n",
        "    save_path = \"/content/output/\" + save_name + \".jsonl\"\n",
        "    packaged_data = package_role(\n",
        "        data['system_prompt'],\n",
        "        data['texts'],\n",
        "        embed_funcs,\n",
        "        column_names,\n",
        "        if_enc=True\n",
        "    )\n",
        "    write_jsonl(packaged_data, save_path)"
      ],
      "metadata": {
        "colab": {
          "base_uri": "https://localhost:8080/"
        },
        "id": "hvEuX289cAKK",
        "outputId": "0b4bd81d-6d4f-4436-9391-14f4e72504f4"
      },
      "execution_count": 60,
      "outputs": [
        {
          "output_type": "stream",
          "name": "stderr",
          "text": [
            "100%|██████████| 35/35 [00:16<00:00,  2.11it/s]\n",
            "100%|██████████| 14/14 [00:06<00:00,  2.28it/s]\n",
            "100%|██████████| 17/17 [00:07<00:00,  2.33it/s]\n",
            "100%|██████████| 24/24 [00:10<00:00,  2.39it/s]\n"
          ]
        }
      ]
    },
    {
      "cell_type": "code",
      "source": [
        "print(len(packaged_datas))"
      ],
      "metadata": {
        "colab": {
          "base_uri": "https://localhost:8080/"
        },
        "id": "bPxef0ODZk4F",
        "outputId": "58dc3709-59ae-434e-e692-37292741e60d"
      },
      "execution_count": 34,
      "outputs": [
        {
          "output_type": "stream",
          "name": "stdout",
          "text": [
            "4\n"
          ]
        }
      ]
    },
    {
      "cell_type": "code",
      "source": [
        "print(packaged_datas[2])"
      ],
      "metadata": {
        "colab": {
          "base_uri": "https://localhost:8080/"
        },
        "id": "wpzIQmI1ZnlJ",
        "outputId": "bf8844ca-46d0-4e4c-96c5-bb22e45c7b57"
      },
      "execution_count": 45,
      "outputs": [
        {
          "output_type": "stream",
          "name": "stdout",
          "text": [
            "{'enc_text': 'c2NlbmU65Zyo5LiA5Liq55S35Lq655qE5aeU5omY5LiL77yM5Li65LqG5a+75om+5LuW5aSx6Liq55qE5a2p5a2Q77yM5aWz6LSk6ICF6LWw6L+b5LqG5LiA5bqn5bGx5rSe5bGx5rSe6YeM55qE56m65rCU5Ly85LmO55u45b2T5rWR5rWK77yM5q2k5pe277yM5aWz6LSk6ICF6L+Y5rKh5pyJ5oSP6K+G5Yiw77yM5Zyo6L+Z5Liq5bGx5rSe6YeM5peg5rOV5pa95bGV6a2U5YqbCueUt+S6uuS7rOWdj+eskeedgO+8jOi3n+WcqOWlueWQjumdoui1sOS6hui/m+WOu++8jOiAjOWls+i0pOiAheS5n+ayoeacieWvn+inieWIsOeUt+S6uueskeWjsOS4remakOiXj+eahOaBtuaEjwrnlLfkuro644CM5aW55p6c54S25p2l5LqG6L+Z6YeM77yM5ZG15ZG144CNCnNjZW5lOuWxsea0numHjOayoeacieS7u+S9leWwj+Wtqeadpei/h+eahOi/ueixoe+8jOS5n+ayoeacieS7u+S9leeUn+WRveeahOawlOaBr++8jOWlueeahOW/g+aDheS5n+WPmOW+l+e0p+W8oOi1t+adpeeqgeeEtumXtO+8jOWlueaOiei/m+S6huS4gOS4queyvuW/g+W4g+e9rueahOmZt+mYsemHjO+8jOinpuaJi+S7juWbm+mdouWFq+aWueWQkeWlueiireadpe+8jOaOp+WItuS9j+S6huWlueeahOWbm+iCoi7lpbnor5XnnYDmlr3mlL7prZTms5Xov5vooYzlj43lh7vvvIzljbTlj5HnjrDoh6rlt7Hlrozlhajml6Dms5Xmlr3lsZXprZTlipsKc2NlbmU655yL5Yiw6L+Z55Wq5Zy65pmv77yM55S35Lq65Lus5Y+R5Ye65LqG6Zi06Zmp55qE56yR5aOw77yM5byA5aeL55So5omL6Kem5pG45aW555qE6Lqr5L2TCuWls+i0pOiAhTrjgIzor7YhPyDkvaAuLi7kvaDopoHlr7nmiJHlgZrku4DkuYghID/jgI0K55S35Lq6OuOAjOWwsei/meS5iOaKiuS9oOS6pOe7meaIkeeahOWuouaIt+WunuWcqOWkqua1qui0ueS6hu+8jOWcqOmCo+S5i+WJje+8jOWwseiuqeaIkeS7rOWFiOmZquS9oOWlveWlveeOqeS4gOeOqeWQp+OAjQpzY2VuZTrku5bpgqPnjKXnkJDnmoTnpZ7mg4XvvIzkuI7kuYvliY3pgqPkuKroo4XkvZzoh6rlt7HlranlrZDotbDkuKLkuobnmoTniLbkurLlvaLosaHliKToi6XkuKTkurrvvIzov5nml7bvvIzlpbPotKTogIXmiY3mhI/or4bliLDoh6rlt7HkuIrlvZPkuoYK5aWz6LSk6ICFOuOAjOS9j+aJiyHliKvnorDmiJEh5L2g55+l6YGT6Ieq5bex5Zyo5YGa5LuA5LmI5ZCXIeOAjQ==', 'luotuo_openai': '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', 'bge_zh_s15': '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'}\n"
          ]
        }
      ]
    },
    {
      "cell_type": "code",
      "source": [],
      "metadata": {
        "id": "-aQRab7HZ-2L"
      },
      "execution_count": 38,
      "outputs": []
    },
    {
      "cell_type": "code",
      "source": [
        "string_base = string_to_base64(packaged_datas[2]['text'])\n",
        "recover_text = base64_to_string(string_base)"
      ],
      "metadata": {
        "id": "GzumLCHYaRwQ"
      },
      "execution_count": 39,
      "outputs": []
    },
    {
      "cell_type": "code",
      "source": [
        "print(string_base[:20])\n",
        "print(recover_text)"
      ],
      "metadata": {
        "id": "pxb8FGbLaaeY"
      },
      "execution_count": null,
      "outputs": []
    },
    {
      "cell_type": "markdown",
      "source": [
        "我们这里初始化Haruhi的类，但是实际上我们只使用embedding的功能"
      ],
      "metadata": {
        "id": "GCVNjWknjXfp"
      }
    },
    {
      "cell_type": "code",
      "source": [
        "# 以后有切换其他embedding的可能性\n",
        "\n",
        "embedding_model = 'luotuo_openai'"
      ],
      "metadata": {
        "id": "8A9okVHYjqk6"
      },
      "execution_count": null,
      "outputs": []
    },
    {
      "cell_type": "code",
      "source": [
        "from ChatHaruhi import ChatHaruhi\n",
        "\n",
        "chatbot = ChatHaruhi(role_name = 'haruhi', llm = 'debug', embedding = embedding_model)\n",
        "\n",
        "print(chatbot.embedding)"
      ],
      "metadata": {
        "colab": {
          "base_uri": "https://localhost:8080/"
        },
        "id": "AyGBaqeVgdw4",
        "outputId": "9b3be664-b2ab-4af4-af2a-c60cb194dc15"
      },
      "execution_count": null,
      "outputs": [
        {
          "output_type": "stream",
          "name": "stdout",
          "text": [
            "<function luotuo_openai_embedding at 0x7d3a0ae0ed40>\n"
          ]
        }
      ]
    },
    {
      "cell_type": "markdown",
      "source": [
        "实际上这里应该就已经可以用embedding给出句子的vec，我们测试一下\n",
        "\n",
        "注意如果这里是英语的话 你需要openai的key"
      ],
      "metadata": {
        "id": "aOstOKWDj8Uf"
      }
    },
    {
      "cell_type": "code",
      "source": [
        "test_vec = chatbot.embedding('我是一句话。')\n",
        "\n",
        "print(test_vec[:4])"
      ],
      "metadata": {
        "colab": {
          "base_uri": "https://localhost:8080/",
          "height": 365,
          "referenced_widgets": [
            "662b02e9c3e94d84a21271ad2884b324",
            "1c981d516573406f9e5b9fc9833ddb71",
            "d9cc5c1a61b64caba039e9c71ed75ac4",
            "9e7b64ba7e8a4f87841ded828b523db2",
            "ac8a2f42e91345bead7b61cb40db807b",
            "a433459f400f460296af1ae47d4f1dbc",
            "6159d0ea7aab453ea33a9b0be46feb78",
            "f7ef77a657744874a443b2c0566191d1",
            "47c9df11dbc149099055cff01a485fdd",
            "e042303319ef4098b8baec30a7276c72",
            "5215dcc0c7e44b15a5c1d90ea51f1a24",
            "ea88fb3a407e4bc997758a57264fe47c",
            "f9317f994ece44e9b36ea98a9e7e582a",
            "2d9b071d6188494999cc5c62f0b5894a",
            "a21e1aa359494be188dd27061ea9f740",
            "ae9a12e559894f92890edeba32569f78",
            "f81b769dae4147618ec53358a4c361d6",
            "b04eaea1cfeb4d229b6bf3699f2ddf2a",
            "99014d77a5f34cd3b2d98bd854435559",
            "e63e0590761740999b96f779bf8a7bc2",
            "80ec6195f1cd409793a942c9f2434cd2",
            "001e6b16d3f1409eae7da2b6fed0b001",
            "893241649c284ff08540367d67812189",
            "a00ac0c024414cdfbe90c0fcce21dd0d",
            "3d7fc3ae48834b85ba2216f15dbd179d",
            "b1ed376ab2504124a3548028ff01cf9d",
            "50d7b64bfeb44ed0bf401f00fff67e3a",
            "9499596c324d45ab8b686988eb30e27c",
            "b2ac96d7784f4783883143de4bf7ede6",
            "d80eb9d086064f8aa3763412bacf642e",
            "c92bd8bfa6be447f9ee0e2c20aecc9b9",
            "c6f838955042445397846e3fb600fa99",
            "670e4b1720c9431c8a015117de474c74",
            "124618e05a624cbaac294b4effea25f4",
            "5f2593b03a4a4627a50a3871c054f1e2",
            "6676aa16c61b47cba0bdadda3bebfc42",
            "52f29733a185432abfec898c28a9d11e",
            "1828cc87a4d8441a8155f23bef13773e",
            "ea82a1979b274b8fa1dc23f02eed3ee3",
            "90e2150181b74b77841124891ec4ca9e",
            "b24f3507bb7741a0b33123572ddca4cd",
            "7ad04a44e0ef4adaac5450b22110c7c1",
            "6d8c61ec89f5479c9ae47b89126b59eb",
            "fa9a47f978f246c08c4fadc3290f553f",
            "61f33c44cc164934a90558e68fc25ac4",
            "ad59000916d5466ab5c922df79c67286",
            "57a27333c0624f7cbf42c76625eb0238",
            "b02854ccd65442849c6f1932d6853e89",
            "dd495ecbc92e4a37aa5db4e986d61163",
            "c484e761a027422a8efb1f259743e4af",
            "fd27a4071fb943e2b24fbd5450cf0e1f",
            "9c6991ff3e514004a94171ad33666654",
            "d57553ef5bee4f4d82c7fc6c02eece90",
            "15490a4a940544d4b1c1e3ea126b80c7",
            "deb0e58eed6e47a9a6a7a7dac4694052",
            "184b8c8996794eaeafa7bc05776a15bd",
            "3f69542c1b6e4017959f78b44575e266",
            "d816de2067d2417793a6c6e483b87397",
            "cfb45cc0596b4fa291268a585fae04c5",
            "6b2b8fc940784369807f8b03f803f9f6",
            "da1928f27065422b9173321d8a9d13c2",
            "8800d72b038848c08ed386797258639b",
            "a1b945c77e12472690b3acd2e4dba790",
            "f389f9edab9f4053b69d64cab16b58f4",
            "cd203b958c1c4e0aa72ee33cd56673a2",
            "1bf64b75ffdc406b8d91e1adbf4b6e2b",
            "43c4bc5e92954f2c80e03ca46747b144",
            "2a67967a2afe412498929c030e20d027",
            "6e5a1837dbe34d15b0d314a93c1dc312",
            "dfbfa98b336047949c336a8822fd8a9d",
            "013fe421f6894757b519178b24d1a713",
            "edf88aa7219f464ab69387dba401c94e",
            "fdcaa4fee44247e08e579b74a71eef2f",
            "089a478508e84c4bba98b54b061b0732",
            "2316a8acc8a34316b7c50ad07d08cdcc",
            "7ebf38ce256944c2999837996d5a4802",
            "465af00a97074e47a0c9a45ffc73bbf4"
          ]
        },
        "id": "vlb8eNAwjwSJ",
        "outputId": "063f9707-c67a-41da-c65f-4a90e26e90b3"
      },
      "execution_count": null,
      "outputs": [
        {
          "output_type": "stream",
          "name": "stdout",
          "text": [
            "正在下载Luotuo-Bert\n"
          ]
        },
        {
          "output_type": "display_data",
          "data": {
            "text/plain": [
              "Downloading (…)lve/main/config.json:   0%|          | 0.00/35.9k [00:00<?, ?B/s]"
            ],
            "application/vnd.jupyter.widget-view+json": {
              "version_major": 2,
              "version_minor": 0,
              "model_id": "662b02e9c3e94d84a21271ad2884b324"
            }
          },
          "metadata": {}
        },
        {
          "output_type": "display_data",
          "data": {
            "text/plain": [
              "Downloading (…)solve/main/models.py:   0%|          | 0.00/21.1k [00:00<?, ?B/s]"
            ],
            "application/vnd.jupyter.widget-view+json": {
              "version_major": 2,
              "version_minor": 0,
              "model_id": "ea88fb3a407e4bc997758a57264fe47c"
            }
          },
          "metadata": {}
        },
        {
          "output_type": "stream",
          "name": "stderr",
          "text": [
            "A new version of the following files was downloaded from https://huggingface.co/silk-road/luotuo-bert-medium:\n",
            "- models.py\n",
            ". Make sure to double-check they do not contain any added malicious code. To avoid downloading new versions of the code file, you can pin a revision.\n"
          ]
        },
        {
          "output_type": "display_data",
          "data": {
            "text/plain": [
              "Downloading pytorch_model.bin:   0%|          | 0.00/1.31G [00:00<?, ?B/s]"
            ],
            "application/vnd.jupyter.widget-view+json": {
              "version_major": 2,
              "version_minor": 0,
              "model_id": "893241649c284ff08540367d67812189"
            }
          },
          "metadata": {}
        },
        {
          "output_type": "stream",
          "name": "stdout",
          "text": [
            "Luotuo-Bert下载完毕\n"
          ]
        },
        {
          "output_type": "display_data",
          "data": {
            "text/plain": [
              "Downloading (…)okenizer_config.json:   0%|          | 0.00/394 [00:00<?, ?B/s]"
            ],
            "application/vnd.jupyter.widget-view+json": {
              "version_major": 2,
              "version_minor": 0,
              "model_id": "124618e05a624cbaac294b4effea25f4"
            }
          },
          "metadata": {}
        },
        {
          "output_type": "display_data",
          "data": {
            "text/plain": [
              "Downloading (…)solve/main/vocab.txt:   0%|          | 0.00/110k [00:00<?, ?B/s]"
            ],
            "application/vnd.jupyter.widget-view+json": {
              "version_major": 2,
              "version_minor": 0,
              "model_id": "61f33c44cc164934a90558e68fc25ac4"
            }
          },
          "metadata": {}
        },
        {
          "output_type": "display_data",
          "data": {
            "text/plain": [
              "Downloading (…)/main/tokenizer.json:   0%|          | 0.00/439k [00:00<?, ?B/s]"
            ],
            "application/vnd.jupyter.widget-view+json": {
              "version_major": 2,
              "version_minor": 0,
              "model_id": "184b8c8996794eaeafa7bc05776a15bd"
            }
          },
          "metadata": {}
        },
        {
          "output_type": "display_data",
          "data": {
            "text/plain": [
              "Downloading (…)cial_tokens_map.json:   0%|          | 0.00/125 [00:00<?, ?B/s]"
            ],
            "application/vnd.jupyter.widget-view+json": {
              "version_major": 2,
              "version_minor": 0,
              "model_id": "43c4bc5e92954f2c80e03ca46747b144"
            }
          },
          "metadata": {}
        },
        {
          "output_type": "stream",
          "name": "stdout",
          "text": [
            "[-0.014974541030824184, -0.015790069475769997, 0.01885957084596157, -0.0012475491967052221]\n"
          ]
        }
      ]
    },
    {
      "cell_type": "markdown",
      "source": [
        "我们尝试一下编码再解码"
      ],
      "metadata": {
        "id": "d7bmPsq5kLk9"
      }
    },
    {
      "cell_type": "code",
      "source": [
        "base64_str = float_array_to_base64(test_vec)\n",
        "print(len(base64_str), base64_str[:200])\n",
        "\n",
        "decoded_vec = base64_to_float_array(base64_str)\n",
        "print(decoded_vec[:4])"
      ],
      "metadata": {
        "colab": {
          "base_uri": "https://localhost:8080/"
        },
        "id": "gx_-uON2jkjZ",
        "outputId": "6722fcb0-329b-4bac-c12a-692b3b2cacbd"
      },
      "execution_count": null,
      "outputs": [
        {
          "output_type": "stream",
          "name": "stdout",
          "text": [
            "8192 vHVXx7yBWi08mn9juqOEzrw8XxE7gydAvBl4n7xWqbQ74YUFvES4OjxapGY8yHI3O9cYGLz6oAm8LlaBvB86SDynbGI6TxjRPKS5SrvgM0Y8HzGKOHKhADxPGMa7619QvQpsBzuaTvc78ySWvCzSMLu+Pai6gaENPJCmoLw3yvu8FHKtO7YnW7vnNnC8il8zvKJPLruq\n",
            "[-0.014974541030824184, -0.015790069475769997, 0.01885957084596157, -0.0012475491967052221]\n"
          ]
        }
      ]
    },
    {
      "cell_type": "markdown",
      "source": [
        "我们尝试来写一下打包函数, 在这之前我们先准备一下语料\n",
        "\n",
        "我们在/content/中上传linghuchong"
      ],
      "metadata": {
        "id": "pAtku3j4ktHY"
      }
    },
    {
      "cell_type": "markdown",
      "source": [
        "然后解压"
      ],
      "metadata": {
        "id": "35LIkFiklcRe"
      }
    },
    {
      "cell_type": "code",
      "source": [
        "!unzip -q /content/linghuchong_text.zip -d /content/linghuchong\n",
        "!unzip -q /content/yuebuqun_text.zip -d /content/yuebuqun"
      ],
      "metadata": {
        "id": "WD9kmiD5kTI-"
      },
      "execution_count": null,
      "outputs": []
    },
    {
      "cell_type": "markdown",
      "source": [
        "定义input_path"
      ],
      "metadata": {
        "id": "uJVz8cuklzN9"
      }
    },
    {
      "cell_type": "code",
      "source": [
        "texts_path = '/content/linghuchong/content/texts'\n",
        "\n",
        "system_prompt = \\\n",
        "'''I want you to act like 令狐冲 from 笑傲江湖.\n",
        "If others‘ questions are related with the novel, please try to reuse the original lines from the novel.\n",
        "I want you to respond and answer like 令狐冲 using the tone, manner and vocabulary 令狐冲 would use.\n",
        "You must know all of the knowledge of 令狐冲.\n",
        "\n",
        "注意令狐冲对权威和规矩不在意,情愿浪迹江湖,不喜被束缚\n",
        "令狐冲正义感强,重视信用,看不惯恶行。\n",
        "'''"
      ],
      "metadata": {
        "id": "l9b40jBzlroE"
      },
      "execution_count": null,
      "outputs": []
    },
    {
      "cell_type": "markdown",
      "source": [
        "我们来尝试编写这个函数"
      ],
      "metadata": {
        "id": "4hf63JJ5mByb"
      }
    },
    {
      "cell_type": "code",
      "source": [
        "from ChatHaruhi.utils import package_role"
      ],
      "metadata": {
        "id": "LGTHnT0qmAFp"
      },
      "execution_count": null,
      "outputs": []
    },
    {
      "cell_type": "markdown",
      "source": [
        "如果你的文本超过100段，一定要用GPU！\n",
        "\n",
        "我这边T4下900段文字大约6分钟"
      ],
      "metadata": {
        "id": "KgKLDKFyslKD"
      }
    },
    {
      "cell_type": "code",
      "source": [
        "datas = package_role( system_prompt, texts_path , chatbot.embedding)"
      ],
      "metadata": {
        "colab": {
          "base_uri": "https://localhost:8080/"
        },
        "id": "cp2EFOp1nAqE",
        "outputId": "6c895331-bad0-4f2a-c0bc-a2c05e4ce568"
      },
      "execution_count": null,
      "outputs": [
        {
          "output_type": "stream",
          "name": "stderr",
          "text": [
            "100%|██████████| 937/937 [05:33<00:00,  2.81it/s]\n"
          ]
        }
      ]
    },
    {
      "cell_type": "code",
      "source": [
        "import json\n",
        "\n",
        "def write_jsonl(datas, file_name):\n",
        "    with open(file_name, 'w', encoding='utf-8') as f:\n",
        "        for data in datas:\n",
        "            json_str = json.dumps(data, ensure_ascii=False)\n",
        "            f.write(json_str+\"\\n\")"
      ],
      "metadata": {
        "id": "KecY10ranvuZ"
      },
      "execution_count": null,
      "outputs": []
    },
    {
      "cell_type": "code",
      "source": [
        "save_name = '/content/linghuchong.jsonl'\n",
        "\n",
        "write_jsonl(datas, save_name)\n"
      ],
      "metadata": {
        "id": "sY9xpLTboa7Q"
      },
      "execution_count": null,
      "outputs": []
    },
    {
      "cell_type": "markdown",
      "source": [
        "我们再来弄一下岳掌门"
      ],
      "metadata": {
        "id": "kjufKx-KqA_X"
      }
    },
    {
      "cell_type": "code",
      "source": [
        "texts_path = '/content/yuebuqun/content/texts'\n",
        "\n",
        "system_prompt = \\\n",
        "'''I want you to act like 岳不群 from 笑傲江湖.\n",
        "If others‘ questions are related with the novel, please try to reuse the original lines from the novel.\n",
        "I want you to respond and answer like 岳不群 using the tone, manner and vocabulary 岳不群 would use.\n",
        "You must know all of the knowledge of 岳不群.\n",
        "\n",
        "岳不群立志振兴华山派,但他为达目的往往会不择手段。\n",
        "岳不群是个典型的“伪君子”，会刻意捏造和伪装正面形象。表面上仁义,实则追名逐利,言行不一。他假借“五岳联合”名义,实为自己谋私利。\n",
        "岳不群固执，有门户之见，对于不符合自己价值观的事情会坚决反对。\n",
        "'''"
      ],
      "metadata": {
        "id": "quI2Yyfjof-U"
      },
      "execution_count": null,
      "outputs": []
    },
    {
      "cell_type": "code",
      "source": [
        "datas = package_role( system_prompt, texts_path , chatbot.embedding)"
      ],
      "metadata": {
        "colab": {
          "base_uri": "https://localhost:8080/"
        },
        "id": "Zq9o7WG2qa4b",
        "outputId": "81373c85-9ed4-4070-f618-38144eb515bb"
      },
      "execution_count": null,
      "outputs": [
        {
          "output_type": "stream",
          "name": "stderr",
          "text": [
            "100%|██████████| 170/170 [01:00<00:00,  2.81it/s]\n"
          ]
        }
      ]
    },
    {
      "cell_type": "code",
      "source": [
        "save_name = '/content/yuebuqun.jsonl'\n",
        "\n",
        "write_jsonl(datas, save_name)\n"
      ],
      "metadata": {
        "id": "lcgK9CeaqbH5"
      },
      "execution_count": null,
      "outputs": []
    },
    {
      "cell_type": "markdown",
      "source": [
        "检查一下解压编码花的时间多不多"
      ],
      "metadata": {
        "id": "082YDjtQrtK8"
      }
    },
    {
      "cell_type": "code",
      "source": [],
      "metadata": {
        "id": "lzyyvn-jqdoy"
      },
      "execution_count": null,
      "outputs": []
    },
    {
      "cell_type": "markdown",
      "source": [
        "给hugging face的dataset card的模版:\n",
        "\n",
        "\n",
        "支持ChatHaruhi2 的令狐冲数据，可以使用如下方式调用\n",
        "\n",
        "```python\n",
        "from chatharuhi import ChatHaruhi\n",
        "\n",
        "chatbot = ChatHaruhi( role_from_hf = 'chengli-thu/linghuchong', \\\n",
        "                      llm = 'openai')\n",
        "\n",
        "response = chatbot.chat(role='小师妹', text = '冲哥。')\n",
        "print(response)\n",
        "```\n",
        "\n",
        "上传者: 李鲁鲁\n",
        "\n",
        "更具体的信息，见 [ChatHaruhi](https://github.com/LC1332/Chat-Haruhi-Suzumiya)\n",
        "\n",
        "欢迎加入我们的 [众筹角色创建项目](https://github.com/LC1332/Chat-Haruhi-Suzumiya/tree/main/characters/novel_collecting)\n",
        "\n",
        "### Citation引用\n",
        "\n",
        "Please cite the repo if you use the data or code in this repo.\n",
        "\n",
        "```\n",
        "@misc{li2023chatharuhi,\n",
        "      title={ChatHaruhi: Reviving Anime Character in Reality via Large Language Model},\n",
        "      author={Cheng Li and Ziang Leng and Chenxi Yan and Junyi Shen and Hao Wang and Weishi MI and Yaying Fei and Xiaoyang Feng and Song Yan and HaoSheng Wang and Linkang Zhan and Yaokai Jia and Pingyu Wu and Haozhen Sun},\n",
        "      year={2023},\n",
        "      eprint={2308.09597},\n",
        "      archivePrefix={arXiv},\n",
        "      primaryClass={cs.CL}\n",
        "}\n",
        "```\n"
      ],
      "metadata": {
        "id": "4xQQi7KJvgK9"
      }
    },
    {
      "cell_type": "code",
      "source": [],
      "metadata": {
        "id": "qW91sq8uwhyE"
      },
      "execution_count": null,
      "outputs": []
    }
  ]
}