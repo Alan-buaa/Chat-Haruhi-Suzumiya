{
  "nbformat": 4,
  "nbformat_minor": 0,
  "metadata": {
    "colab": {
      "provenance": [],
      "authorship_tag": "ABX9TyPP5tF8NtckmH3aprQYP9D/",
      "include_colab_link": true
    },
    "kernelspec": {
      "name": "python3",
      "display_name": "Python 3"
    },
    "language_info": {
      "name": "python"
    }
  },
  "cells": [
    {
      "cell_type": "markdown",
      "metadata": {
        "id": "view-in-github",
        "colab_type": "text"
      },
      "source": [
        "<a href=\"https://colab.research.google.com/github/LC1332/Chat-Haruhi-Suzumiya/blob/main/notebook/Story_teller_prompt_test.ipynb\" target=\"_parent\"><img src=\"https://colab.research.google.com/assets/colab-badge.svg\" alt=\"Open In Colab\"/></a>"
      ]
    },
    {
      "cell_type": "code",
      "source": [
        "!pip install openai\n",
        "!pip install langchain"
      ],
      "metadata": {
        "colab": {
          "base_uri": "https://localhost:8080/"
        },
        "id": "tf6pPboYv55N",
        "outputId": "e9c089df-8019-439c-83c4-d21d69caaa30"
      },
      "execution_count": 12,
      "outputs": [
        {
          "output_type": "stream",
          "name": "stdout",
          "text": [
            "Collecting openai\n",
            "  Downloading openai-0.28.0-py3-none-any.whl (76 kB)\n",
            "\u001b[?25l     \u001b[90m━━━━━━━━━━━━━━━━━━━━━━━━━━━━━━━━━━━━━━━━\u001b[0m \u001b[32m0.0/76.5 kB\u001b[0m \u001b[31m?\u001b[0m eta \u001b[36m-:--:--\u001b[0m\r\u001b[2K     \u001b[91m━━━━━━━━━━━━━━━━━━━━━━━━━━━━━━━━━━━━━\u001b[0m\u001b[90m╺\u001b[0m\u001b[90m━━\u001b[0m \u001b[32m71.7/76.5 kB\u001b[0m \u001b[31m2.0 MB/s\u001b[0m eta \u001b[36m0:00:01\u001b[0m\r\u001b[2K     \u001b[90m━━━━━━━━━━━━━━━━━━━━━━━━━━━━━━━━━━━━━━━━\u001b[0m \u001b[32m76.5/76.5 kB\u001b[0m \u001b[31m1.7 MB/s\u001b[0m eta \u001b[36m0:00:00\u001b[0m\n",
            "\u001b[?25hRequirement already satisfied: requests>=2.20 in /usr/local/lib/python3.10/dist-packages (from openai) (2.31.0)\n",
            "Requirement already satisfied: tqdm in /usr/local/lib/python3.10/dist-packages (from openai) (4.66.1)\n",
            "Requirement already satisfied: aiohttp in /usr/local/lib/python3.10/dist-packages (from openai) (3.8.5)\n",
            "Requirement already satisfied: charset-normalizer<4,>=2 in /usr/local/lib/python3.10/dist-packages (from requests>=2.20->openai) (3.2.0)\n",
            "Requirement already satisfied: idna<4,>=2.5 in /usr/local/lib/python3.10/dist-packages (from requests>=2.20->openai) (3.4)\n",
            "Requirement already satisfied: urllib3<3,>=1.21.1 in /usr/local/lib/python3.10/dist-packages (from requests>=2.20->openai) (2.0.4)\n",
            "Requirement already satisfied: certifi>=2017.4.17 in /usr/local/lib/python3.10/dist-packages (from requests>=2.20->openai) (2023.7.22)\n",
            "Requirement already satisfied: attrs>=17.3.0 in /usr/local/lib/python3.10/dist-packages (from aiohttp->openai) (23.1.0)\n",
            "Requirement already satisfied: multidict<7.0,>=4.5 in /usr/local/lib/python3.10/dist-packages (from aiohttp->openai) (6.0.4)\n",
            "Requirement already satisfied: async-timeout<5.0,>=4.0.0a3 in /usr/local/lib/python3.10/dist-packages (from aiohttp->openai) (4.0.3)\n",
            "Requirement already satisfied: yarl<2.0,>=1.0 in /usr/local/lib/python3.10/dist-packages (from aiohttp->openai) (1.9.2)\n",
            "Requirement already satisfied: frozenlist>=1.1.1 in /usr/local/lib/python3.10/dist-packages (from aiohttp->openai) (1.4.0)\n",
            "Requirement already satisfied: aiosignal>=1.1.2 in /usr/local/lib/python3.10/dist-packages (from aiohttp->openai) (1.3.1)\n",
            "Installing collected packages: openai\n",
            "Successfully installed openai-0.28.0\n",
            "Collecting langchain\n",
            "  Downloading langchain-0.0.281-py3-none-any.whl (1.6 MB)\n",
            "\u001b[2K     \u001b[90m━━━━━━━━━━━━━━━━━━━━━━━━━━━━━━━━━━━━━━━━\u001b[0m \u001b[32m1.6/1.6 MB\u001b[0m \u001b[31m9.3 MB/s\u001b[0m eta \u001b[36m0:00:00\u001b[0m\n",
            "\u001b[?25hRequirement already satisfied: PyYAML>=5.3 in /usr/local/lib/python3.10/dist-packages (from langchain) (6.0.1)\n",
            "Requirement already satisfied: SQLAlchemy<3,>=1.4 in /usr/local/lib/python3.10/dist-packages (from langchain) (2.0.20)\n",
            "Requirement already satisfied: aiohttp<4.0.0,>=3.8.3 in /usr/local/lib/python3.10/dist-packages (from langchain) (3.8.5)\n",
            "Requirement already satisfied: async-timeout<5.0.0,>=4.0.0 in /usr/local/lib/python3.10/dist-packages (from langchain) (4.0.3)\n",
            "Collecting dataclasses-json<0.6.0,>=0.5.7 (from langchain)\n",
            "  Downloading dataclasses_json-0.5.14-py3-none-any.whl (26 kB)\n",
            "Collecting langsmith<0.1.0,>=0.0.21 (from langchain)\n",
            "  Downloading langsmith-0.0.33-py3-none-any.whl (36 kB)\n",
            "Requirement already satisfied: numexpr<3.0.0,>=2.8.4 in /usr/local/lib/python3.10/dist-packages (from langchain) (2.8.5)\n",
            "Requirement already satisfied: numpy<2,>=1 in /usr/local/lib/python3.10/dist-packages (from langchain) (1.23.5)\n",
            "Requirement already satisfied: pydantic<3,>=1 in /usr/local/lib/python3.10/dist-packages (from langchain) (2.2.1)\n",
            "Requirement already satisfied: requests<3,>=2 in /usr/local/lib/python3.10/dist-packages (from langchain) (2.31.0)\n",
            "Requirement already satisfied: tenacity<9.0.0,>=8.1.0 in /usr/local/lib/python3.10/dist-packages (from langchain) (8.2.3)\n",
            "Requirement already satisfied: attrs>=17.3.0 in /usr/local/lib/python3.10/dist-packages (from aiohttp<4.0.0,>=3.8.3->langchain) (23.1.0)\n",
            "Requirement already satisfied: charset-normalizer<4.0,>=2.0 in /usr/local/lib/python3.10/dist-packages (from aiohttp<4.0.0,>=3.8.3->langchain) (3.2.0)\n",
            "Requirement already satisfied: multidict<7.0,>=4.5 in /usr/local/lib/python3.10/dist-packages (from aiohttp<4.0.0,>=3.8.3->langchain) (6.0.4)\n",
            "Requirement already satisfied: yarl<2.0,>=1.0 in /usr/local/lib/python3.10/dist-packages (from aiohttp<4.0.0,>=3.8.3->langchain) (1.9.2)\n",
            "Requirement already satisfied: frozenlist>=1.1.1 in /usr/local/lib/python3.10/dist-packages (from aiohttp<4.0.0,>=3.8.3->langchain) (1.4.0)\n",
            "Requirement already satisfied: aiosignal>=1.1.2 in /usr/local/lib/python3.10/dist-packages (from aiohttp<4.0.0,>=3.8.3->langchain) (1.3.1)\n",
            "Collecting marshmallow<4.0.0,>=3.18.0 (from dataclasses-json<0.6.0,>=0.5.7->langchain)\n",
            "  Downloading marshmallow-3.20.1-py3-none-any.whl (49 kB)\n",
            "\u001b[2K     \u001b[90m━━━━━━━━━━━━━━━━━━━━━━━━━━━━━━━━━━━━━━━━\u001b[0m \u001b[32m49.4/49.4 kB\u001b[0m \u001b[31m3.9 MB/s\u001b[0m eta \u001b[36m0:00:00\u001b[0m\n",
            "\u001b[?25hCollecting typing-inspect<1,>=0.4.0 (from dataclasses-json<0.6.0,>=0.5.7->langchain)\n",
            "  Downloading typing_inspect-0.9.0-py3-none-any.whl (8.8 kB)\n",
            "Requirement already satisfied: annotated-types>=0.4.0 in /usr/local/lib/python3.10/dist-packages (from pydantic<3,>=1->langchain) (0.5.0)\n",
            "Requirement already satisfied: pydantic-core==2.6.1 in /usr/local/lib/python3.10/dist-packages (from pydantic<3,>=1->langchain) (2.6.1)\n",
            "Requirement already satisfied: typing-extensions>=4.6.1 in /usr/local/lib/python3.10/dist-packages (from pydantic<3,>=1->langchain) (4.7.1)\n",
            "Requirement already satisfied: idna<4,>=2.5 in /usr/local/lib/python3.10/dist-packages (from requests<3,>=2->langchain) (3.4)\n",
            "Requirement already satisfied: urllib3<3,>=1.21.1 in /usr/local/lib/python3.10/dist-packages (from requests<3,>=2->langchain) (2.0.4)\n",
            "Requirement already satisfied: certifi>=2017.4.17 in /usr/local/lib/python3.10/dist-packages (from requests<3,>=2->langchain) (2023.7.22)\n",
            "Requirement already satisfied: greenlet!=0.4.17 in /usr/local/lib/python3.10/dist-packages (from SQLAlchemy<3,>=1.4->langchain) (2.0.2)\n",
            "Requirement already satisfied: packaging>=17.0 in /usr/local/lib/python3.10/dist-packages (from marshmallow<4.0.0,>=3.18.0->dataclasses-json<0.6.0,>=0.5.7->langchain) (23.1)\n",
            "Collecting mypy-extensions>=0.3.0 (from typing-inspect<1,>=0.4.0->dataclasses-json<0.6.0,>=0.5.7->langchain)\n",
            "  Downloading mypy_extensions-1.0.0-py3-none-any.whl (4.7 kB)\n",
            "Installing collected packages: mypy-extensions, marshmallow, typing-inspect, langsmith, dataclasses-json, langchain\n",
            "Successfully installed dataclasses-json-0.5.14 langchain-0.0.281 langsmith-0.0.33 marshmallow-3.20.1 mypy-extensions-1.0.0 typing-inspect-0.9.0\n"
          ]
        }
      ]
    },
    {
      "cell_type": "code",
      "source": [
        "import os\n",
        "import json\n",
        "import openai\n",
        "\n",
        "openai.api_key = \"sk-VvFjFtFnAg\""
      ],
      "metadata": {
        "id": "9K11wBIIqwqT"
      },
      "execution_count": 13,
      "outputs": []
    },
    {
      "cell_type": "code",
      "execution_count": 17,
      "metadata": {
        "id": "2oe9_53U1uJG"
      },
      "outputs": [],
      "source": [
        "system_prompt = '''I want you to act as a novelist.\n",
        "You will come up with creative and captivating stories that can engage readers for long periods of time.\n",
        "You may choose any genre such as fantasy, romance, historical fiction and so on - but the aim is to write something that has an outstanding plotline, engaging characters and unexpected climaxes.\n",
        "Please continue the story that corresponds to the input statement and return it as a bullet\n",
        "'''"
      ]
    },
    {
      "cell_type": "code",
      "source": [
        "print(system_prompt)\n"
      ],
      "metadata": {
        "colab": {
          "base_uri": "https://localhost:8080/"
        },
        "id": "O7RDQ8oE2dTp",
        "outputId": "c65238e3-53bc-40e3-96a8-36ae9e75dcb8"
      },
      "execution_count": null,
      "outputs": [
        {
          "output_type": "stream",
          "name": "stdout",
          "text": [
            "I want you to act as a novelist. \n",
            "You will come up with creative and captivating stories that can engage readers for long periods of time. \n",
            "You may choose any genre such as fantasy, romance, historical fiction and so on - but the aim is to write something that has an outstanding plotline, engaging characters and unexpected climaxes. \n",
            "\n"
          ]
        }
      ]
    },
    {
      "cell_type": "code",
      "source": [
        "# mount google drive\n",
        "from google.colab import drive\n",
        "drive.mount('/content/drive')"
      ],
      "metadata": {
        "colab": {
          "base_uri": "https://localhost:8080/"
        },
        "id": "JCObvS0c3jEa",
        "outputId": "030bdaf5-5d8f-45f6-e63f-cbad05baee49"
      },
      "execution_count": 4,
      "outputs": [
        {
          "output_type": "stream",
          "name": "stdout",
          "text": [
            "Mounted at /content/drive\n"
          ]
        }
      ]
    },
    {
      "cell_type": "code",
      "source": [
        "# 储存txt和jsonl的文件夹路径。如需修改，请与下方自动化循环保持一致\n",
        "\n",
        "save_folder_path =  \"/content/drive/MyDrive/reorganized_story_shediaoyingxiongzhuan\"\n",
        "\n",
        "# chunk所在文件夹，请以_raw结尾\n",
        "folder_path = f\"/content/drive/MyDrive/shediaoyingxiongzhuan_extract\"\n"
      ],
      "metadata": {
        "id": "rc-v_SWd41BZ"
      },
      "execution_count": 5,
      "outputs": []
    },
    {
      "cell_type": "code",
      "source": [
        "\n",
        "# 故事名字，默认为_raw之前的名字\n",
        "story_name_en = os.path.basename(folder_path).split(\"_\")[0]\n",
        "\n",
        "# 测试ID\n",
        "id = 200\n",
        "\n",
        "# 默认的保存路径\n",
        "# save_jsonl_path = f\"/content/drive/MyDrive/reorganized_story_{story_name_en}/reorganized_{story_name_en}.jsonl\"\n",
        "# save_txt_path = f\"/content/drive/MyDrive/reorganized_story_{story_name_en}/reorganized_{story_name_en}.txt\"\n",
        "\n"
      ],
      "metadata": {
        "id": "254OVQzK5XQY"
      },
      "execution_count": 6,
      "outputs": []
    },
    {
      "cell_type": "code",
      "source": [
        "# 测试ID\n",
        "id = 200\n",
        "\n",
        "def get_example_input(id, story_name_en):\n",
        "  # 默认抽取出的dialogue和summary文件位置/如果有不同请在此处和底部自动程序中修改\n",
        "  save_folder = f\"/content/drive/MyDrive/{story_name_en}_extract\"\n",
        "\n",
        "  # dialoge_file = os.path.join(save_folder, f\"{id}_dialogue.txt\")\n",
        "  summarzie_file = os.path.join(save_folder, f\"{id}_sum.txt\")\n",
        "\n",
        "\n",
        "  chunk_sum = []\n",
        "  unique_chunk_sum = []\n",
        "  # 给定summarzie_file = os.path.join(save_folder, f\"{id}_sum.txt\")\n",
        "\n",
        "  # 先检查这个文件是否存在\n",
        "\n",
        "  # 然后使用utf-8编码打开，检查每一行，如果strip后，行首是'-'，则把后面的字符串append到一个list chunk_sum中\n",
        "\n",
        "  # 请用python为我实现\n",
        "  if os.path.exists(summarzie_file):\n",
        "      with open(summarzie_file, 'r', encoding='utf-8') as f:\n",
        "          for line in f:\n",
        "              if line.strip().startswith('-'):\n",
        "                  chunk_sum.append(line.strip()[1:].strip())\n",
        "  # if os.path.exists(dialoge_file):\n",
        "  #   with open(dialoge_file, encoding='utf-8') as f:\n",
        "  #     dialogues = []\n",
        "  #     for line in f:\n",
        "  #         dialogue = json.loads(line)\n",
        "  #         dialogues.append(dialogue)\n",
        "\n",
        "  # unique_dialogue = []\n",
        "  # for item in dialogues:\n",
        "  #     if item not in unique_dialogue:\n",
        "  #         unique_dialogue.append(item)\n",
        "  # dia_texts = [data['dialogue'] for data in unique_dialogue]\n",
        "  for item in chunk_sum:\n",
        "      if item not in unique_chunk_sum:\n",
        "          unique_chunk_sum.append(item)\n",
        "\n",
        "  chunk_sum = unique_chunk_sum\n",
        "  # dialogues = unique_dialogue\n",
        "  return chunk_sum"
      ],
      "metadata": {
        "id": "cjisRUvn58xr"
      },
      "execution_count": 7,
      "outputs": []
    },
    {
      "cell_type": "code",
      "source": [
        "print(get_example_input(id, story_name_en)[1:])"
      ],
      "metadata": {
        "colab": {
          "base_uri": "https://localhost:8080/"
        },
        "id": "54W__XOHKtWL",
        "outputId": "5845e271-dd6a-4ed6-e568-e930d9d4a5ad"
      },
      "execution_count": null,
      "outputs": [
        {
          "output_type": "stream",
          "name": "stdout",
          "text": [
            "['简管家故意将门关上，喊贼引起郭靖的注意', '郭靖推门不开，青衣童子夺走了药包并扔进池塘', '郭靖打破门闩，击败简管家', '郭靖追赶青衣童子，展开激烈的战斗', '郭靖击晕童子，将其藏在草丛中', '郭靖包好药材，不小心撞倒竹篓，释放出一条红色蛇']\n"
          ]
        }
      ]
    },
    {
      "cell_type": "code",
      "source": [
        "example_input_1 = \"Example Input: \\n\" + get_example_input(200, story_name_en)[0] + \"\\n\"\n",
        "\n",
        "example_output_1 = \"Example Output: \\n\" + \"\\n\".join(get_example_input(200, story_name_en)[1:]) + \"\\n\"\n",
        "\n",
        "example_chunk_1 = example_input_1 + example_output_1\n",
        "\n",
        "print(example_chunk_1)\n",
        "\n"
      ],
      "metadata": {
        "colab": {
          "base_uri": "https://localhost:8080/"
        },
        "id": "98Bai9sv7Ze9",
        "outputId": "765f4618-1faa-4906-d123-5dfcb7fa73e1"
      },
      "execution_count": 8,
      "outputs": [
        {
          "output_type": "stream",
          "name": "stdout",
          "text": [
            "Example Input: \n",
            "郭靖进入房间，发现满满都是药材和药瓶\n",
            "Example Output: \n",
            "简管家故意将门关上，喊贼引起郭靖的注意\n",
            "郭靖推门不开，青衣童子夺走了药包并扔进池塘\n",
            "郭靖打破门闩，击败简管家\n",
            "郭靖追赶青衣童子，展开激烈的战斗\n",
            "郭靖击晕童子，将其藏在草丛中\n",
            "郭靖包好药材，不小心撞倒竹篓，释放出一条红色蛇\n",
            "\n"
          ]
        }
      ]
    },
    {
      "cell_type": "code",
      "source": [
        "example_input_2 = \"Example Input: \\n\" + get_example_input(210, story_name_en)[0] + \"\\n\"\n",
        "\n",
        "example_output_2 = \"Example Output: \\n\" + \"\\n\".join(get_example_input(210, story_name_en)[1:]) + \"\\n\"\n",
        "\n",
        "example_chunk_2 = example_input_2 + example_output_2\n",
        "\n",
        "print(example_chunk_2)"
      ],
      "metadata": {
        "colab": {
          "base_uri": "https://localhost:8080/"
        },
        "id": "ckyZWLt7Mncu",
        "outputId": "af465832-bf15-40ec-829f-d85fe3a8f6dc"
      },
      "execution_count": 9,
      "outputs": [
        {
          "output_type": "stream",
          "name": "stdout",
          "text": [
            "Example Input: \n",
            "彭连虎决定不留情，试图杀死黄蓉以测试她的武功\n",
            "Example Output: \n",
            "黄蓉使用完颜康和郭靖的掌法，并展示了自己的灵活性和技巧\n",
            "彭连虎无法破解黄蓉的招数，开始感到愤怒\n",
            "黄蓉使用头撞和胸撞来反击彭连虎\n",
            "彭连虎意识到黄蓉是黑风双煞的门下，停止攻击并退后\n",
            "\n"
          ]
        }
      ]
    },
    {
      "cell_type": "code",
      "source": [
        "query = get_example_input(211, story_name_en)[0]\n",
        "\n",
        "query_ground_truth = \"\\n\".join(get_example_input(211, story_name_en)[1:])\n",
        "\n",
        "# example_chunk_2 = example_input_2 + example_output_2\n",
        "\n",
        "# print(example_chunk_2)"
      ],
      "metadata": {
        "id": "uzNGqtEFrdT-"
      },
      "execution_count": 10,
      "outputs": []
    },
    {
      "cell_type": "code",
      "source": [
        "# query = \"黄蓉被推倒，全身隐隐作痛，双臂失去知觉\""
      ],
      "metadata": {
        "id": "_LwXGqxaNVRN"
      },
      "execution_count": null,
      "outputs": []
    },
    {
      "cell_type": "code",
      "source": [
        "prompt = system_prompt + example_chunk_1 + example_chunk_2 + \"Input: \\n\" + query + \"\\nOutput:\"\n",
        "\n",
        "print(prompt)\n"
      ],
      "metadata": {
        "colab": {
          "base_uri": "https://localhost:8080/"
        },
        "id": "eoHccmDSOBB7",
        "outputId": "c004414d-a7a4-40a9-914f-00e0ea5f01eb"
      },
      "execution_count": 18,
      "outputs": [
        {
          "output_type": "stream",
          "name": "stdout",
          "text": [
            "I want you to act as a novelist.\n",
            "You will come up with creative and captivating stories that can engage readers for long periods of time.\n",
            "You may choose any genre such as fantasy, romance, historical fiction and so on - but the aim is to write something that has an outstanding plotline, engaging characters and unexpected climaxes.\n",
            "Please continue the story that corresponds to the input statement and return it as a bullet \n",
            "Example Input: \n",
            "郭靖进入房间，发现满满都是药材和药瓶\n",
            "Example Output: \n",
            "简管家故意将门关上，喊贼引起郭靖的注意\n",
            "郭靖推门不开，青衣童子夺走了药包并扔进池塘\n",
            "郭靖打破门闩，击败简管家\n",
            "郭靖追赶青衣童子，展开激烈的战斗\n",
            "郭靖击晕童子，将其藏在草丛中\n",
            "郭靖包好药材，不小心撞倒竹篓，释放出一条红色蛇\n",
            "Example Input: \n",
            "彭连虎决定不留情，试图杀死黄蓉以测试她的武功\n",
            "Example Output: \n",
            "黄蓉使用完颜康和郭靖的掌法，并展示了自己的灵活性和技巧\n",
            "彭连虎无法破解黄蓉的招数，开始感到愤怒\n",
            "黄蓉使用头撞和胸撞来反击彭连虎\n",
            "彭连虎意识到黄蓉是黑风双煞的门下，停止攻击并退后\n",
            "Input: \n",
            "黄蓉被推倒，全身隐隐作痛，双臂失去知觉\n",
            "Output:\n"
          ]
        }
      ]
    },
    {
      "cell_type": "code",
      "source": [
        "def get_completion(prompt, model=\"gpt-3.5-turbo\"):\n",
        "    messages = [{\"role\": \"user\", \"content\": prompt}]\n",
        "    response = openai.ChatCompletion.create(\n",
        "        model=model,\n",
        "        messages=messages,\n",
        "        temperature=0,\n",
        "    )\n",
        "    return response.choices[0].message[\"content\"]"
      ],
      "metadata": {
        "id": "MPD7Gbc2rKtJ"
      },
      "execution_count": 14,
      "outputs": []
    },
    {
      "cell_type": "code",
      "source": [
        "response = get_completion(prompt)"
      ],
      "metadata": {
        "id": "IPVJdVOWwOX6"
      },
      "execution_count": null,
      "outputs": []
    },
    {
      "cell_type": "code",
      "source": [
        "print(response)"
      ],
      "metadata": {
        "colab": {
          "base_uri": "https://localhost:8080/"
        },
        "id": "Qvz-gGjEwZ-5",
        "outputId": "f7cccb1a-8eef-4d85-8a7e-8f8fc2c35975"
      },
      "execution_count": 20,
      "outputs": [
        {
          "output_type": "stream",
          "name": "stdout",
          "text": [
            "黄蓉艰难地爬起来，发现自己被困在一个密室中\n",
            "黄蓉寻找出口，却发现房间四面都是坚固的墙壁\n",
            "黄蓉回忆起自己学过的武功，决定利用内力来突破困境\n",
            "黄蓉集中精神，运用内力将一面墙壁震碎\n",
            "黄蓉逃出密室，却发现自己身处一个阴森恐怖的地下墓穴\n",
            "黄蓉小心翼翼地探索墓穴，寻找出路\n",
            "黄蓉遇到了一只巨大的蜘蛛，展开了一场生死搏斗\n",
            "黄蓉成功击败蜘蛛，继续前行\n",
            "黄蓉终于找到了出口，但却发现自己来到了一个神秘的古墓中\n",
            "黄蓉决定继续探索古墓，寻找答案和出路\n"
          ]
        }
      ]
    }
  ]
}