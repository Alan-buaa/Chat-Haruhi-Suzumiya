{
  "nbformat": 4,
  "nbformat_minor": 0,
  "metadata": {
    "colab": {
      "provenance": [],
      "authorship_tag": "ABX9TyM8iHZtXGtdjj07mAkhhGr3",
      "include_colab_link": true
    },
    "kernelspec": {
      "name": "python3",
      "display_name": "Python 3"
    },
    "language_info": {
      "name": "python"
    }
  },
  "cells": [
    {
      "cell_type": "markdown",
      "metadata": {
        "id": "view-in-github",
        "colab_type": "text"
      },
      "source": [
        "<a href=\"https://colab.research.google.com/github/LC1332/Chat-Haruhi-Suzumiya/blob/main/notebook/%E6%95%B0%E6%8D%AE%E9%9B%86%E7%BB%9F%E8%AE%A1%E7%BB%98%E5%88%B6.ipynb\" target=\"_parent\"><img src=\"https://colab.research.google.com/assets/colab-badge.svg\" alt=\"Open In Colab\"/></a>"
      ]
    },
    {
      "cell_type": "markdown",
      "source": [
        "# story生成的统计"
      ],
      "metadata": {
        "id": "AngZUWwUU1M8"
      }
    },
    {
      "cell_type": "code",
      "execution_count": null,
      "metadata": {
        "colab": {
          "base_uri": "https://localhost:8080/"
        },
        "id": "H2mN5592U0QR",
        "outputId": "0489d645-39cb-47ac-fa3a-d8da85916512"
      },
      "outputs": [
        {
          "output_type": "stream",
          "name": "stdout",
          "text": [
            "Mounted at /content/drive\n"
          ]
        }
      ],
      "source": [
        "from google.colab import drive\n",
        "drive.mount('/content/drive')"
      ]
    },
    {
      "cell_type": "code",
      "source": [
        "!ls /content/drive/MyDrive/GPTData/kyon"
      ],
      "metadata": {
        "colab": {
          "base_uri": "https://localhost:8080/"
        },
        "id": "FCgiwuTlU5Zl",
        "outputId": "0d140d8f-2b90-467a-fdae-6e42fb237135"
      },
      "execution_count": null,
      "outputs": [
        {
          "output_type": "stream",
          "name": "stdout",
          "text": [
            "ayaka_test\t\t\t\tPenny_test\n",
            "ayaka_test_output_dialogue.jsonl\tPenny_test_output_dialogue.jsonl\n",
            "baizhantang_test\t\t\tqiaofeng_test\n",
            "baizhantang_test_output_dialogue.jsonl\tqiaofeng_test_output_dialogue.jsonl\n",
            "duanyu_test\t\t\t\traidenShogun_test\n",
            "duanyu_test_output_dialogue.jsonl\traidenShogun_test_output_dialogue.jsonl\n",
            "Dumbledore_test\t\t\t\tRaj_test\n",
            "Dumbledore_test_output_dialogue.jsonl\tRaj_test_output_dialogue.jsonl\n",
            "guofurong_test\t\t\t\tRon_test\n",
            "guofurong_test_output_dialogue.jsonl\tRon_test_output_dialogue.jsonl\n",
            "Harry_test\t\t\t\tSheldon_test\n",
            "Harry_test_output_dialogue.jsonl\tSheldon_test_output_dialogue.jsonl\n",
            "haruhi_800\t\t\t\tSnape_test\n",
            "haruhi_800_synthesis_dialogue.jsonl\tSnape_test_output_dialogue.jsonl\n",
            "haruhi_full\t\t\t\tstory_synthesis_data_previous.zip\n",
            "haruhi_synthesis_dialogue.jsonl\t\tstory_synthesis_data.zip\n",
            "haruhi_test\t\t\t\ttangshiye_test\n",
            "haruhi_test_output_dialogue.jsonl\ttangshiye_test_output_dialogue.jsonl\n",
            "Hermione_test\t\t\t\ttemp_chat\n",
            "Hermione_test_output_dialogue.jsonl\ttongxiangyu_test\n",
            "hutao_test\t\t\t\ttongxiangyu_test_output_dialogue.jsonl\n",
            "hutao_test_output_dialogue.jsonl\twanderer_test\n",
            "jiumozhi_test\t\t\t\twanderer_test_output_dialogue.jsonl\n",
            "jiumozhi_test_output_dialogue.jsonl\twangduoyu_test\n",
            "liyunlong\t\t\t\twangduoyu_test_output_dialogue.jsonl\n",
            "liyunlong_800\t\t\t\twangyuyan_test\n",
            "liyunlong_800_synthesis_dialogue.jsonl\twangyuyan_test_output_dialogue.jsonl\n",
            "liyunlong_synthesis_dialogue.jsonl\tweixiaobao_test\n",
            "Luna_test\t\t\t\tweixiaobao_test_output_dialogue.jsonl\n",
            "Luna_test_output_dialogue.jsonl\t\txiaofeng_test\n",
            "Malfoy_test\t\t\t\txiaofeng_test_output_dialogue.jsonl\n",
            "Malfoy_test_output_dialogue.jsonl\txuzhu_test\n",
            "McGonagall_test\t\t\t\txuzhu_test_output_dialogue.jsonl\n",
            "McGonagall_test_no_good\t\t\tyuqian_test\n",
            "McGonagall_test_output_dialogue.jsonl\tyuqian_test_output_dialogue.jsonl\n",
            "murongfu_test\t\t\t\tzhongli_test\n",
            "murongfu_test_output_dialogue.jsonl\tzhongli_test_output_dialogue.jsonl\n"
          ]
        }
      ]
    },
    {
      "cell_type": "markdown",
      "source": [
        "对于 /content/drive/MyDrive/GPTData/kyon 中的所有jsonl文件\n",
        "\n",
        "用utf8编码打开每个文件，检查每个jsonl文件包含多少行数据\n",
        "\n",
        "输出每个文件名和对应的行数，\n",
        "\n",
        "并求出总行数，用python为我实现"
      ],
      "metadata": {
        "id": "fzUzHwUYVBe1"
      }
    },
    {
      "cell_type": "code",
      "source": [
        "import os\n",
        "import json\n",
        "\n",
        "remove_file = ['haruhi_test_output_dialogue.jsonl', 'haruhi_800_synthesis_dialogue.jsonl', 'liyunlong_800_synthesis_dialogue.jsonl']\n",
        "\n",
        "data_dir = '/content/drive/MyDrive/GPTData/kyon'\n",
        "\n",
        "total_lines = 0\n",
        "count = 0\n",
        "for filename in os.listdir(data_dir):\n",
        "    if filename in remove_file:\n",
        "        continue\n",
        "    if filename.endswith('.jsonl'):\n",
        "        count += 1\n",
        "        filepath = os.path.join(data_dir, filename)\n",
        "        line_count = 0\n",
        "        with open(filepath, 'r', encoding='utf-8') as f:\n",
        "            for line in f:\n",
        "                line_count += 1\n",
        "        print(f'{filename}: {line_count} lines')\n",
        "        total_lines += line_count\n",
        "\n",
        "print(f'Total lines in all files: {total_lines}')\n",
        "\n",
        "print(count,' files found')"
      ],
      "metadata": {
        "colab": {
          "base_uri": "https://localhost:8080/"
        },
        "id": "2dDXxFOfVA5q",
        "outputId": "d7560112-c54e-45a8-bfc6-047ae01568fe"
      },
      "execution_count": null,
      "outputs": [
        {
          "output_type": "stream",
          "name": "stdout",
          "text": [
            "haruhi_synthesis_dialogue.jsonl: 454 lines\n",
            "liyunlong_synthesis_dialogue.jsonl: 917 lines\n",
            "wangduoyu_test_output_dialogue.jsonl: 115 lines\n",
            "tangshiye_test_output_dialogue.jsonl: 75 lines\n",
            "weixiaobao_test_output_dialogue.jsonl: 2300 lines\n",
            "baizhantang_test_output_dialogue.jsonl: 716 lines\n",
            "tongxiangyu_test_output_dialogue.jsonl: 839 lines\n",
            "guofurong_test_output_dialogue.jsonl: 584 lines\n",
            "jiumozhi_test_output_dialogue.jsonl: 85 lines\n",
            "duanyu_test_output_dialogue.jsonl: 484 lines\n",
            "murongfu_test_output_dialogue.jsonl: 155 lines\n",
            "qiaofeng_test_output_dialogue.jsonl: 182 lines\n",
            "wangyuyan_test_output_dialogue.jsonl: 188 lines\n",
            "xiaofeng_test_output_dialogue.jsonl: 244 lines\n",
            "xuzhu_test_output_dialogue.jsonl: 197 lines\n",
            "Luna_test_output_dialogue.jsonl: 67 lines\n",
            "Malfoy_test_output_dialogue.jsonl: 157 lines\n",
            "Dumbledore_test_output_dialogue.jsonl: 419 lines\n",
            "Ron_test_output_dialogue.jsonl: 1343 lines\n",
            "Hermione_test_output_dialogue.jsonl: 1374 lines\n",
            "Snape_test_output_dialogue.jsonl: 197 lines\n",
            "Harry_test_output_dialogue.jsonl: 2771 lines\n",
            "McGonagall_test_output_dialogue.jsonl: 168 lines\n",
            "ayaka_test_output_dialogue.jsonl: 198 lines\n",
            "wanderer_test_output_dialogue.jsonl: 83 lines\n",
            "zhongli_test_output_dialogue.jsonl: 73 lines\n",
            "raidenShogun_test_output_dialogue.jsonl: 75 lines\n",
            "hutao_test_output_dialogue.jsonl: 76 lines\n",
            "yuqian_test_output_dialogue.jsonl: 5673 lines\n",
            "Sheldon_test_output_dialogue.jsonl: 1318 lines\n",
            "Penny_test_output_dialogue.jsonl: 879 lines\n",
            "Raj_test_output_dialogue.jsonl: 346 lines\n",
            "Total lines in all files: 22752\n",
            "32  files found\n"
          ]
        }
      ]
    },
    {
      "cell_type": "markdown",
      "source": [
        "给定代码\n",
        "\n",
        "```python\n",
        "import os\n",
        "import json\n",
        "\n",
        "remove_file = ['haruhi_test_output_dialogue.jsonl', 'haruhi_800_synthesis_dialogue.jsonl', 'liyunlong_800_synthesis_dialogue.jsonl']\n",
        "\n",
        "data_dir = '/content/drive/MyDrive/GPTData/kyon'\n",
        "\n",
        "total_lines = 0\n",
        "count = 0\n",
        "for filename in os.listdir(data_dir):\n",
        "    if filename in remove_file:\n",
        "        continue\n",
        "    if filename.endswith('.jsonl'):\n",
        "        count += 1\n",
        "        filepath = os.path.join(data_dir, filename)\n",
        "        line_count = 0\n",
        "        with open(filepath, 'r', encoding='utf-8') as f:\n",
        "            for line in f:\n",
        "                line_count += 1\n",
        "        print(f'{filename}: {line_count} lines')\n",
        "        total_lines += line_count\n",
        "\n",
        "print(f'Total lines in all files: {total_lines}')\n",
        "\n",
        "print(count,' files found')\n",
        "```\n",
        "\n",
        "其中filename是形如\n",
        "\n",
        "haruhi_synthesis_dialogue.jsonl: 454 lines\n",
        "\n",
        "liyunlong_synthesis_dialogue.jsonl: 917 lines\n",
        "\n",
        "形式的字符串\n",
        "\n",
        "我希望建立一个字典role2freq\n",
        "\n",
        "其中key选取文件名第一个下划线'_'之前的字段，value的值等于行数\n",
        "\n",
        "请用python为我实现"
      ],
      "metadata": {
        "id": "wtt1rSmrwQ8x"
      }
    },
    {
      "cell_type": "markdown",
      "source": [
        "# 模拟数据统计"
      ],
      "metadata": {
        "id": "oP4B3wJCpBBn"
      }
    },
    {
      "cell_type": "code",
      "source": [
        "import os\n",
        "import json\n",
        "\n",
        "real_count = 22752\n",
        "\n",
        "\n",
        "remove_file = []\n",
        "\n",
        "data_dir = '/content/drive/MyDrive/GPTData/kyon_alpaca'\n",
        "\n",
        "total_lines = 0\n",
        "count = 0\n",
        "for filename in os.listdir(data_dir):\n",
        "    if filename in remove_file:\n",
        "        continue\n",
        "    if filename.endswith('.jsonl'):\n",
        "        count += 1\n",
        "        filepath = os.path.join(data_dir, filename)\n",
        "        line_count = 0\n",
        "        with open(filepath, 'r', encoding='utf-8') as f:\n",
        "            for line in f:\n",
        "                line_count += 1\n",
        "        print(f'{filename}: {line_count} lines')\n",
        "        total_lines += line_count\n",
        "\n",
        "print(f'Total lines in all files: {total_lines}')\n",
        "\n",
        "print(count,' files found')\n",
        "\n",
        "print('dataset totle =', real_count + total_lines)\n",
        "print('real =', real_count, ' synthesis =', total_lines )"
      ],
      "metadata": {
        "colab": {
          "base_uri": "https://localhost:8080/"
        },
        "id": "_ZxSk-CgQUQd",
        "outputId": "edeb64cc-396e-4793-d313-1a8f260ccc01"
      },
      "execution_count": null,
      "outputs": [
        {
          "output_type": "stream",
          "name": "stdout",
          "text": [
            "haruhi_800_synthesis_dialogue.jsonl: 709 lines\n",
            "qiaofeng_test_output_dialogue.jsonl: 427 lines\n",
            "weixiaobao_test_output_dialogue.jsonl: 213 lines\n",
            "tangshiye_test_output_dialogue.jsonl: 128 lines\n",
            "murongfu_test_output_dialogue.jsonl: 196 lines\n",
            "liyunlong_test_output_dialogue.jsonl: 214 lines\n",
            "jiumozhi_test_output_dialogue.jsonl: 204 lines\n",
            "wangduoyu_test_output_dialogue.jsonl: 246 lines\n",
            "Luna_test_output_dialogue.jsonl: 190 lines\n",
            "Ron_test_output_dialogue.jsonl: 242 lines\n",
            "wangyuyan_test_output_dialogue.jsonl: 151 lines\n",
            "Sheldon_Chinese_dialogue.jsonl: 614 lines\n",
            "Raj_Chinese_dialogue.jsonl: 116 lines\n",
            "Penny_Chinese_dialogue.jsonl: 339 lines\n",
            "liyunlong_800_synthesis_dialogue.jsonl: 700 lines\n",
            "Luna_Chinese_dialogue.jsonl: 90 lines\n",
            "Harry_Chinese_dialogue.jsonl: 2409 lines\n",
            "Ron_Chinese_dialogue.jsonl: 2103 lines\n",
            "Dumbledore_Chinese_dialogue.jsonl: 908 lines\n",
            "Snape_Chinese_dialogue.jsonl: 414 lines\n",
            "McGonagall_Chinese_dialogue.jsonl: 291 lines\n",
            "Malfoy_Chinese_dialogue.jsonl: 235 lines\n",
            "mws811_baizhantang_test_output_dialogue.jsonl: 166 lines\n",
            "mws811_guofurong_test_output_dialogue.jsonl: 334 lines\n",
            "mws811_zhongli_test_output_dialogue.jsonl: 135 lines\n",
            "mws811_ayaka_test_output_dialogue.jsonl: 534 lines\n",
            "mws811_raidenShogun_test_output_dialogue.jsonl: 319 lines\n",
            "Hermione_Chinese_dialogue.jsonl: 2206 lines\n",
            "mws812_xuzhu_test_output_dialogue.jsonl: 343 lines\n",
            "mws812_xiaofeng_test_output_dialogue.jsonl: 258 lines\n",
            "mws812_duanyu_test_output_dialogue.jsonl: 487 lines\n",
            "mws812_tongxiangyu_test_output_dialogue.jsonl: 377 lines\n",
            "mws812_wanderer_test_output_dialogue.jsonl: 261 lines\n",
            "mws812_hutao_test_output_dialogue.jsonl: 505 lines\n",
            "mws813_jiumozhi_test_output_dialogue.jsonl: 476 lines\n",
            "mws813_Snape_test_output_dialogue.jsonl: 490 lines\n",
            "mws813_Malfoy_test_output_dialogue.jsonl: 412 lines\n",
            "mws813_zhongli_test_output_dialogue.jsonl: 341 lines\n",
            "mws813_Raj_test_output_dialogue.jsonl: 602 lines\n",
            "claude_tangshiye_test_output_dialogue.jsonl: 1203 lines\n",
            "claude_wangduoyu_test_output_dialogue.jsonl: 977 lines\n",
            "claude_jiumozhi_test_output_dialogue.jsonl: 1288 lines\n",
            "claude_wangyuyan_test_output_dialogue.jsonl: 1249 lines\n",
            "claude_qiaofeng_test_output_dialogue.jsonl: 2612 lines\n",
            "mws814_xuzhu_test_output_dialogue.jsonl: 533 lines\n",
            "mws814_xiaofeng_test_output_dialogue.jsonl: 523 lines\n",
            "claude_murongfu_test_output_dialogue.jsonl: 1456 lines\n",
            "mws814_McGonagall_test_output_dialogue.jsonl: 1181 lines\n",
            "mws814_wanderer_test_output_dialogue.jsonl: 376 lines\n",
            "mws814_hutao_test_output_dialogue.jsonl: 291 lines\n",
            "mws814_ayaka_test_output_dialogue.jsonl: 555 lines\n",
            "mws814_raidenShogun_test_output_dialogue.jsonl: 194 lines\n",
            "claudemore_ayaka_test_output_dialogue.jsonl: 151 lines\n",
            "Total lines in all files: 31974\n",
            "53  files found\n",
            "dataset totle = 54726\n",
            "real = 22752  synthesis = 31974\n"
          ]
        }
      ]
    },
    {
      "cell_type": "markdown",
      "source": [
        "data_dir = '/content/drive/MyDrive/GPTData/kyon'\n",
        "\n",
        "把这个目录下的所有jsonl文件打包为一个zip存储在/content中\n",
        "\n",
        "请用python为我实现"
      ],
      "metadata": {
        "id": "xk4etrfmf1uQ"
      }
    },
    {
      "cell_type": "code",
      "source": [
        "import os\n",
        "import zipfile\n",
        "\n",
        "data_dir = '/content/drive/MyDrive/GPTData/kyon'\n",
        "output_path = '/content/story_synthesis_data.zip'\n",
        "\n",
        "zf = zipfile.ZipFile(output_path, 'w')\n",
        "\n",
        "for filename in os.listdir(data_dir):\n",
        "    if filename in remove_file:\n",
        "        continue\n",
        "    if filename.endswith('.jsonl'):\n",
        "        file_path = os.path.join(data_dir, filename)\n",
        "        zf.write(file_path, arcname=filename)\n",
        "\n",
        "zf.close()"
      ],
      "metadata": {
        "id": "P7J5yeFAVU1O"
      },
      "execution_count": null,
      "outputs": []
    },
    {
      "cell_type": "code",
      "source": [
        "import os\n",
        "import zipfile\n",
        "\n",
        "data_dir = '/content/drive/MyDrive/GPTData/kyon_alpaca'\n",
        "output_path = '/content/alpaca_synthesis_data.zip'\n",
        "\n",
        "zf = zipfile.ZipFile(output_path, 'w')\n",
        "\n",
        "for filename in os.listdir(data_dir):\n",
        "    if filename.endswith('.jsonl'):\n",
        "        file_path = os.path.join(data_dir, filename)\n",
        "        zf.write(file_path, arcname=filename)\n",
        "\n",
        "zf.close()"
      ],
      "metadata": {
        "id": "dWVobwongC8N"
      },
      "execution_count": null,
      "outputs": []
    },
    {
      "cell_type": "markdown",
      "source": [
        "# 生成role2freq"
      ],
      "metadata": {
        "id": "TE0HYRJxpZ4t"
      }
    },
    {
      "cell_type": "code",
      "source": [
        "import os\n",
        "import json\n",
        "\n",
        "remove_file = ['haruhi_test_output_dialogue.jsonl', 'haruhi_800_synthesis_dialogue.jsonl', 'liyunlong_800_synthesis_dialogue.jsonl']\n",
        "\n",
        "data_dir = '/content/drive/MyDrive/GPTData/kyon'\n",
        "\n",
        "role2freq = {}\n",
        "\n",
        "for filename in os.listdir(data_dir):\n",
        "    if filename in remove_file:\n",
        "        continue\n",
        "    if filename.endswith('.jsonl'):\n",
        "        role = filename.split('_')[0]\n",
        "        filepath = os.path.join(data_dir, filename)\n",
        "        line_count = 0\n",
        "        with open(filepath, 'r', encoding='utf-8') as f:\n",
        "            for line in f:\n",
        "                line_count += 1\n",
        "        if role not in role2freq:\n",
        "            role2freq[role] = line_count\n",
        "        else:\n",
        "            role2freq[role] += line_count\n",
        "\n",
        "print(role2freq)"
      ],
      "metadata": {
        "id": "B0TqrXF0lT_g",
        "colab": {
          "base_uri": "https://localhost:8080/"
        },
        "outputId": "508875c6-4049-47e5-a7ce-0a89a39b7485"
      },
      "execution_count": null,
      "outputs": [
        {
          "output_type": "stream",
          "name": "stdout",
          "text": [
            "{'haruhi': 454, 'liyunlong': 917, 'wangduoyu': 115, 'tangshiye': 75, 'weixiaobao': 2300, 'baizhantang': 716, 'tongxiangyu': 839, 'guofurong': 584, 'jiumozhi': 85, 'duanyu': 484, 'murongfu': 155, 'qiaofeng': 182, 'wangyuyan': 188, 'xiaofeng': 244, 'xuzhu': 197, 'Luna': 67, 'Malfoy': 157, 'Dumbledore': 419, 'Ron': 1343, 'Hermione': 1374, 'Snape': 197, 'Harry': 2771, 'McGonagall': 168, 'ayaka': 198, 'wanderer': 83, 'zhongli': 73, 'raidenShogun': 75, 'hutao': 76, 'yuqian': 5673, 'Sheldon': 1318, 'Penny': 879, 'Raj': 346}\n"
          ]
        }
      ]
    },
    {
      "cell_type": "code",
      "source": [
        "data_dir = '/content/drive/MyDrive/GPTData/kyon_alpaca'\n",
        "\n",
        "role2syn = {}\n",
        "\n",
        "for role in role2freq:\n",
        "    role2syn[role] = 0\n",
        "\n",
        "\n",
        "total_lines = 0\n",
        "count = 0\n",
        "for filename in os.listdir(data_dir):\n",
        "    if filename.endswith('.jsonl'):\n",
        "        count += 1\n",
        "        filepath = os.path.join(data_dir, filename)\n",
        "        line_count = 0\n",
        "        with open(filepath, 'r', encoding='utf-8') as f:\n",
        "            for line in f:\n",
        "                line_count += 1\n",
        "\n",
        "        role = filename.split('_')[0]\n",
        "\n",
        "        role_alt = filename.split('_')[1]\n",
        "        if role in role2syn:\n",
        "            role2syn[role] += line_count\n",
        "        elif role_alt in role2syn:\n",
        "            role2syn[role_alt] += line_count\n",
        "        else:\n",
        "            role2syn[role] = line_count\n",
        "\n",
        "print(role2syn)\n",
        "\n",
        "#         print(f'{filename}: {line_count} lines')\n",
        "#         total_lines += line_count\n",
        "\n",
        "# print(f'Total lines in all files: {total_lines}')\n",
        "\n",
        "# print(count,' files found')"
      ],
      "metadata": {
        "colab": {
          "base_uri": "https://localhost:8080/"
        },
        "id": "WuHELWZFwps9",
        "outputId": "c434245f-1b13-4b11-b150-331c3b2ef9ec"
      },
      "execution_count": null,
      "outputs": [
        {
          "output_type": "stream",
          "name": "stdout",
          "text": [
            "{'haruhi': 709, 'liyunlong': 914, 'wangduoyu': 1223, 'tangshiye': 1331, 'weixiaobao': 213, 'baizhantang': 166, 'tongxiangyu': 377, 'guofurong': 334, 'jiumozhi': 1968, 'duanyu': 487, 'murongfu': 1652, 'qiaofeng': 3039, 'wangyuyan': 1400, 'xiaofeng': 781, 'xuzhu': 876, 'Luna': 280, 'Malfoy': 647, 'Dumbledore': 908, 'Ron': 2345, 'Hermione': 2206, 'Snape': 904, 'Harry': 2409, 'McGonagall': 1472, 'ayaka': 1240, 'wanderer': 637, 'zhongli': 476, 'raidenShogun': 513, 'hutao': 796, 'yuqian': 0, 'Sheldon': 614, 'Penny': 339, 'Raj': 718}\n"
          ]
        }
      ]
    },
    {
      "cell_type": "code",
      "source": [
        "target_lines = 52000\n",
        "\n",
        "n_role = len(role2freq)\n",
        "\n",
        "for target_line in range(800, target_lines):\n",
        "    count = 0\n",
        "    for role in role2freq:\n",
        "        count += max(target_line, role2freq[role] + role2syn[role])\n",
        "    if count >= target_lines:\n",
        "        print('target_line = ', target_line)\n",
        "        break\n"
      ],
      "metadata": {
        "colab": {
          "base_uri": "https://localhost:8080/"
        },
        "id": "d_CgSawdw4A8",
        "outputId": "77e1f840-67fe-404f-8be0-e725aa9fa68e"
      },
      "execution_count": null,
      "outputs": [
        {
          "output_type": "stream",
          "name": "stdout",
          "text": [
            "target_line =  800\n"
          ]
        }
      ]
    },
    {
      "cell_type": "code",
      "source": [
        "target_line = 1079\n",
        "\n",
        "increase_count = 0\n",
        "\n",
        "for role in role2freq:\n",
        "    if role2freq[role] + role2syn[role] < target_line:\n",
        "        print( role, ' need to augment , required lines = ', target_line -role2freq[role] - role2syn[role])\n",
        "        increase_count += (target_line -role2freq[role] - role2syn[role])\n",
        "\n",
        "print('\\n still required total ', increase_count)\n",
        "\n"
      ],
      "metadata": {
        "colab": {
          "base_uri": "https://localhost:8080/"
        },
        "id": "zW0ye7HlxU19",
        "outputId": "308facf2-70d4-43bf-d3c3-0cb32683611b"
      },
      "execution_count": null,
      "outputs": [
        {
          "output_type": "stream",
          "name": "stdout",
          "text": [
            "baizhantang  need to augment , required lines =  197\n",
            "guofurong  need to augment , required lines =  161\n",
            "duanyu  need to augment , required lines =  108\n",
            "murongfu  need to augment , required lines =  728\n",
            "xiaofeng  need to augment , required lines =  54\n",
            "xuzhu  need to augment , required lines =  6\n",
            "Luna  need to augment , required lines =  732\n",
            "Malfoy  need to augment , required lines =  275\n",
            "McGonagall  need to augment , required lines =  620\n",
            "ayaka  need to augment , required lines =  347\n",
            "wanderer  need to augment , required lines =  735\n",
            "zhongli  need to augment , required lines =  530\n",
            "raidenShogun  need to augment , required lines =  685\n",
            "hutao  need to augment , required lines =  498\n",
            "Raj  need to augment , required lines =  15\n",
            "\n",
            " still required total  5691\n"
          ]
        }
      ]
    },
    {
      "cell_type": "code",
      "source": [],
      "metadata": {
        "id": "TLT882QVo0N0"
      },
      "execution_count": null,
      "outputs": []
    },
    {
      "cell_type": "markdown",
      "source": [
        "previous_input_path = '/content/drive/MyDrive/GPTData/kyon_alpaca/input'\n",
        "\n",
        "请为我实现一个python函数\n",
        "\n",
        "find_jsonl( role_name, previous_input_path )\n",
        "\n",
        "在previous_input_path中，寻找一个，以role_name开头，并且名字中不包含'Chinese'的文件\n",
        "\n",
        "如果找不到则返回None, 请用python为我实现"
      ],
      "metadata": {
        "id": "r5nzykBrx15j"
      }
    },
    {
      "cell_type": "code",
      "source": [
        "import os\n",
        "\n",
        "previous_input_path = '/content/drive/MyDrive/GPTData/kyon_alpaca/'\n",
        "\n",
        "def find_jsonl(role_name, previous_input_path):\n",
        "    res = []\n",
        "    for filename in os.listdir(previous_input_path):\n",
        "        # if filename.startswith(role_name):\n",
        "        if role_name in filename:\n",
        "            res.append(filename)\n",
        "            # return os.path.join( filename)\n",
        "\n",
        "    if len(res)==0:\n",
        "        return None\n",
        "    else:\n",
        "        return res\n",
        "\n",
        "print(find_jsonl('tangshiye',previous_input_path))"
      ],
      "metadata": {
        "colab": {
          "base_uri": "https://localhost:8080/"
        },
        "id": "FLVeH0pUxhJP",
        "outputId": "fc98089c-1058-4edb-e4f8-fface8ecf071"
      },
      "execution_count": null,
      "outputs": [
        {
          "output_type": "stream",
          "name": "stdout",
          "text": [
            "['tangshiye_test_output_dialogue.jsonl']\n"
          ]
        }
      ]
    },
    {
      "cell_type": "markdown",
      "source": [
        "## 有待生成的数据统计"
      ],
      "metadata": {
        "id": "9kTcLtompMhH"
      }
    },
    {
      "cell_type": "code",
      "source": [
        "import os\n",
        "import zipfile\n",
        "\n",
        "\n",
        "target_line = 1079\n",
        "\n",
        "output_path = '/content/previous_input.zip'\n",
        "\n",
        "zf = zipfile.ZipFile(output_path, 'w')\n",
        "\n",
        "require_count = 0\n",
        "\n",
        "print('role_name | previous_file | still_required_lines')\n",
        "\n",
        "for role in role2freq:\n",
        "    res = target_line -role2freq[role] - role2syn[role]\n",
        "    # if role2freq[role] < target_line:\n",
        "    if res > 0:\n",
        "        # print( role, ' need to augment , required lines = ', target_line - role2freq[role])\n",
        "        # previous_input_path = '/content/drive/MyDrive/GPTData/kyon_alpaca/input'\n",
        "        filepath = find_jsonl(role, previous_input_path)\n",
        "        # if filepath:\n",
        "            # file_path = os.path.join(previous_input_path, filepath)\n",
        "            # zf.write(file_path, arcname=filepath)\n",
        "\n",
        "\n",
        "\n",
        "        if filepath is not None:\n",
        "            print( role, '|', filepath, '|', res )\n",
        "        else:\n",
        "            print( role, '|', '', '|', res )\n",
        "\n",
        "        require_count += (res)\n",
        "\n",
        "\n",
        "print('\\n still required total ', require_count)\n",
        "\n",
        "zf.close()"
      ],
      "metadata": {
        "colab": {
          "base_uri": "https://localhost:8080/"
        },
        "id": "ALKcmTOTyaes",
        "outputId": "f1f429f3-6ffb-466a-d1c2-132c3b9d0a80"
      },
      "execution_count": null,
      "outputs": [
        {
          "output_type": "stream",
          "name": "stdout",
          "text": [
            "role_name | previous_file | still_required_lines\n",
            "wangduoyu | ['wangduoyu_test_output_dialogue.jsonl'] | 718\n",
            "tangshiye | ['tangshiye_test_output_dialogue.jsonl'] | 876\n",
            "baizhantang | ['mws811_baizhantang_test_output_dialogue.jsonl'] | 197\n",
            "guofurong | ['mws811_guofurong_test_output_dialogue.jsonl'] | 161\n",
            "jiumozhi | ['jiumozhi_test_output_dialogue.jsonl', 'mws813_jiumozhi_test_output_dialogue.jsonl'] | 314\n",
            "duanyu | ['mws812_duanyu_test_output_dialogue.jsonl'] | 108\n",
            "murongfu | ['murongfu_test_output_dialogue.jsonl'] | 728\n",
            "qiaofeng | ['qiaofeng_test_output_dialogue.jsonl'] | 470\n",
            "wangyuyan | ['wangyuyan_test_output_dialogue.jsonl'] | 740\n",
            "xiaofeng | ['mws812_xiaofeng_test_output_dialogue.jsonl'] | 577\n",
            "xuzhu | ['mws812_xuzhu_test_output_dialogue.jsonl'] | 539\n",
            "Luna | ['Luna_test_output_dialogue.jsonl', 'Luna_Chinese_dialogue.jsonl'] | 732\n",
            "Malfoy | ['Malfoy_Chinese_dialogue.jsonl', 'mws813_Malfoy_test_output_dialogue.jsonl'] | 275\n",
            "McGonagall | ['McGonagall_Chinese_dialogue.jsonl'] | 620\n",
            "ayaka | ['mws811_ayaka_test_output_dialogue.jsonl'] | 347\n",
            "wanderer | ['mws812_wanderer_test_output_dialogue.jsonl'] | 735\n",
            "zhongli | ['mws811_zhongli_test_output_dialogue.jsonl', 'mws813_zhongli_test_output_dialogue.jsonl'] | 530\n",
            "raidenShogun | ['mws811_raidenShogun_test_output_dialogue.jsonl'] | 685\n",
            "hutao | ['mws812_hutao_test_output_dialogue.jsonl'] | 498\n",
            "Raj | ['Raj_Chinese_dialogue.jsonl', 'mws813_Raj_test_output_dialogue.jsonl'] | 15\n",
            "\n",
            " still required total  9865\n"
          ]
        }
      ]
    },
    {
      "cell_type": "code",
      "source": [
        "from google.colab import drive\n",
        "drive.mount('/content/drive')\n",
        "\n"
      ],
      "metadata": {
        "id": "cntNaxpMzeYn",
        "colab": {
          "base_uri": "https://localhost:8080/"
        },
        "outputId": "c9be8dfb-6974-4226-9d90-dfecf01ec6e5"
      },
      "execution_count": null,
      "outputs": [
        {
          "output_type": "stream",
          "name": "stdout",
          "text": [
            "Drive already mounted at /content/drive; to attempt to forcibly remount, call drive.mount(\"/content/drive\", force_remount=True).\n"
          ]
        }
      ]
    },
    {
      "cell_type": "code",
      "source": [
        "import os\n",
        "import json\n",
        "\n",
        "remove_file = ['haruhi_test_output_dialogue.jsonl', 'haruhi_800_synthesis_dialogue.jsonl', 'liyunlong_800_synthesis_dialogue.jsonl']\n",
        "\n",
        "data_dir = '/content/drive/MyDrive/GPTData/kyon'\n",
        "\n",
        "role2freq = {}\n",
        "\n",
        "for filename in os.listdir(data_dir):\n",
        "    if filename in remove_file:\n",
        "        continue\n",
        "    if filename.endswith('.jsonl'):\n",
        "        role = filename.split('_')[0]\n",
        "        filepath = os.path.join(data_dir, filename)\n",
        "        line_count = 0\n",
        "        with open(filepath, 'r', encoding='utf-8') as f:\n",
        "            for line in f:\n",
        "                line_count += 1\n",
        "        if role not in role2freq:\n",
        "            role2freq[role] = line_count\n",
        "        else:\n",
        "            role2freq[role] += line_count\n",
        "\n",
        "print(role2freq)"
      ],
      "metadata": {
        "colab": {
          "base_uri": "https://localhost:8080/"
        },
        "id": "2EwejGI8S8wS",
        "outputId": "82a2b0e2-56c4-49f8-8956-1da8d5a92bb7"
      },
      "execution_count": null,
      "outputs": [
        {
          "output_type": "stream",
          "name": "stdout",
          "text": [
            "{'haruhi': 454, 'liyunlong': 917, 'wangduoyu': 115, 'tangshiye': 75, 'weixiaobao': 2300, 'baizhantang': 716, 'tongxiangyu': 839, 'guofurong': 584, 'jiumozhi': 85, 'duanyu': 484, 'murongfu': 155, 'qiaofeng': 182, 'wangyuyan': 188, 'xiaofeng': 244, 'xuzhu': 197, 'Luna': 67, 'Malfoy': 157, 'Dumbledore': 419, 'Ron': 1343, 'Hermione': 1374, 'Snape': 197, 'Harry': 2771, 'McGonagall': 168, 'ayaka': 198, 'wanderer': 83, 'zhongli': 73, 'raidenShogun': 75, 'hutao': 76, 'yuqian': 5673, 'Sheldon': 1318, 'Penny': 879, 'Raj': 346}\n"
          ]
        }
      ]
    },
    {
      "cell_type": "code",
      "source": [
        "!git clone https://github.com/LC1332/Chat-Haruhi-Suzumiya"
      ],
      "metadata": {
        "colab": {
          "base_uri": "https://localhost:8080/"
        },
        "id": "HXz2yUVxTDHu",
        "outputId": "704250e8-ec36-4fce-8c01-d625f11814f2"
      },
      "execution_count": null,
      "outputs": [
        {
          "output_type": "stream",
          "name": "stdout",
          "text": [
            "Cloning into 'Chat-Haruhi-Suzumiya'...\n",
            "remote: Enumerating objects: 17369, done.\u001b[K\n",
            "remote: Counting objects: 100% (1852/1852), done.\u001b[K\n",
            "remote: Compressing objects: 100% (1628/1628), done.\u001b[K\n",
            "remote: Total 17369 (delta 262), reused 1759 (delta 216), pack-reused 15517\u001b[K\n",
            "Receiving objects: 100% (17369/17369), 442.62 MiB | 19.76 MiB/s, done.\n",
            "Resolving deltas: 100% (2640/2640), done.\n",
            "Updating files: 100% (11932/11932), done.\n"
          ]
        }
      ]
    },
    {
      "cell_type": "markdown",
      "source": [
        "role2freq是一个 string to int的字典\n",
        "\n",
        "我希望建立另一两string to int 的字典role2txt_num, role2txt_sumlen\n",
        "\n",
        "对于每个role2freq的key（称为role)\n",
        "\n",
        "扫描/content/Chat-Haruhi-Suzumiya/characters/{role}/texts\n",
        "\n",
        "下共有多少个txts文件，把这个数量存储到 role2txt_num\n",
        "\n",
        "依次以utf-8格式读取每个文件，统计字符串的长度之和 统计到 role2txt_sumlen\n",
        "\n",
        "请用python为我实现"
      ],
      "metadata": {
        "id": "Qb43-77FTS5K"
      }
    },
    {
      "cell_type": "code",
      "source": [
        "!pip -q install tiktoken\n",
        "import tiktoken\n",
        "\n",
        "enc = tiktoken.get_encoding(\"cl100k_base\")"
      ],
      "metadata": {
        "colab": {
          "base_uri": "https://localhost:8080/"
        },
        "id": "KihzjmzZUgGk",
        "outputId": "9d48a509-614b-483c-ea69-156378b0c014"
      },
      "execution_count": null,
      "outputs": [
        {
          "output_type": "stream",
          "name": "stdout",
          "text": [
            "\u001b[?25l     \u001b[90m━━━━━━━━━━━━━━━━━━━━━━━━━━━━━━━━━━━━━━━━\u001b[0m \u001b[32m0.0/1.7 MB\u001b[0m \u001b[31m?\u001b[0m eta \u001b[36m-:--:--\u001b[0m\r\u001b[2K     \u001b[91m━━\u001b[0m\u001b[91m╸\u001b[0m\u001b[90m━━━━━━━━━━━━━━━━━━━━━━━━━━━━━━━━━━━━━\u001b[0m \u001b[32m0.1/1.7 MB\u001b[0m \u001b[31m3.3 MB/s\u001b[0m eta \u001b[36m0:00:01\u001b[0m\r\u001b[2K     \u001b[91m━━━━━━━━━\u001b[0m\u001b[91m╸\u001b[0m\u001b[90m━━━━━━━━━━━━━━━━━━━━━━━━━━━━━━\u001b[0m \u001b[32m0.4/1.7 MB\u001b[0m \u001b[31m6.1 MB/s\u001b[0m eta \u001b[36m0:00:01\u001b[0m\r\u001b[2K     \u001b[91m━━━━━━━━━━━━━━━━━━\u001b[0m\u001b[90m╺\u001b[0m\u001b[90m━━━━━━━━━━━━━━━━━━━━━\u001b[0m \u001b[32m0.8/1.7 MB\u001b[0m \u001b[31m7.6 MB/s\u001b[0m eta \u001b[36m0:00:01\u001b[0m\r\u001b[2K     \u001b[91m━━━━━━━━━━━━━━━━━━━━━━━━━\u001b[0m\u001b[91m╸\u001b[0m\u001b[90m━━━━━━━━━━━━━━\u001b[0m \u001b[32m1.1/1.7 MB\u001b[0m \u001b[31m7.9 MB/s\u001b[0m eta \u001b[36m0:00:01\u001b[0m\r\u001b[2K     \u001b[91m━━━━━━━━━━━━━━━━━━━━━━━━━━━━━━━━━━━━━\u001b[0m\u001b[91m╸\u001b[0m\u001b[90m━━\u001b[0m \u001b[32m1.6/1.7 MB\u001b[0m \u001b[31m9.4 MB/s\u001b[0m eta \u001b[36m0:00:01\u001b[0m\r\u001b[2K     \u001b[90m━━━━━━━━━━━━━━━━━━━━━━━━━━━━━━━━━━━━━━━━\u001b[0m \u001b[32m1.7/1.7 MB\u001b[0m \u001b[31m8.9 MB/s\u001b[0m eta \u001b[36m0:00:00\u001b[0m\n",
            "\u001b[?25h"
          ]
        }
      ]
    },
    {
      "cell_type": "code",
      "source": [
        "role2txt_num = {}\n",
        "role2txt_sumlen = {}\n",
        "role2txt_tokenlen = {}\n",
        "\n",
        "for role in role2freq:\n",
        "    path = f\"/content/Chat-Haruhi-Suzumiya/characters/{role}/texts\"\n",
        "    txt_files = [f for f in os.listdir(path) if f.endswith(\".txt\")]\n",
        "    role2txt_num[role] = len(txt_files)\n",
        "\n",
        "    total_len = 0\n",
        "    total_token = 0\n",
        "    for txt_file in txt_files:\n",
        "        with open(os.path.join(path, txt_file), encoding='utf-8') as f:\n",
        "            text = f.read()\n",
        "            tokenlen = len(enc.encode(text))\n",
        "            total_token += tokenlen\n",
        "            total_len += len(text)\n",
        "    role2txt_sumlen[role] = total_len\n",
        "    role2txt_tokenlen[role] = total_token\n",
        "\n",
        "print(role2txt_num)\n",
        "print(role2txt_sumlen)"
      ],
      "metadata": {
        "colab": {
          "base_uri": "https://localhost:8080/"
        },
        "id": "ASeAYcX7Tk-3",
        "outputId": "64cd25b7-4fe3-4730-e39c-b6d025999a96"
      },
      "execution_count": null,
      "outputs": [
        {
          "output_type": "stream",
          "name": "stdout",
          "text": [
            "{'haruhi': 172, 'liyunlong': 420, 'wangduoyu': 46, 'tangshiye': 42, 'weixiaobao': 1048, 'baizhantang': 295, 'tongxiangyu': 276, 'guofurong': 224, 'jiumozhi': 57, 'duanyu': 328, 'murongfu': 116, 'qiaofeng': 129, 'wangyuyan': 141, 'xiaofeng': 159, 'xuzhu': 132, 'Luna': 46, 'Malfoy': 99, 'Dumbledore': 210, 'Ron': 788, 'Hermione': 781, 'Snape': 101, 'Harry': 1407, 'McGonagall': 92, 'ayaka': 117, 'wanderer': 180, 'zhongli': 270, 'raidenShogun': 215, 'hutao': 141, 'yuqian': 1726, 'Sheldon': 285, 'Penny': 152, 'Raj': 129}\n",
            "{'haruhi': 33526, 'liyunlong': 86907, 'wangduoyu': 10403, 'tangshiye': 8102, 'weixiaobao': 212437, 'baizhantang': 44042, 'tongxiangyu': 54435, 'guofurong': 36313, 'jiumozhi': 8307, 'duanyu': 41634, 'murongfu': 15553, 'qiaofeng': 19811, 'wangyuyan': 17663, 'xiaofeng': 21084, 'xuzhu': 17485, 'Luna': 13025, 'Malfoy': 42267, 'Dumbledore': 151997, 'Ron': 396932, 'Hermione': 458034, 'Snape': 59623, 'Harry': 929728, 'McGonagall': 50150, 'ayaka': 33380, 'wanderer': 77524, 'zhongli': 47136, 'raidenShogun': 26700, 'hutao': 16455, 'yuqian': 204552, 'Sheldon': 258959, 'Penny': 155246, 'Raj': 76270}\n"
          ]
        }
      ]
    },
    {
      "cell_type": "code",
      "source": [
        "print(role2txt_tokenlen)\n"
      ],
      "metadata": {
        "colab": {
          "base_uri": "https://localhost:8080/"
        },
        "id": "E8uZfd_hTP8E",
        "outputId": "c2efcb11-9551-41ad-acda-15d8b414971e"
      },
      "execution_count": null,
      "outputs": [
        {
          "output_type": "stream",
          "name": "stdout",
          "text": [
            "{'haruhi': 41262, 'liyunlong': 116179, 'wangduoyu': 13123, 'tangshiye': 10598, 'weixiaobao': 287876, 'baizhantang': 58343, 'tongxiangyu': 72666, 'guofurong': 49113, 'jiumozhi': 11343, 'duanyu': 54510, 'murongfu': 20544, 'qiaofeng': 26656, 'wangyuyan': 23511, 'xiaofeng': 28531, 'xuzhu': 22905, 'Luna': 3992, 'Malfoy': 11763, 'Dumbledore': 39371, 'Ron': 111674, 'Hermione': 126515, 'Snape': 16354, 'Harry': 252109, 'McGonagall': 13487, 'ayaka': 42362, 'wanderer': 78107, 'zhongli': 59932, 'raidenShogun': 32816, 'hutao': 21038, 'yuqian': 263421, 'Sheldon': 76961, 'Penny': 47656, 'Raj': 23347}\n"
          ]
        }
      ]
    },
    {
      "cell_type": "code",
      "source": [
        "import os\n",
        "\n",
        "folder_names = ['tangshiye','murongfu','liyunlong',\n",
        "                'Luna','wangduoyu','Ron','jiumozhi',\n",
        "                'Snape','haruhi','Malfoy','xuzhu',\n",
        "                'xiaofeng','duanyu','Hermione','Dumbledore',\n",
        "                'wangyuyan',\n",
        "                'Harry','McGonagall' ,\n",
        "                'baizhantang','tongxiangyu','guofurong',\n",
        "                'wanderer','zhongli','hutao',\n",
        "                'Sheldon','Raj','Penny',\n",
        "                'weixiaobao','qiaofeng','ayaka',\n",
        "                'raidenShogun','yuqian']\n",
        "\n",
        "character_names = ['汤师爷','慕容复','李云龙',\n",
        "              'Luna','王多鱼','Ron','鸠摩智',\n",
        "              'Snape','凉宫春日','Malfoy','虚竹',\n",
        "              '萧峰','段誉','Hermione','Dumbledore',\n",
        "              '王语嫣',\n",
        "              'Harry','McGonagall',\n",
        "              '白展堂','佟湘玉','郭芙蓉',\n",
        "              '流浪者','钟离','胡桃',\n",
        "              'Sheldon','Raj','Penny',\n",
        "              '韦小宝','乔峰','神里绫华',\n",
        "              '雷电将军','于谦']\n",
        "\n",
        "vis_order = ['凉宫春日','李云龙',\n",
        "             'Harry','Hermione','Ron','Dumbledore','Snape','Malfoy','Luna','McGonagall',\n",
        "             'Sheldon','Raj','Penny',\n",
        "             '虚竹','萧峰','乔峰','段誉','慕容复','鸠摩智','王语嫣',\n",
        "             '韦小宝',\n",
        "             '白展堂','佟湘玉','郭芙蓉',\n",
        "             '流浪者','钟离','胡桃','神里绫华', '雷电将军',\n",
        "              '王多鱼',\n",
        "              '汤师爷',\n",
        "             '于谦']\n",
        "\n",
        "ch2en = {}\n",
        "\n",
        "for character, name in zip(character_names, folder_names):\n",
        "    ch2en[character] = name"
      ],
      "metadata": {
        "id": "iFxbGB18UwFi"
      },
      "execution_count": null,
      "outputs": []
    },
    {
      "cell_type": "code",
      "source": [
        "\n",
        "\n",
        "count = 0\n",
        "\n",
        "for vis in vis_order:\n",
        "    ch_role_name = vis\n",
        "    en_name = ch2en[vis]\n",
        "    lines = role2freq[en_name]\n",
        "    txt_num = role2txt_num[en_name]\n",
        "    txt_sumlen = role2txt_sumlen[en_name]\n",
        "    txt_tokenlen = role2txt_tokenlen[en_name]\n",
        "    syn_dialogues = role2syn[en_name]\n",
        "\n",
        "    count = count + 1\n",
        "\n",
        "    if False:\n",
        "        print(en_name, '|' , txt_num , '|' , lines, '|', txt_tokenlen, '|', syn_dialogues , end = '|')\n",
        "    else:\n",
        "        print(en_name, '|' , txt_num , '|' , lines, '|', syn_dialogues , '|', txt_tokenlen)"
      ],
      "metadata": {
        "colab": {
          "base_uri": "https://localhost:8080/"
        },
        "id": "V9peHpw7WDJv",
        "outputId": "8ff719ff-dfec-4c72-89d9-1599472da617"
      },
      "execution_count": null,
      "outputs": [
        {
          "output_type": "stream",
          "name": "stdout",
          "text": [
            "haruhi | 172 | 454 | 709 | 41262\n",
            "liyunlong | 420 | 917 | 914 | 116179\n",
            "Harry | 1407 | 2771 | 2409 | 252109\n",
            "Hermione | 781 | 1374 | 2206 | 126515\n",
            "Ron | 788 | 1343 | 2345 | 111674\n",
            "Dumbledore | 210 | 419 | 908 | 39371\n",
            "Snape | 101 | 197 | 904 | 16354\n",
            "Malfoy | 99 | 157 | 647 | 11763\n",
            "Luna | 46 | 67 | 280 | 3992\n",
            "McGonagall | 92 | 168 | 1472 | 13487\n",
            "Sheldon | 285 | 1318 | 614 | 76961\n",
            "Raj | 129 | 346 | 718 | 23347\n",
            "Penny | 152 | 879 | 339 | 47656\n",
            "xuzhu | 132 | 197 | 876 | 22905\n",
            "xiaofeng | 159 | 244 | 781 | 28531\n",
            "qiaofeng | 129 | 182 | 3039 | 26656\n",
            "duanyu | 328 | 484 | 487 | 54510\n",
            "murongfu | 116 | 155 | 1652 | 20544\n",
            "jiumozhi | 57 | 85 | 1968 | 11343\n",
            "wangyuyan | 141 | 188 | 1400 | 23511\n",
            "weixiaobao | 1048 | 2300 | 213 | 287876\n",
            "baizhantang | 295 | 716 | 166 | 58343\n",
            "tongxiangyu | 276 | 839 | 377 | 72666\n",
            "guofurong | 224 | 584 | 334 | 49113\n",
            "wanderer | 180 | 83 | 637 | 78107\n",
            "zhongli | 270 | 73 | 476 | 59932\n",
            "hutao | 141 | 76 | 796 | 21038\n",
            "ayaka | 117 | 198 | 1240 | 42362\n",
            "raidenShogun | 215 | 75 | 513 | 32816\n",
            "wangduoyu | 46 | 115 | 1223 | 13123\n",
            "tangshiye | 42 | 75 | 1331 | 10598\n",
            "yuqian | 1726 | 5673 | 0 | 263421\n"
          ]
        }
      ]
    },
    {
      "cell_type": "code",
      "source": [],
      "metadata": {
        "id": "BMSz5E9fWPJZ"
      },
      "execution_count": null,
      "outputs": []
    },
    {
      "cell_type": "markdown",
      "source": [
        "## 最终画图统计"
      ],
      "metadata": {
        "id": "V8Gx3XzapiTX"
      }
    },
    {
      "cell_type": "code",
      "source": [
        "#@title 生成role2freq\n",
        "\n",
        "import os\n",
        "import json\n",
        "\n",
        "remove_file = ['haruhi_test_output_dialogue.jsonl', 'haruhi_800_synthesis_dialogue.jsonl', 'liyunlong_800_synthesis_dialogue.jsonl']\n",
        "\n",
        "data_dir = '/content/drive/MyDrive/GPTData/kyon'\n",
        "\n",
        "role2freq = {}\n",
        "\n",
        "for filename in os.listdir(data_dir):\n",
        "    if filename in remove_file:\n",
        "        continue\n",
        "    if filename.endswith('.jsonl'):\n",
        "        role = filename.split('_')[0]\n",
        "        filepath = os.path.join(data_dir, filename)\n",
        "        line_count = 0\n",
        "        with open(filepath, 'r', encoding='utf-8') as f:\n",
        "            for line in f:\n",
        "                line_count += 1\n",
        "        if role not in role2freq:\n",
        "            role2freq[role] = line_count\n",
        "        else:\n",
        "            role2freq[role] += line_count\n",
        "\n",
        "print(role2freq)"
      ],
      "metadata": {
        "colab": {
          "base_uri": "https://localhost:8080/"
        },
        "id": "mf3EymgQpjgZ",
        "outputId": "f458d458-94c1-465a-d40c-8c18c4848539"
      },
      "execution_count": null,
      "outputs": [
        {
          "output_type": "stream",
          "name": "stdout",
          "text": [
            "{'haruhi': 454, 'liyunlong': 917, 'wangduoyu': 115, 'tangshiye': 75, 'weixiaobao': 2300, 'baizhantang': 716, 'tongxiangyu': 839, 'guofurong': 584, 'jiumozhi': 85, 'duanyu': 484, 'murongfu': 155, 'qiaofeng': 182, 'wangyuyan': 188, 'xiaofeng': 244, 'xuzhu': 197, 'Luna': 67, 'Malfoy': 157, 'Dumbledore': 419, 'Ron': 1343, 'Hermione': 1374, 'Snape': 197, 'Harry': 2771, 'McGonagall': 168, 'ayaka': 198, 'wanderer': 83, 'zhongli': 73, 'raidenShogun': 75, 'hutao': 76, 'yuqian': 5673, 'Sheldon': 1318, 'Penny': 879, 'Raj': 346}\n"
          ]
        }
      ]
    },
    {
      "cell_type": "code",
      "source": [
        "# 对模拟的数据进行统计\n",
        "\n",
        "role2freq_syn = {}\n",
        "\n",
        "folder_names = ['tangshiye','murongfu','liyunlong',\n",
        "                'Luna','wangduoyu','Ron','jiumozhi',\n",
        "                'Snape','haruhi','Malfoy','xuzhu',\n",
        "                'xiaofeng','duanyu','Hermione','Dumbledore',\n",
        "                'wangyuyan',\n",
        "                'Harry','McGonagall' ,\n",
        "                'baizhantang','tongxiangyu','guofurong',\n",
        "                'wanderer','zhongli','hutao',\n",
        "                'Sheldon','Raj','Penny',\n",
        "                'weixiaobao','qiaofeng','ayaka',\n",
        "                'raidenShogun','yuqian']\n",
        "\n",
        "data_dir = '/content/drive/MyDrive/GPTData/kyon_alpaca'\n",
        "\n",
        "total_lines = 0\n",
        "count = 0\n",
        "\n",
        "line_count_alpaca = 0\n",
        "\n",
        "for filename in os.listdir(data_dir):\n",
        "    if filename.endswith('.jsonl'):\n",
        "        count += 1\n",
        "        filepath = os.path.join(data_dir, filename)\n",
        "        line_count = 0\n",
        "        with open(filepath, 'r', encoding='utf-8') as f:\n",
        "            for line in f:\n",
        "                line_count += 1\n",
        "\n",
        "        line_count_alpaca += line_count\n",
        "        flag = True\n",
        "        for folder_name in folder_names:\n",
        "            if folder_name in filename:\n",
        "                role = folder_name\n",
        "                flag = False\n",
        "                if role not in role2freq_syn:\n",
        "                    role2freq_syn[role] = line_count\n",
        "                else:\n",
        "                    role2freq_syn[role] += line_count\n",
        "\n",
        "                break\n",
        "\n",
        "        if flag:\n",
        "            print( 'file unfound role' , filename)\n",
        "\n",
        "print(role2freq_syn)\n",
        "print(line_count_alpaca)\n",
        "\n",
        "\n",
        "print(role2freq)\n",
        "\n",
        "#         print(f'{filename}: {line_count} lines')\n",
        "#         total_lines += line_count\n",
        "\n",
        "# print(f'Total lines in all files: {total_lines}')\n",
        "\n",
        "# print(count,' files found')"
      ],
      "metadata": {
        "colab": {
          "base_uri": "https://localhost:8080/"
        },
        "id": "eHhri3_7plhg",
        "outputId": "6ce7e7a9-fff1-4ab6-b602-cdd18859f939"
      },
      "execution_count": null,
      "outputs": [
        {
          "output_type": "stream",
          "name": "stdout",
          "text": [
            "{'haruhi': 709, 'qiaofeng': 3039, 'weixiaobao': 213, 'tangshiye': 1331, 'murongfu': 1652, 'liyunlong': 914, 'jiumozhi': 1968, 'wangduoyu': 1223, 'Luna': 280, 'Ron': 2345, 'wangyuyan': 1400, 'Sheldon': 614, 'Raj': 718, 'Penny': 339, 'Harry': 2409, 'Dumbledore': 908, 'Snape': 904, 'McGonagall': 1472, 'Malfoy': 647, 'baizhantang': 166, 'guofurong': 334, 'zhongli': 476, 'ayaka': 1240, 'raidenShogun': 513, 'Hermione': 2206, 'xuzhu': 876, 'xiaofeng': 781, 'duanyu': 487, 'tongxiangyu': 377, 'wanderer': 637, 'hutao': 796}\n",
            "31974\n",
            "{'haruhi': 454, 'liyunlong': 917, 'wangduoyu': 115, 'tangshiye': 75, 'weixiaobao': 2300, 'baizhantang': 716, 'tongxiangyu': 839, 'guofurong': 584, 'jiumozhi': 85, 'duanyu': 484, 'murongfu': 155, 'qiaofeng': 182, 'wangyuyan': 188, 'xiaofeng': 244, 'xuzhu': 197, 'Luna': 67, 'Malfoy': 157, 'Dumbledore': 419, 'Ron': 1343, 'Hermione': 1374, 'Snape': 197, 'Harry': 2771, 'McGonagall': 168, 'ayaka': 198, 'wanderer': 83, 'zhongli': 73, 'raidenShogun': 75, 'hutao': 76, 'yuqian': 5673, 'Sheldon': 1318, 'Penny': 879, 'Raj': 346}\n"
          ]
        }
      ]
    },
    {
      "cell_type": "code",
      "source": [
        "print(2206/30)"
      ],
      "metadata": {
        "colab": {
          "base_uri": "https://localhost:8080/"
        },
        "id": "X1ziXbJOwmpa",
        "outputId": "87e53832-c4aa-47d9-a1f9-6da7e141707e"
      },
      "execution_count": null,
      "outputs": [
        {
          "output_type": "stream",
          "name": "stdout",
          "text": [
            "73.53333333333333\n"
          ]
        }
      ]
    },
    {
      "cell_type": "code",
      "source": [
        "# count and increase\n",
        "\n",
        "target_line = 0\n",
        "\n",
        "role2sum = {}\n",
        "role2syn_est = {}\n",
        "\n",
        "# role2freq_syn['Hermione'] = 2206\n",
        "\n",
        "count = 0\n",
        "increase_count = 0\n",
        "\n",
        "\n",
        "for folder_name in folder_names:\n",
        "    freq_real = role2freq[folder_name]\n",
        "    if folder_name in role2freq_syn:\n",
        "        freq_syn = role2freq_syn[folder_name]\n",
        "    else:\n",
        "        freq_syn = 0\n",
        "\n",
        "    if freq_syn + freq_real < target_line:\n",
        "        role2syn_est[folder_name] = target_line - freq_real\n",
        "        increase_count += (target_line - freq_real - freq_syn)\n",
        "    else:\n",
        "        role2syn_est[folder_name] = freq_syn\n",
        "\n",
        "    role2sum[folder_name] = role2syn_est[folder_name] + freq_real\n",
        "    count += role2sum[folder_name]\n",
        "\n",
        "print(role2sum)\n",
        "print(role2freq)\n",
        "print(role2syn_est)\n",
        "print(count)\n",
        "print(increase_count)\n",
        "\n"
      ],
      "metadata": {
        "colab": {
          "base_uri": "https://localhost:8080/"
        },
        "id": "E2nLiMIwsyXW",
        "outputId": "cd217ccb-9799-4eb2-c70d-a8bdd868aacd"
      },
      "execution_count": null,
      "outputs": [
        {
          "output_type": "stream",
          "name": "stdout",
          "text": [
            "{'tangshiye': 1406, 'murongfu': 1807, 'liyunlong': 1831, 'Luna': 347, 'wangduoyu': 1338, 'Ron': 3688, 'jiumozhi': 2053, 'Snape': 1101, 'haruhi': 1163, 'Malfoy': 804, 'xuzhu': 1073, 'xiaofeng': 1025, 'duanyu': 971, 'Hermione': 3580, 'Dumbledore': 1327, 'wangyuyan': 1588, 'Harry': 5180, 'McGonagall': 1640, 'baizhantang': 882, 'tongxiangyu': 1216, 'guofurong': 918, 'wanderer': 720, 'zhongli': 549, 'hutao': 872, 'Sheldon': 1932, 'Raj': 1064, 'Penny': 1218, 'weixiaobao': 2513, 'qiaofeng': 3221, 'ayaka': 1438, 'raidenShogun': 588, 'yuqian': 5673}\n",
            "{'haruhi': 454, 'liyunlong': 917, 'wangduoyu': 115, 'tangshiye': 75, 'weixiaobao': 2300, 'baizhantang': 716, 'tongxiangyu': 839, 'guofurong': 584, 'jiumozhi': 85, 'duanyu': 484, 'murongfu': 155, 'qiaofeng': 182, 'wangyuyan': 188, 'xiaofeng': 244, 'xuzhu': 197, 'Luna': 67, 'Malfoy': 157, 'Dumbledore': 419, 'Ron': 1343, 'Hermione': 1374, 'Snape': 197, 'Harry': 2771, 'McGonagall': 168, 'ayaka': 198, 'wanderer': 83, 'zhongli': 73, 'raidenShogun': 75, 'hutao': 76, 'yuqian': 5673, 'Sheldon': 1318, 'Penny': 879, 'Raj': 346}\n",
            "{'tangshiye': 1331, 'murongfu': 1652, 'liyunlong': 914, 'Luna': 280, 'wangduoyu': 1223, 'Ron': 2345, 'jiumozhi': 1968, 'Snape': 904, 'haruhi': 709, 'Malfoy': 647, 'xuzhu': 876, 'xiaofeng': 781, 'duanyu': 487, 'Hermione': 2206, 'Dumbledore': 908, 'wangyuyan': 1400, 'Harry': 2409, 'McGonagall': 1472, 'baizhantang': 166, 'tongxiangyu': 377, 'guofurong': 334, 'wanderer': 637, 'zhongli': 476, 'hutao': 796, 'Sheldon': 614, 'Raj': 718, 'Penny': 339, 'weixiaobao': 213, 'qiaofeng': 3039, 'ayaka': 1240, 'raidenShogun': 513, 'yuqian': 0}\n",
            "54726\n",
            "0\n"
          ]
        }
      ]
    },
    {
      "cell_type": "code",
      "source": [
        "en_roles = [  'Luna','Ron',\n",
        "                'Snape','Malfoy','Hermione','Dumbledore',\n",
        "                'Harry','McGonagall' ,\n",
        "                'Sheldon','Raj','Penny']\n",
        "\n",
        "en_count = 0\n",
        "for role in en_roles:\n",
        "    real = role2freq[role]\n",
        "    syn = role2freq_syn[role]\n",
        "    if real + syn >= target_line:\n",
        "        en_count += real\n",
        "    else:\n",
        "        en_count += (real + target_line - real - syn)\n",
        "\n",
        "print(en_count)"
      ],
      "metadata": {
        "colab": {
          "base_uri": "https://localhost:8080/"
        },
        "id": "ZNRnVrkbtBMG",
        "outputId": "c4429cac-020f-483a-bdc6-4c877a148c13"
      },
      "execution_count": null,
      "outputs": [
        {
          "output_type": "stream",
          "name": "stdout",
          "text": [
            "9039\n"
          ]
        }
      ]
    },
    {
      "cell_type": "markdown",
      "source": [
        "已知folder_names是一个python的list of string\n",
        "\n",
        "role2sum和role2freq是两个string2int的字典\n",
        "\n",
        "role2sum[folder_name] 和 role2freq[folder_name] 都能确保返回数字\n",
        "\n",
        "我现在希望对folder_names，以role2sum作为第一关键字从小到大排列\n",
        "\n",
        "如果两个name的role2sum相等，则进一步比较他们的role2freq，小的排序在前面\n",
        "\n",
        "输出一个list of string\n",
        "\n",
        "请用python为我实现"
      ],
      "metadata": {
        "id": "bbHyQxk5p1j0"
      }
    },
    {
      "cell_type": "code",
      "source": [
        "sorted_folder_names = sorted(folder_names, key=lambda x: (role2sum[x], role2freq[x]))"
      ],
      "metadata": {
        "id": "kckK-Kz4vye3"
      },
      "execution_count": null,
      "outputs": []
    },
    {
      "cell_type": "code",
      "source": [
        "print(sorted_folder_names)"
      ],
      "metadata": {
        "colab": {
          "base_uri": "https://localhost:8080/"
        },
        "id": "vIJ_dFR1v04N",
        "outputId": "e0a856b0-e921-478e-afed-25cbb027d913"
      },
      "execution_count": null,
      "outputs": [
        {
          "output_type": "stream",
          "name": "stdout",
          "text": [
            "['Luna', 'zhongli', 'raidenShogun', 'wanderer', 'Malfoy', 'hutao', 'baizhantang', 'guofurong', 'duanyu', 'xiaofeng', 'Raj', 'xuzhu', 'Snape', 'haruhi', 'tongxiangyu', 'Penny', 'Dumbledore', 'wangduoyu', 'tangshiye', 'ayaka', 'wangyuyan', 'McGonagall', 'murongfu', 'liyunlong', 'Sheldon', 'jiumozhi', 'weixiaobao', 'qiaofeng', 'Hermione', 'Ron', 'Harry', 'yuqian']\n"
          ]
        }
      ]
    },
    {
      "cell_type": "code",
      "source": [
        "sorted_sum = []\n",
        "sorted_real = []\n",
        "sorted_syn = []\n",
        "\n",
        "for name in sorted_folder_names:\n",
        "    sorted_sum.append(role2sum[name])\n",
        "    sorted_real.append(role2freq[name])\n",
        "    sorted_syn.append(role2syn_est[name])\n"
      ],
      "metadata": {
        "id": "xK-1hA2kw27c"
      },
      "execution_count": null,
      "outputs": []
    },
    {
      "cell_type": "code",
      "source": [
        "character_names = ['汤师爷','慕容复','李云龙',\n",
        "              'Luna','王多鱼','Ron','鸠摩智',\n",
        "              'Snape','凉宫春日','Malfoy','虚竹',\n",
        "              '萧峰','段誉','Hermione','Dumbledore',\n",
        "              '王语嫣',\n",
        "              'Harry','McGonagall',\n",
        "              '白展堂','佟湘玉','郭芙蓉',\n",
        "              '流浪者','钟离','胡桃',\n",
        "              'Sheldon','Raj','Penny',\n",
        "              '韦小宝','乔峰','神里绫华',\n",
        "              '雷电将军','于谦']\n",
        "\n",
        "vis_order = ['凉宫春日','李云龙',\n",
        "             'Harry','Hermione','Ron','Dumbledore','Snape','Malfoy','Luna','McGonagall',\n",
        "             'Sheldon','Raj','Penny',\n",
        "             '虚竹','萧峰','乔峰','段誉','慕容复','鸠摩智','王语嫣',\n",
        "             '韦小宝',\n",
        "             '白展堂','佟湘玉','郭芙蓉',\n",
        "             '流浪者','钟离','胡桃','神里绫华', '雷电将军',\n",
        "              '王多鱼',\n",
        "              '汤师爷',\n",
        "             '于谦']\n",
        "\n",
        "ch2en = {}\n",
        "en2ch = {}\n",
        "\n",
        "for character, name in zip(character_names, folder_names):\n",
        "    ch2en[character] = name\n",
        "    en2ch[name] = character"
      ],
      "metadata": {
        "id": "HiuKQSAozfKw"
      },
      "execution_count": null,
      "outputs": []
    },
    {
      "cell_type": "markdown",
      "source": [
        "sorted_real和sorted_syn是两个python的list of int，他们都有30个元素。\n",
        "\n",
        "我希望画一个条形图，其中一共有30个bar\n",
        "\n",
        "每个bar显示sorted_real[i]和sorted_syn[i]的和\n",
        "\n",
        "每个bar使用jet色表上不同的颜色。\n",
        "\n",
        "每个bar分成两段，上段的长度和sorted_syn[i]的值一致，下半段的长度和sorted_real[i]的值一致。 上半段的颜色用原来 颜色*0.5 + 白色 * 0.5 表示\n",
        "\n",
        "请用plt为我实现。\n",
        "\n",
        "\n"
      ],
      "metadata": {
        "id": "HB8nJEw7xDDQ"
      }
    },
    {
      "cell_type": "code",
      "source": [
        "import matplotlib.pyplot as plt\n",
        "import numpy as np\n",
        "\n",
        "plt.rcParams[\"figure.figsize\"] = (22,8)\n",
        "\n",
        "bar_width = 0.5\n",
        "index = np.arange(len(sorted_real))\n",
        "\n",
        "# 计算条形总高度\n",
        "heights = [x+y for x,y in zip(sorted_real, sorted_syn)]\n",
        "\n",
        "# 生成颜色映射\n",
        "cmap = plt.cm.get_cmap('jet', len(sorted_real))\n",
        "colors = cmap(index)\n",
        "\n",
        "# 生成条形图\n",
        "plt.bar(index, heights, bar_width, color=colors)\n",
        "\n",
        "# 设置上半部分混合白色\n",
        "for i in range(len(sorted_real)):\n",
        "    plt.bar(index[i], sorted_syn[i], bar_width, bottom=sorted_real[i],\n",
        "            color=colors[i]*0.5 + 0.5)\n",
        "\n",
        "# 设置坐标轴范围\n",
        "plt.xlim([-0.5, len(sorted_real)-0.5])\n",
        "plt.ylim([0, max(heights)*1.1])\n",
        "\n",
        "# 设置x轴刻度标签\n",
        "plt.xticks(index, sorted_folder_names)\n",
        "\n",
        "# 设置标签旋转角度以免重叠\n",
        "plt.setp(plt.xticks()[1], rotation=37)\n",
        "\n",
        "x = np.arange(len(sorted_real))\n",
        "y = np.array(heights)\n",
        "X, Y = np.meshgrid(x, y)\n",
        "\n",
        "# 画网格线\n",
        "plt.grid(color='k', linestyle='--', linewidth=0.5)\n",
        "\n",
        "# 设置网格线位于条形图下层\n",
        "plt.gca().set_axisbelow(True)\n",
        "\n",
        "# 调整网格线宽度\n",
        "ax = plt.gca()\n",
        "ax.xaxis.grid(False)\n",
        "\n",
        "ax.set_xticklabels(sorted_folder_names)\n",
        "ax.tick_params(axis='both', which='major', labelsize=8)\n",
        "\n",
        "ax = plt.gca()\n",
        "\n",
        "ax.tick_params(axis='both', which='major', labelsize=14)\n",
        "\n",
        "# 设置坐标轴标签\n",
        "# plt.xlabel('Index')\n",
        "# plt.ylabel('Value')\n",
        "\n",
        "plt.show()"
      ],
      "metadata": {
        "colab": {
          "base_uri": "https://localhost:8080/",
          "height": 512
        },
        "id": "0OcOM-03v2eh",
        "outputId": "5646128b-abd5-4824-c975-81be64c67131"
      },
      "execution_count": null,
      "outputs": [
        {
          "output_type": "stream",
          "name": "stderr",
          "text": [
            "<ipython-input-13-35b86d15b134>:13: MatplotlibDeprecationWarning: The get_cmap function was deprecated in Matplotlib 3.7 and will be removed two minor releases later. Use ``matplotlib.colormaps[name]`` or ``matplotlib.colormaps.get_cmap(obj)`` instead.\n",
            "  cmap = plt.cm.get_cmap('jet', len(sorted_real))\n"
          ]
        },
        {
          "output_type": "display_data",
          "data": {
            "text/plain": [
              "<Figure size 2200x800 with 1 Axes>"
            ],
            "image/png": "[encoded data removed]"
          },
          "metadata": {}
        }
      ]
    },
    {
      "cell_type": "code",
      "source": [
        "print(len(colors))"
      ],
      "metadata": {
        "colab": {
          "base_uri": "https://localhost:8080/"
        },
        "id": "Jifq9uaXCxZc",
        "outputId": "ae567ef2-a4a4-4dcb-caf9-e5628ca043e4"
      },
      "execution_count": null,
      "outputs": [
        {
          "output_type": "stream",
          "name": "stdout",
          "text": [
            "32\n"
          ]
        }
      ]
    },
    {
      "cell_type": "code",
      "source": [
        "print(colors[0:3])"
      ],
      "metadata": {
        "colab": {
          "base_uri": "https://localhost:8080/"
        },
        "id": "9r9P_2v2CzCa",
        "outputId": "5a4e2932-daf1-4446-ba03-5842fcccd3f5"
      },
      "execution_count": null,
      "outputs": [
        {
          "output_type": "stream",
          "name": "stdout",
          "text": [
            "[[0.         0.         0.5        1.        ]\n",
            " [0.         0.         0.64662757 1.        ]\n",
            " [0.         0.         0.79325513 1.        ]]\n"
          ]
        }
      ]
    },
    {
      "cell_type": "markdown",
      "source": [],
      "metadata": {
        "id": "B_87C5jKyO73"
      }
    },
    {
      "cell_type": "code",
      "source": [
        "!unzip /content/head.zip -d /content/head"
      ],
      "metadata": {
        "id": "VoEqrYLp5Uxs",
        "colab": {
          "base_uri": "https://localhost:8080/"
        },
        "outputId": "950132b8-a4c7-4c0a-c7fa-1898f586652f"
      },
      "execution_count": null,
      "outputs": [
        {
          "output_type": "stream",
          "name": "stdout",
          "text": [
            "Archive:  /content/head.zip\n",
            "  inflating: /content/head/ayaka.jpg  \n",
            "  inflating: /content/head/baizhantang.jpg  \n",
            "  inflating: /content/head/duanyu.jpg  \n",
            "  inflating: /content/head/Dumbledore.jpg  \n",
            "  inflating: /content/head/guofurong.jpg  \n",
            "  inflating: /content/head/Harry.jpg  \n",
            "  inflating: /content/head/haruhi.jpg  \n",
            "  inflating: /content/head/Hermione.jpg  \n",
            "  inflating: /content/head/hutao.jpg  \n",
            "  inflating: /content/head/jiumozhi.jpg  \n",
            "  inflating: /content/head/liyunlong.jpg  \n",
            "  inflating: /content/head/Luna.jpg  \n",
            "  inflating: /content/head/Malfoy.jpg  \n",
            "  inflating: /content/head/McGonagall.jpg  \n",
            "  inflating: /content/head/murongfu.jpg  \n",
            "  inflating: /content/head/Penny.jpg  \n",
            "  inflating: /content/head/qiaofeng.jpg  \n",
            "  inflating: /content/head/raidenShogun.jpg  \n",
            "  inflating: /content/head/Raj.jpg   \n",
            "  inflating: /content/head/Sheldon.jpg  \n",
            "  inflating: /content/head/Snape.jpg  \n",
            "  inflating: /content/head/tangshiye.jpg  \n",
            "  inflating: /content/head/tongxinagyu.jpg  \n",
            "  inflating: /content/head/wanderer.jpg  \n",
            "  inflating: /content/head/wangduoyu.jpg  \n",
            "  inflating: /content/head/wangyuyan.jpg  \n",
            "  inflating: /content/head/weixiaobao.jpg  \n",
            "  inflating: /content/head/xiaofeng.jpg  \n",
            "  inflating: /content/head/xuzhu.jpg  \n",
            "  inflating: /content/head/yaemiko.jpg  \n",
            "  inflating: /content/head/yuqian.jpg  \n",
            "  inflating: /content/head/zhongli.jpg  \n"
          ]
        }
      ]
    },
    {
      "cell_type": "code",
      "source": [
        "!mv /content/head/tongxinagyu.jpg /content/head/tongxiangyu.jpg"
      ],
      "metadata": {
        "id": "ctDCPUVaCVuz"
      },
      "execution_count": null,
      "outputs": []
    },
    {
      "cell_type": "markdown",
      "source": [
        "/content/head 目录下有很多.jpg的文件\n",
        "\n",
        "folder_names 是一个 list of string\n",
        "\n",
        "我希望建立一个python的字典role2img_name\n",
        "\n",
        "对于每一个folder_name，记录在目录下对应的jpg的文件名\n",
        "\n",
        "注意，文件名有时可能把folder_name的首字母变为了小写\n",
        "\n",
        "请用python为我实现"
      ],
      "metadata": {
        "id": "6N4r3XV1BUTi"
      }
    },
    {
      "cell_type": "code",
      "source": [
        "import os\n",
        "\n",
        "role2img_name = {}\n",
        "\n",
        "for folder_name in folder_names:\n",
        "    img_name = None\n",
        "    for f in os.listdir(os.path.join('/content/head')):\n",
        "        if f.endswith('.jpg') and f.startswith( folder_name ):\n",
        "            img_name = f\n",
        "            break\n",
        "\n",
        "    if img_name is not None:\n",
        "        role2img_name[folder_name] = os.path.join('/content/head',img_name)\n",
        "    else:\n",
        "        print('unfound ', folder_name)\n",
        "\n"
      ],
      "metadata": {
        "id": "66CuYEdLBOQp"
      },
      "execution_count": null,
      "outputs": []
    },
    {
      "cell_type": "code",
      "source": [
        "print(role2img_name['tangshiye'])"
      ],
      "metadata": {
        "colab": {
          "base_uri": "https://localhost:8080/"
        },
        "id": "ENLOOCDLCBGa",
        "outputId": "7004a6ec-18b8-4670-d78c-1e24a7b05f5d"
      },
      "execution_count": null,
      "outputs": [
        {
          "output_type": "stream",
          "name": "stdout",
          "text": [
            "/content/head/tangshiye.jpg\n"
          ]
        }
      ]
    },
    {
      "cell_type": "markdown",
      "source": [
        "names是一个长度为30的 list of string\n",
        "\n",
        "'tangshiye', 'murongfu', 'liyunlong', 'Luna', ...\n",
        "\n",
        "role2img_name[ name ] 可以获取每个name对应的文件名\n",
        "\n",
        "如: /content/head/tangshiye.jpg\n",
        "\n",
        "colors 是一个list, 长度也是30，每个元素是一个rgba的四元数，如\n",
        "\n",
        "[0.         0.         0.5        1.        ]\n",
        " [0.         0.         0.64662757 1.        ]\n",
        " [0.         0.         0.79325513 1.        ]\n",
        " ...\n",
        "\n",
        "\n",
        "我希望，依次读取role2img_name[ name ] 的图片\n",
        "\n",
        "resize成300*300\n",
        "\n",
        "并且将边缘的20个像素，修改为 colors[i] 对应的颜色\n",
        "\n",
        "然后拼接成一张高度为300\n",
        "\n",
        "宽为300*30的图片\n",
        "\n",
        "请用python为我实现"
      ],
      "metadata": {
        "id": "boev3iJdC6at"
      }
    },
    {
      "cell_type": "code",
      "source": [
        "names = folder_names\n",
        "print(names[:4])"
      ],
      "metadata": {
        "colab": {
          "base_uri": "https://localhost:8080/"
        },
        "id": "AnAUpYkGCJAq",
        "outputId": "865a04d0-22f3-41db-e700-344875beca13"
      },
      "execution_count": null,
      "outputs": [
        {
          "output_type": "stream",
          "name": "stdout",
          "text": [
            "['tangshiye', 'murongfu', 'liyunlong', 'Luna']\n"
          ]
        }
      ]
    },
    {
      "cell_type": "code",
      "source": [
        "import cv2\n",
        "import numpy as np\n",
        "import os\n",
        "\n",
        "img_list = []\n",
        "\n",
        "names = sorted_folder_names\n",
        "\n",
        "pad_size = 60\n",
        "\n",
        "for i, name in enumerate(names):\n",
        "\n",
        "    if i%2!=0:\n",
        "        continue\n",
        "\n",
        "    img_path = os.path.join('/content/head', role2img_name[name])\n",
        "    img = cv2.imread(img_path)\n",
        "\n",
        "    # 缩放图片\n",
        "    img = cv2.resize(img, (300, 300))\n",
        "\n",
        "    # 生成边框颜色\n",
        "    color = colors[31-i][:3] * 255\n",
        "    frame = np.full((300, 20, 3), color, dtype=np.uint8)\n",
        "    frame_h = np.full((20,300, 3), color, dtype=np.uint8)\n",
        "\n",
        "    # 插入边框\n",
        "    img[:, :20] = frame\n",
        "    img[:, -20:] = frame\n",
        "    img[:20, :] = frame_h\n",
        "    img[-20:, :] = frame_h\n",
        "\n",
        "    img_list.append(img)\n",
        "\n",
        "    pad_img = np.full((300,pad_size,3),[255,255,255],dtype=np.uint8)\n",
        "    img_list.append(pad_img)\n",
        "\n",
        "# 拼接图片\n",
        "final_img = np.concatenate(img_list, axis=1)\n",
        "\n",
        "# 保存结果\n",
        "cv2.imwrite('/content/output_0.jpg', final_img)"
      ],
      "metadata": {
        "colab": {
          "base_uri": "https://localhost:8080/"
        },
        "id": "Wq4PSb4WC9SU",
        "outputId": "e776b43d-51e1-48be-df85-4d2b2173d3d7"
      },
      "execution_count": null,
      "outputs": [
        {
          "output_type": "execute_result",
          "data": {
            "text/plain": [
              "True"
            ]
          },
          "metadata": {},
          "execution_count": 22
        }
      ]
    },
    {
      "cell_type": "code",
      "source": [],
      "metadata": {
        "id": "neNY3eXcD6Dp"
      },
      "execution_count": null,
      "outputs": []
    }
  ]
}