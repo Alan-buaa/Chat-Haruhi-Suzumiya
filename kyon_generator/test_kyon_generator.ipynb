{
 "nbformat": 4,
 "nbformat_minor": 0,
 "metadata": {
  "colab": {
   "provenance": [],
   "authorship_tag": "ABX9TyPtpstVbwf/IRwle5K0PzPZ",
   "include_colab_link": true
  },
  "kernelspec": {
   "name": "python3",
   "display_name": "Python 3"
  },
  "language_info": {
   "name": "python"
  }
 },
 "cells": [
  {
   "cell_type": "markdown",
   "metadata": {
    "id": "view-in-github",
    "colab_type": "text"
   },
   "source": [
    "<a href=\"https://colab.research.google.com/github/LC1332/Chat-Haruhi-Suzumiya/blob/main/kyon_generator/test_kyon_generator.ipynb\" target=\"_parent\"><img src=\"https://colab.research.google.com/assets/colab-badge.svg\" alt=\"Open In Colab\"/></a>"
   ]
  },
  {
   "cell_type": "markdown",
   "source": [
    "# Chat凉宫春日 Chat-Haruhi-Suzumiya\n",
    "\n",
    "[![Code License](https://img.shields.io/badge/Code%20License-Apache_2.0-green.svg)]()\n",
    "[![Data License](https://img.shields.io/badge/Data%20License-CC%20By%20NC%204.0-red.svg)]()\n",
    "[![Huggingface Gradio](https://img.shields.io/static/v1?label=Demo&message=Huggingface%20Gradio&color=orange)](https://huggingface.co/spaces/silk-road/ChatHaruhi)\n",
    "\n",
    "\n",
    "本脚本是李鲁鲁开发的KyonGenerator的测试工具，后者由\n",
    "\n",
    "李鲁鲁，闫晨曦, 包同学, 睡觉鱼等共同开发\n",
    "\n",
    "---\n",
    "\n",
    "**Chat凉宫春日**是模仿凉宫春日等一系列动漫人物，使用近似语气、个性和剧情聊天的语言模型，\n",
    "\n",
    "<details>\n",
    "  <summary> 本项目由李鲁鲁，冷子昂，闫晨曦，封小洋，scixing，沈骏一，Aria Fei, 米唯实, 吴平宇, 贾曜恺等开发。 </summary>\n",
    "\n",
    "李鲁鲁发起了项目，并完成了最早的版本，在多个微信群实现了测试。完成了训练数据自动生成对话部分，设计了整体的路线，并撰写报告。\n",
    "\n",
    "冷子昂负责了每一个阶段的Gradio开发，以及每个部分的功能整合和架构设计。\n",
    "\n",
    "闫晨曦一开始将李鲁鲁的notebook重构为app.py，参与了WebUI的embedding部分重构整合。\n",
    "\n",
    "封小洋进行了中文转日文模型的选型，完成了针对台词抽取图片的工具。整合了声纹识别。即将继续参加台本工具的开发。\n",
    "\n",
    "scixing实践了VITS语音，完成了台词对应的语音抽取，实现了第一个版本的声纹分类。\n",
    "\n",
    "沈骏一实现了使用ChatGLM2 finetune实验\n",
    "\n",
    "Aria(Yaying Fei)对接了whisper到台本工具。即将继续参加台本工具的开发。\n",
    "\n",
    "米唯实实现了Chat哆啦A梦的分支版本\n",
    "\n",
    "吴平宇部署了ChatGLM2的训练程序，并提供了训练的计算资源。\n",
    "\n",
    "贾曜恺开发了一个Vue前端实现方案\n",
    "\n",
    "</details>"
   ],
   "metadata": {
    "id": "xQqfMSu5FwUg"
   }
  },
  {
   "cell_type": "code",
   "source": [
    "!git clone https://github.com/LC1332/Chat-Haruhi-Suzumiya"
   ],
   "metadata": {
    "colab": {
     "base_uri": "https://localhost:8080/"
    },
    "id": "iATX-_amFs0n",
    "outputId": "faa8a614-a300-46b5-9f69-9912eab1033a"
   },
   "execution_count": 1,
   "outputs": [
    {
     "output_type": "stream",
     "name": "stdout",
     "text": [
      "Cloning into 'Chat-Haruhi-Suzumiya'...\n",
      "remote: Enumerating objects: 9825, done.\u001B[K\n",
      "remote: Counting objects: 100% (6128/6128), done.\u001B[K\n",
      "remote: Compressing objects: 100% (5670/5670), done.\u001B[K\n",
      "remote: Total 9825 (delta 461), reused 6038 (delta 405), pack-reused 3697\u001B[K\n",
      "Receiving objects: 100% (9825/9825), 121.70 MiB | 8.85 MiB/s, done.\n",
      "Resolving deltas: 100% (1889/1889), done.\n",
      "Updating files: 100% (6690/6690), done.\n"
     ]
    }
   ]
  },
  {
   "cell_type": "code",
   "source": [
    "!pip install -q openai langchain"
   ],
   "metadata": {
    "colab": {
     "base_uri": "https://localhost:8080/"
    },
    "id": "0SytUs-oI4Hd",
    "outputId": "c05290df-ab3e-453d-973f-1582c8f168d2"
   },
   "execution_count": 2,
   "outputs": [
    {
     "output_type": "stream",
     "name": "stdout",
     "text": [
      "\u001B[2K     \u001B[90m━━━━━━━━━━━━━━━━━━━━━━━━━━━━━━━━━━━━━━━━\u001B[0m \u001B[32m73.6/73.6 kB\u001B[0m \u001B[31m1.8 MB/s\u001B[0m eta \u001B[36m0:00:00\u001B[0m\n",
      "\u001B[2K     \u001B[90m━━━━━━━━━━━━━━━━━━━━━━━━━━━━━━━━━━━━━━━━\u001B[0m \u001B[32m1.4/1.4 MB\u001B[0m \u001B[31m21.4 MB/s\u001B[0m eta \u001B[36m0:00:00\u001B[0m\n",
      "\u001B[2K     \u001B[90m━━━━━━━━━━━━━━━━━━━━━━━━━━━━━━━━━━━━━━━━\u001B[0m \u001B[32m90.0/90.0 kB\u001B[0m \u001B[31m8.9 MB/s\u001B[0m eta \u001B[36m0:00:00\u001B[0m\n",
      "\u001B[2K     \u001B[90m━━━━━━━━━━━━━━━━━━━━━━━━━━━━━━━━━━━━━━━━\u001B[0m \u001B[32m49.4/49.4 kB\u001B[0m \u001B[31m4.7 MB/s\u001B[0m eta \u001B[36m0:00:00\u001B[0m\n",
      "\u001B[?25h"
     ]
    }
   ]
  },
  {
   "cell_type": "code",
   "execution_count": 3,
   "metadata": {
    "colab": {
     "base_uri": "https://localhost:8080/"
    },
    "id": "ZWCXGjG-FJdq",
    "outputId": "4430d385-1eb4-4021-f01d-8a0afeebcc41"
   },
   "outputs": [
    {
     "output_type": "stream",
     "name": "stdout",
     "text": [
      "/content/Chat-Haruhi-Suzumiya/kyon_generator\n",
      "chat2dialogue.py\t   data\t\t\t  synthesis_chat_method_foo.py\n",
      "ChatGPT_for_generation.py  dialogue2chat.py\t  synthesis_chat.py\n",
      "chatlog2dialogue.ipynb\t   dialogue2embedding.py  test_kyon_generator.ipynb\n",
      "chatlog2dialogue.py\t   story2chat.py\t  train.py\n"
     ]
    }
   ],
   "source": [
    "%cd /content/Chat-Haruhi-Suzumiya/kyon_generator/\n",
    "!ls"
   ]
  },
  {
   "cell_type": "code",
   "source": [
    "!ls data"
   ],
   "metadata": {
    "colab": {
     "base_uri": "https://localhost:8080/"
    },
    "id": "5ZVbJHRUGhTK",
    "outputId": "3ff92432-573c-455b-daad-190b50e351e4"
   },
   "execution_count": 4,
   "outputs": [
    {
     "output_type": "stream",
     "name": "stdout",
     "text": [
      "Haruhi-ContinuousGenerate_Dialogues.jsonl  Haruhi-Lulu_Dialogues.jsonl\n",
      "Haruhi_first_merge_res.jsonl\n"
     ]
    }
   ]
  },
  {
   "cell_type": "code",
   "source": [
    "!mkdir output"
   ],
   "metadata": {
    "id": "nTgRVhgcG39G"
   },
   "execution_count": 5,
   "outputs": []
  },
  {
   "cell_type": "markdown",
   "source": [
    "## gradio前端记录的历史数据到dialogue数据\n",
    "chatlog2dialogue.py gradio前端记录的历史数据到dialogue数据的转化\n",
    "\n"
   ],
   "metadata": {
    "id": "QkKog1XUGdEm"
   }
  },
  {
   "cell_type": "code",
   "source": [
    "!python chatlog2dialogue.py -input ./data/Haruhi-Lulu_Dialogues.jsonl\\\n",
    "                           -output ./output/Haruhi_Dialogues_from_history.jsonl\n"
   ],
   "metadata": {
    "colab": {
     "base_uri": "https://localhost:8080/"
    },
    "id": "LZmmLHFGGUgZ",
    "outputId": "8abaa541-9205-472a-ba8a-d4dc6c71720e"
   },
   "execution_count": 6,
   "outputs": [
    {
     "output_type": "stream",
     "name": "stdout",
     "text": [
      "\n"
     ]
    }
   ]
  },
  {
   "cell_type": "markdown",
   "source": [
    "未实现"
   ],
   "metadata": {
    "id": "En_FJ9gtl0V9"
   }
  },
  {
   "cell_type": "markdown",
   "source": [
    "## story2chat 台本数据到一句话数据的转换\n",
    "\n",
    "Haruhi为例的话语料在\n",
    "\n",
    "/content/Chat-Haruhi-Suzumiya/characters/haruhi/texts"
   ],
   "metadata": {
    "id": "rTAg037YHTf-"
   }
  },
  {
   "cell_type": "code",
   "source": [
    "!python story2chat.py -story_folder \"/content/Chat-Haruhi-Suzumiya/characters/haruhi/texts\" \\\n",
    "                     -output ./output/chat_from_story.jsonl \\\n",
    "                     -role \"春日\" \\\n",
    "                     -other_names 凉宫 凉宫春日"
   ],
   "metadata": {
    "id": "tJq8CswXHMar"
   },
   "execution_count": 7,
   "outputs": []
  },
  {
   "cell_type": "code",
   "source": [
    "!python story2chat.py -story_folder \"/content/Chat-Haruhi-Suzumiya/characters/weixiaobao/texts\" \\\n",
    "                     -output ./output/chat_from_story_weixiaobao.jsonl \\\n",
    "                     -role \"韦小宝\" \\\n",
    "                     -other_names 小宝"
   ],
   "metadata": {
    "id": "qxQqcl2tmAaQ"
   },
   "execution_count": 8,
   "outputs": []
  },
  {
   "cell_type": "code",
   "source": [
    "!python story2chat.py -story_folder \"/content/Chat-Haruhi-Suzumiya/characters/Hermione/texts\" \\\n",
    "                     -output ./output/chat_from_story_Hermione.jsonl \\\n",
    "                     -role \"Hermione\""
   ],
   "metadata": {
    "id": "tRu8EQiJmjch"
   },
   "execution_count": 9,
   "outputs": []
  },
  {
   "cell_type": "markdown",
   "source": [
    "测试通过 implemented by 冷月"
   ],
   "metadata": {
    "id": "Ykw3uZLzmyxV"
   }
  },
  {
   "cell_type": "markdown",
   "source": [
    "## dialogue2chat 将连续对话批量抽取为一句话"
   ],
   "metadata": {
    "id": "fkuR83edH7am"
   }
  },
  {
   "cell_type": "code",
   "source": [
    "!python dialogue2chat.py -input ./data/Haruhi-Lulu_Dialogues.jsonl\\\n",
    "                     -output ./output/chat_from_dialogue.jsonl\\\n",
    "                     -role \"春日\"\\\n",
    "                     -other_names 凉宫 凉宫春日"
   ],
   "metadata": {
    "id": "zwZgBFPxH8dE"
   },
   "execution_count": 10,
   "outputs": []
  },
  {
   "cell_type": "markdown",
   "source": [
    "测试通过"
   ],
   "metadata": {
    "id": "bRmSkEmAm5tc"
   }
  },
  {
   "cell_type": "markdown",
   "source": [
    "## synthesis_chats 将一些第一句话的文件，增广为更多的第一句话"
   ],
   "metadata": {
    "id": "y6ykfthzIfOP"
   }
  },
  {
   "cell_type": "markdown",
   "source": [
    "这里需要设置OpenAI Key"
   ],
   "metadata": {
    "id": "MZApS5ubJE-L"
   }
  },
  {
   "cell_type": "code",
   "source": [
    "import os\n",
    "\n",
    "os.environ[\"OPENAI_API_KEY\"] = \"sk-KP8Zco\""
   ],
   "metadata": {
    "id": "o7oDiePZJfwe"
   },
   "execution_count": null,
   "outputs": []
  },
  {
   "cell_type": "markdown",
   "source": [
    "TODO: 这里Haruhi_first_merge_res.jsonl本来就是synthesized的，\n",
    "\n",
    "最好替换为之前的输出 ./output/chat_from_dialogue.jsonl"
   ],
   "metadata": {
    "id": "LXJz1nQ3ItMK"
   }
  },
  {
   "cell_type": "code",
   "source": [
    "!python synthesis_chat.py -input ./data/Haruhi_first_merge_res.jsonl\\\n",
    "                         -output ./output/chat_augmented_by_foo.jsonl \\\n",
    "                         -method foo"
   ],
   "metadata": {
    "id": "a-GTiO1xIOie"
   },
   "execution_count": null,
   "outputs": []
  },
  {
   "cell_type": "markdown",
   "source": [
    "## chat2dialogue 通过inference引擎，将第一句话输入到里面去要出更多的对话\n",
    "#### - role_name 要和 src_reform/config.ini 中的角色名字一致\n",
    "#### - output_dialogue 文件 和 input_chat 在同一目录"
   ],
   "metadata": {
    "id": "1ycjz0XmJZWj"
   }
  },
  {
   "cell_type": "code",
   "source": [
    "!python chat2dialogue.py -input_chat ./data/Haruhi_first_merge_res.jsonl\\\n",
    "                        -role_name \"凉宫春日\" \\\n",
    "                        -other_names 凉宫 凉宫春日"
   ],
   "metadata": {
    "colab": {
     "base_uri": "https://localhost:8080/"
    },
    "id": "hdNTuVtzI2Xu",
    "outputId": "4bc87d90-3dc5-4af3-ebdc-0666d08f1f86"
   },
   "execution_count": null,
   "outputs": [
    {
     "output_type": "stream",
     "name": "stdout",
     "text": [
      "Traceback (most recent call last):\n",
      "  File \"/content/Chat-Haruhi-Suzumiya/kyon_generator/chat2dialogue.py\", line 18, in <module>\n",
      "    from ChatGPT_for_generation import ChatGPT\n",
      "  File \"/content/Chat-Haruhi-Suzumiya/kyon_generator/ChatGPT_for_generation.py\", line 11, in <module>\n",
      "    import utils\n",
      "ModuleNotFoundError: No module named 'utils'\n"
     ]
    }
   ]
  },
  {
   "cell_type": "markdown",
   "source": [],
   "metadata": {
    "collapsed": false
   }
  },
  {
   "cell_type": "markdown",
   "source": [
    "## generate character 将台本文件保存成jsonl文件，动态创建新的角色\n",
    "#### - 请在system_prompt.txt中写入prompt，并指定其路径\n",
    "#### - text_folder 为台本文件路径，请将所有台本合并到一个txt文件中，并使用空行分割，示例如下：\n",
    "春日:「这个礼拜六。也就是明天!早上九点在北口车站前集合!大家不要迟到了!如果没来，就处以死刑!」\n",
    "旁白:春日将拍立得里的照片放到了电脑里，就将美化网站的工作交给了阿虚。\n",
    "阿虚:「我知道了啦！」\n",
    "\n",
    "旁白:国中一年级的七夕夜，凉宫春日在约翰·史密斯(实际上就是从高一时间点穿越回去的阿虚，但是凉宫本人并不知道这个事情，只是觉得曾经见到过阿虚)的协力下制造出了当时有名的校园涂鸦事件。\n",
    "旁白:操场巨型涂鸦的意思是\"我在这里等\",春日希望靠这个涂鸦吸引来外星人\n",
    "\n"
   ],
   "metadata": {
    "collapsed": false
   }
  },
  {
   "cell_type": "code",
   "execution_count": null,
   "outputs": [],
   "source": [
    "!python generate_character.py -cn_role_name 凉宫春日\\\n",
    "                              -en_role_name haruhi\\\n",
    "                              -prompt ./system_prompt.txt\\\n",
    "                              -text_folder ./haruhi_all.txt"
   ],
   "metadata": {
    "collapsed": false
   }
  }
 ]
}
