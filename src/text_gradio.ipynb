{
 "cells": [
  {
   "cell_type": "code",
   "execution_count": null,
   "outputs": [],
   "source": [
    "from argparse import Namespace\n",
    "\n",
    "import gradio\n",
    "from transformers import AutoModel\n",
    "import gradio as gr\n",
    "import text\n",
    "\n",
    "\n",
    "def download_models():\n",
    "    # Import our models. The package will take care of downloading the models automatically\n",
    "    model_args = Namespace(do_mlm=None, pooler_type=\"cls\", temp=0.05, mlp_only_train=False,\n",
    "                           init_embeddings_model=None)\n",
    "    model = AutoModel.from_pretrained(\"silk-road/luotuo-bert\", trust_remote_code=True, model_args=model_args)\n",
    "    return model\n",
    "\n",
    "\n",
    "pkl_path = './pkl/texts.pkl'\n",
    "dict_path = \"../characters/haruhi/text_image_dict.txt\"\n",
    "image_path = \"../characters/haruhi/images\"\n",
    "model = download_models()\n",
    "text = text.Text(\"../characters/haruhi/texts\", model=model, num_steps=50, pkl_path=pkl_path, dict_path=dict_path,\n",
    "                 image_path=image_path)\n",
    "\n",
    "\n",
    "\"\"\"\n",
    "    1. text-text\n",
    "    2. text-image\n",
    "\"\"\"\n",
    "with gradio.Blocks() as demo:\n",
    "    gr.Markdown(\"text_text, text_image\")\n",
    "    with gr.Tab(\"text_to_text\"):\n",
    "        text_input = gr.Textbox()\n",
    "        text_output = gr.Textbox()\n",
    "        text_button = gr.Button('begin')\n",
    "\n",
    "    with gr.Tab(\"text_to_iamge\"):\n",
    "        with gr.Row():\n",
    "            image_input = gr.Textbox()\n",
    "            image_output = gr.Image()\n",
    "        image_button = gr.Button(\"begin\")\n",
    "\n",
    "    text_button.click(text.text_to_text, inputs=text_input, outputs=text_output)\n",
    "    image_button.click(text.text_to_image, inputs=image_input, outputs=image_output)\n",
    "\n",
    "demo.launch()"
   ],
   "metadata": {
    "collapsed": false
   }
  }
 ],
 "metadata": {
  "kernelspec": {
   "display_name": "Python 3",
   "language": "python",
   "name": "python3"
  },
  "language_info": {
   "codemirror_mode": {
    "name": "ipython",
    "version": 2
   },
   "file_extension": ".py",
   "mimetype": "text/x-python",
   "name": "python",
   "nbconvert_exporter": "python",
   "pygments_lexer": "ipython2",
   "version": "2.7.6"
  }
 },
 "nbformat": 4,
 "nbformat_minor": 0
}
